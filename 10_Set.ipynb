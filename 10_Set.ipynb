{
 "cells": [
  {
   "cell_type": "markdown",
   "id": "01c5aaf3",
   "metadata": {},
   "source": [
    "#### Set { }\n",
    "Set is a group of elements. It is used to store multiple datatype items in a single variable.\n",
    "\n",
    "`Properties of set:`\n",
    "- Set items are comma seprated.\n",
    "- Enclosed by curly brackets.\n",
    "- Set is unordered in nature.\n",
    "- Set is a mutable data type, but we can not insert elements in set, using indexing.\n",
    "- Set is a partially heterogeneous,Set inside set, Dictionary and List datatypes are not allowed in set, Since they are mutable data type.\n",
    "- Duplicates values are not allowed.\n",
    "- Once a set is created, you cannot change its items, but you can add new items."
   ]
  },
  {
   "cell_type": "code",
   "execution_count": 3,
   "id": "caa23014",
   "metadata": {},
   "outputs": [
    {
     "name": "stdout",
     "output_type": "stream",
     "text": [
      "<class 'set'>\n"
     ]
    }
   ],
   "source": [
    "var = {1,2,3,4,5,6}\n",
    "print(type(var))"
   ]
  },
  {
   "cell_type": "code",
   "execution_count": 5,
   "id": "4cea81df",
   "metadata": {},
   "outputs": [
    {
     "name": "stdout",
     "output_type": "stream",
     "text": [
      "<class 'set'>\n",
      "{1, 2, 3, 4, 5, 6, 33}\n"
     ]
    }
   ],
   "source": [
    "var = {1,2,3,4,5,6,6,6,6,1,2,2,33}\n",
    "print(type(var))\n",
    "print(var)"
   ]
  },
  {
   "cell_type": "code",
   "execution_count": 6,
   "id": "05866257",
   "metadata": {},
   "outputs": [
    {
     "name": "stdout",
     "output_type": "stream",
     "text": [
      "<class 'dict'>\n"
     ]
    }
   ],
   "source": [
    "# Empty curly bracket: Data type of an empty curly bracket is not set, It is a dictionary\n",
    "\n",
    "var = {}\n",
    "print(type(var))"
   ]
  },
  {
   "cell_type": "code",
   "execution_count": 7,
   "id": "64304388",
   "metadata": {},
   "outputs": [
    {
     "name": "stdout",
     "output_type": "stream",
     "text": [
      "<class 'set'>\n"
     ]
    }
   ],
   "source": [
    "# Curly bracket consist of only one element is a set data type.\n",
    "\n",
    "var = {2}\n",
    "print(type(var))"
   ]
  },
  {
   "cell_type": "markdown",
   "id": "be5532fe",
   "metadata": {},
   "source": [
    "#### Set constructor"
   ]
  },
  {
   "cell_type": "code",
   "execution_count": 8,
   "id": "4c6a92b6",
   "metadata": {},
   "outputs": [
    {
     "name": "stdout",
     "output_type": "stream",
     "text": [
      "<class 'set'>\n"
     ]
    }
   ],
   "source": [
    "var = set()\n",
    "print(type(var))"
   ]
  },
  {
   "cell_type": "code",
   "execution_count": 9,
   "id": "b55caacd",
   "metadata": {},
   "outputs": [
    {
     "name": "stdout",
     "output_type": "stream",
     "text": [
      "<class 'list'>\n"
     ]
    }
   ],
   "source": [
    "var = list()\n",
    "print(type(var))"
   ]
  },
  {
   "cell_type": "code",
   "execution_count": 10,
   "id": "6288253f",
   "metadata": {},
   "outputs": [
    {
     "name": "stdout",
     "output_type": "stream",
     "text": [
      "<class 'tuple'>\n"
     ]
    }
   ],
   "source": [
    "var = ()\n",
    "print(type(var))"
   ]
  },
  {
   "cell_type": "code",
   "execution_count": 11,
   "id": "d8bd24da",
   "metadata": {},
   "outputs": [
    {
     "name": "stdout",
     "output_type": "stream",
     "text": [
      "<class 'dict'>\n"
     ]
    }
   ],
   "source": [
    "var = dict()\n",
    "print(type(var))"
   ]
  },
  {
   "cell_type": "code",
   "execution_count": 2,
   "id": "6a246e82",
   "metadata": {},
   "outputs": [
    {
     "name": "stdout",
     "output_type": "stream",
     "text": [
      "<class 'set'>\n",
      "{1, 2, 3, 4, 5}\n"
     ]
    }
   ],
   "source": [
    "# Tricky >>\n",
    "\n",
    "set1 = set([1,2,3,4,5])\n",
    "print(type(set1))\n",
    "print(set1)"
   ]
  },
  {
   "cell_type": "markdown",
   "id": "e8a1e8c5",
   "metadata": {},
   "source": [
    "#### Not ordered\n",
    "Set data type is not ordered in a nature, since index number and ordering of an element is not fixed."
   ]
  },
  {
   "cell_type": "code",
   "execution_count": 12,
   "id": "8940227b",
   "metadata": {},
   "outputs": [
    {
     "data": {
      "text/plain": [
       "{1, 10, 15, 2, 20, 3, 3.14, 5, 5.67, 'a', 'b'}"
      ]
     },
     "execution_count": 12,
     "metadata": {},
     "output_type": "execute_result"
    }
   ],
   "source": [
    "set1 = {2,3,'a',5,1,'b',10,20,15,3.14,5.67}  # Unordered\n",
    "set1"
   ]
  },
  {
   "cell_type": "code",
   "execution_count": 13,
   "id": "1d4eeec1",
   "metadata": {},
   "outputs": [
    {
     "name": "stdout",
     "output_type": "stream",
     "text": [
      "{2, 3, 4, 4.5, 4.8, 7, 8.9, 7.8, 'a', 'python', 56} 11\n"
     ]
    }
   ],
   "source": [
    "set1 = {2,3,4,56,2,3,7,8.9,4.5,7.8, 'a', 'python',4.8}  # Duplicates are not allowed\n",
    "print(set1, len(set1))"
   ]
  },
  {
   "cell_type": "code",
   "execution_count": 15,
   "id": "a302aac9",
   "metadata": {},
   "outputs": [],
   "source": [
    "# Set datatype treats True,1 as same and False,0 as same\n",
    "\n",
    "# True >> 1\n",
    "# False >> 0"
   ]
  },
  {
   "cell_type": "code",
   "execution_count": 16,
   "id": "103ed9eb",
   "metadata": {},
   "outputs": [
    {
     "name": "stdout",
     "output_type": "stream",
     "text": [
      "9\n",
      "[2, 3, 'a', 5.1, True, False, True, False, False]\n"
     ]
    }
   ],
   "source": [
    "list1 = [2,3,\"a\",5.1,True,False,True,False,False]\n",
    "print(len(list1))\n",
    "print(list1)"
   ]
  },
  {
   "cell_type": "code",
   "execution_count": 18,
   "id": "fa879c98",
   "metadata": {},
   "outputs": [
    {
     "name": "stdout",
     "output_type": "stream",
     "text": [
      "6\n",
      "{False, True, 2, 3, 5.1, 'a'}\n"
     ]
    }
   ],
   "source": [
    "set1 = {2,3,\"a\",5.1,True,False,True,False,False, 1,0,1,0,1,1,0,0}\n",
    "print(len(set1))\n",
    "print(set1)"
   ]
  },
  {
   "cell_type": "markdown",
   "id": "d6538f23",
   "metadata": {},
   "source": [
    "#### Partially Heterogeneous\n",
    "Set is a partially heterogeneous, since dictionary and list datatypes are not allowed in set."
   ]
  },
  {
   "cell_type": "code",
   "execution_count": 21,
   "id": "44992f9a",
   "metadata": {},
   "outputs": [
    {
     "name": "stdout",
     "output_type": "stream",
     "text": [
      "8\n",
      "{'data science', 1, 2, 3.3, False, 5.6, 'python', (1, 2, 3, 3.4, 5.6, 'python', 'data science', True, False)}\n"
     ]
    }
   ],
   "source": [
    "# set, dictionary and list datatypes are not allowed (since those are mutable data types)\n",
    "\n",
    "set1 = {1,2,3.3,5.6,'python','data science',True,False,(1,2,3,3.4,5.6,'python','data science',True, False)}\n",
    "print(len(set1))\n",
    "print(set1)"
   ]
  },
  {
   "cell_type": "markdown",
   "id": "d42fa5c6",
   "metadata": {},
   "source": [
    "#### Not mutable\n",
    "We can not apply indexing and slicing in set data type"
   ]
  },
  {
   "cell_type": "code",
   "execution_count": 25,
   "id": "bb9d4ca5",
   "metadata": {},
   "outputs": [
    {
     "name": "stdout",
     "output_type": "stream",
     "text": [
      "Item is:  python\n",
      "Item is:  omkar\n"
     ]
    }
   ],
   "source": [
    "# We can not access items from a set, So how do we do that?\n",
    "set1 = {'omkar','python'}\n",
    "for items in set1:\n",
    "    print('Item is: ',items)"
   ]
  },
  {
   "cell_type": "markdown",
   "id": "5cdb6ca2",
   "metadata": {},
   "source": [
    "#### Use of membership operator\n",
    "To check whether the item present in set or not"
   ]
  },
  {
   "cell_type": "code",
   "execution_count": 26,
   "id": "ebfced68",
   "metadata": {},
   "outputs": [
    {
     "name": "stdout",
     "output_type": "stream",
     "text": [
      "Item exist in the set1\n"
     ]
    }
   ],
   "source": [
    "set1 = {\"apple\", \"banana\", \"cherry\", \"orange\", \"kiwi\", \"melon\", \"mango\"}\n",
    "if 'apple' in set1:\n",
    "    print('Item exist in the set1')\n",
    "else:\n",
    "    print('Item not found')"
   ]
  },
  {
   "cell_type": "code",
   "execution_count": 27,
   "id": "fea2d3a8",
   "metadata": {},
   "outputs": [
    {
     "name": "stdout",
     "output_type": "stream",
     "text": [
      "you were right! Item is not present\n"
     ]
    }
   ],
   "source": [
    "set1 = {\"apple\", \"banana\", \"cherry\", \"orange\", \"kiwi\", \"melon\", \"mango\"}\n",
    "if 'papaya' not in set1:\n",
    "    print('you were right! Item is not present')\n",
    "else:\n",
    "    print('you were wrong! Item found!')"
   ]
  },
  {
   "cell_type": "markdown",
   "id": "85a2b6f4",
   "metadata": {},
   "source": [
    "#### Set functions\n",
    "- add()\n",
    "- update()\n",
    "- union()\n",
    "- remove()\n",
    "- discard()\n",
    "- pop()\n",
    "- clear()\n",
    "- intersection()\n",
    "- intersection_update()\n",
    "- difference()\n",
    "- difference_update()\n",
    "- symmetric_difference()\n",
    "- symmetric_difference_update()\n",
    "- issubset()\n",
    "- issuperset()\n",
    "- isdisjoint()\n",
    "- copy()"
   ]
  },
  {
   "cell_type": "markdown",
   "id": "a30a448f",
   "metadata": {},
   "source": [
    "#### 1) .add()\n",
    "`Syntax : set_name.add(item)`\n",
    "\n",
    "Used to add only one item in set"
   ]
  },
  {
   "cell_type": "code",
   "execution_count": 30,
   "id": "0590beca",
   "metadata": {},
   "outputs": [
    {
     "name": "stdout",
     "output_type": "stream",
     "text": [
      "{3, 4, 5, 6, 7, 1000}\n"
     ]
    }
   ],
   "source": [
    "set1 = {3,4,5,6,7}\n",
    "set1.add(1000)\n",
    "print(set1)"
   ]
  },
  {
   "cell_type": "code",
   "execution_count": 31,
   "id": "1275a380",
   "metadata": {},
   "outputs": [
    {
     "name": "stdout",
     "output_type": "stream",
     "text": [
      "{'history', 'che', 'phy', 'eng', 'maths', 'bio'}\n"
     ]
    }
   ],
   "source": [
    "set1 = {'phy', 'che', 'bio', 'eng', 'maths'}\n",
    "set1.add('history')\n",
    "print(set1)"
   ]
  },
  {
   "cell_type": "markdown",
   "id": "4d6507eb",
   "metadata": {},
   "source": [
    "#### 2) .update()\n",
    "`Syntax : set_name1.update(set_name2)`\n",
    "\n",
    "Used to add items from another set into the current set"
   ]
  },
  {
   "cell_type": "code",
   "execution_count": 32,
   "id": "cc4c2a5b",
   "metadata": {},
   "outputs": [
    {
     "name": "stdout",
     "output_type": "stream",
     "text": [
      "Subject names 1 : {'phy', 'maths', 'che'}\n",
      "Subject names 2 : {'eng', 'bio'}\n",
      "Subject names 1 : {'che', 'phy', 'maths', 'eng', 'bio'}\n",
      "Subject names 2 : {'eng', 'bio'}\n"
     ]
    }
   ],
   "source": [
    "sub_names1 = {'phy','che', 'maths'}\n",
    "sub_names2 = {'bio','eng'}\n",
    "\n",
    "\n",
    "print('Subject names 1 :', sub_names1)\n",
    "print('Subject names 2 :', sub_names2)\n",
    "\n",
    "sub_names1.update(sub_names2)\n",
    "\n",
    "print('Subject names 1 :', sub_names1)\n",
    "print('Subject names 2 :', sub_names2)"
   ]
  },
  {
   "cell_type": "code",
   "execution_count": 38,
   "id": "f8506b52",
   "metadata": {},
   "outputs": [
    {
     "name": "stdout",
     "output_type": "stream",
     "text": [
      "Set1 : {40, 10, 50, 20, 60, 30}\n",
      "Set2 : {25, 35, 5, 15}\n",
      "\n",
      "Set1 length: 6\n",
      "Set2 length: 4\n",
      "\n",
      "Set1 : {35, 5, 40, 10, 15, 50, 20, 25, 60, 30}\n",
      "Set2 : {25, 35, 5, 15}\n",
      "\n",
      "Set1 length: 10\n",
      "Set2 length: 4\n"
     ]
    }
   ],
   "source": [
    "set1 = {10,20,30,40,50,60}\n",
    "set2 = {5,15,25,35}\n",
    "\n",
    "print('Set1 :', set1)\n",
    "print('Set2 :', set2)\n",
    "\n",
    "print()\n",
    "\n",
    "print('Set1 length:', len(set1))\n",
    "print('Set2 length:',len(set2))\n",
    "\n",
    "print()\n",
    "\n",
    "set1.update(set2)\n",
    "\n",
    "print('Set1 :', set1)\n",
    "print('Set2 :', set2)\n",
    "\n",
    "print()\n",
    "\n",
    "print('Set1 length:', len(set1))\n",
    "print('Set2 length:',len(set2))"
   ]
  },
  {
   "cell_type": "code",
   "execution_count": 40,
   "id": "aa463742",
   "metadata": {},
   "outputs": [
    {
     "name": "stdout",
     "output_type": "stream",
     "text": [
      "set1 >> {1, 2, 3, 4, 5, 6, 7, 8}\n",
      "set2 >> {4, 5, 6, 7, 8}\n",
      "set3 >> None\n"
     ]
    }
   ],
   "source": [
    "# It only update existing set and does not return a new set\n",
    "\n",
    "set1 = {1,2,3,4,5}\n",
    "set2 = {4,5,6,6,7,8}\n",
    "\n",
    "set3 = set1.update(set2)\n",
    "\n",
    "print(\"set1 >>\", set1)\n",
    "print(\"set2 >>\", set2)\n",
    "print(\"set3 >>\", set3)"
   ]
  },
  {
   "cell_type": "markdown",
   "id": "da64c060",
   "metadata": {},
   "source": [
    "#### 3) .union()\n",
    "`Syntax : set_name1.union(set_name2)`\n",
    "\n",
    "returns a new set containing a union of set"
   ]
  },
  {
   "cell_type": "code",
   "execution_count": 39,
   "id": "a6162d02",
   "metadata": {},
   "outputs": [
    {
     "name": "stdout",
     "output_type": "stream",
     "text": [
      "set1 >>  {1, 2, 3, 4, 5}\n",
      "set2 >>  {4, 5, 6, 7, 8}\n",
      "set3 >>  {1, 2, 3, 4, 5, 6, 7, 8}\n"
     ]
    }
   ],
   "source": [
    "# Union of two sets\n",
    "\n",
    "set1 = {1,2,3,4,5}\n",
    "set2 = {4,5,6,6,7,8}\n",
    "\n",
    "set3 = set1.union(set2)\n",
    "\n",
    "print(\"set1 >> \",set1)\n",
    "print(\"set2 >> \",set2)\n",
    "print(\"set3 >> \",set3)"
   ]
  },
  {
   "cell_type": "code",
   "execution_count": 43,
   "id": "1e966d9c",
   "metadata": {},
   "outputs": [
    {
     "name": "stdout",
     "output_type": "stream",
     "text": [
      "set1 >> {1, 2, 3, 4, 5, 6}\n",
      "set2 >> [4, 5, 6, 6, 7, 8]\n",
      "set3 >> {1, 2, 3, 4, 5, 6, 7, 8}\n"
     ]
    }
   ],
   "source": [
    "# Union of a Set and Tuple is also a set\n",
    "\n",
    "set1 = {1,2,3,4,5,6} #set\n",
    "set2 = [4,5,6,6,7,8] #list\n",
    "\n",
    "set3 = set1.union(set2)\n",
    "\n",
    "print(\"set1 >>\", set1)\n",
    "print(\"set2 >>\", set2)\n",
    "print(\"set3 >>\", set3)"
   ]
  },
  {
   "cell_type": "markdown",
   "id": "ec056f2e",
   "metadata": {},
   "source": [
    "#### 4) .remove()\n",
    "`Syntax : set.remove(item)`\n",
    "\n",
    "removes the specified element, It will give you an error if specified item is not present in the set"
   ]
  },
  {
   "cell_type": "code",
   "execution_count": 9,
   "id": "93cfb098",
   "metadata": {},
   "outputs": [
    {
     "data": {
      "text/plain": [
       "{'bio', 'che', 'eng', 'maths'}"
      ]
     },
     "execution_count": 9,
     "metadata": {},
     "output_type": "execute_result"
    }
   ],
   "source": [
    "sub_names = {'eng','phy', 'maths', 'bio', 'che'}\n",
    "sub_names.remove('phy')\n",
    "sub_names"
   ]
  },
  {
   "cell_type": "code",
   "execution_count": 8,
   "id": "e36aab7b",
   "metadata": {},
   "outputs": [
    {
     "name": "stdout",
     "output_type": "stream",
     "text": [
      "{1, 3, 4, 5} 4\n"
     ]
    }
   ],
   "source": [
    "set1 = {1,2,3,4,5,3}\n",
    "value = 2\n",
    "\n",
    "if value in set1:\n",
    "    set1.remove(value)\n",
    "    \n",
    "print(set1, len(set1))"
   ]
  },
  {
   "cell_type": "markdown",
   "id": "38039051",
   "metadata": {},
   "source": [
    "#### 5) .discard()\n",
    "`Syntax : set.discard(item)`\n",
    "\n",
    "removes the specified item from the set"
   ]
  },
  {
   "cell_type": "code",
   "execution_count": 10,
   "id": "6f00f107",
   "metadata": {},
   "outputs": [
    {
     "name": "stdout",
     "output_type": "stream",
     "text": [
      "{'eng', 'bio', 'phy', 'che', 'maths'} 5\n"
     ]
    }
   ],
   "source": [
    "sub_names = {'eng','phy', 'maths', 'bio', 'che'} # 5\n",
    "sub_names.discard('phy')\n",
    "print(sub_names, len(sub_names))"
   ]
  },
  {
   "cell_type": "markdown",
   "id": "7d28e05e",
   "metadata": {},
   "source": [
    "#### 6) .pop()\n",
    "`Syntax : set.pop()`\n",
    "\n",
    "removes a random item from the set"
   ]
  },
  {
   "cell_type": "code",
   "execution_count": 12,
   "id": "e80eb26a",
   "metadata": {},
   "outputs": [
    {
     "name": "stdout",
     "output_type": "stream",
     "text": [
      "Original set {'eng', 'bio', 'phy', 'che', 'maths'}\n",
      "{'bio', 'phy', 'che', 'maths'} 4\n"
     ]
    }
   ],
   "source": [
    "sub_names = {'eng','phy', 'maths', 'bio', 'che'} # 5\n",
    "print('Original set',sub_names )\n",
    "\n",
    "sub_names.pop()\n",
    "print(sub_names, len(sub_names))"
   ]
  },
  {
   "cell_type": "code",
   "execution_count": 7,
   "id": "4ea3c182",
   "metadata": {},
   "outputs": [
    {
     "name": "stdout",
     "output_type": "stream",
     "text": [
      "{2, 3, 4, 5}\n",
      "{3, 4, 5}\n"
     ]
    }
   ],
   "source": [
    "set1 = {1,2,3,4,5,3}\n",
    "set1.pop()\n",
    "print(set1)\n",
    "set1.pop()\n",
    "print(set1)"
   ]
  },
  {
   "cell_type": "markdown",
   "id": "4f328451",
   "metadata": {},
   "source": [
    "#### 7).clear()\n",
    "`Syntax : set.clear()`\n",
    "\n",
    "clears the set"
   ]
  },
  {
   "cell_type": "code",
   "execution_count": 12,
   "id": "cadab346",
   "metadata": {},
   "outputs": [
    {
     "name": "stdout",
     "output_type": "stream",
     "text": [
      "Set1 set()\n"
     ]
    }
   ],
   "source": [
    "set1 = {\"python\",'data','science',1,2,3,4,5,3}\n",
    "set1.clear()\n",
    "print(\"Set1\",set1)"
   ]
  },
  {
   "cell_type": "markdown",
   "id": "9e855f35",
   "metadata": {},
   "source": [
    "#### 8) .intersection()\n",
    "`set.intersection(set1, set2 ... etc)`\n",
    "\n",
    "Return a set that contains the items that exist in both set x, and set y"
   ]
  },
  {
   "cell_type": "code",
   "execution_count": 13,
   "id": "22e8ff69",
   "metadata": {},
   "outputs": [
    {
     "name": "stdout",
     "output_type": "stream",
     "text": [
      "{'apple'}\n"
     ]
    }
   ],
   "source": [
    "x = {\"apple\", \"banana\", \"cherry\"}\n",
    "y = {\"google\", \"microsoft\", \"apple\"}\n",
    "\n",
    "z = x.intersection(y)\n",
    "\n",
    "print(z)"
   ]
  },
  {
   "cell_type": "code",
   "execution_count": 14,
   "id": "d942f7e3",
   "metadata": {},
   "outputs": [
    {
     "name": "stdout",
     "output_type": "stream",
     "text": [
      "{8, 4, 6}\n"
     ]
    }
   ],
   "source": [
    "set1 = {1,2,4,6,8}\n",
    "set2 = {3,4,5,6,7,8}\n",
    "\n",
    "intersected_items = set1.intersection(set2)\n",
    "print(intersected_items)"
   ]
  },
  {
   "cell_type": "markdown",
   "id": "87c61553",
   "metadata": {},
   "source": [
    "#### 9) .intersection_update()\n",
    "`Syntax : set.intersection_update(set1, set2 ... etc)`\n",
    "    \n",
    "removes the items that is not present in both sets (or in all sets if the comparison is done between more than two sets).\n",
    "\n",
    "The intersection_update() method is different from the intersection() method, because the intersection() method returns a new set, without the unwanted items, and the intersection_update() method removes the unwanted items from the original set.\n",
    "\n"
   ]
  },
  {
   "cell_type": "code",
   "execution_count": 15,
   "id": "0e4c18c1",
   "metadata": {},
   "outputs": [
    {
     "data": {
      "text/plain": [
       "{'Banglore', 'Chennai', 'Delhi', 'Mumbai', 'Pune'}"
      ]
     },
     "execution_count": 15,
     "metadata": {},
     "output_type": "execute_result"
    }
   ],
   "source": [
    "# Update\n",
    "\n",
    "city_names1 = {'Pune','Mumbai',\"Delhi\"}\n",
    "city_names2 = {\"Pune\",'Banglore',\"Chennai\"}\n",
    "\n",
    "city_names1.update(city_names2)\n",
    "city_names1"
   ]
  },
  {
   "cell_type": "code",
   "execution_count": 16,
   "id": "bb1b737f",
   "metadata": {},
   "outputs": [
    {
     "data": {
      "text/plain": [
       "{'Pune'}"
      ]
     },
     "execution_count": 16,
     "metadata": {},
     "output_type": "execute_result"
    }
   ],
   "source": [
    "# Intersection\n",
    "\n",
    "city_names1 = {'Pune','Mumbai',\"Delhi\"}\n",
    "city_names2 = {\"Pune\",'Banglore',\"Chennai\"}\n",
    "\n",
    "result = city_names1.intersection(city_names2)\n",
    "result"
   ]
  },
  {
   "cell_type": "code",
   "execution_count": 17,
   "id": "379ac610",
   "metadata": {},
   "outputs": [
    {
     "name": "stdout",
     "output_type": "stream",
     "text": [
      "Original City names 1 {'Delhi', 'Mumbai', 'Pune'}\n",
      "original City names 2 {'Banglore', 'Chennai', 'Pune'}\n",
      "City names 1 {'Pune'}\n",
      "City names 2 {'Banglore', 'Chennai', 'Pune'}\n"
     ]
    }
   ],
   "source": [
    "# Intersection_update\n",
    "\n",
    "city_names1 = {'Pune','Mumbai',\"Delhi\"}\n",
    "city_names2 = {\"Pune\",'Banglore',\"Chennai\"}\n",
    "\n",
    "print('Original City names 1', city_names1)\n",
    "print('original City names 2', city_names2)\n",
    "\n",
    "city_names1.intersection_update(city_names2)\n",
    "\n",
    "print('City names 1', city_names1)\n",
    "print('City names 2', city_names2)"
   ]
  },
  {
   "cell_type": "code",
   "execution_count": 18,
   "id": "eaceee14",
   "metadata": {},
   "outputs": [
    {
     "name": "stdout",
     "output_type": "stream",
     "text": [
      "Set 1 {3, 4, 5}\n"
     ]
    }
   ],
   "source": [
    "set1 = {1,2,3,4,5,6}\n",
    "set2 = {3,4,5,8,9}\n",
    "# 3, 4, 5\n",
    "set1.intersection_update(set2)\n",
    "\n",
    "print('Set 1', set1)"
   ]
  },
  {
   "cell_type": "markdown",
   "id": "24751670",
   "metadata": {},
   "source": [
    "#### 10) .difference()\n",
    "`Syntax : set.difference(set)`\n",
    "    \n",
    "returns a set that contains the difference between two set."
   ]
  },
  {
   "cell_type": "code",
   "execution_count": 14,
   "id": "d09831b9",
   "metadata": {},
   "outputs": [
    {
     "data": {
      "text/plain": [
       "{'Delhi', 'Hyderabad', 'Kolkata'}"
      ]
     },
     "execution_count": 14,
     "metadata": {},
     "output_type": "execute_result"
    }
   ],
   "source": [
    "set1 = {'Pune',\"Mumbai\",'Delhi','Kolkata','Hyderabad'}\n",
    "set2 = {\"Pune\",'Banglore','Chennai','Mumbai'}\n",
    "\n",
    "result = set1.difference(set2)\n",
    "result"
   ]
  },
  {
   "cell_type": "code",
   "execution_count": 21,
   "id": "cb93bc3e",
   "metadata": {},
   "outputs": [
    {
     "data": {
      "text/plain": [
       "{'Banglore', 'Chennai'}"
      ]
     },
     "execution_count": 21,
     "metadata": {},
     "output_type": "execute_result"
    }
   ],
   "source": [
    "set1 = {'Pune',\"Mumbai\",'Delhi','Kolkata','Hyderabad'}\n",
    "set2 = {\"Pune\",'Banglore','Chennai','Mumbai'}\n",
    "\n",
    "result = set2.difference(set1)\n",
    "result"
   ]
  },
  {
   "cell_type": "code",
   "execution_count": 23,
   "id": "d97e55ee",
   "metadata": {},
   "outputs": [
    {
     "data": {
      "text/plain": [
       "{10, 20}"
      ]
     },
     "execution_count": 23,
     "metadata": {},
     "output_type": "execute_result"
    }
   ],
   "source": [
    "# Tricky\n",
    "\n",
    "list1 = [3,4,5,6,7,8]\n",
    "list2 = [5,6,7,8,10,20] #10,20\n",
    "\n",
    "result = set(list2).difference(list1)\n",
    "result"
   ]
  },
  {
   "cell_type": "code",
   "execution_count": 25,
   "id": "003e6a72",
   "metadata": {},
   "outputs": [
    {
     "data": {
      "text/plain": [
       "[10, 20]"
      ]
     },
     "execution_count": 25,
     "metadata": {},
     "output_type": "execute_result"
    }
   ],
   "source": [
    "# Or\n",
    "\n",
    "list1 = [3,4,5,6,7,8]\n",
    "list2 = [5,6,7,8,10,20] #10,20\n",
    "\n",
    "result = []\n",
    "for items in list2:\n",
    "    if items not in list1:\n",
    "        result.append(items)\n",
    "result"
   ]
  },
  {
   "cell_type": "code",
   "execution_count": 26,
   "id": "1754e24e",
   "metadata": {},
   "outputs": [
    {
     "data": {
      "text/plain": [
       "[3, 4]"
      ]
     },
     "execution_count": 26,
     "metadata": {},
     "output_type": "execute_result"
    }
   ],
   "source": [
    "list1 = [3,4,5,6,7,8]  #3,4\n",
    "list2 = [5,6,7,8,10,20] \n",
    "\n",
    "result = set(list1).difference(list2)\n",
    "result\n",
    "list(result)"
   ]
  },
  {
   "cell_type": "markdown",
   "id": "3359e9da",
   "metadata": {},
   "source": [
    "#### 11) .difference_update()\n",
    "`Syntax : set.difference_update(set1, set2 ... etc)`\n",
    "    \n",
    "removes the items that exist in both sets."
   ]
  },
  {
   "cell_type": "code",
   "execution_count": 28,
   "id": "6d3b366f",
   "metadata": {},
   "outputs": [
    {
     "data": {
      "text/plain": [
       "{'Delhi', 'Hyderabad', 'Kolkata'}"
      ]
     },
     "execution_count": 28,
     "metadata": {},
     "output_type": "execute_result"
    }
   ],
   "source": [
    "set1 = {'Pune',\"Mumbai\",'Delhi','Kolkata','Hyderabad'} # 'Delhi', 'Kolkata', 'Hyderabad'\n",
    "set2 = {\"Pune\",'Banglore','Chennai','Mumbai'}\n",
    "\n",
    "set1.difference_update(set2)\n",
    "set1"
   ]
  },
  {
   "cell_type": "code",
   "execution_count": 29,
   "id": "b69e7a01",
   "metadata": {},
   "outputs": [
    {
     "name": "stdout",
     "output_type": "stream",
     "text": [
      "Set1 {1, 2, 3, 4, 5, 6, 7, 8}\n",
      "Set2 {1, 3, 6, 10, 20, 30}\n",
      "Set3 {33, 11, 22}\n"
     ]
    }
   ],
   "source": [
    "set1 = {1,2,3,4,5,6,7,8}\n",
    "set2 = {3,6,1,10,20,30}\n",
    "set3 = {11,2,22,1,33,3} #11,22,33\n",
    "\n",
    "set3.difference_update(set1,set2)\n",
    "print('Set1', set1)\n",
    "print('Set2', set2)\n",
    "print('Set3', set3)"
   ]
  },
  {
   "cell_type": "markdown",
   "id": "d5ea63d9",
   "metadata": {},
   "source": [
    "#### 12) .symmetric_difference()\n",
    "`Syntax : set.symmetric_difference(set)`\n",
    "    \n",
    "returns a set that contains all items from both set, but not the items that are present in both sets."
   ]
  },
  {
   "cell_type": "code",
   "execution_count": 31,
   "id": "65e00030",
   "metadata": {},
   "outputs": [
    {
     "name": "stdout",
     "output_type": "stream",
     "text": [
      "Set1 {'Hyderabad', 'Mumbai', 'Pune', 'Kolkata', 'Delhi'}\n",
      "Set2 {'Banglore', 'Chennai', 'Mumbai', 'Pune'}\n",
      "Result {'Chennai', 'Hyderabad', 'Banglore', 'Kolkata', 'Delhi'}\n"
     ]
    }
   ],
   "source": [
    "set1 = {'Pune',\"Mumbai\",'Delhi','Kolkata','Hyderabad'} #'Delhi','Kolkata',Hyderabad\n",
    "set2 = {\"Pune\",'Banglore','Chennai','Mumbai'} #'Banglore', 'Chennai'\n",
    "\n",
    "result = set1.symmetric_difference(set2)\n",
    "print('Set1', set1)\n",
    "print('Set2', set2)\n",
    "print('Result', result)"
   ]
  },
  {
   "cell_type": "code",
   "execution_count": 32,
   "id": "ca742187",
   "metadata": {},
   "outputs": [
    {
     "name": "stdout",
     "output_type": "stream",
     "text": [
      "Set1 {'Hyderabad', 'Mumbai', 'Pune', 'Kolkata', 'Delhi'}\n",
      "Set2 {'Banglore', 'Chennai', 'Mumbai', 'Pune'}\n",
      "Result {'Kolkata', 'Banglore', 'Chennai', 'Delhi', 'Hyderabad'}\n"
     ]
    }
   ],
   "source": [
    "set1 = {'Pune',\"Mumbai\",'Delhi','Kolkata','Hyderabad'} #'Delhi','Kolkata',Hyderabad\n",
    "set2 = {\"Pune\",'Banglore','Chennai','Mumbai'} #'Banglore', 'Chennai'\n",
    "\n",
    "result = set2.symmetric_difference(set1)\n",
    "print('Set1', set1)\n",
    "print('Set2', set2)\n",
    "print('Result', result)"
   ]
  },
  {
   "cell_type": "markdown",
   "id": "0d2f279a",
   "metadata": {},
   "source": [
    "#### 13) .symmetric_difference_update()\n",
    "`Syntax : set.symmetric_difference_update(set)`\n",
    "    \n",
    "Remove the items that are present in both sets, AND insert the items that is not present in both sets."
   ]
  },
  {
   "cell_type": "code",
   "execution_count": 34,
   "id": "ea7be929",
   "metadata": {},
   "outputs": [
    {
     "data": {
      "text/plain": [
       "{'Banglore', 'Chennai', 'Delhi', 'Hyderabad', 'Kolkata'}"
      ]
     },
     "execution_count": 34,
     "metadata": {},
     "output_type": "execute_result"
    }
   ],
   "source": [
    "set1 = {'Pune',\"Mumbai\",'Delhi','Kolkata','Hyderabad'} #'Delhi','Kolkata',Hyderabad\n",
    "set2 = {\"Pune\",'Banglore','Chennai','Mumbai'} #'Banglore', 'Chennai'\n",
    "\n",
    "set1.symmetric_difference_update(set2)\n",
    "set1"
   ]
  },
  {
   "cell_type": "markdown",
   "id": "10750fb4",
   "metadata": {},
   "source": [
    "#### 14) .issubset()\n",
    "`Syntax : set.issubset(set)`\n",
    "\n",
    "Returns whether another set contains this set or not, always returns boolean value."
   ]
  },
  {
   "cell_type": "code",
   "execution_count": 18,
   "id": "e412d030",
   "metadata": {},
   "outputs": [
    {
     "name": "stdout",
     "output_type": "stream",
     "text": [
      "True\n"
     ]
    }
   ],
   "source": [
    "x = {\"a\", \"b\", \"c\"} # subset\n",
    "y = {\"f\", \"e\", \"d\", \"c\", \"b\", \"a\"} # Superset\n",
    "\n",
    "z = x.issubset(y)\n",
    "\n",
    "print(z)"
   ]
  },
  {
   "cell_type": "code",
   "execution_count": 37,
   "id": "84d9fea6",
   "metadata": {},
   "outputs": [
    {
     "data": {
      "text/plain": [
       "True"
      ]
     },
     "execution_count": 37,
     "metadata": {},
     "output_type": "execute_result"
    }
   ],
   "source": [
    "set1 = {3,4,5,6,7,8}\n",
    "set2 = {5,6,7}\n",
    "\n",
    "set2.issubset(set1)"
   ]
  },
  {
   "cell_type": "code",
   "execution_count": 38,
   "id": "20d9d1ce",
   "metadata": {},
   "outputs": [
    {
     "data": {
      "text/plain": [
       "False"
      ]
     },
     "execution_count": 38,
     "metadata": {},
     "output_type": "execute_result"
    }
   ],
   "source": [
    "set1 = {'Pune',\"Mumbai\",'Delhi','Kolkata','Hyderabad'}\n",
    "set2 = {'Pune','Banglore','Chennai','Mumbai'}\n",
    "\n",
    "set2.issubset(set1)"
   ]
  },
  {
   "cell_type": "markdown",
   "id": "6e8fcf12",
   "metadata": {},
   "source": [
    "#### 15) .issuperset()\n",
    "`Syntax : set.issuperset(set)`\n",
    "    \n",
    "Returns whether this set contains another set or not"
   ]
  },
  {
   "cell_type": "code",
   "execution_count": 39,
   "id": "47ae9dff",
   "metadata": {},
   "outputs": [
    {
     "data": {
      "text/plain": [
       "True"
      ]
     },
     "execution_count": 39,
     "metadata": {},
     "output_type": "execute_result"
    }
   ],
   "source": [
    "set1 = {3,4,5,6,7,8}\n",
    "set2 = {5,6,7}\n",
    "\n",
    "set1.issuperset(set2)"
   ]
  },
  {
   "cell_type": "code",
   "execution_count": 40,
   "id": "f5a49f65",
   "metadata": {},
   "outputs": [
    {
     "data": {
      "text/plain": [
       "False"
      ]
     },
     "execution_count": 40,
     "metadata": {},
     "output_type": "execute_result"
    }
   ],
   "source": [
    "set1 = {3,4,5,6,7,8}\n",
    "set2 = {5,6,7,10}\n",
    "\n",
    "set1.issuperset(set2)"
   ]
  },
  {
   "cell_type": "code",
   "execution_count": 41,
   "id": "25777c10",
   "metadata": {},
   "outputs": [
    {
     "data": {
      "text/plain": [
       "False"
      ]
     },
     "execution_count": 41,
     "metadata": {},
     "output_type": "execute_result"
    }
   ],
   "source": [
    "set1 = {'Pune',\"Mumbai\",'Delhi','Kolkata','Hyderabad'}\n",
    "set2 = {'Pune','Banglore','Chennai','Mumbai'}\n",
    "\n",
    "set1.issuperset(set2)"
   ]
  },
  {
   "cell_type": "markdown",
   "id": "9a14ee38",
   "metadata": {},
   "source": [
    "#### 16) .isdisjoint()\n",
    "`Sytnax : set.isdisjoint(set)`\n",
    "    \n",
    "Returns whether two sets have a intersection or not that is no common elements, always returns a boolean value"
   ]
  },
  {
   "cell_type": "code",
   "execution_count": 21,
   "id": "42f2d0b2",
   "metadata": {},
   "outputs": [
    {
     "data": {
      "text/plain": [
       "True"
      ]
     },
     "execution_count": 21,
     "metadata": {},
     "output_type": "execute_result"
    }
   ],
   "source": [
    "set1 = {'Pune',\"Mumbai\",'Delhi','Kolkata','Hyderabad'}\n",
    "set2 = {'Banglore','Chennai'}\n",
    "\n",
    "set1.isdisjoint(set2)"
   ]
  },
  {
   "cell_type": "code",
   "execution_count": 43,
   "id": "e54113af",
   "metadata": {},
   "outputs": [
    {
     "data": {
      "text/plain": [
       "False"
      ]
     },
     "execution_count": 43,
     "metadata": {},
     "output_type": "execute_result"
    }
   ],
   "source": [
    "set1 = {'Pune',\"Mumbai\",'Delhi','Kolkata','Hyderabad'}\n",
    "set2 = {'Pune','Mumbai'}\n",
    "\n",
    "set1.isdisjoint(set2)"
   ]
  },
  {
   "cell_type": "markdown",
   "id": "9907c03d",
   "metadata": {},
   "source": [
    "#### 17) .copy()\n",
    "`Syntax : set2 = set1.copy()`\n",
    "    \n",
    "returns a copy of a set"
   ]
  },
  {
   "cell_type": "code",
   "execution_count": 54,
   "id": "edfbdc17",
   "metadata": {},
   "outputs": [
    {
     "name": "stdout",
     "output_type": "stream",
     "text": [
      "{'banana', 'apple', 'cherry'}\n"
     ]
    }
   ],
   "source": [
    "fruits = {\"apple\", \"banana\", \"cherry\"}\n",
    "x = fruits.copy()\n",
    "print(x)"
   ]
  },
  {
   "cell_type": "markdown",
   "id": "93b81c6d",
   "metadata": {},
   "source": [
    "#### FrozenSet\n",
    "Frozen set is just an immutable version of a Python set object. While elements of a set can be modified at any time, elements of the frozen set remain the same after creation.\n",
    "- frozenset is unordered in nature\n",
    "- frozenset is immutable in nature\n",
    "- duplicates are not allowed in frozenset"
   ]
  },
  {
   "cell_type": "code",
   "execution_count": 14,
   "id": "3368fd82",
   "metadata": {},
   "outputs": [
    {
     "name": "stdout",
     "output_type": "stream",
     "text": [
      "frozenset({2, 3, 4, 5, 6, 7})\n"
     ]
    }
   ],
   "source": [
    "fs1 = frozenset({2,3,4,5,6,7})\n",
    "print(fs1)"
   ]
  },
  {
   "cell_type": "markdown",
   "id": "cefbf801",
   "metadata": {},
   "source": [
    "#### FrozenSet functions"
   ]
  },
  {
   "cell_type": "markdown",
   "id": "bd7d285a",
   "metadata": {},
   "source": [
    "#### 1) .union()"
   ]
  },
  {
   "cell_type": "code",
   "execution_count": 45,
   "id": "06d776d8",
   "metadata": {},
   "outputs": [
    {
     "name": "stdout",
     "output_type": "stream",
     "text": [
      "FS1 >> frozenset({3, 4, 5, 6})\n",
      "FS2 >> frozenset({8, 5, 6, 7})\n",
      "FS3 >> frozenset({3, 4, 5, 6, 7, 8})\n"
     ]
    }
   ],
   "source": [
    "fs1 = frozenset({3,4,5,6,5})\n",
    "fs2 = frozenset({5,6,6,7,8})\n",
    "\n",
    "fs3 = fs1.union(fs2)\n",
    "print('FS1 >>',fs1)\n",
    "print('FS2 >>',fs2)\n",
    "print('FS3 >>',fs3)"
   ]
  },
  {
   "cell_type": "markdown",
   "id": "f0e4679e",
   "metadata": {},
   "source": [
    "#### 2) .difference()"
   ]
  },
  {
   "cell_type": "code",
   "execution_count": 46,
   "id": "eb511f03",
   "metadata": {},
   "outputs": [
    {
     "data": {
      "text/plain": [
       "frozenset({3, 4})"
      ]
     },
     "execution_count": 46,
     "metadata": {},
     "output_type": "execute_result"
    }
   ],
   "source": [
    "fs1 = frozenset({3,4,5,6,5}) # 3,4\n",
    "fs2 = frozenset({5,6,6,7,8})\n",
    "\n",
    "\n",
    "fs3 = fs1.difference(fs2)\n",
    "fs3"
   ]
  },
  {
   "cell_type": "markdown",
   "id": "c9539411",
   "metadata": {},
   "source": [
    "#### 3) .symmetric_difference()"
   ]
  },
  {
   "cell_type": "code",
   "execution_count": 47,
   "id": "c88c9588",
   "metadata": {},
   "outputs": [
    {
     "data": {
      "text/plain": [
       "frozenset({3, 4, 7, 8})"
      ]
     },
     "execution_count": 47,
     "metadata": {},
     "output_type": "execute_result"
    }
   ],
   "source": [
    "fs1 = frozenset({3,4,5,6,5}) # 3,4\n",
    "fs2 = frozenset({5,6,6,7,8}) # 7,8\n",
    "\n",
    "\n",
    "fs3 = fs1.symmetric_difference(fs2)\n",
    "fs3"
   ]
  },
  {
   "cell_type": "markdown",
   "id": "b82d1be0",
   "metadata": {},
   "source": [
    "#### 4) .isubset()"
   ]
  },
  {
   "cell_type": "code",
   "execution_count": 48,
   "id": "700a9b45",
   "metadata": {},
   "outputs": [
    {
     "name": "stdout",
     "output_type": "stream",
     "text": [
      "frozenset({3, 4, 5, 6})\n",
      "frozenset({5, 6})\n"
     ]
    },
    {
     "data": {
      "text/plain": [
       "True"
      ]
     },
     "execution_count": 48,
     "metadata": {},
     "output_type": "execute_result"
    }
   ],
   "source": [
    "fs1 = frozenset({3,4,5,6,5})\n",
    "print(fs1)\n",
    "fs2 = frozenset({5,6,6})\n",
    "print(fs2)\n",
    "\n",
    "result = fs2.issubset(fs1)\n",
    "result"
   ]
  },
  {
   "cell_type": "code",
   "execution_count": 49,
   "id": "8b3e713e",
   "metadata": {},
   "outputs": [
    {
     "name": "stdout",
     "output_type": "stream",
     "text": [
      "frozenset({3, 4, 5, 6})\n",
      "frozenset({5, 6, 7})\n"
     ]
    },
    {
     "data": {
      "text/plain": [
       "False"
      ]
     },
     "execution_count": 49,
     "metadata": {},
     "output_type": "execute_result"
    }
   ],
   "source": [
    "fs1 = frozenset({3,4,5,6,5})\n",
    "print(fs1)\n",
    "fs2 = frozenset({5,6,6,7})\n",
    "print(fs2)\n",
    "\n",
    "result = fs2.issubset(fs1)\n",
    "result"
   ]
  },
  {
   "cell_type": "markdown",
   "id": "1ef6f244",
   "metadata": {},
   "source": [
    "#### 5) .isuperset()"
   ]
  },
  {
   "cell_type": "code",
   "execution_count": 50,
   "id": "48164df4",
   "metadata": {},
   "outputs": [
    {
     "data": {
      "text/plain": [
       "True"
      ]
     },
     "execution_count": 50,
     "metadata": {},
     "output_type": "execute_result"
    }
   ],
   "source": [
    "fs1 = frozenset({2,3,4,5,6})\n",
    "fs2 = frozenset({2,4,5})\n",
    "\n",
    "result = fs1.issuperset(fs2)\n",
    "result"
   ]
  },
  {
   "cell_type": "code",
   "execution_count": 51,
   "id": "713cfcbf",
   "metadata": {},
   "outputs": [
    {
     "data": {
      "text/plain": [
       "False"
      ]
     },
     "execution_count": 51,
     "metadata": {},
     "output_type": "execute_result"
    }
   ],
   "source": [
    "fs1 = frozenset({2,3,4,5,6})\n",
    "fs2 = frozenset({2,4,5,10})\n",
    "\n",
    "result = fs1.issuperset(fs2)\n",
    "result"
   ]
  },
  {
   "cell_type": "markdown",
   "id": "b9c13ea6",
   "metadata": {},
   "source": [
    "#### 6) .isdisjoint()"
   ]
  },
  {
   "cell_type": "code",
   "execution_count": 52,
   "id": "b8670646",
   "metadata": {},
   "outputs": [
    {
     "data": {
      "text/plain": [
       "True"
      ]
     },
     "execution_count": 52,
     "metadata": {},
     "output_type": "execute_result"
    }
   ],
   "source": [
    "fs1 = frozenset({2,3,4,5})\n",
    "fs2 = frozenset({6,7,8})\n",
    "\n",
    "result = fs1.isdisjoint(fs2)\n",
    "result"
   ]
  },
  {
   "cell_type": "code",
   "execution_count": 53,
   "id": "9f1cf6e0",
   "metadata": {},
   "outputs": [
    {
     "data": {
      "text/plain": [
       "False"
      ]
     },
     "execution_count": 53,
     "metadata": {},
     "output_type": "execute_result"
    }
   ],
   "source": [
    "fs1 = frozenset({2,3,4,5})\n",
    "fs2 = frozenset({6,7,8,5})\n",
    "\n",
    "result = fs1.isdisjoint(fs2)\n",
    "result"
   ]
  }
 ],
 "metadata": {
  "kernelspec": {
   "display_name": "Python 3 (ipykernel)",
   "language": "python",
   "name": "python3"
  },
  "language_info": {
   "codemirror_mode": {
    "name": "ipython",
    "version": 3
   },
   "file_extension": ".py",
   "mimetype": "text/x-python",
   "name": "python",
   "nbconvert_exporter": "python",
   "pygments_lexer": "ipython3",
   "version": "3.9.12"
  }
 },
 "nbformat": 4,
 "nbformat_minor": 5
}
