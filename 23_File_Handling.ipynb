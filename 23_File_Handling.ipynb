{
 "cells": [
  {
   "cell_type": "markdown",
   "id": "9ad37638",
   "metadata": {},
   "source": [
    "#### What is file handling in python?\n",
    "File handling refers to a method of storing a data. Data files are the files which stores data. Basically in python there are two types of files which stores data. `1) Text file Stores data in ASCII characters. 2) Binary files which stores data in memory or in a binary format)` \n",
    "\n",
    "In text files each line is terminated/EOL(end of line) with a special delimeter/character i.e. `\\n`, whereas in binary file no such delimeter is present.\n",
    "\n",
    "We can not read or write data files directly. A file object/handle allows us to perform CRUD('C'reate, 'R'ead, 'U'pdate, 'D'elete) operations on data files."
   ]
  },
  {
   "cell_type": "markdown",
   "id": "a90f1e48",
   "metadata": {},
   "source": [
    "`Syntax: open(file_name, mode)`\n",
    "\n",
    "__Modes__:\n",
    "- \"w\" - (Write) Opens a file for writing, creates the file if it does not exist\n",
    "- \"x\" - (Create) Creates the specified file, returns an error if the file exists\n",
    "- \"r\" - (Read) Default value. Opens a file for reading, error if the file does not exist\n",
    "- \"a\" - (Append) Opens a file for appending, creates the file if it does not exist\n",
    "\n",
    "- \"r+\" - (Read & write) Opens a file to read and write, error if the file does not exist\n",
    "- \"w+\" - (write & read) Opens a file to writing and then read, creates the file if it does not exist\n",
    "- \"a+\" - (append & read) Opens a file for appendig and read, creates the file if it does not exist\n",
    "\n",
    "In addition you can specify if the file should be handled as binary or text mode\n",
    "- \"t\" - (Text) Default value. Text mode\n",
    "- \"b\" - (Binary) Binary mode (e.g. images)"
   ]
  },
  {
   "cell_type": "code",
   "execution_count": null,
   "id": "37976535",
   "metadata": {},
   "outputs": [],
   "source": [
    "# Current working directory"
   ]
  },
  {
   "cell_type": "code",
   "execution_count": 3,
   "id": "4d2e5b0c",
   "metadata": {
    "scrolled": true
   },
   "outputs": [
    {
     "data": {
      "text/plain": [
       "'C:\\\\Users\\\\MY\\\\anaconda3\\\\Data_science\\\\Velocity\\\\Python_\\\\My_notes\\\\e1_File_Handling'"
      ]
     },
     "execution_count": 3,
     "metadata": {},
     "output_type": "execute_result"
    }
   ],
   "source": [
    "import os\n",
    "os.getcwd()"
   ]
  },
  {
   "cell_type": "markdown",
   "id": "27c9820c",
   "metadata": {},
   "source": [
    "#### 1) Write"
   ]
  },
  {
   "cell_type": "markdown",
   "id": "fb509097",
   "metadata": {},
   "source": [
    "`(file_object) = open ('File_name','Mode')`\n",
    "\n",
    "`(file_object).write('Text_To_Write')`\n",
    "\n",
    "`(file_object).close()`"
   ]
  },
  {
   "cell_type": "code",
   "execution_count": 4,
   "id": "b7b5517e",
   "metadata": {},
   "outputs": [],
   "source": [
    "# 'w' Opens a file for writing, creates the file if it does not exist; if exist then will overwrite(Erase previous data and add new data)\n",
    "\n",
    "file1 = open('sample1.txt','w') # 'wb' if want to write binary file\n",
    "file1.write('Hello world!')\n",
    "file1.close()"
   ]
  },
  {
   "cell_type": "code",
   "execution_count": 5,
   "id": "ff7b2784",
   "metadata": {},
   "outputs": [],
   "source": [
    "# 'x' Creates the specified file, returns an error if the file exists.\n",
    "\n",
    "file2 = open('sample2.txt','x')\n",
    "file2.write('Hello world!')\n",
    "file2.close()"
   ]
  },
  {
   "cell_type": "code",
   "execution_count": 7,
   "id": "039b92b4",
   "metadata": {},
   "outputs": [],
   "source": [
    "# This will raise error since file already exists\n",
    "\n",
    "# file2 = open('sample2.txt','x')\n",
    "# file2.write('Hello world!')\n",
    "# file2.close()"
   ]
  },
  {
   "cell_type": "code",
   "execution_count": 6,
   "id": "8b987901",
   "metadata": {},
   "outputs": [],
   "source": [
    "# Delimeter ('\\n')\n",
    "\n",
    "text = '''Machine learning is a subfield of artificial intelligence,\n",
    "which is broadly defined as the capability of a machine to imitate intelligent human behavior. \n",
    "Artificial intelligence systems are used to perform complex tasks in a way that is similar to how humans solve problems.'''\n",
    "\n",
    "file3 = open('sample3.txt', 'w')\n",
    "file3.write(text)\n",
    "file3.close()"
   ]
  },
  {
   "cell_type": "markdown",
   "id": "18803e87",
   "metadata": {},
   "source": [
    "#### 2) Append"
   ]
  },
  {
   "cell_type": "code",
   "execution_count": 8,
   "id": "3ec83575",
   "metadata": {},
   "outputs": [],
   "source": [
    "file1 = open('sample1.txt','a')\n",
    "file1.write('\\nHello world!')\n",
    "file1.close()"
   ]
  },
  {
   "cell_type": "code",
   "execution_count": 9,
   "id": "7f04d8f4",
   "metadata": {},
   "outputs": [],
   "source": [
    "# Opens a file for appending, creates the file if it does not exist\n",
    "\n",
    "file5 = open('sample4.txt','a')\n",
    "file5.write('Hello Python!')\n",
    "file5.close()"
   ]
  },
  {
   "cell_type": "markdown",
   "id": "c8d39bad",
   "metadata": {},
   "source": [
    "#### 3) Read (Default mode)"
   ]
  },
  {
   "cell_type": "code",
   "execution_count": 11,
   "id": "b6c2fa89",
   "metadata": {},
   "outputs": [
    {
     "name": "stdout",
     "output_type": "stream",
     "text": [
      "Machine learning is a subfield of artificial intelligence,\n",
      "which is broadly defined as the capability of a machine to imitate intelligent human behavior. \n",
      "Artificial intelligence systems are used to perform complex tasks in a way that is similar to how humans solve problems.\n"
     ]
    }
   ],
   "source": [
    "# Opens a file for reading, error if the file does not exist\n",
    "\n",
    "file3 = open('sample3.txt', 'r')\n",
    "data = file3.read()\n",
    "file3.close()\n",
    "\n",
    "print(data)"
   ]
  },
  {
   "cell_type": "code",
   "execution_count": 6,
   "id": "c8a16c91",
   "metadata": {},
   "outputs": [
    {
     "name": "stdout",
     "output_type": "stream",
     "text": [
      "Hello\n"
     ]
    }
   ],
   "source": [
    "# By default the read() method returns the whole text, but you can also specify how many characters you want to return\n",
    "\n",
    "file5 = open('sample4.txt')\n",
    "data = file5.read(5)\n",
    "file5.close()\n",
    "\n",
    "print(data)"
   ]
  },
  {
   "cell_type": "code",
   "execution_count": 4,
   "id": "02196600",
   "metadata": {},
   "outputs": [
    {
     "name": "stdout",
     "output_type": "stream",
     "text": [
      "Machine learning is a subfield of artificial intelligence,\n",
      "which is broadly defined as the capability of a machine to imitate intelligent human behavior. \n",
      "Artificial intelligence systems are used to perform complex tasks in a way that is similar to how humans solve problems.\n"
     ]
    }
   ],
   "source": [
    "# \"r\" for read, and \"t\" for text are the default values ; 'rb' if want to read binary file\n",
    "\n",
    "file3 = open('sample3.txt', 'rt')\n",
    "data = file3.read()\n",
    "file3.close()\n",
    "\n",
    "print(data)"
   ]
  },
  {
   "cell_type": "code",
   "execution_count": 13,
   "id": "54c78003",
   "metadata": {},
   "outputs": [
    {
     "name": "stdout",
     "output_type": "stream",
     "text": [
      "Hello Python!\n"
     ]
    }
   ],
   "source": [
    "# By default mode 'r'\n",
    "\n",
    "file5 = open('sample4.txt')\n",
    "data = file5.read()\n",
    "file5.close()\n",
    "\n",
    "print(data)"
   ]
  },
  {
   "cell_type": "code",
   "execution_count": 1,
   "id": "8ee64df9",
   "metadata": {},
   "outputs": [
    {
     "name": "stdout",
     "output_type": "stream",
     "text": [
      "Machine learning is a subfield of artificial intelligence,\n",
      "\n"
     ]
    }
   ],
   "source": [
    "# You can return one line by using the readline() method\n",
    "\n",
    "file3 = open('sample3.txt', 'r')\n",
    "data = file3.readline()\n",
    "file3.close()\n",
    "\n",
    "print(data)"
   ]
  },
  {
   "cell_type": "code",
   "execution_count": 7,
   "id": "703a09c6",
   "metadata": {},
   "outputs": [
    {
     "name": "stdout",
     "output_type": "stream",
     "text": [
      "Machine learning is a subfield of artificial intelligence,\n",
      "\n",
      "which is broadly defined as the capability of a machine to imitate intelligent human behavior. \n",
      "\n"
     ]
    }
   ],
   "source": [
    "# By calling readline() two times, you can read the two first lines\n",
    "\n",
    "file3 = open('sample3.txt', 'r')\n",
    "print(file3.readline())\n",
    "print(file3.readline())\n",
    "file3.close()"
   ]
  },
  {
   "cell_type": "code",
   "execution_count": 2,
   "id": "0601da7a",
   "metadata": {},
   "outputs": [
    {
     "name": "stdout",
     "output_type": "stream",
     "text": [
      "Machi\n"
     ]
    }
   ],
   "source": [
    "# Readline()\n",
    "\n",
    "file3 = open('sample3.txt', 'r')\n",
    "data = file3.readline(5)\n",
    "file3.close()\n",
    "\n",
    "print(data)"
   ]
  },
  {
   "cell_type": "code",
   "execution_count": 10,
   "id": "d5cef917",
   "metadata": {},
   "outputs": [
    {
     "name": "stdout",
     "output_type": "stream",
     "text": [
      "['Machine learning is a subfield of artificial intelligence,\\n', 'which is broadly defined as the capability of a machine to imitate intelligent human behavior. \\n']\n"
     ]
    }
   ],
   "source": [
    "# Readlines: retruns a list of lines\n",
    "\n",
    "file3 = open('sample3.txt', 'r')\n",
    "data = file3.readlines(100)\n",
    "file3.close()\n",
    "\n",
    "print(data)"
   ]
  },
  {
   "cell_type": "markdown",
   "id": "56d29444",
   "metadata": {},
   "source": [
    "#### 1) 'w+'\n",
    "If file exists overwite and if not creates a new file. Both write and read works."
   ]
  },
  {
   "cell_type": "code",
   "execution_count": 35,
   "id": "4c49cb95",
   "metadata": {},
   "outputs": [
    {
     "name": "stdout",
     "output_type": "stream",
     "text": [
      "\n"
     ]
    }
   ],
   "source": [
    "file5 = open('sample5.txt','w+') # Pointer will be at '0th' position \n",
    "file5.write('Data is the key') # pointer is at 16th position\n",
    "data = file5.read() # Interpreter is trying to read from 16th position thats why no output is there\n",
    "print(data) "
   ]
  },
  {
   "cell_type": "code",
   "execution_count": 5,
   "id": "51718fbc",
   "metadata": {},
   "outputs": [
    {
     "name": "stdout",
     "output_type": "stream",
     "text": [
      "0\n",
      "16\n",
      "16\n",
      "Machine learning\n"
     ]
    }
   ],
   "source": [
    "f8 = open('sam1.txt','w+')\n",
    "print(f8.tell())\n",
    "f8.write('Machine learning')\n",
    "print(f8.tell())\n",
    "f8.seek(0)\n",
    "data = f8.read()\n",
    "print(f8.tell())\n",
    "print(data)"
   ]
  },
  {
   "cell_type": "code",
   "execution_count": 36,
   "id": "4e8434d0",
   "metadata": {},
   "outputs": [
    {
     "name": "stdout",
     "output_type": "stream",
     "text": [
      "0\n",
      "15\n",
      "15\n",
      "\n"
     ]
    }
   ],
   "source": [
    "# file_object.tell() function will tell you the cursor positiion\n",
    "\n",
    "file5 = open('sample5.txt','w+')\n",
    "print(file5.tell())\n",
    "file5.write('Data is the key')\n",
    "print(file5.tell())\n",
    "data = file5.read()\n",
    "print(file5.tell())\n",
    "print(data) "
   ]
  },
  {
   "cell_type": "code",
   "execution_count": 37,
   "id": "0b27e242",
   "metadata": {},
   "outputs": [
    {
     "name": "stdout",
     "output_type": "stream",
     "text": [
      "0\n",
      "15\n",
      "15\n",
      "Data is the key\n"
     ]
    }
   ],
   "source": [
    "# We will change the cursor position\n",
    "\n",
    "file5 = open('sample5.txt','w+')\n",
    "print(file5.tell())\n",
    "file5.write('Data is the key')\n",
    "print(file5.tell())\n",
    "file5.seek(0)\n",
    "data = file5.read()\n",
    "print(file5.tell())\n",
    "print(data)"
   ]
  },
  {
   "cell_type": "markdown",
   "id": "1ca2dcd0",
   "metadata": {},
   "source": [
    "#### 2) 'r+'\n",
    "Opens a file to read and write, error if the file does not exist"
   ]
  },
  {
   "cell_type": "code",
   "execution_count": 30,
   "id": "148fd012",
   "metadata": {},
   "outputs": [
    {
     "name": "stdout",
     "output_type": "stream",
     "text": [
      "Hello world!\n",
      "Hello world!Hello youtube!Hello youtube!\n",
      "Hello youtube!\n"
     ]
    }
   ],
   "source": [
    "file6 = open('sample1.txt','r+')\n",
    "data  = file6.read()\n",
    "file6.write('\\nHello youtube!')\n",
    "print(data)\n",
    "file6.close()"
   ]
  },
  {
   "cell_type": "markdown",
   "id": "6a7f258a",
   "metadata": {},
   "source": [
    "#### 3) 'a+'\n",
    "Opens a file for appendig and read, creates the file if it does not exist"
   ]
  },
  {
   "cell_type": "code",
   "execution_count": 38,
   "id": "6368963a",
   "metadata": {},
   "outputs": [
    {
     "name": "stdout",
     "output_type": "stream",
     "text": [
      "\n"
     ]
    }
   ],
   "source": [
    "file7 = open('sample5.txt','a+')\n",
    "file7.write('\\nData science')\n",
    "data = file7.read()\n",
    "print(data)"
   ]
  },
  {
   "cell_type": "code",
   "execution_count": 39,
   "id": "79f31a7f",
   "metadata": {},
   "outputs": [
    {
     "name": "stdout",
     "output_type": "stream",
     "text": [
      "29\n",
      "43\n",
      "43\n",
      "Data is the key\n",
      "Data science\n",
      "Data science\n"
     ]
    }
   ],
   "source": [
    "file7 = open('sample5.txt','a+')\n",
    "print(file7.tell())\n",
    "file7.write('\\nData science')\n",
    "print(file7.tell())\n",
    "file7.seek(0)\n",
    "data = file7.read()\n",
    "print(file7.tell())\n",
    "print(data)"
   ]
  },
  {
   "cell_type": "markdown",
   "id": "425e3a8b",
   "metadata": {},
   "source": [
    "#### looping through the lines of the file"
   ]
  },
  {
   "cell_type": "code",
   "execution_count": 11,
   "id": "b8608449",
   "metadata": {},
   "outputs": [
    {
     "name": "stdout",
     "output_type": "stream",
     "text": [
      "Machine learning is a subfield of artificial intelligence,\n",
      "\n",
      "which is broadly defined as the capability of a machine to imitate intelligent human behavior. \n",
      "\n",
      "Artificial intelligence systems are used to perform complex tasks in a way that is similar to how humans solve problems.\n"
     ]
    }
   ],
   "source": [
    "# Using for loop\n",
    "\n",
    "file3 = open('sample3.txt')\n",
    "for line in file3:\n",
    "    print(line)"
   ]
  },
  {
   "cell_type": "code",
   "execution_count": 15,
   "id": "ae2c73de",
   "metadata": {},
   "outputs": [
    {
     "name": "stdout",
     "output_type": "stream",
     "text": [
      "Machine learning is a subfield of artificial intelligence,\n",
      "\n",
      "which is broadly defined as the capability of a machine to imitate intelligent human behavior. \n",
      "\n",
      "Artificial intelligence systems are used to perform complex tasks in a way that is similar to how humans solve problems.\n"
     ]
    }
   ],
   "source": [
    "file3 = open(r'C:\\Users\\MY\\anaconda3\\Data_science\\Velocity\\Python_\\My_notes\\e1_File_Handling\\sample3.txt')\n",
    "for line in file3:\n",
    "    print(line)"
   ]
  },
  {
   "cell_type": "code",
   "execution_count": 14,
   "id": "c98ccffa",
   "metadata": {},
   "outputs": [
    {
     "name": "stdout",
     "output_type": "stream",
     "text": [
      "Machine learning is a subfield of artificial intelligence,\n",
      "\n",
      "which is broadly defined as the capability of a machine to imitate intelligent human behavior. \n",
      "\n",
      "Artificial intelligence systems are used to perform complex tasks in a way that is similar to how humans solve problems.\n",
      "\n"
     ]
    }
   ],
   "source": [
    "# Using while loop\n",
    "\n",
    "file3 = open(\"sample3.txt\", \"r\")\n",
    "while file3:\n",
    "    line = file3.readline()\n",
    "    print(line)\n",
    "    if line == \"\":\n",
    "        break\n",
    "file3.close() "
   ]
  },
  {
   "cell_type": "code",
   "execution_count": 16,
   "id": "186a4142",
   "metadata": {},
   "outputs": [
    {
     "name": "stdout",
     "output_type": "stream",
     "text": [
      "Machine learning is a subfield of artificial intelligence,\n",
      "\n",
      "which is broadly defined as the capability of a machine to imitate intelligent human behavior. \n",
      "\n",
      "Artificial intelligence systems are used to perform complex tasks in a way that is similar to how humans solve problems.\n",
      "\n"
     ]
    }
   ],
   "source": [
    "file3 = open(r'C:\\Users\\MY\\anaconda3\\Data_science\\Velocity\\Python_\\My_notes\\e1_File_Handling\\sample3.txt')\n",
    "while file3:\n",
    "    line = file3.readline()\n",
    "    print(line)\n",
    "    if line == \"\":\n",
    "        break\n",
    "file3.close() "
   ]
  },
  {
   "cell_type": "code",
   "execution_count": 17,
   "id": "5ef7dee9",
   "metadata": {},
   "outputs": [],
   "source": [
    "# ** Note: We can use file path instead of file name as well\n",
    "# It is a good practice to always close the file when you are done with it."
   ]
  },
  {
   "cell_type": "markdown",
   "id": "fec1af6c",
   "metadata": {},
   "source": [
    "#### Use of with statement\n",
    "with statement is used to avoid closing file everytime. We do not need to claose file everytime. Interpreter will automatically close the file."
   ]
  },
  {
   "cell_type": "markdown",
   "id": "359b36a3",
   "metadata": {},
   "source": [
    "`Syntax: with open('file_name','mode') as file_object:`"
   ]
  },
  {
   "cell_type": "code",
   "execution_count": 40,
   "id": "46e9c1bd",
   "metadata": {},
   "outputs": [],
   "source": [
    "with open('sample6.txt','w') as f7:\n",
    "    f7.write('Hello data science')"
   ]
  },
  {
   "cell_type": "code",
   "execution_count": 41,
   "id": "29305f7e",
   "metadata": {},
   "outputs": [],
   "source": [
    "with open('sample6.txt','a') as f7:\n",
    "    f7.write('\\nHello machine learning')"
   ]
  },
  {
   "cell_type": "code",
   "execution_count": 42,
   "id": "e6f39b1f",
   "metadata": {},
   "outputs": [
    {
     "name": "stdout",
     "output_type": "stream",
     "text": [
      "Hello data science\n",
      "Hello machine learning\n"
     ]
    }
   ],
   "source": [
    "with open('sample6.txt','r') as f7:\n",
    "    data = f7.read()\n",
    "    print(data)"
   ]
  },
  {
   "cell_type": "code",
   "execution_count": 43,
   "id": "c0223fb6",
   "metadata": {},
   "outputs": [],
   "source": [
    "# End of file handling..."
   ]
  }
 ],
 "metadata": {
  "kernelspec": {
   "display_name": "Python 3 (ipykernel)",
   "language": "python",
   "name": "python3"
  },
  "language_info": {
   "codemirror_mode": {
    "name": "ipython",
    "version": 3
   },
   "file_extension": ".py",
   "mimetype": "text/x-python",
   "name": "python",
   "nbconvert_exporter": "python",
   "pygments_lexer": "ipython3",
   "version": "3.9.12"
  }
 },
 "nbformat": 4,
 "nbformat_minor": 5
}
