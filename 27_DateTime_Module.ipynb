{
 "cells": [
  {
   "cell_type": "code",
   "execution_count": 1,
   "id": "f1414ed5",
   "metadata": {},
   "outputs": [],
   "source": [
    "import datetime\n",
    "import time"
   ]
  },
  {
   "cell_type": "code",
   "execution_count": 20,
   "id": "0d4877c8",
   "metadata": {},
   "outputs": [
    {
     "data": {
      "text/plain": [
       "datetime.datetime(2022, 12, 18, 0, 39, 45, 878099)"
      ]
     },
     "execution_count": 20,
     "metadata": {},
     "output_type": "execute_result"
    }
   ],
   "source": [
    "# datetime.now(): will return current date and time\n",
    "datetime.datetime.now()"
   ]
  },
  {
   "cell_type": "code",
   "execution_count": 3,
   "id": "83dffd14",
   "metadata": {},
   "outputs": [
    {
     "data": {
      "text/plain": [
       "datetime.datetime(2022, 12, 18, 0, 39, 27, 108370)"
      ]
     },
     "execution_count": 3,
     "metadata": {},
     "output_type": "execute_result"
    }
   ],
   "source": [
    "# datetime.now(): will return today's date and time, works same as datetime.now()\n",
    "datetime.datetime.today()"
   ]
  },
  {
   "cell_type": "code",
   "execution_count": 19,
   "id": "dab36d42",
   "metadata": {},
   "outputs": [
    {
     "data": {
      "text/plain": [
       "datetime.date(2022, 12, 18)"
      ]
     },
     "execution_count": 19,
     "metadata": {},
     "output_type": "execute_result"
    }
   ],
   "source": [
    "# datetime.today().date(): will return the today's date\n",
    "datetime.datetime.today().date()"
   ]
  },
  {
   "cell_type": "code",
   "execution_count": 5,
   "id": "d40f01cb",
   "metadata": {},
   "outputs": [
    {
     "data": {
      "text/plain": [
       "datetime.time(0, 39, 27, 286301)"
      ]
     },
     "execution_count": 5,
     "metadata": {},
     "output_type": "execute_result"
    }
   ],
   "source": [
    "# datetime.today().time(): will return currentt time\n",
    "datetime.datetime.today().time()"
   ]
  },
  {
   "cell_type": "markdown",
   "id": "e516700d",
   "metadata": {},
   "source": [
    "__timedelta__"
   ]
  },
  {
   "cell_type": "code",
   "execution_count": 6,
   "id": "df40afb0",
   "metadata": {},
   "outputs": [
    {
     "name": "stdout",
     "output_type": "stream",
     "text": [
      "2022-12-20\n"
     ]
    }
   ],
   "source": [
    "# It will add number of days to the date, positive\n",
    "new_date = current_date + datetime.timedelta(days = 2) # positive >> next\n",
    "print(new_date)"
   ]
  },
  {
   "cell_type": "code",
   "execution_count": 7,
   "id": "cd58a86e",
   "metadata": {},
   "outputs": [
    {
     "name": "stdout",
     "output_type": "stream",
     "text": [
      "2022-12-16\n"
     ]
    }
   ],
   "source": [
    "# It will return date of previous days you want, negative\n",
    "new_date = current_date + datetime.timedelta(days = -2) # positive >> next\n",
    "print(new_date)"
   ]
  },
  {
   "cell_type": "code",
   "execution_count": 8,
   "id": "d2a336d9",
   "metadata": {},
   "outputs": [
    {
     "name": "stdout",
     "output_type": "stream",
     "text": [
      "2022-12-25\n"
     ]
    }
   ],
   "source": [
    "# timedelta for next weeks\n",
    "new_date = current_date + datetime.timedelta(weeks = 1) \n",
    "print(new_date)"
   ]
  },
  {
   "cell_type": "code",
   "execution_count": 9,
   "id": "81911459",
   "metadata": {},
   "outputs": [
    {
     "name": "stdout",
     "output_type": "stream",
     "text": [
      "2022-12-11\n"
     ]
    }
   ],
   "source": [
    "# timedelta for previous weeks\n",
    "new_date = current_date + datetime.timedelta(weeks = -1) \n",
    "print(new_date)"
   ]
  },
  {
   "cell_type": "code",
   "execution_count": 10,
   "id": "54dfaba1",
   "metadata": {},
   "outputs": [
    {
     "name": "stdout",
     "output_type": "stream",
     "text": [
      "2022-12-18 02:39:27.652559\n"
     ]
    }
   ],
   "source": [
    "# timedlta for next hours\n",
    "current_time = datetime.datetime.today()\n",
    "new_date = current_time + datetime.timedelta(hours = 2) \n",
    "print(new_date)"
   ]
  },
  {
   "cell_type": "code",
   "execution_count": 11,
   "id": "46c78937",
   "metadata": {},
   "outputs": [
    {
     "name": "stdout",
     "output_type": "stream",
     "text": [
      "2022-12-17 22:39:27.719024\n"
     ]
    }
   ],
   "source": [
    "# timedelta for next hours\n",
    "current_time = datetime.datetime.today()\n",
    "new_date = current_time + datetime.timedelta(hours = -2) \n",
    "print(new_date)"
   ]
  },
  {
   "cell_type": "code",
   "execution_count": 12,
   "id": "937581fc",
   "metadata": {},
   "outputs": [
    {
     "name": "stdout",
     "output_type": "stream",
     "text": [
      "2022-12-18 00:39:37.786370\n"
     ]
    }
   ],
   "source": [
    "# timedelta for next seconds\n",
    "current_time = datetime.datetime.today()\n",
    "new_date = current_time + datetime.timedelta(seconds = 10) \n",
    "print(new_date)"
   ]
  },
  {
   "cell_type": "code",
   "execution_count": 13,
   "id": "3a3fb735",
   "metadata": {},
   "outputs": [
    {
     "name": "stdout",
     "output_type": "stream",
     "text": [
      "2022-12-18 00:39:17.851437\n"
     ]
    }
   ],
   "source": [
    "# timedelta for previous seconds\n",
    "current_time = datetime.datetime.today()\n",
    "new_date = current_time + datetime.timedelta(seconds = -10) \n",
    "print(new_date)"
   ]
  },
  {
   "cell_type": "markdown",
   "id": "8d6d152b",
   "metadata": {},
   "source": [
    "__shiftime:__ Used to shift date or time"
   ]
  },
  {
   "cell_type": "code",
   "execution_count": 14,
   "id": "414e7f4a",
   "metadata": {},
   "outputs": [
    {
     "data": {
      "text/plain": [
       "'AM'"
      ]
     },
     "execution_count": 14,
     "metadata": {},
     "output_type": "execute_result"
    }
   ],
   "source": [
    "# for year\n",
    "current_datetime.strftime('%Y') # '2022'\n",
    "current_datetime.strftime('%y') # '22'\n",
    "\n",
    "# for month\n",
    "current_datetime.strftime('%m') # '05'\n",
    "current_datetime.strftime('%B') # Full Month Name: 'February' \n",
    "current_datetime.strftime('%b') # abbrevated month name: 'Feb'\n",
    "\n",
    "#for date\n",
    "current_datetime.strftime('%d') # '18'\n",
    "\n",
    "# for day of the week\n",
    "current_datetime.strftime('%A') # 'Wednesday'\n",
    "current_datetime.strftime('%a') # abbrevated Weekday >> 'Wed'\n",
    "current_datetime.strftime('%w') # Weekday number >> Sunday=0 >> Wednesday = 3\n",
    "\n",
    "# for day number from year\n",
    "current_datetime.strftime('%j') # Day Number\n",
    "\n",
    "# for week number from year\n",
    "current_datetime.strftime('%U') # Week Number\n",
    "current_datetime.strftime('%p') # AM/PM"
   ]
  },
  {
   "cell_type": "code",
   "execution_count": 2,
   "id": "6026b197",
   "metadata": {},
   "outputs": [
    {
     "name": "stdout",
     "output_type": "stream",
     "text": [
      "1947-08-15 00:00:00\n",
      "<class 'datetime.datetime'>\n"
     ]
    }
   ],
   "source": [
    "# Way to use shiftime\n",
    "day = datetime.datetime(1947, 8, 15) #Year, Month, Day\n",
    "print(day)\n",
    "print(type(day))"
   ]
  },
  {
   "cell_type": "code",
   "execution_count": 16,
   "id": "99b3159a",
   "metadata": {},
   "outputs": [
    {
     "name": "stdout",
     "output_type": "stream",
     "text": [
      "The year is 1947\n",
      "The abbrevated year is 47\n",
      "The month number is 08\n",
      "The month name is August\n",
      "The abbrevated month name is Aug\n",
      "The date is 15\n",
      "The day of the week is Friday\n",
      "The abbrevated day of the week is Fri\n",
      "The day number of week is 5\n",
      "The day number of year is 227\n",
      "The week number for year is 32\n",
      "The time interval is AM\n"
     ]
    }
   ],
   "source": [
    "print('The year is', day.strftime('%Y')) # '2022'\n",
    "print('The abbrevated year is', day.strftime('%y')) # '22'\n",
    "\n",
    "# for month\n",
    "print('The month number is',day.strftime('%m')) # '05'\n",
    "print('The month name is', day.strftime('%B')) # Full Month Name: 'February' \n",
    "print('The abbrevated month name is', day.strftime('%b')) # abbrevated month name: 'Feb'\n",
    "\n",
    "#for date\n",
    "print('The date is', day.strftime('%d')) # '18'\n",
    "\n",
    "# for day of the week\n",
    "print('The day of the week is', day.strftime('%A')) # 'Wednesday'\n",
    "print('The abbrevated day of the week is', day.strftime('%a')) # abbrevated Weekday >> 'Wed'\n",
    "print('The day number of week is', day.strftime('%w')) # Weekday number >> Sunday=0 >> Wednesday = 3\n",
    "\n",
    "# for day number from year\n",
    "print('The day number of year is', day.strftime('%j')) # Day Number\n",
    "\n",
    "# for week number from year\n",
    "print('The week number for year is', day.strftime('%U')) # Week Number\n",
    "print('The time interval is', day.strftime('%p')) # AM/PM"
   ]
  },
  {
   "cell_type": "code",
   "execution_count": 17,
   "id": "6681942d",
   "metadata": {},
   "outputs": [
    {
     "data": {
      "text/plain": [
       "'15/08/1947'"
      ]
     },
     "execution_count": 17,
     "metadata": {},
     "output_type": "execute_result"
    }
   ],
   "source": [
    "# Or\n",
    "random_date = datetime.datetime(1947, 8, 15) #15/08/1947\n",
    "random_date.strftime('%d/%m/%Y')"
   ]
  },
  {
   "cell_type": "markdown",
   "id": "dadbd1de",
   "metadata": {},
   "source": [
    "__strptime:__ Used to format the time stamp which is in string format to date-time object."
   ]
  },
  {
   "cell_type": "code",
   "execution_count": 18,
   "id": "5cc0fd14",
   "metadata": {},
   "outputs": [
    {
     "name": "stdout",
     "output_type": "stream",
     "text": [
      "<class 'str'>\n",
      "<class 'datetime.date'>\n",
      "date1 2022-05-18\n"
     ]
    }
   ],
   "source": [
    "date1 = '18-05-2022'\n",
    "print(type(date1))\n",
    "new_date1 = datetime.datetime.strptime(date1,'%d-%m-%Y').date()\n",
    "print(type(new_date1))\n",
    "\n",
    "print('date1', new_date1)"
   ]
  }
 ],
 "metadata": {
  "kernelspec": {
   "display_name": "Python 3 (ipykernel)",
   "language": "python",
   "name": "python3"
  },
  "language_info": {
   "codemirror_mode": {
    "name": "ipython",
    "version": 3
   },
   "file_extension": ".py",
   "mimetype": "text/x-python",
   "name": "python",
   "nbconvert_exporter": "python",
   "pygments_lexer": "ipython3",
   "version": "3.9.12"
  }
 },
 "nbformat": 4,
 "nbformat_minor": 5
}
