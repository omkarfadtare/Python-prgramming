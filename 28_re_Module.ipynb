{
 "cells": [
  {
   "cell_type": "markdown",
   "id": "f0fe4094",
   "metadata": {},
   "source": [
    "# re (Regualr expression) Module"
   ]
  },
  {
   "cell_type": "code",
   "execution_count": 1,
   "id": "7cabd2cc",
   "metadata": {},
   "outputs": [],
   "source": [
    "import re"
   ]
  },
  {
   "cell_type": "markdown",
   "id": "ad6a1651",
   "metadata": {},
   "source": [
    "- A RegEx, or Regular Expression, is a sequence of characters that forms a search pattern. \n",
    "- They’re typically used to find a sequence of characters within a string so you can extract and manipulate them. "
   ]
  },
  {
   "cell_type": "markdown",
   "id": "95808b7a",
   "metadata": {},
   "source": [
    "__`findall >> list;`\n",
    "`search >> object;`\n",
    "`match >> object;`\n",
    "`sub >> str`__"
   ]
  },
  {
   "cell_type": "markdown",
   "id": "287c8904",
   "metadata": {},
   "source": [
    "### Synopsis:\n",
    "\n",
    "#### Functions: \n",
    "\n",
    "1) __re.findall()__ : Returns all the matches of RE pattern as a list of string.\n",
    "\n",
    "2) __re.search()__ : Search for a Re pattern and returns first occurance only.\n",
    "\n",
    "3) __re.match()__ : Returns a match object if zero or more characters at the beginning of string match the regular expression pattern.\n",
    "\n",
    "4) __re.sub()__ : It works as a replace function. Returns a new string with regular expression pattern replaced with the new replacement.\n",
    "\n",
    "5) __re.split()__ : It splits string by the occurrences of RE pattern or splits string 'B' into a list using the delimiter 'A'.\n",
    "\n",
    "6) __re.compile()__ : Compile a regular expression pattern into a regular expression object, which can be used for matching using its match(), search() and other methods."
   ]
  },
  {
   "cell_type": "markdown",
   "id": "0bd4fffd",
   "metadata": {},
   "source": [
    "#### Brackets: \n",
    "\n",
    "__[]__ - Using square bracket, we can put a bunch of different characters (alphabates, special characters, numbers, whitespace character). This will look through and pick one that mactches the pattern. These square brackets are way to create your own list of patterns. Used to indicate a set of characters. Special characters lose their special meaning inside this square bracket. ex. [0-9], [a-z], [a-zA-Z]\n",
    "\n",
    "__{}__ - Curly brackets specify the amount of thing or we can use this as a range also `\"{m,n}- Causes the resulting RE to match from m to n repetitions of the preceding RE.\"`\n",
    "\n",
    "__()__ - we can also group things using parenthesis."
   ]
  },
  {
   "cell_type": "markdown",
   "id": "caa8600d",
   "metadata": {},
   "source": [
    "#### Special Escape sequence:\n",
    "\n",
    "1) __\\d__ Matches any decimal digits __\\d == [0-9]__\n",
    "\n",
    "2) __\\D__ except digital. Matches any character which is not a decimal digit. __\\D == [^0-9]__\n",
    "\n",
    "3) __\\s__ Matches whitespace characters which includes. __\\s == \\t\\n__\n",
    "\n",
    "4) __\\S__ Matches any character which is not a whitespace character. __\\S == [^ \\t\\n\\r\\f\\v]__\n",
    "\n",
    "5) __\\w__ Matches characters as well as numbers and the underscore. __\\w == [a-zA-Z0-9_]__\n",
    "\n",
    "6) __\\W__ except [a-zA-Z0-9_]. __\\W == [^a-zA-Z0-9_]__\n",
    "\n",
    "7) __\\b__ It will check for characters __at the beginning of word or end of word__ or we can say it matches word boundry."
   ]
  },
  {
   "cell_type": "markdown",
   "id": "99068377",
   "metadata": {},
   "source": [
    "#### Special characters:\n",
    "\n",
    "1) __'+' (Plus sign)__ The resulting RE to match __`one or more occurance`__ of the preceding RE.\n",
    "\n",
    "2) __'\\*' (star sign)__ The resulting RE to match __`zero or more occurances`__ of the preceding RE.\n",
    "\n",
    "3) __'.' (dot sign)__ matches zero or more occurances of any character except a newline. But if the DOTALL flag has been specified, this matches any character including a newline.\n",
    "\n",
    "4) __'?' (Question mark sign)__ The resulting RE to match zero or one occurances of the preceding RE.\n",
    "\n",
    "5) __'^' (Caret sign); startswith__ matches at the beginning of string. Matches the start of the string, and in MULTILINE mode also matches immediately after each newline.\n",
    "\n",
    "6) __'$' (Dollar sign); endswith__  matches at the end of the string, and just before the newline, and in MULTILINE mode also matches before a newline.\n",
    "\n",
    "7) __'|' (Or sign)__ A|B, creates a regular expression that will match either A or B."
   ]
  },
  {
   "cell_type": "markdown",
   "id": "07fb957e",
   "metadata": {},
   "source": [
    "### Functions"
   ]
  },
  {
   "cell_type": "markdown",
   "id": "1bcd0615",
   "metadata": {},
   "source": [
    "#### 1) re.findall()\n",
    "- It is going to return list of matches\n",
    "- Return all non-overlapping matches of pattern as a list of strings or tuples. The string is scanned left-to-right and matches are returned in the order found. Empty matches are also included in the result. \n",
    "\n",
    "`Syntax: re.findall(pattern, string)`"
   ]
  },
  {
   "cell_type": "code",
   "execution_count": 5,
   "id": "90256247",
   "metadata": {},
   "outputs": [
    {
     "name": "stdout",
     "output_type": "stream",
     "text": [
      "['8', '9', '8', '3', '7', '4', '3', '9', '6', '8', '9', '6', '8', '0', '3', '0', '6', '2', '0', '2', '2']\n",
      "21\n"
     ]
    }
   ],
   "source": [
    "# Accessing numbers [0-9]\n",
    "\n",
    "text1 = \"\"\" My mobile Number is 8983743968\n",
    "            my email id is : omkarfadtare968@gmail.com\n",
    "            todays date is : 03/06/2022 \"\"\"\n",
    "\n",
    "result = re.findall('[0-9]{1}',text1) # [condition] and {count you want}\n",
    "print(result)\n",
    "print(len(result))"
   ]
  },
  {
   "cell_type": "code",
   "execution_count": 6,
   "id": "16d0b479",
   "metadata": {},
   "outputs": [
    {
     "name": "stdout",
     "output_type": "stream",
     "text": [
      "['89', '83', '74', '39', '68', '96', '03', '06', '20', '22']\n",
      "10\n"
     ]
    }
   ],
   "source": [
    "text1 = \"\"\" My mobile Number is 8983743968\n",
    "            my email id is : omkarfadtare968@gmail.com\n",
    "            todays date is : 03/06/2022 \"\"\"\n",
    "\n",
    "result = re.findall('[0-9]{2}',text1) # [condition] and {count you want}\n",
    "print(result) # it will search for continue count\n",
    "print(len(result))"
   ]
  },
  {
   "cell_type": "code",
   "execution_count": null,
   "id": "e5772102",
   "metadata": {},
   "outputs": [],
   "source": [
    "import re\n",
    "text1 = \"\"\" My mobile Number is 8983743968\n",
    "            my email id is : omkarfadtare968@gmail.com\n",
    "            todays date is : 03/06/2022 \"\"\"\n",
    "result = re.findall('[]',text1)"
   ]
  },
  {
   "cell_type": "code",
   "execution_count": 7,
   "id": "f2debcf6",
   "metadata": {},
   "outputs": [
    {
     "name": "stdout",
     "output_type": "stream",
     "text": [
      "['8983743968']\n",
      "1\n"
     ]
    }
   ],
   "source": [
    "text1 = \"\"\" My mobile Number is 8983743968\n",
    "            my email id is : omkarfadtare968@gmail.com\n",
    "            todays date is : 03/06/2022 \"\"\"\n",
    "\n",
    "result = re.findall('[0-9]{10}',text1) # [condition] and {count you want}\n",
    "print(result) # since mobile number is of 10 digits\n",
    "print(len(result))"
   ]
  },
  {
   "cell_type": "code",
   "execution_count": 14,
   "id": "252142e5",
   "metadata": {},
   "outputs": [
    {
     "name": "stdout",
     "output_type": "stream",
     "text": [
      "['3', '4', '3', '0', '3', '0', '2', '0', '2', '2']\n",
      "10\n"
     ]
    }
   ],
   "source": [
    "text1 = \"\"\" My mobile Number is 8983743968\n",
    "            my email id is : omkarfadtare968@gmail.com\n",
    "            todays date is : 03/06/2022 \"\"\"\n",
    "\n",
    "result = re.findall('[0-5]{1}',text1) # [condition] and {count you want}\n",
    "print(result) # we can specify range also [0-5]\n",
    "print(len(result))"
   ]
  },
  {
   "cell_type": "code",
   "execution_count": 15,
   "id": "f0cc8e0b",
   "metadata": {},
   "outputs": [
    {
     "name": "stdout",
     "output_type": "stream",
     "text": [
      "['3', '4', '3', '0', '3', '0', '2', '0', '2', '2']\n",
      "10\n"
     ]
    }
   ],
   "source": [
    "text1 = \"\"\" My mobile Number is 8983743968\n",
    "            my email id is : omkarfadtare968@gmail.com\n",
    "            todays date is : 03/06/2022 \"\"\"\n",
    "\n",
    "result = re.findall('[012345]{1}',text1) # [condition] and {count you want}\n",
    "print(result) # we can specify only numbers we want [012345]\n",
    "print(len(result))"
   ]
  },
  {
   "cell_type": "code",
   "execution_count": 8,
   "id": "f2b801a7",
   "metadata": {},
   "outputs": [
    {
     "name": "stdout",
     "output_type": "stream",
     "text": [
      "['y', 'm', 'o', 'b', 'i', 'l', 'e', 'u', 'm', 'b', 'e', 'r', 'i', 's', 'm', 'y', 'e', 'm', 'a', 'i', 'l', 'i', 'd', 'i', 's', 'o', 'm', 'k', 'a', 'r', 'f', 'a', 'd', 't', 'a', 'r', 'e', 'g', 'm', 'a', 'i', 'l', 'c', 'o', 'm', 't', 'o', 'd', 'a', 'y', 's', 'd', 'a', 't', 'e', 'i', 's']\n",
      "57\n"
     ]
    }
   ],
   "source": [
    "# Accessing lower characters [a-z]\n",
    "\n",
    "text1 = \"\"\" My mobile Number is 8983743968\n",
    "            my email id is : omkarfadtare968@gmail.com\n",
    "            todays date is : 03/06/2022 \"\"\"\n",
    "\n",
    "result = re.findall('[a-z]{1}',text1) # [condition] and {count you want}\n",
    "print(result)\n",
    "print(len(result))"
   ]
  },
  {
   "cell_type": "code",
   "execution_count": 9,
   "id": "44b5b716",
   "metadata": {},
   "outputs": [
    {
     "name": "stdout",
     "output_type": "stream",
     "text": [
      "['mob', 'ile', 'umb', 'ema', 'omk', 'arf', 'adt', 'are', 'gma', 'com', 'tod', 'ays', 'dat']\n",
      "13\n"
     ]
    }
   ],
   "source": [
    "text1 = \"\"\" My mobile Number is 8983743968\n",
    "            my email id is : omkarfadtare968@gmail.com\n",
    "            todays date is : 03/06/2022 \"\"\"\n",
    "\n",
    "result = re.findall('[a-z]{3}',text1) # [condition] and {count you want}\n",
    "print(result)\n",
    "print(len(result))"
   ]
  },
  {
   "cell_type": "code",
   "execution_count": 17,
   "id": "c4029b3d",
   "metadata": {},
   "outputs": [
    {
     "name": "stdout",
     "output_type": "stream",
     "text": [
      "['be', 'fa', 'da', 'da']\n",
      "4\n"
     ]
    }
   ],
   "source": [
    "text1 = \"\"\" My mobile Number is 8983743968\n",
    "            my email id is : omkarfadtare968@gmail.com\n",
    "            todays date is : 03/06/2022 \"\"\"\n",
    "\n",
    "result = re.findall('[abcdefg]{2}',text1) # [condition] and {count you want}\n",
    "print(result)\n",
    "print(len(result))"
   ]
  },
  {
   "cell_type": "code",
   "execution_count": 20,
   "id": "80e6c34b",
   "metadata": {},
   "outputs": [
    {
     "name": "stdout",
     "output_type": "stream",
     "text": [
      "['fad']\n",
      "1\n"
     ]
    }
   ],
   "source": [
    "text1 = \"\"\" My mobile Number is 8983743968\n",
    "            my email id is : omkarfadtare968@gmail.com\n",
    "            todays date is : 03/06/2022 \"\"\"\n",
    "\n",
    "result = re.findall('[abcdefg]{3}',text1) # [condition] and {count you want}\n",
    "print(result)\n",
    "print(len(result))"
   ]
  },
  {
   "cell_type": "code",
   "execution_count": 10,
   "id": "f78c8f71",
   "metadata": {},
   "outputs": [
    {
     "name": "stdout",
     "output_type": "stream",
     "text": [
      "['M', 'N']\n",
      "2\n"
     ]
    }
   ],
   "source": [
    "# Accessing upper characters [A-Z]\n",
    "\n",
    "text1 = \"\"\" My mobile Number is 8983743968\n",
    "            my email id is : omkarfadtare968@gmail.com\n",
    "            todays date is : 03/06/2022 \"\"\"\n",
    "\n",
    "result = re.findall('[A-Z]{1}',text1) # [condition] and {count you want}\n",
    "print(result)\n",
    "print(len(result))"
   ]
  },
  {
   "cell_type": "code",
   "execution_count": 11,
   "id": "ee58de94",
   "metadata": {},
   "outputs": [
    {
     "name": "stdout",
     "output_type": "stream",
     "text": [
      "['M', 'y', 'm', 'o', 'b', 'i', 'l', 'e', 'N', 'u', 'm', 'b', 'e', 'r', 'i', 's', 'm', 'y', 'e', 'm', 'a', 'i', 'l', 'i', 'd', 'i', 's', 'o', 'm', 'k', 'a', 'r', 'f', 'a', 'd', 't', 'a', 'r', 'e', 'g', 'm', 'a', 'i', 'l', 'c', 'o', 'm', 't', 'o', 'd', 'a', 'y', 's', 'd', 'a', 't', 'e', 'i', 's']\n",
      "59\n"
     ]
    }
   ],
   "source": [
    "# Accessing lower & upper characters [A-Za-z]\n",
    "\n",
    "text1 = \"\"\" My mobile Number is 8983743968\n",
    "            my email id is : omkarfadtare968@gmail.com\n",
    "            todays date is : 03/06/2022 \"\"\"\n",
    "\n",
    "result = re.findall('[A-Za-z]{1}',text1) # [condition] and {count you want}\n",
    "print(result)\n",
    "print(len(result))"
   ]
  },
  {
   "cell_type": "code",
   "execution_count": 12,
   "id": "3df7bfe0",
   "metadata": {},
   "outputs": [
    {
     "name": "stdout",
     "output_type": "stream",
     "text": [
      "['M', 'y', 'm', 'o', 'b', 'i', 'l', 'e', 'N', 'u', 'm', 'b', 'e', 'r', 'i', 's', '8', '9', '8', '3', '7', '4', '3', '9', '6', '8', 'm', 'y', 'e', 'm', 'a', 'i', 'l', 'i', 'd', 'i', 's', 'o', 'm', 'k', 'a', 'r', 'f', 'a', 'd', 't', 'a', 'r', 'e', '9', '6', '8', 'g', 'm', 'a', 'i', 'l', 'c', 'o', 'm', 't', 'o', 'd', 'a', 'y', 's', 'd', 'a', 't', 'e', 'i', 's', '0', '3', '0', '6', '2', '0', '2', '2']\n",
      "80\n"
     ]
    }
   ],
   "source": [
    "# Accessing lower, upper characters & numbers [A-Za-z0-9]\n",
    "\n",
    "text1 = \"\"\" My mobile Number is 8983743968\n",
    "            my email id is : omkarfadtare968@gmail.com\n",
    "            todays date is : 03/06/2022 \"\"\"\n",
    "\n",
    "result = re.findall('[A-Za-z0-9]{1}',text1) # [condition] and {count you want}\n",
    "print(result)\n",
    "print(len(result))"
   ]
  },
  {
   "cell_type": "code",
   "execution_count": 23,
   "id": "46ce6724",
   "metadata": {},
   "outputs": [
    {
     "name": "stdout",
     "output_type": "stream",
     "text": [
      "['dtare968@gmail.com']\n",
      "1\n"
     ]
    }
   ],
   "source": [
    "text1 = \"\"\" My mobile Number is 8983743968\n",
    "            my email id is : omkarfadtare968@gmail.com\n",
    "            todays date is : 03/06/2022 \"\"\"\n",
    "\n",
    "result = re.findall('[a-z]{5}[0-9]{0,3}[@]{1}[a-z.]{4,10}',text1) # [condition] and {count you want}\n",
    "print(result)\n",
    "print(len(result))"
   ]
  },
  {
   "cell_type": "code",
   "execution_count": 24,
   "id": "bc2c44cd",
   "metadata": {},
   "outputs": [
    {
     "name": "stdout",
     "output_type": "stream",
     "text": [
      "['omkarfadtare968@gmail.com']\n",
      "1\n"
     ]
    }
   ],
   "source": [
    "# See the differnece between above and this example\n",
    "\n",
    "text1 = \"\"\" My mobile Number is 8983743968\n",
    "            my email id is : omkarfadtare968@gmail.com\n",
    "            todays date is : 03/06/2022 \"\"\"\n",
    "\n",
    "result = re.findall('[a-z]{,155}[0-9]{0,3}[@]{1}[a-z.]{4,10}',text1) \n",
    "print(result)\n",
    "print(len(result))"
   ]
  },
  {
   "cell_type": "code",
   "execution_count": 32,
   "id": "c2ce588e",
   "metadata": {},
   "outputs": [
    {
     "name": "stdout",
     "output_type": "stream",
     "text": [
      "['viratkohli@vctcpune.com', 'viratkohli123@gmail.com', 'virat_kohli123@gmail.com', 'virat.kohli@gmail.com', 'virat_kohli_123@vctcpune.co.in', 'virat_kohli_123@coep.edu.in', 'hr@capgemini.com']\n",
      "7\n"
     ]
    }
   ],
   "source": [
    "# This is useful when we have some dat and we want to access only email ids \n",
    "\n",
    "text = \"\"\" my email id is : viratkohli@vctcpune.com\n",
    "        viratkohli123@gmail.com\n",
    "        virat_kohli123@gmail.com\n",
    "        virat.kohli@gmail.com\n",
    "        virat_kohli_123@vctcpune.co.in\n",
    "        virat_kohli_123@coep.edu.in\n",
    "        hr@capgemini.com \"\"\"\n",
    "email_id = re.findall('[a-z_.]{2,20}[0-9]{0,4}[@]{1}[a-z.]{5,20}',text)\n",
    "print(email_id)\n",
    "print(len(email_id))"
   ]
  },
  {
   "cell_type": "code",
   "execution_count": 34,
   "id": "81dfc28d",
   "metadata": {},
   "outputs": [
    {
     "data": {
      "text/plain": [
       "['1234 2345 0987', '4567 2345 0987']"
      ]
     },
     "execution_count": 34,
     "metadata": {},
     "output_type": "execute_result"
    }
   ],
   "source": [
    "# Accessing aadhar card number (we know that aadhar card numbers are spaced with 4 digits and has lenghth of 12 digits)\n",
    "\n",
    "text = \"\"\" 1234 245 0978    \n",
    "        1234 2345 0987    \n",
    "        4567 2345 0987678    \n",
    "        1234 2345 987 \"\"\"\n",
    "\n",
    "aadhar_num = re.findall('[0-9]{4}[ ][0-9]{4}[ ][0-9]{4}',text)\n",
    "aadhar_num"
   ]
  },
  {
   "cell_type": "code",
   "execution_count": 35,
   "id": "17cfc48a",
   "metadata": {},
   "outputs": [
    {
     "data": {
      "text/plain": [
       "['ASDFB0987P', 'POIUY3456T']"
      ]
     },
     "execution_count": 35,
     "metadata": {},
     "output_type": "execute_result"
    }
   ],
   "source": [
    "# Accessing pan card number (we know that pan card number has a unique pattern 5 capital alphabetes followed by 4 digits and single upper case alphabate)\n",
    "\n",
    "text = \"\"\" ASDFB0987P\n",
    "        RTYUI65780\n",
    "        POIUY3456T \"\"\"\n",
    "pan_num = re.findall('[A-Z]{5}[0-9]{4}[A-Z]',text)\n",
    "pan_num"
   ]
  },
  {
   "cell_type": "code",
   "execution_count": 36,
   "id": "4eecc71d",
   "metadata": {},
   "outputs": [
    {
     "data": {
      "text/plain": [
       "['01/03/2022', '28/02/2022', '08-02-2022', '25/05/2022']"
      ]
     },
     "execution_count": 36,
     "metadata": {},
     "output_type": "execute_result"
    }
   ],
   "source": [
    "# Accessing dates \n",
    "\n",
    "text = \"\"\" ASDFB0987P\n",
    "        RTYUI65780\n",
    "        POIUY3456T\n",
    "        \n",
    "        Dates:\n",
    "        01/03/2022\n",
    "        28/02/2022\n",
    "        08-02-2022\n",
    "        25/05/2022 \"\"\"\n",
    "dates = re.findall('[0-9]{2}[/-][0-9]{2}[/-][0-9]{4}',text)\n",
    "dates"
   ]
  },
  {
   "cell_type": "code",
   "execution_count": 37,
   "id": "00455e49",
   "metadata": {},
   "outputs": [
    {
     "data": {
      "text/plain": [
       "['01/03/2022', '28/02/2022', '08-02-2022', '25/05/2022']"
      ]
     },
     "execution_count": 37,
     "metadata": {},
     "output_type": "execute_result"
    }
   ],
   "source": [
    "text = \"\"\" ASDFB0987P\n",
    "        RTYUI65780\n",
    "        POIUY3456T\n",
    "        \n",
    "        Dates:\n",
    "        01/03/2022\n",
    "        28/02/2022\n",
    "        08-02-2022\n",
    "        25/05/2022\n",
    "        40-08-2021 \"\"\"\n",
    "dates = re.findall('[0-3][0-9][/-][0-9]{2}[/-][0-9]{4}',text)\n",
    "dates"
   ]
  },
  {
   "cell_type": "markdown",
   "id": "84ed0aaf",
   "metadata": {},
   "source": [
    "__To make this pattern searching method easier we have some special sequence as below.__"
   ]
  },
  {
   "cell_type": "markdown",
   "id": "61dd75f3",
   "metadata": {},
   "source": [
    "1) \\d Matches any decimal digits __\\d == [0-9]__\n",
    "\n",
    "2) \\D except digital. Matches any character which is not a decimal digit. __\\D == [^0-9]__"
   ]
  },
  {
   "cell_type": "code",
   "execution_count": 42,
   "id": "a6af3a59",
   "metadata": {},
   "outputs": [
    {
     "name": "stdout",
     "output_type": "stream",
     "text": [
      "['8983743968']\n",
      "1\n"
     ]
    }
   ],
   "source": [
    "text1 = \"\"\" My mobile Number is 8983743968\n",
    "            my email id is : omkarfadtare968@gmail.com\n",
    "            todays date is : 03/06/2022 \"\"\"\n",
    "\n",
    "result = re.findall('[0-9]{10}',text1)\n",
    "print(result)\n",
    "print(len(result))"
   ]
  },
  {
   "cell_type": "code",
   "execution_count": 43,
   "id": "8045c8c4",
   "metadata": {},
   "outputs": [
    {
     "name": "stdout",
     "output_type": "stream",
     "text": [
      "['8983743968']\n",
      "1\n"
     ]
    }
   ],
   "source": [
    "# We can write in this way also\n",
    "\n",
    "text1 = \"\"\" My mobile Number is 8983743968\n",
    "            my email id is : omkarfadtare968@gmail.com\n",
    "            todays date is : 03/06/2022 \"\"\"\n",
    "\n",
    "result = re.findall('[\\d]{10}',text1)\n",
    "print(result)\n",
    "print(len(result))"
   ]
  },
  {
   "cell_type": "code",
   "execution_count": 44,
   "id": "d15c3a70",
   "metadata": {},
   "outputs": [
    {
     "name": "stdout",
     "output_type": "stream",
     "text": [
      "[' M', 'y ', 'mo', 'bi', 'le', ' N', 'um', 'be', 'r ', 'is', '\\n ', '  ', '  ', '  ', '  ', '  ', ' m', 'y ', 'em', 'ai', 'l ', 'id', ' i', 's ', ': ', 'om', 'ka', 'rf', 'ad', 'ta', 're', '@g', 'ma', 'il', '.c', 'om', '\\n ', '  ', '  ', '  ', '  ', '  ', ' t', 'od', 'ay', 's ', 'da', 'te', ' i', 's ', ': ']\n",
      "51\n"
     ]
    }
   ],
   "source": [
    "text1 = \"\"\" My mobile Number is 8983743968\n",
    "            my email id is : omkarfadtare968@gmail.com\n",
    "            todays date is : 03/06/2022 \"\"\"\n",
    "\n",
    "result = re.findall('[\\D]{2}',text1)\n",
    "print(result)\n",
    "print(len(result))"
   ]
  },
  {
   "cell_type": "markdown",
   "id": "7c37d1f2",
   "metadata": {},
   "source": [
    "__To make this pattern searching method easier we have some special sequence as below.__"
   ]
  },
  {
   "cell_type": "markdown",
   "id": "a8249cac",
   "metadata": {},
   "source": [
    "3) \\s Matches whitespace characters which includes. __\\s == \\t\\n__\n",
    "\n",
    "4) \\S Matches any character which is not a whitespace character. __\\S == [^ \\t\\n\\r\\f\\v]__"
   ]
  },
  {
   "cell_type": "code",
   "execution_count": 45,
   "id": "8f8ab179",
   "metadata": {},
   "outputs": [
    {
     "data": {
      "text/plain": [
       "['1234 2345 0987', '4567 2345 0987']"
      ]
     },
     "execution_count": 45,
     "metadata": {},
     "output_type": "execute_result"
    }
   ],
   "source": [
    "text = \"\"\" 1234 245 0978    \n",
    "        1234 2345 0987    \n",
    "        4567 2345 0987678    \n",
    "        1234 2345 987 \"\"\"\n",
    "aadhar = re.findall('[\\d]{4}[\\s]{1}[\\d]{4}[\\s]{1}[\\d]{4}',text)\n",
    "aadhar"
   ]
  },
  {
   "cell_type": "code",
   "execution_count": 47,
   "id": "a7f0cc82",
   "metadata": {},
   "outputs": [
    {
     "data": {
      "text/plain": [
       "['1234 2345 0987', '4567 2345 0987']"
      ]
     },
     "execution_count": 47,
     "metadata": {},
     "output_type": "execute_result"
    }
   ],
   "source": [
    "text = \"\"\" 1234 245 0978    \n",
    "        1234 2345 0987    \n",
    "        4567 2345 0987678    \n",
    "        1234 2345 987 \"\"\"\n",
    "aadhar = re.findall('\\d{4}\\s{1}\\d{4}\\s{1}\\d{4}',text) # square braket is not neccesary while using special sequence but while specifying [a-z] it is necessary\n",
    "aadhar"
   ]
  },
  {
   "cell_type": "code",
   "execution_count": 50,
   "id": "41752d22",
   "metadata": {
    "collapsed": true
   },
   "outputs": [
    {
     "data": {
      "text/plain": [
       "['A',\n",
       " 'S',\n",
       " 'D',\n",
       " 'F',\n",
       " 'B',\n",
       " '0',\n",
       " '9',\n",
       " '8',\n",
       " '7',\n",
       " 'P',\n",
       " 'R',\n",
       " 'T',\n",
       " 'Y',\n",
       " 'U',\n",
       " 'I',\n",
       " '6',\n",
       " '5',\n",
       " '7',\n",
       " '8',\n",
       " '0',\n",
       " 'P',\n",
       " 'O',\n",
       " 'I',\n",
       " 'U',\n",
       " 'Y',\n",
       " '3',\n",
       " '4',\n",
       " '5',\n",
       " '6',\n",
       " 'T',\n",
       " '1',\n",
       " '2',\n",
       " '3',\n",
       " '4',\n",
       " '2',\n",
       " '3',\n",
       " '4',\n",
       " '5',\n",
       " '0',\n",
       " '9',\n",
       " '8',\n",
       " '7']"
      ]
     },
     "execution_count": 50,
     "metadata": {},
     "output_type": "execute_result"
    }
   ],
   "source": [
    "text = \"\"\" ASDFB0987P\n",
    "        RTYUI65780\n",
    "        POIUY3456T\n",
    "        1234 2345 0987 \"\"\"\n",
    "pan_num = re.findall('\\S',text)\n",
    "pan_num"
   ]
  },
  {
   "cell_type": "markdown",
   "id": "6b58838d",
   "metadata": {},
   "source": [
    "__To make this pattern searching method easier we have some special sequence as below.__`"
   ]
  },
  {
   "cell_type": "markdown",
   "id": "5ab57886",
   "metadata": {},
   "source": [
    "5) \\w Matches characters as well as numbers and the underscore. __\\w == [a-zA-Z0-9_]__\n",
    "\n",
    "6) \\W except [a-zA-Z0-9_]. __\\W == [^a-zA-Z0-9_]__"
   ]
  },
  {
   "cell_type": "code",
   "execution_count": 54,
   "id": "8171b968",
   "metadata": {},
   "outputs": [
    {
     "name": "stdout",
     "output_type": "stream",
     "text": [
      "['Data', 'science', 'is', 'the', 'domain', 'of', 'study', 'that', 'deals', 'with', 'vast', 'volumes', 'of', 'data', 'using', 'modern', 'tools', 'and', 'technique', 'to', 'find', 'unseen', 'patterns', 'derive', 'meaningfu', 'informati', 'on', 'and', 'make', 'business', 'decisions', 'Data', 'science', 'uses', 'complex', 'machine', 'learning', 'algorithm', 'to', 'build', 'predictiv', 'models', 'ASDFB0987', 'RTYUI6578', 'POIUY3456', '1234', '2345', '0987']\n"
     ]
    }
   ],
   "source": [
    "text = \"\"\" Data science is the domain of study that deals with vast volumes of data using modern tools and \n",
    "techniques to find unseen patterns, derive meaningful information, \n",
    "and make business decisions. Data science uses complex machine learning algorithms to build predictive models.\n",
    "ASDFB0987P\n",
    "RTYUI65780\n",
    "POIUY3456T\n",
    "1234 2345 0987 \"\"\"\n",
    "\n",
    "result = re.findall('\\w{2,9}',text)\n",
    "print(result)"
   ]
  },
  {
   "cell_type": "code",
   "execution_count": 56,
   "id": "21a6b690",
   "metadata": {},
   "outputs": [
    {
     "name": "stdout",
     "output_type": "stream",
     "text": [
      "[' ', ' ', ' ', ' ', ' ', ' ', ' ', ' ', ' ', ' ', ' ', ' ', ' ', ' ', '\\n', '@', '\\n', '&', '\\n', ' ', ' ', '*', ' ']\n"
     ]
    }
   ],
   "source": [
    "text = \"\"\" Data science is the domain of study that deals with vast volumes of data\n",
    "RTYUI65780@\n",
    "POIUY3456T&\n",
    "1234 2345 0987* \"\"\"\n",
    "\n",
    "result = re.findall('\\W',text)\n",
    "print(result)"
   ]
  },
  {
   "cell_type": "markdown",
   "id": "fbc76262",
   "metadata": {},
   "source": [
    "__To make this pattern searching method easier we have some special sequence as below.__"
   ]
  },
  {
   "cell_type": "markdown",
   "id": "b96e4efe",
   "metadata": {},
   "source": [
    "7) \\b It will check for characters __at the beginning of word or end of word__"
   ]
  },
  {
   "cell_type": "code",
   "execution_count": 148,
   "id": "2c47b2ad",
   "metadata": {},
   "outputs": [
    {
     "data": {
      "text/plain": [
       "['ASDFG5678P']"
      ]
     },
     "execution_count": 148,
     "metadata": {},
     "output_type": "execute_result"
    }
   ],
   "source": [
    "text = \"\"\"Bank IFSC Code is :\n",
    "          HDFC0009873\n",
    "          9736467483926\n",
    "          \n",
    "          9876543218\n",
    "          ASDFG5678PA\n",
    "          ASDSDVFHDBD5566POIUYY\n",
    "          HGHSBMHSD4567XBCBXJHCXCMX\"\"\"\n",
    "\n",
    "pan_num = re.findall(r'\\b[A-Z]{5}\\d{4}[A-Z]\\b',text)\n",
    "pan_num"
   ]
  },
  {
   "cell_type": "code",
   "execution_count": 157,
   "id": "eeafcd15",
   "metadata": {},
   "outputs": [
    {
     "data": {
      "text/plain": [
       "['9876543218']"
      ]
     },
     "execution_count": 157,
     "metadata": {},
     "output_type": "execute_result"
    }
   ],
   "source": [
    "text = \"\"\"Bank IFSC Code is :\n",
    "          HDFC0009873\n",
    "          9736467483926\n",
    "          \n",
    "          9876543218\n",
    "          ASDFG5678PA\n",
    "          ASDSDVFHDBD5566POIUYY\n",
    "          HGHSBMHSD4567XBCBXJHCXCMX\"\"\"\n",
    "\n",
    "pan_num = re.findall(r'\\b\\d{10}\\b',text)\n",
    "pan_num"
   ]
  },
  {
   "cell_type": "code",
   "execution_count": 160,
   "id": "514f3572",
   "metadata": {},
   "outputs": [
    {
     "data": {
      "text/plain": [
       "[]"
      ]
     },
     "execution_count": 160,
     "metadata": {},
     "output_type": "execute_result"
    }
   ],
   "source": [
    "text = \"This is pune \"\n",
    "output = re.findall(r'\\bne',text)\n",
    "output"
   ]
  },
  {
   "cell_type": "code",
   "execution_count": 112,
   "id": "7b3047aa",
   "metadata": {},
   "outputs": [
    {
     "data": {
      "text/plain": [
       "['9736467483', '9876543218']"
      ]
     },
     "execution_count": 112,
     "metadata": {},
     "output_type": "execute_result"
    }
   ],
   "source": [
    "text = \"\"\"Bank IFSC Code is :\n",
    "          HDFC0009873\n",
    "          9736467483926\n",
    "          \n",
    "          9876543218\n",
    "          ASDFG5678P\n",
    "          ASDFG56784\n",
    "          ASDSDVFHDBD5566POIUYY\n",
    "          HGHSBMHSD4567XBCBXJHCXCMX\"\"\"\n",
    "\n",
    "mobile = re.findall(r'\\b\\d{10}\\b',text)\n",
    "mobile"
   ]
  },
  {
   "cell_type": "code",
   "execution_count": 166,
   "id": "f665537c",
   "metadata": {},
   "outputs": [],
   "source": [
    "# Practical exapmle\n",
    "\n",
    "import pytesseract\n",
    "path = r'C:\\Program Files\\Tesseract-OCR\\tesseract.exe'\n",
    "# folder_path = r'C:\\Users\\MY\\anaconda3\\Data_science\\Velocity\\Python_\\My_notes\\h1_glob_Module\\sample1'"
   ]
  },
  {
   "cell_type": "code",
   "execution_count": 171,
   "id": "a5a6c1d5",
   "metadata": {},
   "outputs": [
    {
     "name": "stdout",
     "output_type": "stream",
     "text": [
      "Name of the candidate is:  MONIKA MAHADEV SHINDE\n",
      "Date of Birth of the candidate is:  31/10/1992\n",
      "PAN CARD number is:  EJAPS0276M\n"
     ]
    }
   ],
   "source": [
    "pytesseract.pytesseract.tesseract_cmd = path\n",
    "pan_data = pytesseract.image_to_string(r'C:\\Users\\MY\\anaconda3\\Data_science\\Velocity\\Python_\\My_notes\\h1_glob_Module\\sample1\\pan2.jpeg')\n",
    "pan_data\n",
    "\n",
    "name = re.findall(r'[A-Z]{3,10}\\s\\b[A-Z]{5,10}\\s[A-Z]{6}',pan_data)\n",
    "print(f'Name of the candidate is: ',name[0])\n",
    "\n",
    "dob = re.findall('\\d{2}[/]\\d{2}[/]\\d{4}',pan_data)\n",
    "print(f'Date of Birth of the candidate is: ',dob[0])\n",
    "    \n",
    "pan_num = re.findall('[A-Z]{5}\\d{4}[A-Z]',pan_data)\n",
    "print(f'PAN CARD number is: ',pan_num[0])"
   ]
  },
  {
   "cell_type": "markdown",
   "id": "14fdcf69",
   "metadata": {},
   "source": [
    "__note**__"
   ]
  },
  {
   "cell_type": "markdown",
   "id": "c07421b0",
   "metadata": {},
   "source": [
    "__`findall >> list;`\n",
    "`search >> object;`\n",
    "`match >> object;`\n",
    "`sub >> str`__"
   ]
  },
  {
   "cell_type": "code",
   "execution_count": 202,
   "id": "6d69dd0d",
   "metadata": {},
   "outputs": [],
   "source": [
    "# More practical example\n",
    "\n",
    "import pytesseract\n",
    "path = r'C:\\Program Files\\Tesseract-OCR\\tesseract.exe'"
   ]
  },
  {
   "cell_type": "code",
   "execution_count": 203,
   "id": "245601aa",
   "metadata": {},
   "outputs": [],
   "source": [
    "image_name_list = []\n",
    "name_list = []\n",
    "dob_list = []\n",
    "pan_num_list = []"
   ]
  },
  {
   "cell_type": "code",
   "execution_count": 204,
   "id": "1aad79b4",
   "metadata": {},
   "outputs": [],
   "source": [
    "import os\n",
    "folder_path = r'C:\\Users\\MY\\anaconda3\\Data_science\\Velocity\\Python_\\My_notes\\h1_glob_Module\\sample1\\sample2'\n",
    "file_names = os.listdir(folder_path)"
   ]
  },
  {
   "cell_type": "code",
   "execution_count": 205,
   "id": "7e62e464",
   "metadata": {},
   "outputs": [
    {
     "name": "stdout",
     "output_type": "stream",
     "text": [
      "Image name:  pan1.jpg\n",
      "Name of the candidate is:  HARICHANDRA PANDURANG KANSARE\n",
      "Date of Birth of the candidate is:  14/06/1987\n",
      "Pan card number of the candidate is:  CGZPK0281N\n",
      "******************************\n",
      "Image name:  pan2.jpeg\n",
      "Name of the candidate is:  MAHADEV SHINDE\n",
      "MAHADEV\n",
      "Date of Birth of the candidate is:  31/10/1992\n",
      "Pan card number of the candidate is:  EJAPS0276M\n",
      "******************************\n",
      "Image name:  pan3.jpg\n",
      "Name of the candidate is:  ADITYA MEHENDALE\n",
      "PRAKASH\n",
      "Date of Birth of the candidate is:  02/06/1976\n",
      "Pan card number of the candidate is:  BODPM4264E\n",
      "******************************\n"
     ]
    }
   ],
   "source": [
    "for image_name in file_names:\n",
    "    print('Image name: ',image_name )\n",
    "    image_name_list.append(image_name)\n",
    "    image_name = os.path.join(folder_path,image_name)\n",
    "    pan_data = pytesseract.image_to_string(image_name)\n",
    "    name = re.findall(r'[A-Z]{3,11}\\s\\b[A-Z]{5,10}\\s[A-Z]{7}',pan_data)\n",
    "    if name:\n",
    "        print(f'Name of the candidate is: ',name[0])\n",
    "        name_list.append(name[0])\n",
    "    else:\n",
    "        name_list.append('')\n",
    "    dob = re.findall('\\d{2}[/]\\d{2}[/]\\d{4}', pan_data)\n",
    "    if dob:\n",
    "        print(f'Date of Birth of the candidate is: ',dob[0])\n",
    "        dob_list.append(dob[0])\n",
    "    else:\n",
    "        dob_list.append('')\n",
    "    pan_num = re.findall('[A-Z]{5}\\d{4}[A-Z]',pan_data)\n",
    "    if pan_num:\n",
    "        print(f'Pan card number of the candidate is: ',pan_num[0])\n",
    "        pan_num_list.append(pan_num[0])\n",
    "    else:\n",
    "        pan_num_list.append('')\n",
    "    \n",
    "    print('*'*30)"
   ]
  },
  {
   "cell_type": "code",
   "execution_count": 211,
   "id": "37f866b3",
   "metadata": {},
   "outputs": [
    {
     "name": "stdout",
     "output_type": "stream",
     "text": [
      "{'Image Name': ['pan1.jpg', 'pan2.jpeg', 'pan3.jpg'], 'Candidate Name': ['HARICHANDRA PANDURANG KANSARE', 'MAHADEV SHINDE\\nMAHADEV', 'ADITYA MEHENDALE\\nPRAKASH'], 'Date of birth': ['14/06/1987', '31/10/1992', '02/06/1976'], 'PAN card number': ['CGZPK0281N', 'EJAPS0276M', 'BODPM4264E']}\n"
     ]
    }
   ],
   "source": [
    "result = {'Image Name' : image_name_list, 'Candidate Name': name_list, 'Date of birth' : dob_list, 'PAN card number' : pan_num_list}\n",
    "print(result)"
   ]
  },
  {
   "cell_type": "code",
   "execution_count": 215,
   "id": "a5e321ff",
   "metadata": {},
   "outputs": [],
   "source": [
    "import pandas as pd\n",
    "\n",
    "df  = pd.DataFrame(result)\n",
    "df.to_csv('pan_card.csv')"
   ]
  },
  {
   "cell_type": "code",
   "execution_count": 216,
   "id": "751d90a3",
   "metadata": {},
   "outputs": [
    {
     "data": {
      "text/html": [
       "<div>\n",
       "<style scoped>\n",
       "    .dataframe tbody tr th:only-of-type {\n",
       "        vertical-align: middle;\n",
       "    }\n",
       "\n",
       "    .dataframe tbody tr th {\n",
       "        vertical-align: top;\n",
       "    }\n",
       "\n",
       "    .dataframe thead th {\n",
       "        text-align: right;\n",
       "    }\n",
       "</style>\n",
       "<table border=\"1\" class=\"dataframe\">\n",
       "  <thead>\n",
       "    <tr style=\"text-align: right;\">\n",
       "      <th></th>\n",
       "      <th>Unnamed: 0</th>\n",
       "      <th>Image Name</th>\n",
       "      <th>Candidate Name</th>\n",
       "      <th>Date of birth</th>\n",
       "      <th>PAN card number</th>\n",
       "    </tr>\n",
       "  </thead>\n",
       "  <tbody>\n",
       "    <tr>\n",
       "      <th>0</th>\n",
       "      <td>0</td>\n",
       "      <td>pan1.jpg</td>\n",
       "      <td>HARICHANDRA PANDURANG KANSARE</td>\n",
       "      <td>14/06/1987</td>\n",
       "      <td>CGZPK0281N</td>\n",
       "    </tr>\n",
       "    <tr>\n",
       "      <th>1</th>\n",
       "      <td>1</td>\n",
       "      <td>pan2.jpeg</td>\n",
       "      <td>MAHADEV SHINDE\\nMAHADEV</td>\n",
       "      <td>31/10/1992</td>\n",
       "      <td>EJAPS0276M</td>\n",
       "    </tr>\n",
       "    <tr>\n",
       "      <th>2</th>\n",
       "      <td>2</td>\n",
       "      <td>pan3.jpg</td>\n",
       "      <td>ADITYA MEHENDALE\\nPRAKASH</td>\n",
       "      <td>02/06/1976</td>\n",
       "      <td>BODPM4264E</td>\n",
       "    </tr>\n",
       "  </tbody>\n",
       "</table>\n",
       "</div>"
      ],
      "text/plain": [
       "   Unnamed: 0 Image Name                 Candidate Name Date of birth  \\\n",
       "0           0   pan1.jpg  HARICHANDRA PANDURANG KANSARE    14/06/1987   \n",
       "1           1  pan2.jpeg        MAHADEV SHINDE\\nMAHADEV    31/10/1992   \n",
       "2           2   pan3.jpg      ADITYA MEHENDALE\\nPRAKASH    02/06/1976   \n",
       "\n",
       "  PAN card number  \n",
       "0      CGZPK0281N  \n",
       "1      EJAPS0276M  \n",
       "2      BODPM4264E  "
      ]
     },
     "execution_count": 216,
     "metadata": {},
     "output_type": "execute_result"
    }
   ],
   "source": [
    "df = pd.read_csv('pan_card.csv')\n",
    "df"
   ]
  },
  {
   "cell_type": "markdown",
   "id": "02bdf632",
   "metadata": {},
   "source": [
    "#### 2) re.search()\n",
    "- It searches for a match and return an object of first occurrence only. Returns None, if no position in the string matches the pattern.\n",
    "- __.group()__\n",
    "- it it will return the search string\n",
    "- obj.group()\n",
    "\n",
    "`Syntax: re.search(pattern, string)`"
   ]
  },
  {
   "cell_type": "code",
   "execution_count": 219,
   "id": "69df6368",
   "metadata": {},
   "outputs": [
    {
     "name": "stdout",
     "output_type": "stream",
     "text": [
      "<re.Match object; span=(18, 28), match='QWERT5678A'>\n",
      "QWERT5678A\n",
      "18\n",
      "28\n"
     ]
    }
   ],
   "source": [
    "text = \"\"\"PAN CARDs\n",
    "        QWERT5678A\n",
    "        QWERT3456P\n",
    "        POIYU5678P\n",
    "        9988776655\n",
    "        1234567777\n",
    "        QWEKL9876L\n",
    "        \n",
    "        3456 7890 1234\"\"\"\n",
    "\n",
    "pan_num = re.search(r'\\b[A-Z]{5}\\d{4}[A-Z]',text)\n",
    "print(pan_num)\n",
    "print(pan_num.group())\n",
    "print(pan_num.start())\n",
    "print(pan_num.end())"
   ]
  },
  {
   "cell_type": "code",
   "execution_count": 220,
   "id": "8f5d4a53",
   "metadata": {},
   "outputs": [
    {
     "name": "stdout",
     "output_type": "stream",
     "text": [
      "<re.Match object; span=(18, 28), match='QWERT5678A'>\n",
      "Match found\n",
      "QWERT5678A\n"
     ]
    }
   ],
   "source": [
    "text = \"\"\"PAN CARDs\n",
    "        QWERT5678A\n",
    "        QWERT3456P\n",
    "        POIYU5678P\n",
    "        9988776655\n",
    "        1234567777\n",
    "        QWEKL9876L\n",
    "        \n",
    "        3456 7890 1234\"\"\"\n",
    "\n",
    "pan_num = re.search(r'\\b[A-Z]{5}\\d{4}[A-Z]',text)\n",
    "print(pan_num)\n",
    "if pan_num:\n",
    "    print('Match found')\n",
    "    print(pan_num.group())"
   ]
  },
  {
   "cell_type": "markdown",
   "id": "f8c5b52c",
   "metadata": {},
   "source": [
    "#### 3) re.match()\n",
    "- If zero or more characters at the beginning of string match the regular expression pattern, return a corresponding match object. \n",
    "- Returns None, if the string does not match the pattern. \n",
    "- Basically it searches for a match 'at beginning of string ' and return an object.\n",
    "\n",
    "`Syntax: re.match(pattern, string)`"
   ]
  },
  {
   "cell_type": "code",
   "execution_count": 222,
   "id": "bc56af28",
   "metadata": {},
   "outputs": [
    {
     "name": "stdout",
     "output_type": "stream",
     "text": [
      "No match found\n"
     ]
    }
   ],
   "source": [
    "text = \"\"\"PAN CARDs\n",
    "        QWERT5678A\n",
    "        QWERT3456P\n",
    "        POIYU5678P\n",
    "        9988776655\n",
    "        1234567777\n",
    "        QWEKL9876L\n",
    "        \n",
    "        3456 7890 1234\"\"\"\n",
    "\n",
    "result = re.match(r'[A-Z]{5}\\d{4}[A-Z]',text)\n",
    "if result:\n",
    "    print('Match found')\n",
    "    print(result.group())\n",
    "    \n",
    "else:\n",
    "    print('No match found')"
   ]
  },
  {
   "cell_type": "code",
   "execution_count": 223,
   "id": "b6bb006f",
   "metadata": {},
   "outputs": [
    {
     "name": "stdout",
     "output_type": "stream",
     "text": [
      "Match found\n",
      "WER\n"
     ]
    }
   ],
   "source": [
    "text = \"\"\"WERTYU CARDs\n",
    "        QWERT5678A\n",
    "        QWERT3456P\n",
    "        POIYU5678P\n",
    "        9988776655\n",
    "        1234567777\n",
    "        QWEKL9876L\n",
    "        \n",
    "        3456 7890 1234\"\"\"\n",
    "\n",
    "result = re.match(r'[A-Z]{3}',text)\n",
    "if result:\n",
    "    print('Match found')\n",
    "    print(result.group())\n",
    "    \n",
    "else:\n",
    "    print('No match found')"
   ]
  },
  {
   "cell_type": "code",
   "execution_count": 224,
   "id": "66656064",
   "metadata": {},
   "outputs": [
    {
     "name": "stdout",
     "output_type": "stream",
     "text": [
      "No match found\n"
     ]
    }
   ],
   "source": [
    "text = \"\"\" python class\n",
    "        QWERT5678A\n",
    "        QWERT3456P\n",
    "        POIYU5678P\n",
    "        9988776655\n",
    "        1234567777\n",
    "        QWEKL9876L\n",
    "        \n",
    "        3456 7890 1234\"\"\"\n",
    "\n",
    "result = re.match(r'python',text)\n",
    "if result:\n",
    "    print('Match found')\n",
    "    print(result.group())\n",
    "    \n",
    "else:\n",
    "    print('No match found')"
   ]
  },
  {
   "cell_type": "markdown",
   "id": "af655ea6",
   "metadata": {},
   "source": [
    "#### 4) re.sub()\n",
    "It works as a replace function. Returns a new string with regular expression replaced with the replacement. \n",
    "\n",
    "`Syntax: re.sub(pattern, replacement, string)`"
   ]
  },
  {
   "cell_type": "code",
   "execution_count": 226,
   "id": "52e8db8f",
   "metadata": {},
   "outputs": [
    {
     "data": {
      "text/plain": [
       "'Python is an interdisciplinary field uses 45,678 scienctific methods'"
      ]
     },
     "execution_count": 226,
     "metadata": {},
     "output_type": "execute_result"
    }
   ],
   "source": [
    "string = \"\"\"Data science is an interdisciplinary field uses 45,678 scienctific methods\"\"\"\n",
    "string = string.replace('Data science', 'Python')\n",
    "string"
   ]
  },
  {
   "cell_type": "code",
   "execution_count": 227,
   "id": "f0f2b867",
   "metadata": {},
   "outputs": [
    {
     "name": "stdout",
     "output_type": "stream",
     "text": [
      "Data science is an interdisciplinary field uses +++++ scienctific methods\n"
     ]
    }
   ],
   "source": [
    "string = \"\"\"Data science is an interdisciplinary field uses 45678 scienctific methods\"\"\"\n",
    "new_string = re.sub('\\d','+', string)\n",
    "print(new_string)"
   ]
  },
  {
   "cell_type": "code",
   "execution_count": 228,
   "id": "35f79965",
   "metadata": {},
   "outputs": [
    {
     "name": "stdout",
     "output_type": "stream",
     "text": [
      "Datascienceisaninterdisciplinaryfieldusesscienctificmethods\n"
     ]
    }
   ],
   "source": [
    "string = \"\"\"Data science is an @#$%^ interdisciplinary field uses 45678 scienctific methods\"\"\"\n",
    "new_string = re.sub('[^A-Za-z]','', string)\n",
    "print(new_string)"
   ]
  },
  {
   "cell_type": "code",
   "execution_count": 229,
   "id": "164bc251",
   "metadata": {},
   "outputs": [
    {
     "name": "stdout",
     "output_type": "stream",
     "text": [
      "Data science is an       interdisciplinary field uses       scienctific methods\n"
     ]
    }
   ],
   "source": [
    "tring = \"\"\"Data science is an @#$%^ interdisciplinary field uses 45678 scienctific methods\"\"\"\n",
    "new_string = re.sub('[^A-Za-z]',' ', string)\n",
    "print(new_string)"
   ]
  },
  {
   "cell_type": "markdown",
   "id": "a555855a",
   "metadata": {},
   "source": [
    "__Characters with special meaning__"
   ]
  },
  {
   "cell_type": "markdown",
   "id": "ba906bc8",
   "metadata": {},
   "source": [
    "#### 1) '+' (Plus sign)\n",
    "- The resulting RE to match __`one or more occurance`__ of the preceding RE."
   ]
  },
  {
   "cell_type": "code",
   "execution_count": 231,
   "id": "02ade616",
   "metadata": {},
   "outputs": [
    {
     "data": {
      "text/plain": [
       "'Data science is the domain of study that deals with vast volumes of data using modern tools and techniques to find unseen patterns, derive meaningful information, and make business decisions. Data science uses complex machine learning algorithms to build predictive models.'"
      ]
     },
     "execution_count": 231,
     "metadata": {},
     "output_type": "execute_result"
    }
   ],
   "source": [
    "text = \"\"\"Data         science is the domain of       study that deals with     vast volumes of data using modern tools and \n",
    "techniques to find unseen patterns, derive meaningful     information, and     make business decisions.\n",
    "Data science uses complex machine learning algorithms to build predictive models.\"\"\"\n",
    "\n",
    "result = re.sub('\\s+', ' ',text)\n",
    "result"
   ]
  },
  {
   "cell_type": "code",
   "execution_count": 233,
   "id": "adf4c2c4",
   "metadata": {},
   "outputs": [
    {
     "data": {
      "text/plain": [
       "'Data science is the domain of study that deals with vast volumes of data using modern tools and techniques to find unseen patterns derive meaningful information and make business decisions Data science uses complex machine learning algorithms to build predictive models '"
      ]
     },
     "execution_count": 233,
     "metadata": {},
     "output_type": "execute_result"
    }
   ],
   "source": [
    "text = \"\"\"Data @#$$%^  science is the domain of study that deals with vast volumes of data using modern tools and \n",
    "techniques to find unseen patterns, derive meaningful ##$%^&  information, and make business decisions.\n",
    "Data science uses complex machine learning algorithms to build predictive models.\"\"\"\n",
    "\n",
    "result = re.sub('\\W+', ' ',text)\n",
    "result"
   ]
  },
  {
   "cell_type": "code",
   "execution_count": 234,
   "id": "3bf5482e",
   "metadata": {},
   "outputs": [
    {
     "data": {
      "text/plain": [
       "'Data science is the domain of study that deals with vast volumes of data using modern tools and techniques to find unseen patterns derive meaningful information and make business decisions Data science uses complex machine learning algorithms to build predictive models '"
      ]
     },
     "execution_count": 234,
     "metadata": {},
     "output_type": "execute_result"
    }
   ],
   "source": [
    "text = \"\"\"Data @#$$%^  science is the domain of study that deals with vast volumes of data using modern tools and \n",
    "techniques to find unseen patterns, derive meaningful ##$%^&  information, and make business decisions.\n",
    "Data science uses complex machine learning algorithms to build predictive models.\"\"\"\n",
    "\n",
    "result = re.sub('[^a-zA-Z0-9]+', ' ',text)\n",
    "result"
   ]
  },
  {
   "cell_type": "code",
   "execution_count": 235,
   "id": "5bba9924",
   "metadata": {},
   "outputs": [
    {
     "data": {
      "text/plain": [
       "['python', 'python']"
      ]
     },
     "execution_count": 235,
     "metadata": {},
     "output_type": "execute_result"
    }
   ],
   "source": [
    "text = 'python and data science pythonnnn pyttthon'\n",
    "result = re.findall('python',text)\n",
    "result"
   ]
  },
  {
   "cell_type": "code",
   "execution_count": 236,
   "id": "0b4caa46",
   "metadata": {},
   "outputs": [
    {
     "data": {
      "text/plain": [
       "['python', 'python', 'pyttthon']"
      ]
     },
     "execution_count": 236,
     "metadata": {},
     "output_type": "execute_result"
    }
   ],
   "source": [
    "text = 'python and data science pythonnnn pyttthon'\n",
    "result = re.findall('pyt+hon',text)\n",
    "result"
   ]
  },
  {
   "cell_type": "code",
   "execution_count": 237,
   "id": "10614845",
   "metadata": {},
   "outputs": [
    {
     "data": {
      "text/plain": [
       "['python', 'python', 'pyttthon', 'pyttthon']"
      ]
     },
     "execution_count": 237,
     "metadata": {},
     "output_type": "execute_result"
    }
   ],
   "source": [
    "text = 'python and data science pythonnnn pyttthon pyttthonnnnn'\n",
    "result = re.findall('pyt+hon',text)\n",
    "result"
   ]
  },
  {
   "cell_type": "markdown",
   "id": "855e0089",
   "metadata": {},
   "source": [
    "#### 2) '\\*' (star sign)\n",
    "-  The resulting RE to match __`zero or more occurances`__ of the preceding RE."
   ]
  },
  {
   "cell_type": "code",
   "execution_count": 238,
   "id": "e1a70117",
   "metadata": {},
   "outputs": [
    {
     "data": {
      "text/plain": [
       "['python', 'pyhon', 'pyttthon']"
      ]
     },
     "execution_count": 238,
     "metadata": {},
     "output_type": "execute_result"
    }
   ],
   "source": [
    "text = 'python and data science pyhonnnn pyttthon pyttthooonnnnn'\n",
    "result = re.findall('pyt*hon',text)\n",
    "result"
   ]
  },
  {
   "cell_type": "code",
   "execution_count": 239,
   "id": "5bb9af58",
   "metadata": {},
   "outputs": [
    {
     "data": {
      "text/plain": [
       "['python', 'pyhon', 'pyttthon', 'pyttthn']"
      ]
     },
     "execution_count": 239,
     "metadata": {},
     "output_type": "execute_result"
    }
   ],
   "source": [
    "text = 'python and data science pyhonnnn pyttthon pyttthnnnnn'\n",
    "result = re.findall('pyt*ho*n',text)\n",
    "result"
   ]
  },
  {
   "cell_type": "code",
   "execution_count": 240,
   "id": "12eb23d2",
   "metadata": {},
   "outputs": [
    {
     "data": {
      "text/plain": [
       "['python', 'pyhon', 'pytthhhhon']"
      ]
     },
     "execution_count": 240,
     "metadata": {},
     "output_type": "execute_result"
    }
   ],
   "source": [
    "text = 'python and data science pyhon  pytthhhhon'\n",
    "result = re.findall('pyt*h+on',text)\n",
    "result"
   ]
  },
  {
   "cell_type": "markdown",
   "id": "7ec511cd",
   "metadata": {},
   "source": [
    "#### 3) '.' (dot sign)\n",
    "- matches zero or more occurances of any character except a newline. But if the DOTALL flag has been specified, this matches any character including a newline."
   ]
  },
  {
   "cell_type": "code",
   "execution_count": 241,
   "id": "3a4fdad7",
   "metadata": {},
   "outputs": [
    {
     "data": {
      "text/plain": [
       "['python']"
      ]
     },
     "execution_count": 241,
     "metadata": {},
     "output_type": "execute_result"
    }
   ],
   "source": [
    "text = 'python and data science pyhon pytthhhhon'\n",
    "result = re.findall('py..on', text)\n",
    "result"
   ]
  },
  {
   "cell_type": "code",
   "execution_count": 242,
   "id": "a5824cd8",
   "metadata": {},
   "outputs": [
    {
     "data": {
      "text/plain": [
       "['science']"
      ]
     },
     "execution_count": 242,
     "metadata": {},
     "output_type": "execute_result"
    }
   ],
   "source": [
    "text = 'python and data science pyhon pytthhhhon pysuon'\n",
    "result = re.findall('sci..ce', text)\n",
    "result"
   ]
  },
  {
   "cell_type": "code",
   "execution_count": 243,
   "id": "834d9722",
   "metadata": {},
   "outputs": [
    {
     "data": {
      "text/plain": [
       "['python', 'pysuon']"
      ]
     },
     "execution_count": 243,
     "metadata": {},
     "output_type": "execute_result"
    }
   ],
   "source": [
    "text = 'python and data science pyhon pytthhhhon pysuon'\n",
    "result = re.findall('p...on', text)\n",
    "result"
   ]
  },
  {
   "cell_type": "code",
   "execution_count": 244,
   "id": "6b1ae116",
   "metadata": {},
   "outputs": [
    {
     "data": {
      "text/plain": [
       "['9812343030']"
      ]
     },
     "execution_count": 244,
     "metadata": {},
     "output_type": "execute_result"
    }
   ],
   "source": [
    "string = '8812345656 8812343030 9812343030 7812343030 8898763030 8823456700'\n",
    "result = re.findall('9.......30', string)\n",
    "result"
   ]
  },
  {
   "cell_type": "markdown",
   "id": "7585b9cd",
   "metadata": {},
   "source": [
    "#### 4) '?' (Question mark sign)\n",
    "- The resulting RE to match zero or one occurances of the preceding RE."
   ]
  },
  {
   "cell_type": "code",
   "execution_count": 245,
   "id": "0842af3d",
   "metadata": {},
   "outputs": [
    {
     "data": {
      "text/plain": [
       "['python', 'pyhon']"
      ]
     },
     "execution_count": 245,
     "metadata": {},
     "output_type": "execute_result"
    }
   ],
   "source": [
    "text  = 'python and data science pyhon pytthhhhon'\n",
    "result = re.findall('pyt?hon',text)\n",
    "result"
   ]
  },
  {
   "cell_type": "code",
   "execution_count": 249,
   "id": "c852d8c1",
   "metadata": {},
   "outputs": [
    {
     "data": {
      "text/plain": [
       "['python', 'pyhon', 'pytthon']"
      ]
     },
     "execution_count": 249,
     "metadata": {},
     "output_type": "execute_result"
    }
   ],
   "source": [
    "# Difference between '*', '+' and '?'\n",
    "\n",
    "text  = 'python and data science pyhon pytthon'\n",
    "result = re.findall('pyt*hon',text)\n",
    "result"
   ]
  },
  {
   "cell_type": "code",
   "execution_count": 246,
   "id": "d16b4150",
   "metadata": {},
   "outputs": [
    {
     "data": {
      "text/plain": [
       "['python', 'pyhon']"
      ]
     },
     "execution_count": 246,
     "metadata": {},
     "output_type": "execute_result"
    }
   ],
   "source": [
    "text  = 'python and data science pyhon pytthon'\n",
    "result = re.findall('pyt?hon',text)\n",
    "result"
   ]
  },
  {
   "cell_type": "code",
   "execution_count": 248,
   "id": "56d34f14",
   "metadata": {},
   "outputs": [
    {
     "data": {
      "text/plain": [
       "['python', 'pytthon']"
      ]
     },
     "execution_count": 248,
     "metadata": {},
     "output_type": "execute_result"
    }
   ],
   "source": [
    "text  = 'python and data science pyhon pytthon'\n",
    "result = re.findall('pyt+hon',text)\n",
    "result"
   ]
  },
  {
   "cell_type": "markdown",
   "id": "a73becc5",
   "metadata": {},
   "source": [
    "#### 5) '^' (Caret sign); startswith \n",
    "- matches at the beginning of string. Matches the start of the string, and in MULTILINE mode also matches immediately after each newline."
   ]
  },
  {
   "cell_type": "code",
   "execution_count": 251,
   "id": "9ab801f8",
   "metadata": {},
   "outputs": [
    {
     "data": {
      "text/plain": [
       "['8']"
      ]
     },
     "execution_count": 251,
     "metadata": {},
     "output_type": "execute_result"
    }
   ],
   "source": [
    "string = '8812345656 8812343030 9812343030 7812343030 8898763030 8823456700'\n",
    "result = re.findall('^8', string)\n",
    "result"
   ]
  },
  {
   "cell_type": "code",
   "execution_count": 252,
   "id": "7dffb0fd",
   "metadata": {},
   "outputs": [
    {
     "data": {
      "text/plain": [
       "['7']"
      ]
     },
     "execution_count": 252,
     "metadata": {},
     "output_type": "execute_result"
    }
   ],
   "source": [
    "string = '7812345656 8812345656 8812343030 9812343030 7812343030 8898763030 8823456700'\n",
    "result = re.findall('^\\d', string)\n",
    "result"
   ]
  },
  {
   "cell_type": "code",
   "execution_count": 253,
   "id": "0ea9dd41",
   "metadata": {},
   "outputs": [
    {
     "data": {
      "text/plain": [
       "['7']"
      ]
     },
     "execution_count": 253,
     "metadata": {},
     "output_type": "execute_result"
    }
   ],
   "source": [
    "string = '7812345656 8812345656 8812343030 9812343030 7812343030 8898763030 8823456700'\n",
    "result = re.findall('^[987]', string) # Caret is outside the square bracket\n",
    "result"
   ]
  },
  {
   "cell_type": "code",
   "execution_count": 254,
   "id": "998576dc",
   "metadata": {
    "collapsed": true
   },
   "outputs": [
    {
     "data": {
      "text/plain": [
       "['1',\n",
       " '2',\n",
       " '3',\n",
       " '4',\n",
       " '5',\n",
       " '6',\n",
       " '5',\n",
       " '6',\n",
       " ' ',\n",
       " '1',\n",
       " '2',\n",
       " '3',\n",
       " '4',\n",
       " '5',\n",
       " '6',\n",
       " '5',\n",
       " '6',\n",
       " ' ',\n",
       " '1',\n",
       " '2',\n",
       " '3',\n",
       " '4',\n",
       " '3',\n",
       " '0',\n",
       " '3',\n",
       " '0',\n",
       " ' ',\n",
       " '1',\n",
       " '2',\n",
       " '3',\n",
       " '4',\n",
       " '3',\n",
       " '0',\n",
       " '3',\n",
       " '0',\n",
       " ' ',\n",
       " '1',\n",
       " '2',\n",
       " '3',\n",
       " '4',\n",
       " '3',\n",
       " '0',\n",
       " '3',\n",
       " '0',\n",
       " ' ',\n",
       " '6',\n",
       " '3',\n",
       " '0',\n",
       " '3',\n",
       " '0',\n",
       " ' ',\n",
       " '2',\n",
       " '3',\n",
       " '4',\n",
       " '5',\n",
       " '6',\n",
       " '0',\n",
       " '0']"
      ]
     },
     "execution_count": 254,
     "metadata": {},
     "output_type": "execute_result"
    }
   ],
   "source": [
    "# difference\n",
    "\n",
    "string = '7812345656 8812345656 8812343030 9812343030 7812343030 8898763030 8823456700'\n",
    "result = re.findall('[^987]', string) # Caret is outside the square bracket\n",
    "result"
   ]
  },
  {
   "cell_type": "code",
   "execution_count": 255,
   "id": "c05b645e",
   "metadata": {},
   "outputs": [
    {
     "data": {
      "text/plain": [
       "['P']"
      ]
     },
     "execution_count": 255,
     "metadata": {},
     "output_type": "execute_result"
    }
   ],
   "source": [
    "string = 'Python and data science pyton pytthon'\n",
    "result = re.findall('^[a-zA-Z]', string)\n",
    "result"
   ]
  },
  {
   "cell_type": "code",
   "execution_count": 256,
   "id": "55a5635b",
   "metadata": {},
   "outputs": [
    {
     "data": {
      "text/plain": [
       "['Python']"
      ]
     },
     "execution_count": 256,
     "metadata": {},
     "output_type": "execute_result"
    }
   ],
   "source": [
    "string = 'Python and data science pyton pytthon'\n",
    "result = re.findall('^[a-zA-Z]{6}', string)\n",
    "result"
   ]
  },
  {
   "cell_type": "markdown",
   "id": "b94a5afc",
   "metadata": {},
   "source": [
    "#### 6) '$' (Dollar sign); endswith\n",
    "- matches at the end of the string, and just before the newline, and in MULTILINE mode also matches before a newline."
   ]
  },
  {
   "cell_type": "code",
   "execution_count": 257,
   "id": "4b97e8ee",
   "metadata": {},
   "outputs": [
    {
     "data": {
      "text/plain": [
       "['n']"
      ]
     },
     "execution_count": 257,
     "metadata": {},
     "output_type": "execute_result"
    }
   ],
   "source": [
    "string = 'Python and data science pyton pytthon'\n",
    "result = re.findall('n$', string)\n",
    "result"
   ]
  },
  {
   "cell_type": "code",
   "execution_count": 258,
   "id": "6378075b",
   "metadata": {},
   "outputs": [
    {
     "data": {
      "text/plain": [
       "['n']"
      ]
     },
     "execution_count": 258,
     "metadata": {},
     "output_type": "execute_result"
    }
   ],
   "source": [
    "string = 'Python and data science pyton pytthon'\n",
    "result = re.findall('[a-z]$', string)\n",
    "result"
   ]
  },
  {
   "cell_type": "code",
   "execution_count": 259,
   "id": "ee04208f",
   "metadata": {},
   "outputs": [
    {
     "data": {
      "text/plain": [
       "[]"
      ]
     },
     "execution_count": 259,
     "metadata": {},
     "output_type": "execute_result"
    }
   ],
   "source": [
    "string = '   Python and data science pyton pytthon 12345   '\n",
    "result = re.findall('[a-z0-9]$', string) # string is ending with whitespace character.\n",
    "result"
   ]
  },
  {
   "cell_type": "code",
   "execution_count": 264,
   "id": "472fa382",
   "metadata": {},
   "outputs": [
    {
     "data": {
      "text/plain": [
       "['5']"
      ]
     },
     "execution_count": 264,
     "metadata": {},
     "output_type": "execute_result"
    }
   ],
   "source": [
    "string = '   Python and data science pyton pytthon 12345   '\n",
    "string = string.strip() # using strip function to removee leadig and trailing spaces\n",
    "result = re.findall('[a-z0-9]$', string)\n",
    "result"
   ]
  },
  {
   "cell_type": "code",
   "execution_count": 265,
   "id": "f16d4411",
   "metadata": {},
   "outputs": [
    {
     "data": {
      "text/plain": [
       "['Data sc']"
      ]
     },
     "execution_count": 265,
     "metadata": {},
     "output_type": "execute_result"
    }
   ],
   "source": [
    "text = \"\"\"Data science is the domain of study that deals with vast volumes of data using modern \n",
    "tools and techniques to find unseen patterns\"\"\"\n",
    "result = re.findall('^D......', text)\n",
    "result"
   ]
  },
  {
   "cell_type": "code",
   "execution_count": 266,
   "id": "83feb6c6",
   "metadata": {},
   "outputs": [
    {
     "data": {
      "text/plain": [
       "['Data science is the domain of study that deals with vast volumes of data using modern ']"
      ]
     },
     "execution_count": 266,
     "metadata": {},
     "output_type": "execute_result"
    }
   ],
   "source": [
    "text = \"\"\"Data science is the domain of study that deals with vast volumes of data using modern \n",
    "tools and techniques to find unseen patterns\"\"\"\n",
    "result = re.findall('^D.*', text)\n",
    "result"
   ]
  },
  {
   "cell_type": "code",
   "execution_count": 267,
   "id": "b334a282",
   "metadata": {},
   "outputs": [
    {
     "data": {
      "text/plain": [
       "['Data science is the domain of study that deals with vast volumes of data using modern ']"
      ]
     },
     "execution_count": 267,
     "metadata": {},
     "output_type": "execute_result"
    }
   ],
   "source": [
    "text = \"\"\"Data science is the domain of study that deals with vast volumes of data using modern \n",
    "tools and techniques to find unseen patterns\"\"\"\n",
    "result = re.findall('^D.+', text)\n",
    "result"
   ]
  },
  {
   "cell_type": "markdown",
   "id": "cc7b2876",
   "metadata": {},
   "source": [
    "#### 7) '|' (Or sign)\n",
    "- A|B, creates a regular expression that will match either A or B."
   ]
  },
  {
   "cell_type": "code",
   "execution_count": 268,
   "id": "631c0e52",
   "metadata": {},
   "outputs": [
    {
     "data": {
      "text/plain": [
       "['Data', 'science']"
      ]
     },
     "execution_count": 268,
     "metadata": {},
     "output_type": "execute_result"
    }
   ],
   "source": [
    "text = \"\"\"Data science is the domain of study that deals with vast volumes of data using modern \n",
    "tools and techniques to find unseen patterns\"\"\"\n",
    "result = re.findall('Data|science', text) # 1 occurances\n",
    "result"
   ]
  },
  {
   "cell_type": "code",
   "execution_count": 273,
   "id": "3fce49b4",
   "metadata": {},
   "outputs": [
    {
     "data": {
      "text/plain": [
       "['Data', 'science', 'Data', 'science']"
      ]
     },
     "execution_count": 273,
     "metadata": {},
     "output_type": "execute_result"
    }
   ],
   "source": [
    "text = \"\"\"Data science is the domain of study that Data deals with vast volumes of science data using modern \n",
    "tools and techniques to find unseen patterns\"\"\"\n",
    "result = re.findall('Data|science', text) # 2 occurances\n",
    "result"
   ]
  },
  {
   "cell_type": "code",
   "execution_count": 274,
   "id": "93a08164",
   "metadata": {},
   "outputs": [
    {
     "data": {
      "text/plain": [
       "['Data', 'science', 'Data', 'science', '2345']"
      ]
     },
     "execution_count": 274,
     "metadata": {},
     "output_type": "execute_result"
    }
   ],
   "source": [
    "text = \"\"\"Data science is the domain of study that Data deals with vast volumes of science data using modern \n",
    "tools and techniques to find unseen patterns 2345\"\"\"\n",
    "result = re.findall('Data|science|2345', text)\n",
    "result"
   ]
  },
  {
   "cell_type": "code",
   "execution_count": 275,
   "id": "74f69f2d",
   "metadata": {},
   "outputs": [
    {
     "data": {
      "text/plain": [
       "['27-05-2022', '27/05/2022']"
      ]
     },
     "execution_count": 275,
     "metadata": {},
     "output_type": "execute_result"
    }
   ],
   "source": [
    "text = \"\"\"27-05-2022 and 27/05/2022\"\"\"\n",
    "result = re.findall('\\d{2}[-/]\\d{2}[-/]\\d{4}', text) # You can write in this way also\n",
    "result"
   ]
  },
  {
   "cell_type": "code",
   "execution_count": 276,
   "id": "fc5c72b7",
   "metadata": {},
   "outputs": [
    {
     "data": {
      "text/plain": [
       "['27-05-2022', '27/05/2022']"
      ]
     },
     "execution_count": 276,
     "metadata": {},
     "output_type": "execute_result"
    }
   ],
   "source": [
    "text = \"\"\"27-05-2022 and 27/05/2022\"\"\"\n",
    "result = re.findall(r'\\b\\d{2}[-]\\d{2}[-]\\d{4}\\b|\\d{2}[/]\\d{2}[/]\\d{4}', text)\n",
    "result"
   ]
  },
  {
   "cell_type": "code",
   "execution_count": 278,
   "id": "c40ff6e9",
   "metadata": {},
   "outputs": [
    {
     "data": {
      "text/plain": [
       "['27-05-2022', '27/05/2022', '27 May 2022']"
      ]
     },
     "execution_count": 278,
     "metadata": {},
     "output_type": "execute_result"
    }
   ],
   "source": [
    "text = \"\"\"27-05-2022 and 27/05/2022, '27 May 2022'\"\"\"\n",
    "result = re.findall(r'\\b\\d{2}[-/]\\d{2}[-/]\\d{4}\\b|\\d{2}[ ][A-Za-z]{3}[ ]\\d{4}', text) # You can give as many patterns I want using or\n",
    "result"
   ]
  },
  {
   "cell_type": "markdown",
   "id": "990fa383",
   "metadata": {},
   "source": [
    "__.group()__"
   ]
  },
  {
   "cell_type": "code",
   "execution_count": 279,
   "id": "a19af216",
   "metadata": {},
   "outputs": [
    {
     "data": {
      "text/plain": [
       "'batwoman'"
      ]
     },
     "execution_count": 279,
     "metadata": {},
     "output_type": "execute_result"
    }
   ],
   "source": [
    "text = ' batwoman and batman'\n",
    "result = re.search('bat(wo)?man', text)\n",
    "result.group()"
   ]
  },
  {
   "cell_type": "markdown",
   "id": "3121b033",
   "metadata": {},
   "source": [
    "#### 5) re.split()\n",
    "- Split string by the occurrences of pattern or splits string 'B' into a list using the delimiter 'A'\n",
    "\n",
    "`Syntax: re.split(pattern,string,maxsplit=0)`"
   ]
  },
  {
   "cell_type": "code",
   "execution_count": 280,
   "id": "5102064d",
   "metadata": {},
   "outputs": [
    {
     "name": "stdout",
     "output_type": "stream",
     "text": [
      "['Data', 'science', 'is', 'the', 'domain', 'of', 'study', 'that', 'Data', 'deals', 'with', 'vast', 'volumes', 'of', 'science', 'data', 'using', 'modern', 'tools', 'and', 'techniques', 'to', 'find', 'unseen', 'patterns', '2345', '1234']\n"
     ]
    }
   ],
   "source": [
    "text = \"\"\"Data science is the domain of study that Data deals with vast volumes of science data using modern \n",
    "tools and techniques to find unseen patterns 2345 1234\"\"\"\n",
    "list1 = text.split()\n",
    "print(list1)"
   ]
  },
  {
   "cell_type": "code",
   "execution_count": 282,
   "id": "8ec62098",
   "metadata": {},
   "outputs": [
    {
     "name": "stdout",
     "output_type": "stream",
     "text": [
      "['Data science ', ' is the domain of study that Data deals with vast volumes of science data using modern \\ntools and techniques to find unseen patterns 2345 ', '234']\n"
     ]
    }
   ],
   "source": [
    "text = \"\"\"Data science 1 is the domain of study that Data deals with vast volumes of science data using modern \n",
    "tools and techniques to find unseen patterns 2345 1234\"\"\"\n",
    "list1 = text.split('1')\n",
    "print(list1)"
   ]
  },
  {
   "cell_type": "code",
   "execution_count": 281,
   "id": "ec031850",
   "metadata": {},
   "outputs": [
    {
     "name": "stdout",
     "output_type": "stream",
     "text": [
      "['python ', ' and ', ' data science']\n"
     ]
    }
   ],
   "source": [
    "text = \"\"\"python A and B data science\"\"\"\n",
    "list1 = re.split('[A-Z]',text)\n",
    "print(list1)"
   ]
  },
  {
   "cell_type": "code",
   "execution_count": 283,
   "id": "4e140bd5",
   "metadata": {},
   "outputs": [
    {
     "name": "stdout",
     "output_type": "stream",
     "text": [
      "['99', '33', '44', '12', '34', '67', '51']\n"
     ]
    }
   ],
   "source": [
    "text = \"\"\"99,33,44,12-34-67-51\"\"\"\n",
    "list1 = re.split('[,-]',text)\n",
    "print(list1)"
   ]
  },
  {
   "cell_type": "code",
   "execution_count": 284,
   "id": "cc025e75",
   "metadata": {},
   "outputs": [
    {
     "name": "stdout",
     "output_type": "stream",
     "text": [
      "['99', '33', '44', '12', '34', '67', '51']\n"
     ]
    }
   ],
   "source": [
    "text = \"\"\"99,33,44,12-34-67-51\"\"\"\n",
    "list1 = re.split(',|-',text)\n",
    "print(list1)"
   ]
  },
  {
   "cell_type": "markdown",
   "id": "03d80f32",
   "metadata": {},
   "source": [
    "#### 6) re.compile()\n",
    "Compile a regular expression pattern into a regular expression object, which can be used for matching using its match(), search() and other methods.\n",
    "\n",
    "`Syntax: re.compile(pattern)`"
   ]
  },
  {
   "cell_type": "code",
   "execution_count": 285,
   "id": "62b630bd",
   "metadata": {},
   "outputs": [
    {
     "data": {
      "text/plain": [
       "['123-456-9876']"
      ]
     },
     "execution_count": 285,
     "metadata": {},
     "output_type": "execute_result"
    }
   ],
   "source": [
    "string5 = '2123-456-9876'\n",
    "result = re.findall('\\d{3}[-]\\d{3}[-]\\d{4}',string5)\n",
    "result"
   ]
  },
  {
   "cell_type": "code",
   "execution_count": 286,
   "id": "da0f8eb4",
   "metadata": {},
   "outputs": [
    {
     "data": {
      "text/plain": [
       "'123-456-9876'"
      ]
     },
     "execution_count": 286,
     "metadata": {},
     "output_type": "execute_result"
    }
   ],
   "source": [
    "pattern = re.compile('(\\d{3}[-])?\\d{3}[-]\\d{4}')\n",
    "string1 = '123-456-9876'\n",
    "result = pattern.search(string1)\n",
    "result.group()"
   ]
  },
  {
   "cell_type": "code",
   "execution_count": 287,
   "id": "b933e666",
   "metadata": {},
   "outputs": [],
   "source": [
    "string1 = '123-456-9876'\n",
    "string2 = '456-9876'\n",
    "string3 = '123-9876'\n",
    "string4 = '567-456-9876'\n",
    "string5 = '2123-456-9876'\n",
    "string6 = '123-456-9876'"
   ]
  },
  {
   "cell_type": "code",
   "execution_count": 288,
   "id": "1c4e3730",
   "metadata": {},
   "outputs": [],
   "source": [
    "pattern = re.compile('(\\d{3}[-])?\\d{3}[-]\\d{4}')"
   ]
  },
  {
   "cell_type": "code",
   "execution_count": 289,
   "id": "5e762ec5",
   "metadata": {},
   "outputs": [
    {
     "name": "stdout",
     "output_type": "stream",
     "text": [
      "123-456-9876\n",
      "456-9876\n",
      "123-9876\n",
      "567-456-9876\n",
      "123-456-9876\n",
      "123-456-9876\n"
     ]
    }
   ],
   "source": [
    "result1 = pattern.search(string1)\n",
    "result2 = pattern.search(string2)\n",
    "result3 = pattern.search(string3)\n",
    "result4 = pattern.search(string4)\n",
    "result5 = pattern.search(string5)\n",
    "result6 = pattern.search(string6)\n",
    "\n",
    "print(result1.group())\n",
    "print(result2.group())\n",
    "print(result3.group())\n",
    "print(result4.group())\n",
    "print(result5.group())\n",
    "print(result6.group())"
   ]
  },
  {
   "cell_type": "code",
   "execution_count": 290,
   "id": "16aed9fc",
   "metadata": {},
   "outputs": [],
   "source": [
    "# For example\n",
    "\n",
    "# prog = re.compile(pattern) # We can use this again and again\n",
    "# result = prog.match(string)\n",
    "\n",
    "# Which is equivalent to\n",
    "# result = re.match(pattern, string) "
   ]
  }
 ],
 "metadata": {
  "kernelspec": {
   "display_name": "Python 3 (ipykernel)",
   "language": "python",
   "name": "python3"
  },
  "language_info": {
   "codemirror_mode": {
    "name": "ipython",
    "version": 3
   },
   "file_extension": ".py",
   "mimetype": "text/x-python",
   "name": "python",
   "nbconvert_exporter": "python",
   "pygments_lexer": "ipython3",
   "version": "3.9.12"
  }
 },
 "nbformat": 4,
 "nbformat_minor": 5
}
