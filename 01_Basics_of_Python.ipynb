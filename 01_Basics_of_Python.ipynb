{
 "cells": [
  {
   "cell_type": "markdown",
   "id": "4c91968a",
   "metadata": {},
   "source": [
    "__Introduction:__\n",
    "- Python was developed by Guido van Rossum, and released in 1991. Python was named on ‘Monty Python's Flying Circus’ a comedy series created by the comedy group Monty Python.\n",
    "- It is a general-purpose programming language that also works nicely as a scripting language.\n",
    "- It is a high level interpreted programming language, which means the source code of python does not need compilation like other languages. Source code of python directly gets converted to binary format at the time of writing code.\n",
    "- It is dynamically typed language, which means the type for a variable is decided at the run time only, we do not have to specify the type of a variable.\n",
    "\n",
    "__Interpreter:__ Interpreter is a layer of software logic between your code and the computer hardware on your machine.\n",
    "\n",
    "__Advantages/Features of Python:__\n",
    "- Easy to code, high level programming language, uses clear and readable syntax\n",
    "- Free & open source, with huge global community\n",
    "- Portable (works on different platforms and operating systems)\n",
    "- Extensive support libraries which provide modules suited for different tasks like automation, web scrapping, text processing, image processing, machine learning, data analytics etc.\n",
    "- Supports GUI (Graphical user interface) applications and has framework for web\n",
    "\n",
    "__Disadvanategs of python:__\n",
    "- Poor Memory Efficiency: Python needs a lot of memory space, this can be a disadvantage when we want to develop memory optimised apps.\n",
    "- Slow Speed: As python code executes line by line and due poor memory efficiency, the execution speed becomes slow\n",
    "- Weak in Mobile computing: Due to its high memory usage and slow speed, it is generally not used for frontend programming or mobile app development. It is used for backdend programming.\n",
    "- Runtime Errors: As it is a dynamically typed language, The data types of variables in Python can change suddenly. A variable holding a string may contain an integer later, and this can lead to runtime errors.\n",
    "\n",
    "__Shortkeys:__\n",
    "(https://github.com/omkarfadtare/CheatSheets.git)\n",
    "\n",
    "- (ctrl+a, ctrl+c/ctrl+x, ctrl+v): select all, copy, paste\n",
    "- (esc+z, esc+a): undo, redo\n",
    "- (alt+enter): run cell and enter below\n",
    "- (ctrl+enter): run the cell\n",
    "- (esc+a): insert cell above\n",
    "- (esc+b): insert cell below\n",
    "- (esc+y: change cell to code\n",
    "- (esc+m): change cell to markdown\n",
    "- (tab): auto-complete\n",
    "- (shift+tab): for showing documentation of command \n",
    "\n",
    "__Memory allocation in Python:__\n",
    "- In C or other languages, memory management is the responsibility of the programmer. A programmer has to manually allocate memory before it can be used by the program and release it when the program no longer needs it.\n",
    "- In Python, memory management or the allocation and deallocation of memory is an automatic process.\n",
    "- In C language, 'malloc' method is used to request a block of memory from the operating system at run-time, whereas 'free' method is used to free or release memory allocated to the program back to the operating system when the program no longer needs it.\n",
    "- The implementation of the Python language in C is called 'CPython'. CPython is the default and most widely used implementation of the Python language.\n",
    "- When a Python (CPython) program needs memory, CPython internally calls the malloc method to allocate it and free method to release it when the program is no longer needs the memory.\n",
    "- Everything in Python such as classes, functions, and even simple data types like integers, floats, and strings, are objects. - When we define an integer in a Python, CPython internally creates an object of type integer. These objects are stored in heap memory.\n",
    "- Variables in Python are just references to the actual object in memory. They are just like names or labels that point to the actual object in memory, they do not store any value.\n",
    "- There are two types of memory allocation in Python, that is static and dynamic memory allocation.\n",
    "- __`Stack memory:`__ Static memory allocation uses stack data structures in its implementation. We can not use memory allocated in the stack memory. Variables assigned with the static memory are permanant. \n",
    "- __`Heap memory:`__ Dynamic memory allocation uses heap data structures in its implementation. We can resue memory allocated in heap memory.\n",
    "- __`Garbage collection:`__ is defined as the process of reclamation or release of allocated memory when it is no longer needed by the program.\n",
    "- The Python garbage collector handles memory allocation and deallocation automatically. \n",
    "- The garbage collector (GC) operates in the background and is triggered when the reference count reaches zero.\n",
    "- The reference count rises when the following occur:\n",
    "  - An object is given a new name\n",
    "  - An object is placed in a container, such as a tuple or a dictionary\n",
    "- The reference count lowers when the following occurs:\n",
    "  - An object’s reference is reassigned\n",
    "  - An object’s reference moves out of scope\n",
    "  - An object is removed\n",
    "  \n",
    "__PyObject concept in python:__ It is a object data structure used to define object type\n",
    "- In python, var = 10 and temp = 10 will have same id, whereas var = 10 and var = 20 will have different id\n",
    "- In java var = 10 and temp = 10 will have different id, whereas var = 10 and var = 20 will have same id"
   ]
  },
  {
   "cell_type": "markdown",
   "id": "89aee100",
   "metadata": {},
   "source": [
    "__Indentation:__ Indentation refers to an empty space at the beginning of line. Helps to understand interpreter the block of code for a specific function."
   ]
  },
  {
   "cell_type": "code",
   "execution_count": 1,
   "id": "e5de502f",
   "metadata": {},
   "outputs": [
    {
     "data": {
      "text/plain": [
       "40"
      ]
     },
     "execution_count": 1,
     "metadata": {},
     "output_type": "execute_result"
    }
   ],
   "source": [
    "def addition(a,b):\n",
    "    addition = a + b\n",
    "    return addition\n",
    "addition(10,30)"
   ]
  },
  {
   "cell_type": "markdown",
   "id": "0cb60792",
   "metadata": {},
   "source": [
    "__Comments:__ Comments are the lines in the code that are ignored by the compiler/interpreter during the execution of the program/code. We use comments or markdown for the better understanding of our code."
   ]
  },
  {
   "cell_type": "code",
   "execution_count": 2,
   "id": "a38f15fb",
   "metadata": {},
   "outputs": [
    {
     "data": {
      "text/plain": [
       "\" Artificial intelligence (AI) is a wide-ranging tool that enables people to rethink how we integrate information,\\nanalyze data, and use the resulting insights to improve decision making—and already it is transforming every walk of life.\\nIn this report, Darrell West and John Allen discuss AI's application across a variety of sectors,\\naddress issues in its development, and offer recommendations for getting the most out of AI\\nwhile still protecting important human values. \""
      ]
     },
     "execution_count": 2,
     "metadata": {},
     "output_type": "execute_result"
    }
   ],
   "source": [
    "# Comment- '#' Key- (ctrl+?/)\n",
    "\n",
    "# In a professional way it is used to add below details to the code:\n",
    "# to add name of project-\n",
    "# to add developer name-\n",
    "# to add date of start-\n",
    "# to add purpose-\n",
    "# to additional requirements-\n",
    "# to add date of end-\n",
    "\n",
    "# There are two ways to use comments-\n",
    "# 1) Single line comment: use # key\n",
    "# 2) Multi-line comments: select the number of lines you want as comments and press(ctrl+?/)\n",
    "\n",
    "# There is also another way for multi-line comments (You can use single single quote or double quote as well)\n",
    "# For example-\n",
    "# '''\n",
    "\n",
    "# '''\n",
    "\n",
    "# Multi-line comments\n",
    "\n",
    "''' Artificial intelligence (AI) is a wide-ranging tool that enables people to rethink how we integrate information,\n",
    "analyze data, and use the resulting insights to improve decision making—and already it is transforming every walk of life.\n",
    "In this report, Darrell West and John Allen discuss AI's application across a variety of sectors,\n",
    "address issues in its development, and offer recommendations for getting the most out of AI\n",
    "while still protecting important human values.'''\n",
    "\n",
    "\"\"\" Artificial intelligence (AI) is a wide-ranging tool that enables people to rethink how we integrate information,\n",
    "analyze data, and use the resulting insights to improve decision making—and already it is transforming every walk of life.\n",
    "In this report, Darrell West and John Allen discuss AI's application across a variety of sectors,\n",
    "address issues in its development, and offer recommendations for getting the most out of AI\n",
    "while still protecting important human values. \"\"\""
   ]
  },
  {
   "cell_type": "markdown",
   "id": "f4aac85c",
   "metadata": {},
   "source": [
    "__Printing methods of a string__\n",
    "- f'string method: is introduced in Python 2.6 version\n",
    "- format string method"
   ]
  },
  {
   "cell_type": "code",
   "execution_count": 1,
   "id": "510e6f63",
   "metadata": {},
   "outputs": [
    {
     "name": "stdout",
     "output_type": "stream",
     "text": [
      "Addition of 10 and 2 is : 12\n"
     ]
    }
   ],
   "source": [
    "a = 10\n",
    "b = 2\n",
    "addition = a+b\n",
    "print(\"Addition of\",a,\"and\",b,\"is :\",addition)"
   ]
  },
  {
   "cell_type": "code",
   "execution_count": 12,
   "id": "08e16efc",
   "metadata": {},
   "outputs": [
    {
     "name": "stdout",
     "output_type": "stream",
     "text": [
      "Addition of total marks obtained in 40 and 46 is 86\n"
     ]
    }
   ],
   "source": [
    "# 1) f' string-\n",
    "\n",
    "English = 40\n",
    "Math = 46\n",
    "add = English + Math\n",
    "print(f'Addition of total marks obtained in {English} and {Math} is {add}')"
   ]
  },
  {
   "cell_type": "code",
   "execution_count": 13,
   "id": "094d8ad1",
   "metadata": {},
   "outputs": [
    {
     "name": "stdout",
     "output_type": "stream",
     "text": [
      "Addition of total marks obtained in 40 and 46 is 86\n"
     ]
    }
   ],
   "source": [
    "# 2) format string-\n",
    "\n",
    "English = 40\n",
    "Math = 46\n",
    "add = English + Math\n",
    "print('Addition of total marks obtained in {} and {} is {}'.format(English,Math,add))"
   ]
  },
  {
   "cell_type": "code",
   "execution_count": 14,
   "id": "bf1fe632",
   "metadata": {},
   "outputs": [
    {
     "name": "stdout",
     "output_type": "stream",
     "text": [
      "Addition of 40 and 46 is 86\n"
     ]
    }
   ],
   "source": [
    "print('Addition of {0} and {1} is {2}'.format(English,Math,add))"
   ]
  },
  {
   "cell_type": "code",
   "execution_count": 8,
   "id": "e4eab76a",
   "metadata": {},
   "outputs": [],
   "source": [
    "# Things to remember-\n",
    "# Order of arguments should be correct else it will print wrong statement.\n",
    "# Number of arguments should be equal to curly brackets used."
   ]
  },
  {
   "cell_type": "markdown",
   "id": "00e70191",
   "metadata": {},
   "source": [
    "#### Variables\n",
    "Variables are something which stores data."
   ]
  },
  {
   "cell_type": "code",
   "execution_count": 33,
   "id": "ed8bbce6",
   "metadata": {},
   "outputs": [],
   "source": [
    "# Things to remember while using variable names:\n",
    "\n",
    "# 1) meaningful name should be given as variable's name.\n",
    "# 2) predefined keywords should not be used as variable's name.\n",
    "# 3) variable's name should not start with numbers.\n",
    "# 4) uppercase characters, lowercase characters, under-score, using numbers in between the variable name is OK.\n",
    "# 5) variable's name should not contain special characters.\n",
    "# 6) variable's name should not contain spaces."
   ]
  },
  {
   "cell_type": "code",
   "execution_count": 1,
   "id": "3378e223",
   "metadata": {
    "scrolled": true
   },
   "outputs": [
    {
     "name": "stdout",
     "output_type": "stream",
     "text": [
      "\n",
      "Here is a list of the Python keywords.  Enter any keyword to get more help.\n",
      "\n",
      "False               break               for                 not\n",
      "None                class               from                or\n",
      "True                continue            global              pass\n",
      "__peg_parser__      def                 if                  raise\n",
      "and                 del                 import              return\n",
      "as                  elif                in                  try\n",
      "assert              else                is                  while\n",
      "async               except              lambda              with\n",
      "await               finally             nonlocal            yield\n",
      "\n"
     ]
    }
   ],
   "source": [
    "# Pre-defined keywords in python-\n",
    "\n",
    "help('keywords')"
   ]
  },
  {
   "cell_type": "code",
   "execution_count": 4,
   "id": "b6d4b941",
   "metadata": {},
   "outputs": [],
   "source": [
    "# Python is a case sensitive language # All these three variable have same spelling but they are different from each other\n",
    "\n",
    "Omkar = 'python'\n",
    "oMkar = 'data science'\n",
    "omkaR = 'machine learning'"
   ]
  },
  {
   "cell_type": "code",
   "execution_count": 6,
   "id": "ec04d073",
   "metadata": {},
   "outputs": [
    {
     "name": "stdout",
     "output_type": "stream",
     "text": [
      "python\n",
      "data science\n",
      "machine learning\n"
     ]
    }
   ],
   "source": [
    "print(Omkar)\n",
    "print(oMkar)\n",
    "print(omkaR)"
   ]
  },
  {
   "cell_type": "markdown",
   "id": "1586e33c",
   "metadata": {},
   "source": [
    "#### Types of variables"
   ]
  },
  {
   "cell_type": "code",
   "execution_count": 1,
   "id": "77817cd4",
   "metadata": {},
   "outputs": [],
   "source": [
    "# 1) Global Variables : Variables which are defined outside the function and can be used throughout the main program and user defined function as well.\n",
    "# 2) Local Variables : Variables which are defined inside the function and can only be used within user defined function only."
   ]
  },
  {
   "cell_type": "code",
   "execution_count": 2,
   "id": "a37ff598",
   "metadata": {},
   "outputs": [
    {
     "name": "stdout",
     "output_type": "stream",
     "text": [
      "Inside user defined function 20\n",
      "Outside user defined function 20\n"
     ]
    }
   ],
   "source": [
    "a = 20 # Global variable (Can be used throughout the main program and user defined function as well)\n",
    "\n",
    "def display():\n",
    "    print('Inside user defined function', a)\n",
    "display()\n",
    "\n",
    "print('Outside user defined function', a)"
   ]
  },
  {
   "cell_type": "code",
   "execution_count": 3,
   "id": "f7674dfd",
   "metadata": {},
   "outputs": [
    {
     "name": "stdout",
     "output_type": "stream",
     "text": [
      "Inside user defined function 20\n",
      "Local variable 30\n",
      "Outside user defined function 20\n"
     ]
    }
   ],
   "source": [
    "a = 20 # Global variable (Can be used throughout the main program and user defined function as well)\n",
    "\n",
    "def display():\n",
    "    b = 30 # Local variable (Can only be used within user defined function only)\n",
    "    print('Inside user defined function', a)\n",
    "    print('Local variable', b)\n",
    "display()\n",
    "\n",
    "print('Outside user defined function', a)\n",
    "# print('Local variable', b) -> this will raise an error since b is not a global variable."
   ]
  },
  {
   "cell_type": "code",
   "execution_count": 4,
   "id": "c681cca2",
   "metadata": {},
   "outputs": [
    {
     "name": "stdout",
     "output_type": "stream",
     "text": [
      "global 10\n",
      "local 20\n",
      "local 40\n",
      "global 10\n"
     ]
    }
   ],
   "source": [
    "a = 10\n",
    "def display():\n",
    "    b = 20\n",
    "    print('global',a)\n",
    "    print('local',b)\n",
    "display()\n",
    "c = 40\n",
    "print('local',c)\n",
    "print('global',a)"
   ]
  },
  {
   "cell_type": "code",
   "execution_count": 6,
   "id": "de60918b",
   "metadata": {},
   "outputs": [
    {
     "name": "stdout",
     "output_type": "stream",
     "text": [
      "20\n",
      "local 40\n",
      "global 10\n"
     ]
    }
   ],
   "source": [
    "a = 10\n",
    "def display():\n",
    "    a = 20 \n",
    "    print(a) # a will be printed as 20, because if local and global variables have same name, first preference will be given to local variable.\n",
    "display()\n",
    "c = 40\n",
    "print('local',c)\n",
    "print('global',a)"
   ]
  },
  {
   "cell_type": "code",
   "execution_count": 7,
   "id": "1831f2c6",
   "metadata": {},
   "outputs": [
    {
     "name": "stdout",
     "output_type": "stream",
     "text": [
      "20\n",
      "40\n",
      "60\n"
     ]
    }
   ],
   "source": [
    "a = 10 \n",
    "c = 20\n",
    "def display():\n",
    "    a = 20 # Values defined within the function will be limited to that function only.\n",
    "    print(a)\n",
    "display()\n",
    "a = 40 # Latest value of a is considered \n",
    "print(a)\n",
    "d = a+c # 40+20 both local variables\n",
    "print(d)"
   ]
  },
  {
   "cell_type": "code",
   "execution_count": 8,
   "id": "0e415884",
   "metadata": {},
   "outputs": [
    {
     "name": "stdout",
     "output_type": "stream",
     "text": [
      "20\n",
      "10\n"
     ]
    }
   ],
   "source": [
    "# We can make a local variable to act as a global variable using below method.\n",
    "\n",
    "def multiplication():\n",
    "    global a\n",
    "    a = 10\n",
    "    z = 2\n",
    "    multiplication = a*z\n",
    "    print(multiplication)\n",
    "multiplication() # output will be 20 since both 'a' and 'b' acted as a local variable\n",
    "\n",
    "# To cross check whether a is working as a global variable also\n",
    "print(a) # Yup! It works\n",
    "# print(z) # Nope! It wont acting as a global variable since we didnt make it globle variable."
   ]
  },
  {
   "cell_type": "markdown",
   "id": "b0d71258",
   "metadata": {},
   "source": [
    "#### DataTypes"
   ]
  },
  {
   "cell_type": "code",
   "execution_count": 9,
   "id": "3ad12bed",
   "metadata": {},
   "outputs": [],
   "source": [
    "# There are mainly 4 datatypes\n",
    "\n",
    "# 1) String (str)- \"Omkar\"\n",
    "# 2) Integer (int)- 10,2,23,4\n",
    "# 3) Float (float)- 10.2,23.2,4.5,4.0\n",
    "# 4) Complex numbers (complex)- 2+3j, 10+ 4j (0)\n",
    "# 5) Boolean datatype (bool)- True, False"
   ]
  },
  {
   "cell_type": "code",
   "execution_count": 7,
   "id": "45b61255",
   "metadata": {},
   "outputs": [],
   "source": [
    "# Sequential Data types (Collection of one or more elements)\n",
    "\n",
    "# 1) List- denoted by square brackets []\n",
    "# 2) Tuple- denoted by round brackets ()\n",
    "# 3) Set- denoted by curly brackets {}\n",
    "# 4) Dictionary- also denoted by curly brackets {keys:values}"
   ]
  },
  {
   "cell_type": "code",
   "execution_count": 10,
   "id": "265a68be",
   "metadata": {},
   "outputs": [],
   "source": [
    "# Doubt??\n",
    "# Why 'j' instead of 'i'?\n",
    "# reason- This 'i' letter convention is already used\n",
    "# 1) In electrical, the leter i is used to denote current.\n",
    "# 2) In computing, the letter i is often used for the indexing variable in loops.\n",
    "# 3) The letter i can be easily confused with l or 1 in source code."
   ]
  },
  {
   "cell_type": "markdown",
   "id": "169bfac4",
   "metadata": {},
   "source": [
    "#### Duck-typing\n",
    "returns the type of the variable"
   ]
  },
  {
   "cell_type": "code",
   "execution_count": 11,
   "id": "219b69cd",
   "metadata": {},
   "outputs": [
    {
     "data": {
      "text/plain": [
       "str"
      ]
     },
     "execution_count": 11,
     "metadata": {},
     "output_type": "execute_result"
    }
   ],
   "source": [
    "# String\n",
    "\n",
    "a = \"Omkar\"\n",
    "type(a)"
   ]
  },
  {
   "cell_type": "code",
   "execution_count": 12,
   "id": "bf52421d",
   "metadata": {},
   "outputs": [
    {
     "data": {
      "text/plain": [
       "int"
      ]
     },
     "execution_count": 12,
     "metadata": {},
     "output_type": "execute_result"
    }
   ],
   "source": [
    "# Integer\n",
    "\n",
    "b = 10\n",
    "type(b)"
   ]
  },
  {
   "cell_type": "code",
   "execution_count": 13,
   "id": "2d81f165",
   "metadata": {},
   "outputs": [
    {
     "data": {
      "text/plain": [
       "float"
      ]
     },
     "execution_count": 13,
     "metadata": {},
     "output_type": "execute_result"
    }
   ],
   "source": [
    "# Float\n",
    "\n",
    "c = 10.2\n",
    "type(c)"
   ]
  },
  {
   "cell_type": "code",
   "execution_count": 5,
   "id": "10a78d61",
   "metadata": {},
   "outputs": [
    {
     "data": {
      "text/plain": [
       "3.142857142857143"
      ]
     },
     "execution_count": 5,
     "metadata": {},
     "output_type": "execute_result"
    }
   ],
   "source": [
    "j = 22/7\n",
    "j"
   ]
  },
  {
   "cell_type": "code",
   "execution_count": 6,
   "id": "d38ddba3",
   "metadata": {},
   "outputs": [],
   "source": [
    "# round-off \n",
    "\n",
    "j = round(j,3)"
   ]
  },
  {
   "cell_type": "code",
   "execution_count": 7,
   "id": "3a925cfa",
   "metadata": {},
   "outputs": [
    {
     "data": {
      "text/plain": [
       "3.143"
      ]
     },
     "execution_count": 7,
     "metadata": {},
     "output_type": "execute_result"
    }
   ],
   "source": [
    "j"
   ]
  },
  {
   "cell_type": "code",
   "execution_count": 14,
   "id": "54901348",
   "metadata": {},
   "outputs": [
    {
     "data": {
      "text/plain": [
       "complex"
      ]
     },
     "execution_count": 14,
     "metadata": {},
     "output_type": "execute_result"
    }
   ],
   "source": [
    "# Complex number- (real + imaginary), Can be +ve, -ve\n",
    "\n",
    "d = 2+3j\n",
    "type(d)"
   ]
  },
  {
   "cell_type": "code",
   "execution_count": 3,
   "id": "01dcda90",
   "metadata": {},
   "outputs": [
    {
     "data": {
      "text/plain": [
       "(2+3j)"
      ]
     },
     "execution_count": 3,
     "metadata": {},
     "output_type": "execute_result"
    }
   ],
   "source": [
    "p = complex(2,3)\n",
    "p"
   ]
  },
  {
   "cell_type": "code",
   "execution_count": 15,
   "id": "9eddf7d5",
   "metadata": {},
   "outputs": [
    {
     "data": {
      "text/plain": [
       "bool"
      ]
     },
     "execution_count": 15,
     "metadata": {},
     "output_type": "execute_result"
    }
   ],
   "source": [
    "# Boolean\n",
    "\n",
    "e = True\n",
    "type(e)"
   ]
  },
  {
   "cell_type": "markdown",
   "id": "745961d5",
   "metadata": {},
   "source": [
    "#### Typecasting\n",
    "refers to changing the datatype of variables."
   ]
  },
  {
   "cell_type": "code",
   "execution_count": 16,
   "id": "96e84dd4",
   "metadata": {},
   "outputs": [
    {
     "data": {
      "text/plain": [
       "int"
      ]
     },
     "execution_count": 16,
     "metadata": {},
     "output_type": "execute_result"
    }
   ],
   "source": [
    "# int to float and string\n",
    "\n",
    "var_int = 10\n",
    "type(var_int)"
   ]
  },
  {
   "cell_type": "code",
   "execution_count": 17,
   "id": "e7dd28f6",
   "metadata": {},
   "outputs": [
    {
     "data": {
      "text/plain": [
       "float"
      ]
     },
     "execution_count": 17,
     "metadata": {},
     "output_type": "execute_result"
    }
   ],
   "source": [
    "var_float = float(var_int)\n",
    "type(var_float)"
   ]
  },
  {
   "cell_type": "code",
   "execution_count": 18,
   "id": "4c7e83bd",
   "metadata": {},
   "outputs": [
    {
     "data": {
      "text/plain": [
       "str"
      ]
     },
     "execution_count": 18,
     "metadata": {},
     "output_type": "execute_result"
    }
   ],
   "source": [
    "var_str = str(var_int)\n",
    "type(var_str)"
   ]
  },
  {
   "cell_type": "code",
   "execution_count": 19,
   "id": "d4c5e92b",
   "metadata": {},
   "outputs": [
    {
     "data": {
      "text/plain": [
       "float"
      ]
     },
     "execution_count": 19,
     "metadata": {},
     "output_type": "execute_result"
    }
   ],
   "source": [
    "# float to int and string \n",
    "\n",
    "var_float = 10.999 \n",
    "type(var_float)"
   ]
  },
  {
   "cell_type": "code",
   "execution_count": 20,
   "id": "ff749720",
   "metadata": {},
   "outputs": [
    {
     "name": "stdout",
     "output_type": "stream",
     "text": [
      "10\n"
     ]
    },
    {
     "data": {
      "text/plain": [
       "int"
      ]
     },
     "execution_count": 20,
     "metadata": {},
     "output_type": "execute_result"
    }
   ],
   "source": [
    "var_int = int(var_float) # (If we are try to convert float to int type then it will only take the whole number value.)\n",
    "print(var_int)\n",
    "type(var_int)"
   ]
  },
  {
   "cell_type": "code",
   "execution_count": 21,
   "id": "dcfd5a38",
   "metadata": {},
   "outputs": [
    {
     "data": {
      "text/plain": [
       "str"
      ]
     },
     "execution_count": 21,
     "metadata": {},
     "output_type": "execute_result"
    }
   ],
   "source": [
    "var_str = str(var_float)\n",
    "type(var_str)"
   ]
  },
  {
   "cell_type": "code",
   "execution_count": 22,
   "id": "81e26366",
   "metadata": {},
   "outputs": [
    {
     "data": {
      "text/plain": [
       "str"
      ]
     },
     "execution_count": 22,
     "metadata": {},
     "output_type": "execute_result"
    }
   ],
   "source": [
    "# string to integer and float\n",
    "\n",
    "var_str = \"10\"\n",
    "type(var_str)"
   ]
  },
  {
   "cell_type": "code",
   "execution_count": 23,
   "id": "6bdef696",
   "metadata": {},
   "outputs": [
    {
     "name": "stdout",
     "output_type": "stream",
     "text": [
      "10\n"
     ]
    },
    {
     "data": {
      "text/plain": [
       "int"
      ]
     },
     "execution_count": 23,
     "metadata": {},
     "output_type": "execute_result"
    }
   ],
   "source": [
    "var_int = int(var_str)\n",
    "print(var_str)\n",
    "type(var_int)"
   ]
  },
  {
   "cell_type": "code",
   "execution_count": 24,
   "id": "37515a9b",
   "metadata": {},
   "outputs": [
    {
     "name": "stdout",
     "output_type": "stream",
     "text": [
      "10.0\n"
     ]
    },
    {
     "data": {
      "text/plain": [
       "float"
      ]
     },
     "execution_count": 24,
     "metadata": {},
     "output_type": "execute_result"
    }
   ],
   "source": [
    "var_float = float(var_str)\n",
    "print(var_float)\n",
    "type(var_float)"
   ]
  },
  {
   "cell_type": "code",
   "execution_count": 13,
   "id": "fbfd7ebf",
   "metadata": {},
   "outputs": [],
   "source": [
    "# int and float to complex"
   ]
  },
  {
   "cell_type": "code",
   "execution_count": 14,
   "id": "10245f04",
   "metadata": {},
   "outputs": [
    {
     "data": {
      "text/plain": [
       "(20+0j)"
      ]
     },
     "execution_count": 14,
     "metadata": {},
     "output_type": "execute_result"
    }
   ],
   "source": [
    "m = 20\n",
    "n = complex(m)\n",
    "n"
   ]
  },
  {
   "cell_type": "code",
   "execution_count": 15,
   "id": "9d97016c",
   "metadata": {},
   "outputs": [
    {
     "data": {
      "text/plain": [
       "(3.14+0j)"
      ]
     },
     "execution_count": 15,
     "metadata": {},
     "output_type": "execute_result"
    }
   ],
   "source": [
    "r = 3.14\n",
    "s = complex(r)\n",
    "s"
   ]
  },
  {
   "cell_type": "code",
   "execution_count": 25,
   "id": "134883a3",
   "metadata": {},
   "outputs": [],
   "source": [
    "# Things to remember-\n",
    "\n",
    "# 1) while converting strings to integer and float datatype, it will only gets converted if we have integer as a string initially.\n",
    "# 2) if we use string as a word then it will not get converted to integer and float type.\n",
    "# 3) if we have a decimal integer as a string, it will get converted to float type but not into integer datatype directly we have to convert it into float type and then into integer type.\n",
    "# 4) We can not convert complex to integer and float."
   ]
  },
  {
   "cell_type": "markdown",
   "id": "caf9b1f3",
   "metadata": {},
   "source": [
    "#### Assigning multiple values to variable, assigning same value to the multiple variable"
   ]
  },
  {
   "cell_type": "code",
   "execution_count": 1,
   "id": "76df61ec",
   "metadata": {},
   "outputs": [
    {
     "name": "stdout",
     "output_type": "stream",
     "text": [
      "python\n",
      "10\n",
      "10.2\n"
     ]
    }
   ],
   "source": [
    "a,b,c = 'python', 10, 10.2\n",
    "print(a)\n",
    "print(b)\n",
    "print(c)"
   ]
  },
  {
   "cell_type": "code",
   "execution_count": 2,
   "id": "fe4cbd51",
   "metadata": {},
   "outputs": [
    {
     "name": "stdout",
     "output_type": "stream",
     "text": [
      "a == 10, b == 10, c == 10\n"
     ]
    }
   ],
   "source": [
    "a = 10 ; b = 10 ; c = 10\n",
    "print(f\"a == {a}, b == {b}, c == {c}\")"
   ]
  },
  {
   "cell_type": "code",
   "execution_count": 10,
   "id": "13e581b2",
   "metadata": {},
   "outputs": [
    {
     "name": "stdout",
     "output_type": "stream",
     "text": [
      "10\n",
      "20\n"
     ]
    }
   ],
   "source": [
    "num1, num2 = 10,20\n",
    "print(num1)\n",
    "print(num2)"
   ]
  },
  {
   "cell_type": "code",
   "execution_count": 14,
   "id": "577e6fe3",
   "metadata": {},
   "outputs": [
    {
     "name": "stdout",
     "output_type": "stream",
     "text": [
      "20\n",
      "10\n"
     ]
    }
   ],
   "source": [
    "# swaping variable values\n",
    "\n",
    "num1, num2 = num2, num1\n",
    "print(num1)\n",
    "print(num2)"
   ]
  },
  {
   "cell_type": "code",
   "execution_count": 16,
   "id": "1950c521",
   "metadata": {},
   "outputs": [],
   "source": [
    "a = b = c = 50"
   ]
  },
  {
   "cell_type": "code",
   "execution_count": 17,
   "id": "22ee0104",
   "metadata": {},
   "outputs": [
    {
     "name": "stdout",
     "output_type": "stream",
     "text": [
      "50\n",
      "50\n",
      "50\n"
     ]
    }
   ],
   "source": [
    "print(a)\n",
    "print(b)\n",
    "print(c)"
   ]
  },
  {
   "cell_type": "code",
   "execution_count": 19,
   "id": "671b6156",
   "metadata": {},
   "outputs": [
    {
     "name": "stdout",
     "output_type": "stream",
     "text": [
      "apple\n",
      "banana\n",
      "cherry\n"
     ]
    }
   ],
   "source": [
    "fruits = [\"apple\", \"banana\", \"cherry\"]\n",
    "x, y, z = fruits\n",
    "print(x)\n",
    "print(y)\n",
    "print(z)"
   ]
  },
  {
   "cell_type": "markdown",
   "id": "bbf37623",
   "metadata": {},
   "source": [
    "#### Taking input from user"
   ]
  },
  {
   "cell_type": "code",
   "execution_count": 13,
   "id": "c1b30a67",
   "metadata": {},
   "outputs": [
    {
     "name": "stdout",
     "output_type": "stream",
     "text": [
      "enter your first number:10\n",
      "enter your second number:20\n",
      "30\n"
     ]
    }
   ],
   "source": [
    "num1 = int(input('enter your first number:'))\n",
    "num2 = int(input('enter your second number:'))\n",
    "\n",
    "result = num1 + num2\n",
    "print(result)"
   ]
  },
  {
   "cell_type": "code",
   "execution_count": 3,
   "id": "be12e76b",
   "metadata": {},
   "outputs": [
    {
     "name": "stdout",
     "output_type": "stream",
     "text": [
      "enter your first number:10\n",
      "enter your second number:10\n",
      "20.0\n"
     ]
    }
   ],
   "source": [
    "num1 = float(input('enter your first number:'))\n",
    "num2 = float(input('enter your second number:'))\n",
    "\n",
    "result = num1 + num2\n",
    "print(result)"
   ]
  },
  {
   "cell_type": "code",
   "execution_count": 4,
   "id": "4831a943",
   "metadata": {},
   "outputs": [
    {
     "name": "stdout",
     "output_type": "stream",
     "text": [
      "enter your first number:3.4\n",
      "enter your second number:5.67\n",
      "9.07\n"
     ]
    }
   ],
   "source": [
    "num1 = float(input('enter your first number:'))\n",
    "num2 = float(input('enter your second number:'))\n",
    "\n",
    "result = num1 + num2\n",
    "print(result)"
   ]
  },
  {
   "cell_type": "code",
   "execution_count": 6,
   "id": "7a5c4e0d",
   "metadata": {},
   "outputs": [
    {
     "name": "stdout",
     "output_type": "stream",
     "text": [
      "enter your string:Hello..\n",
      "enter your string:Omkar!\n",
      "Hello..Omkar!\n"
     ]
    }
   ],
   "source": [
    "str1 = str(input('enter your string:'))\n",
    "str2 = str(input('enter your string:'))\n",
    "\n",
    "concat = str1 + str2\n",
    "print(concat)"
   ]
  },
  {
   "cell_type": "markdown",
   "id": "bd6c1c52",
   "metadata": {},
   "source": [
    "#### ,end ='  ' parameter\n",
    "By default python’s print() function ends with a newline."
   ]
  },
  {
   "cell_type": "code",
   "execution_count": 2,
   "id": "6caf802e",
   "metadata": {},
   "outputs": [
    {
     "name": "stdout",
     "output_type": "stream",
     "text": [
      "welcome to the people\n"
     ]
    }
   ],
   "source": [
    "# using end parameter\n",
    "\n",
    "print('welcome to the',end=' ')\n",
    "print('hello world,',end= ' ')\n",
    "print('people')\n",
    "\n",
    "# if we don't use end it will go to next line and if we use end then it will not go to next line directly\n",
    "# but if you want space in two words then use space in between ' ' like this"
   ]
  },
  {
   "cell_type": "code",
   "execution_count": 17,
   "id": "eccca9aa",
   "metadata": {},
   "outputs": [
    {
     "name": "stdout",
     "output_type": "stream",
     "text": [
      "welcome to the\n",
      "hello world,\n",
      "people\n"
     ]
    }
   ],
   "source": [
    "# without using end parameter\n",
    "\n",
    "print('welcome to the')\n",
    "print('hello world,')\n",
    "print('people')"
   ]
  },
  {
   "cell_type": "markdown",
   "id": "e4bd31a4",
   "metadata": {},
   "source": [
    "#### Delete function\n",
    "delets the variable"
   ]
  },
  {
   "cell_type": "code",
   "execution_count": 18,
   "id": "a57490a5",
   "metadata": {},
   "outputs": [],
   "source": [
    "a = b = c = 30"
   ]
  },
  {
   "cell_type": "code",
   "execution_count": 19,
   "id": "ad43fae6",
   "metadata": {},
   "outputs": [],
   "source": [
    "# del b # This is how you delete assigned variable"
   ]
  },
  {
   "cell_type": "markdown",
   "id": "6255cf56",
   "metadata": {},
   "source": [
    "#### Length function\n",
    "returns the length of the function"
   ]
  },
  {
   "cell_type": "code",
   "execution_count": 11,
   "id": "5d8179d4",
   "metadata": {},
   "outputs": [
    {
     "name": "stdout",
     "output_type": "stream",
     "text": [
      "22\n"
     ]
    }
   ],
   "source": [
    "str6 = 'Hello my name is omkar'\n",
    "print(len(str6))"
   ]
  }
 ],
 "metadata": {
  "kernelspec": {
   "display_name": "Python 3 (ipykernel)",
   "language": "python",
   "name": "python3"
  },
  "language_info": {
   "codemirror_mode": {
    "name": "ipython",
    "version": 3
   },
   "file_extension": ".py",
   "mimetype": "text/x-python",
   "name": "python",
   "nbconvert_exporter": "python",
   "pygments_lexer": "ipython3",
   "version": "3.9.12"
  }
 },
 "nbformat": 4,
 "nbformat_minor": 5
}
