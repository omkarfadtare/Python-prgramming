{
 "cells": [
  {
   "cell_type": "markdown",
   "id": "18e487eb",
   "metadata": {},
   "source": [
    "#### List [ ]\n",
    "List is the collection of elements (Arrays) which is mutable.\n",
    "\n",
    "`Properties of list: `\n",
    "\n",
    "- List items are comma seprated\n",
    "- Enclosed by square bracket []\n",
    "- List is Ordered in nature\n",
    "- Lists are Mutable\n",
    "- List is heterogeneous, can contain different data types\n",
    "- Duplicate elements are allowed"
   ]
  },
  {
   "cell_type": "code",
   "execution_count": 1,
   "id": "75c73a98",
   "metadata": {},
   "outputs": [
    {
     "name": "stdout",
     "output_type": "stream",
     "text": [
      "['mango', 'apple', 'banana']\n",
      "<class 'list'>\n"
     ]
    }
   ],
   "source": [
    "list1 = [\"mango\",\"apple\",\"banana\"]\n",
    "print(list1)\n",
    "print(type(list1))"
   ]
  },
  {
   "cell_type": "code",
   "execution_count": 2,
   "id": "76c8f81e",
   "metadata": {},
   "outputs": [
    {
     "name": "stdout",
     "output_type": "stream",
     "text": [
      "[10, 11, 12, 13, 14, 15]\n",
      "<class 'list'>\n"
     ]
    }
   ],
   "source": [
    "list2 = [10,11,12,13,14,15]\n",
    "print(list2)\n",
    "print(type(list2))"
   ]
  },
  {
   "cell_type": "code",
   "execution_count": 1,
   "id": "380171cf",
   "metadata": {},
   "outputs": [
    {
     "name": "stdout",
     "output_type": "stream",
     "text": [
      "[10, 11, 12, 13, 14, 14, 15, 15]\n",
      "<class 'list'>\n"
     ]
    }
   ],
   "source": [
    "list2 = [10,11,12,13,14,14,15,15] # Duplicates are allowed in list but not in set\n",
    "print(list2)\n",
    "print(type(list2))"
   ]
  },
  {
   "cell_type": "code",
   "execution_count": 3,
   "id": "f5f9938f",
   "metadata": {},
   "outputs": [
    {
     "name": "stdout",
     "output_type": "stream",
     "text": [
      "<class 'list'>\n"
     ]
    }
   ],
   "source": [
    "list3 =[] # empty list\n",
    "print(type(list3))"
   ]
  },
  {
   "cell_type": "code",
   "execution_count": null,
   "id": "3d4ef484",
   "metadata": {},
   "outputs": [],
   "source": [
    "# Another way to define list: 'List constructor'\n",
    "\n",
    "list4 = list()\n",
    "print(type(list4))"
   ]
  },
  {
   "cell_type": "markdown",
   "id": "c35e979d",
   "metadata": {},
   "source": [
    "#### Ordered\n",
    "order of items in list will remain same (order of items wil change in set), use of indexing is possible and therefore slicing is also possible."
   ]
  },
  {
   "cell_type": "code",
   "execution_count": 4,
   "id": "019c8e41",
   "metadata": {},
   "outputs": [
    {
     "name": "stdout",
     "output_type": "stream",
     "text": [
      "10\n",
      "14\n",
      "[10, 11, 12]\n"
     ]
    }
   ],
   "source": [
    "list5 = [10,11,12,13,14]\n",
    "\n",
    "# Use of indexing\n",
    "print(list5[0])\n",
    "print(list5[-1])\n",
    "\n",
    "# Use of slicing\n",
    "print(list5[0:3:1])"
   ]
  },
  {
   "cell_type": "markdown",
   "id": "6f1dacdc",
   "metadata": {},
   "source": [
    "#### Heterogeneous\n",
    "that basically means a list can contain any datatype of variable string, float, int, another list etc."
   ]
  },
  {
   "cell_type": "code",
   "execution_count": 5,
   "id": "45e49755",
   "metadata": {},
   "outputs": [
    {
     "name": "stdout",
     "output_type": "stream",
     "text": [
      "[10, 11, 3.4, 5.6, 'string', 'python,', [21, 22, 23, 24]]\n"
     ]
    }
   ],
   "source": [
    "# There is a another list in list6, If we get the output without any error then, it can be said that list is heterogeneous.\n",
    "\n",
    "list6 = [10,11,3.4,5.6,\"string\",\"python,\",[21,22,23,24]]\n",
    "print(list6)"
   ]
  },
  {
   "cell_type": "code",
   "execution_count": 7,
   "id": "64299640",
   "metadata": {},
   "outputs": [
    {
     "name": "stdout",
     "output_type": "stream",
     "text": [
      "23\n"
     ]
    }
   ],
   "source": [
    "# accessing elements from list of list using indexing\n",
    "\n",
    "list6 = [10,11,3.4,5.6,\"string\",\"python,\",[21,22,23,24]]\n",
    "print(list6[6][2]) # when there are 2 lists"
   ]
  },
  {
   "cell_type": "code",
   "execution_count": 6,
   "id": "4627da71",
   "metadata": {},
   "outputs": [
    {
     "name": "stdout",
     "output_type": "stream",
     "text": [
      "32\n"
     ]
    }
   ],
   "source": [
    "list6 = [10,11,3.4,5.6,\"string\",\"python,\",[21,22,23,24,[31,32,33]]]\n",
    "print(list6[6][4][1])"
   ]
  },
  {
   "cell_type": "code",
   "execution_count": 3,
   "id": "d07b871b",
   "metadata": {},
   "outputs": [
    {
     "name": "stdout",
     "output_type": "stream",
     "text": [
      "<class 'list'>\n",
      "9\n",
      "<class 'tuple'>\n",
      "<class 'dict'>\n",
      "[10, 11, 3.4, 5.6, 'string', 'python', [21, 22, 23, 24, [31, 32, 33]], ('python', 1, True), {1: 'python', 2: 'data science'}]\n"
     ]
    }
   ],
   "source": [
    "# List can contain int, float, str, list, list of list, tuple, dictionary.\n",
    "\n",
    "list6 = [10,11,3.4,5.6,\"string\",\"python\",[21,22,23,24,[31,32,33]],('python',1,True),{1:'python',2:'data science'}]\n",
    "print(type(list6))\n",
    "print(len(list6))\n",
    "print(type(list6[7]))\n",
    "print(type(list6[8]))\n",
    "print(list6)"
   ]
  },
  {
   "cell_type": "markdown",
   "id": "cc046eef",
   "metadata": {},
   "source": [
    "#### Mutable\n",
    "that means to change an existing element"
   ]
  },
  {
   "cell_type": "code",
   "execution_count": 8,
   "id": "b5f63618",
   "metadata": {},
   "outputs": [
    {
     "name": "stdout",
     "output_type": "stream",
     "text": [
      "[10, 11, 12, 13, 14, 15]\n",
      "['hello', 11, 12, 13, 14, 15]\n",
      "['hello', 11, 12, 13, 14, 'python']\n"
     ]
    }
   ],
   "source": [
    "list7 = [10,11,12,13,14,15]\n",
    "print(list7)\n",
    "\n",
    "list7[0] = \"hello\"\n",
    "print(list7)\n",
    "\n",
    "list7[-1] = \"python\"\n",
    "print(list7)"
   ]
  },
  {
   "cell_type": "code",
   "execution_count": 30,
   "id": "fee89bf0",
   "metadata": {},
   "outputs": [
    {
     "name": "stdout",
     "output_type": "stream",
     "text": [
      "['apple', 'blackcurrant', 'watermelon', 'orange', 'kiwi', 'mango']\n"
     ]
    }
   ],
   "source": [
    "thislist = [\"apple\", \"banana\", \"cherry\", \"orange\", \"kiwi\", \"mango\"]\n",
    "thislist[1:3] = [\"blackcurrant\", \"watermelon\"]\n",
    "print(thislist)"
   ]
  },
  {
   "cell_type": "markdown",
   "id": "094173ae",
   "metadata": {},
   "source": [
    "#### inserting new element in list"
   ]
  },
  {
   "cell_type": "code",
   "execution_count": 31,
   "id": "b318c4cd",
   "metadata": {},
   "outputs": [
    {
     "name": "stdout",
     "output_type": "stream",
     "text": [
      "['apple', 'banana', 'watermelon', 'cherry']\n"
     ]
    }
   ],
   "source": [
    "thislist = [\"apple\", \"banana\", \"cherry\"] # There is a another for this also, pls refer .insert() function \n",
    "thislist.insert(2, \"watermelon\")\n",
    "print(thislist)"
   ]
  },
  {
   "cell_type": "markdown",
   "id": "c4ac159a",
   "metadata": {},
   "source": [
    "#### range of index / slicing"
   ]
  },
  {
   "cell_type": "code",
   "execution_count": 19,
   "id": "0e1fc495",
   "metadata": {},
   "outputs": [
    {
     "name": "stdout",
     "output_type": "stream",
     "text": [
      "['apple', 'banana', 'cherry', 'orange', 'kiwi', 'melon', 'mango']\n"
     ]
    }
   ],
   "source": [
    "print(thislist[::])"
   ]
  },
  {
   "cell_type": "code",
   "execution_count": 20,
   "id": "726eb270",
   "metadata": {},
   "outputs": [
    {
     "name": "stdout",
     "output_type": "stream",
     "text": [
      "['apple', 'banana', 'cherry', 'orange', 'kiwi', 'melon', 'mango']\n"
     ]
    }
   ],
   "source": [
    "print(thislist[::1])"
   ]
  },
  {
   "cell_type": "code",
   "execution_count": 21,
   "id": "fd857efe",
   "metadata": {},
   "outputs": [
    {
     "name": "stdout",
     "output_type": "stream",
     "text": [
      "['apple', 'banana', 'cherry', 'orange', 'kiwi', 'melon', 'mango']\n"
     ]
    }
   ],
   "source": [
    "print(thislist[:len(thislist):])"
   ]
  },
  {
   "cell_type": "code",
   "execution_count": 24,
   "id": "bc297b05",
   "metadata": {},
   "outputs": [
    {
     "name": "stdout",
     "output_type": "stream",
     "text": [
      "['mango', 'melon', 'kiwi', 'orange', 'cherry', 'banana', 'apple']\n"
     ]
    }
   ],
   "source": [
    "print(thislist[::-1]) # mango included (step size)"
   ]
  },
  {
   "cell_type": "code",
   "execution_count": 26,
   "id": "bf8c3bcf",
   "metadata": {},
   "outputs": [
    {
     "name": "stdout",
     "output_type": "stream",
     "text": [
      "['apple', 'banana', 'cherry', 'orange', 'kiwi', 'melon']\n"
     ]
    }
   ],
   "source": [
    "thislist = [\"apple\", \"banana\", \"cherry\", \"orange\", \"kiwi\", \"melon\", \"mango\"] # mango excluded\n",
    "print(thislist[:-1])"
   ]
  },
  {
   "cell_type": "code",
   "execution_count": 27,
   "id": "2cd9b14c",
   "metadata": {},
   "outputs": [
    {
     "name": "stdout",
     "output_type": "stream",
     "text": [
      "['orange', 'kiwi', 'melon']\n"
     ]
    }
   ],
   "source": [
    "thislist = [\"apple\", \"banana\", \"cherry\", \"orange\", \"kiwi\", \"melon\", \"mango\"] # mango excluded\n",
    "print(thislist[-4:-1])"
   ]
  },
  {
   "cell_type": "markdown",
   "id": "3056effc",
   "metadata": {},
   "source": [
    "#### range in list"
   ]
  },
  {
   "cell_type": "code",
   "execution_count": 3,
   "id": "b1881076",
   "metadata": {},
   "outputs": [
    {
     "data": {
      "text/plain": [
       "[1, 2, 3, 4]"
      ]
     },
     "execution_count": 3,
     "metadata": {},
     "output_type": "execute_result"
    }
   ],
   "source": [
    "list(range(1,5)) # exclude 5"
   ]
  },
  {
   "cell_type": "code",
   "execution_count": 4,
   "id": "4d2e9bf8",
   "metadata": {},
   "outputs": [
    {
     "data": {
      "text/plain": [
       "[4, 5, 6, 7, 8, 9, 10, 11, 12, 13, 14, 15, 16, 17, 18]"
      ]
     },
     "execution_count": 4,
     "metadata": {},
     "output_type": "execute_result"
    }
   ],
   "source": [
    "list(range(4,19))"
   ]
  },
  {
   "cell_type": "code",
   "execution_count": 5,
   "id": "5e8575f6",
   "metadata": {},
   "outputs": [
    {
     "data": {
      "text/plain": [
       "[0, 2, 4, 6, 8, 10, 12, 14, 16, 18, 20]"
      ]
     },
     "execution_count": 5,
     "metadata": {},
     "output_type": "execute_result"
    }
   ],
   "source": [
    "list(range(0,21,2))"
   ]
  },
  {
   "cell_type": "code",
   "execution_count": 6,
   "id": "80f06dd9",
   "metadata": {},
   "outputs": [
    {
     "name": "stdout",
     "output_type": "stream",
     "text": [
      "0\n",
      "1\n",
      "2\n",
      "3\n",
      "4\n"
     ]
    }
   ],
   "source": [
    "for i in range(5):\n",
    "    print(i)"
   ]
  },
  {
   "cell_type": "markdown",
   "id": "ebce1158",
   "metadata": {},
   "source": [
    "#### use of membership operator\n",
    "to check whether the item exist in list or not"
   ]
  },
  {
   "cell_type": "code",
   "execution_count": 28,
   "id": "1902763b",
   "metadata": {},
   "outputs": [
    {
     "name": "stdout",
     "output_type": "stream",
     "text": [
      "item exist in the list\n"
     ]
    }
   ],
   "source": [
    "list7 = [\"apple\", \"banana\", \"cherry\", \"orange\", \"kiwi\", \"melon\", \"mango\"]\n",
    "if 'apple' in list7:\n",
    "    print('Item exist in the list')\n",
    "else:\n",
    "    print('Item not found')"
   ]
  },
  {
   "cell_type": "code",
   "execution_count": 29,
   "id": "61be87e9",
   "metadata": {},
   "outputs": [
    {
     "name": "stdout",
     "output_type": "stream",
     "text": [
      "you were right! Item is not present\n"
     ]
    }
   ],
   "source": [
    "list7 = [\"apple\", \"banana\", \"cherry\", \"orange\", \"kiwi\", \"melon\", \"mango\"]\n",
    "if 'papaya' not in list7:\n",
    "    print('you were right! Item is not present')\n",
    "else:\n",
    "    print('you were wrong! Item found!')"
   ]
  },
  {
   "cell_type": "markdown",
   "id": "c007c34f",
   "metadata": {},
   "source": [
    "#### accessing list elements using for loop"
   ]
  },
  {
   "cell_type": "code",
   "execution_count": 1,
   "id": "4c4c1e08",
   "metadata": {},
   "outputs": [
    {
     "name": "stdout",
     "output_type": "stream",
     "text": [
      "Hello : Mumbai\n",
      "Hello : Pune\n",
      "Hello : Delhi\n",
      "Hello : Chennai\n",
      "Hello : Banglore\n"
     ]
    }
   ],
   "source": [
    "city_names = [\"Mumbai\", \"Pune\", \"Delhi\", \"Chennai\",\"Banglore\"]\n",
    "for i in city_names:\n",
    "    print(f\"Hello : {i}\")"
   ]
  },
  {
   "cell_type": "code",
   "execution_count": 2,
   "id": "60918e66",
   "metadata": {},
   "outputs": [
    {
     "name": "stdout",
     "output_type": "stream",
     "text": [
      "Mumbai MUMBAI\n",
      "**************\n",
      "Pune PUNE\n",
      "**************\n",
      "Delhi DELHI\n",
      "**************\n",
      "Chennai CHENNAI\n",
      "**************\n",
      "Banglore BANGLORE\n",
      "**************\n"
     ]
    }
   ],
   "source": [
    "city_names = [\"Mumbai\", \"Pune\", \"Delhi\", \"Chennai\",\"Banglore\"]\n",
    "\n",
    "for i in city_names:\n",
    "    print(i, i.upper())  # Mumbai >> MUMBAI\n",
    "    print(\"**************\")"
   ]
  },
  {
   "cell_type": "markdown",
   "id": "645bdb38",
   "metadata": {},
   "source": [
    "#### enumarate & list"
   ]
  },
  {
   "cell_type": "code",
   "execution_count": 2,
   "id": "87239e2a",
   "metadata": {},
   "outputs": [
    {
     "name": "stdout",
     "output_type": "stream",
     "text": [
      "0 Mumbai\n",
      "1 Pune\n",
      "2 Delhi\n",
      "3 Chennai\n",
      "4 Banglore\n"
     ]
    }
   ],
   "source": [
    "city_names = [\"Mumbai\", \"Pune\", \"Delhi\", \"Chennai\",\"Banglore\"]\n",
    "for index, item in enumerate(city_names):\n",
    "    print(index, item)"
   ]
  },
  {
   "cell_type": "markdown",
   "id": "c1d7da95",
   "metadata": {},
   "source": [
    "#### List functions"
   ]
  },
  {
   "cell_type": "markdown",
   "id": "93cbf3c5",
   "metadata": {},
   "source": [
    "- append()\n",
    "- extend()\n",
    "- insert()\n",
    "- remove()\n",
    "- pop()\n",
    "- clear()\n",
    "- sort()\n",
    "- reverse()\n",
    "- index()\n",
    "- count()\n",
    "- copy()"
   ]
  },
  {
   "cell_type": "markdown",
   "id": "9813ac05",
   "metadata": {},
   "source": [
    "#### Built-in list functions\n",
    "\n",
    "- sum()\n",
    "- min()\n",
    "- max()\n",
    "- sorted()\n",
    "- reversed()"
   ]
  },
  {
   "cell_type": "markdown",
   "id": "632356aa",
   "metadata": {},
   "source": [
    "#### 1) length()\n",
    "`Syntax : len(list_name)`\n",
    "\n",
    "returns length of the list"
   ]
  },
  {
   "cell_type": "code",
   "execution_count": 9,
   "id": "2290a417",
   "metadata": {},
   "outputs": [
    {
     "name": "stdout",
     "output_type": "stream",
     "text": [
      "3\n"
     ]
    }
   ],
   "source": [
    "lst1 = [\"apple\", \"banana\", \"cherry\"]\n",
    "print(len(lst1))"
   ]
  },
  {
   "cell_type": "code",
   "execution_count": 12,
   "id": "a3c3b906",
   "metadata": {},
   "outputs": [
    {
     "name": "stdout",
     "output_type": "stream",
     "text": [
      "3\n"
     ]
    }
   ],
   "source": [
    "lst1 = [\"apple\", \"banana\", [1,2,3,4]]\n",
    "print(len(lst1))"
   ]
  },
  {
   "cell_type": "code",
   "execution_count": null,
   "id": "8de04fb8",
   "metadata": {},
   "outputs": [],
   "source": [
    "lst1 = [\"apple\", \"banana\", [1,2,3,4]] # length of the list having index value [2]\n",
    "print(len(lst1[2]))"
   ]
  },
  {
   "cell_type": "markdown",
   "id": "1201c0f3",
   "metadata": {},
   "source": [
    "#### 2) type()\n",
    "`Syntax : type(list_name)`\n",
    "\n",
    "returns data type of list or the elements of list"
   ]
  },
  {
   "cell_type": "code",
   "execution_count": 13,
   "id": "0c9a6598",
   "metadata": {},
   "outputs": [
    {
     "name": "stdout",
     "output_type": "stream",
     "text": [
      "<class 'list'>\n"
     ]
    }
   ],
   "source": [
    "lst1 = [\"apple\", \"banana\", \"cherry\"]\n",
    "print(type(lst1))"
   ]
  },
  {
   "cell_type": "code",
   "execution_count": 14,
   "id": "e2498da2",
   "metadata": {},
   "outputs": [
    {
     "name": "stdout",
     "output_type": "stream",
     "text": [
      "<class 'str'>\n"
     ]
    }
   ],
   "source": [
    "lst1 = [\"apple\", \"banana\", \"cherry\"]\n",
    "print(type(lst1[0]))"
   ]
  },
  {
   "cell_type": "code",
   "execution_count": 16,
   "id": "45068b4a",
   "metadata": {},
   "outputs": [
    {
     "name": "stdout",
     "output_type": "stream",
     "text": [
      "<class 'list'>\n"
     ]
    }
   ],
   "source": [
    "lst1 = [\"apple\", \"banana\", \"cherry\", [1,2,'python']]\n",
    "print(type(lst1[3]))"
   ]
  },
  {
   "cell_type": "code",
   "execution_count": 17,
   "id": "9278f015",
   "metadata": {},
   "outputs": [
    {
     "name": "stdout",
     "output_type": "stream",
     "text": [
      "<class 'str'>\n"
     ]
    }
   ],
   "source": [
    "lst1 = [\"apple\", \"banana\", \"cherry\", [1,2,'python']]\n",
    "print(type(lst1[3][2])) # data type of 'python'"
   ]
  },
  {
   "cell_type": "markdown",
   "id": "95ea84f5",
   "metadata": {},
   "source": [
    "#### 3) .index()\n",
    "`Syntax : list.index(item)`\n",
    "\n",
    "returns index number of an item"
   ]
  },
  {
   "cell_type": "code",
   "execution_count": 11,
   "id": "1689a619",
   "metadata": {},
   "outputs": [
    {
     "data": {
      "text/plain": [
       "2"
      ]
     },
     "execution_count": 11,
     "metadata": {},
     "output_type": "execute_result"
    }
   ],
   "source": [
    "sub_names = [\"Phy\", \"Che\", \"Maths\", \"Eng\", \"Bio\"]\n",
    "sub_names.index(\"Maths\")"
   ]
  },
  {
   "cell_type": "code",
   "execution_count": 12,
   "id": "91a4255c",
   "metadata": {},
   "outputs": [
    {
     "data": {
      "text/plain": [
       "5"
      ]
     },
     "execution_count": 12,
     "metadata": {},
     "output_type": "execute_result"
    }
   ],
   "source": [
    "numbers = [3, 9.8, 6,7, 4.5, 20,30,40]\n",
    "numbers.index(20)"
   ]
  },
  {
   "cell_type": "markdown",
   "id": "ba897cb9",
   "metadata": {},
   "source": [
    "#### 4) .count()\n",
    "`Syntax : list.count(item)`\n",
    "    \n",
    "returns count of the item in a list"
   ]
  },
  {
   "cell_type": "code",
   "execution_count": 13,
   "id": "17ab69bc",
   "metadata": {},
   "outputs": [
    {
     "data": {
      "text/plain": [
       "5"
      ]
     },
     "execution_count": 13,
     "metadata": {},
     "output_type": "execute_result"
    }
   ],
   "source": [
    "numbers = [3, 9.8, 6,7, 4.5, 20,30,40,6,6,6,6]\n",
    "numbers.count(6)"
   ]
  },
  {
   "cell_type": "code",
   "execution_count": 14,
   "id": "70350657",
   "metadata": {},
   "outputs": [
    {
     "data": {
      "text/plain": [
       "3"
      ]
     },
     "execution_count": 14,
     "metadata": {},
     "output_type": "execute_result"
    }
   ],
   "source": [
    "sub_names = [\"Phy\", \"Che\", \"Maths\", \"Eng\", \"Bio\",\"Maths\", \"Maths\",\"maths\"]\n",
    "\n",
    "sub_names.count(\"Maths\")"
   ]
  },
  {
   "cell_type": "markdown",
   "id": "d8851668",
   "metadata": {},
   "source": [
    "#### 5) sum()\n",
    "`Syntax : sum(list_name)`\n",
    "\n",
    "returns sum of numbers in list"
   ]
  },
  {
   "cell_type": "code",
   "execution_count": 15,
   "id": "825a0de9",
   "metadata": {},
   "outputs": [
    {
     "data": {
      "text/plain": [
       "264"
      ]
     },
     "execution_count": 15,
     "metadata": {},
     "output_type": "execute_result"
    }
   ],
   "source": [
    "numbers = [10,30,46,78,8,12,80]\n",
    "sum(numbers)"
   ]
  },
  {
   "cell_type": "markdown",
   "id": "bf14bdc7",
   "metadata": {},
   "source": [
    "#### 6) min()\n",
    "`Syntax : min(list_name)`\n",
    "    \n",
    "returns minimum number in the list"
   ]
  },
  {
   "cell_type": "code",
   "execution_count": 17,
   "id": "f8a69540",
   "metadata": {},
   "outputs": [
    {
     "data": {
      "text/plain": [
       "-67"
      ]
     },
     "execution_count": 17,
     "metadata": {},
     "output_type": "execute_result"
    }
   ],
   "source": [
    "numbers = [10,30,46,78,8,12,80,-1,-67,20,56,4.5,9.8,-4.5,-8.9]\n",
    "min(numbers)"
   ]
  },
  {
   "cell_type": "markdown",
   "id": "c6e1e26e",
   "metadata": {},
   "source": [
    "#### 7) max()\n",
    "`Syntax : max(list_name)`\n",
    "\n",
    "returns maximum number in the list"
   ]
  },
  {
   "cell_type": "code",
   "execution_count": 18,
   "id": "7ff031b9",
   "metadata": {},
   "outputs": [
    {
     "data": {
      "text/plain": [
       "80"
      ]
     },
     "execution_count": 18,
     "metadata": {},
     "output_type": "execute_result"
    }
   ],
   "source": [
    "numbers = [10,30,46,78,8,12,80,-1,-67,20,56,4.5,9.8,-4.5,-8.9]\n",
    "max(numbers)"
   ]
  },
  {
   "cell_type": "markdown",
   "id": "dee6ee56",
   "metadata": {},
   "source": [
    "#### 8) .append()\n",
    "`Syntax : list_var.append(item)`\n",
    "\n",
    "add an item to the end of the list"
   ]
  },
  {
   "cell_type": "code",
   "execution_count": 32,
   "id": "558161e1",
   "metadata": {},
   "outputs": [
    {
     "name": "stdout",
     "output_type": "stream",
     "text": [
      "['apple', 'banana', 'cherry', 'orange']\n"
     ]
    }
   ],
   "source": [
    "thislist = [\"apple\", \"banana\", \"cherry\"]\n",
    "thislist.append(\"orange\")\n",
    "print(thislist)"
   ]
  },
  {
   "cell_type": "code",
   "execution_count": 33,
   "id": "e207fed7",
   "metadata": {},
   "outputs": [
    {
     "name": "stdout",
     "output_type": "stream",
     "text": [
      "['apple', 'banana', 'cherry', [1, 2, 3, 4]]\n"
     ]
    }
   ],
   "source": [
    "thislist = [\"apple\", \"banana\", \"cherry\"] # you can append another list also\n",
    "thislist.append([1,2,3,4])\n",
    "print(thislist)"
   ]
  },
  {
   "cell_type": "code",
   "execution_count": 3,
   "id": "4021b698",
   "metadata": {},
   "outputs": [
    {
     "name": "stdout",
     "output_type": "stream",
     "text": [
      "[100, 200, 300]\n"
     ]
    }
   ],
   "source": [
    "numbers = []\n",
    "\n",
    "numbers.append(100)\n",
    "\n",
    "numbers.append(200)\n",
    "\n",
    "numbers.append(300)\n",
    "print(numbers)"
   ]
  },
  {
   "cell_type": "markdown",
   "id": "9a39ed84",
   "metadata": {},
   "source": [
    "#### 9) .insert()\n",
    "`Syntax : list1.insert(index, value)`\n",
    "\n",
    "inserts an item to a specified index. Difference between insert and append is that, append adds element at the end of the list. whereas insert adds element at specified index."
   ]
  },
  {
   "cell_type": "code",
   "execution_count": 34,
   "id": "57bee31c",
   "metadata": {},
   "outputs": [
    {
     "name": "stdout",
     "output_type": "stream",
     "text": [
      "['apple', 'orange', 'banana', 'cherry']\n"
     ]
    }
   ],
   "source": [
    "thislist = [\"apple\", \"banana\", \"cherry\"]\n",
    "thislist.insert(1, \"orange\")\n",
    "print(thislist)"
   ]
  },
  {
   "cell_type": "code",
   "execution_count": 35,
   "id": "d575a0cf",
   "metadata": {},
   "outputs": [
    {
     "name": "stdout",
     "output_type": "stream",
     "text": [
      "['apple', [1, 2, 'python'], 'banana', 'cherry']\n"
     ]
    }
   ],
   "source": [
    "thislist = [\"apple\", \"banana\", \"cherry\"]\n",
    "thislist.insert(1, [1,2,'python'])\n",
    "print(thislist)"
   ]
  },
  {
   "cell_type": "markdown",
   "id": "868a93be",
   "metadata": {},
   "source": [
    "#### 10) .remove()\n",
    "`Syntax : list.remove(item)`\n",
    "\n",
    "removes an element or an element of a specified index"
   ]
  },
  {
   "cell_type": "code",
   "execution_count": 36,
   "id": "72fb248c",
   "metadata": {},
   "outputs": [
    {
     "name": "stdout",
     "output_type": "stream",
     "text": [
      "['apple', 'cherry']\n"
     ]
    }
   ],
   "source": [
    "thislist = [\"apple\", \"banana\", \"cherry\"]\n",
    "thislist.remove(\"banana\")\n",
    "print(thislist)"
   ]
  },
  {
   "cell_type": "code",
   "execution_count": 37,
   "id": "3c68b1ff",
   "metadata": {},
   "outputs": [
    {
     "name": "stdout",
     "output_type": "stream",
     "text": [
      "['apple', 'cherry']\n"
     ]
    }
   ],
   "source": [
    "thislist = [\"apple\", \"banana\", \"cherry\"]\n",
    "thislist.remove(thislist[1])\n",
    "print(thislist)"
   ]
  },
  {
   "cell_type": "code",
   "execution_count": 4,
   "id": "255a87ab",
   "metadata": {},
   "outputs": [
    {
     "name": "stdout",
     "output_type": "stream",
     "text": [
      "Item deleted\n",
      "Updated list ['Phy', 'Che', 'Maths', 'Eng']\n"
     ]
    }
   ],
   "source": [
    "sub_names = [\"Phy\", \"Che\", \"Maths\", \"Eng\", \"Bio\"]\n",
    "value = \"Bio\"\n",
    "\n",
    "if value in sub_names: #True\n",
    "    sub_names.remove(value)\n",
    "    print(\"Item deleted\")\n",
    "    \n",
    "else:\n",
    "    print(\"Item not present in the list\")\n",
    "    \n",
    "print(\"Updated list\", sub_names)"
   ]
  },
  {
   "cell_type": "markdown",
   "id": "8e158d6f",
   "metadata": {},
   "source": [
    "#### 11) .pop()\n",
    "`Syntax : list.pop(index)`\n",
    "\n",
    "removes a specified index element"
   ]
  },
  {
   "cell_type": "code",
   "execution_count": 38,
   "id": "41b5bb2b",
   "metadata": {},
   "outputs": [
    {
     "name": "stdout",
     "output_type": "stream",
     "text": [
      "['apple', 'banana']\n"
     ]
    }
   ],
   "source": [
    "thislist = [\"apple\", \"banana\", \"cherry\"]\n",
    "thislist.pop(2)\n",
    "print(thislist)"
   ]
  },
  {
   "cell_type": "code",
   "execution_count": 39,
   "id": "4c9319f3",
   "metadata": {},
   "outputs": [
    {
     "name": "stdout",
     "output_type": "stream",
     "text": [
      "['apple', 'banana']\n"
     ]
    }
   ],
   "source": [
    "thislist = [\"apple\", \"banana\", \"cherry\"] # if you do not specify index then it will remove element from end of the list\n",
    "thislist.pop()\n",
    "print(thislist)"
   ]
  },
  {
   "cell_type": "markdown",
   "id": "d370f3f6",
   "metadata": {},
   "source": [
    "#### 12) del function\n",
    "`Syntax : del list[index]`\n",
    "\n",
    "it can delet specified index element and can delet entire list also"
   ]
  },
  {
   "cell_type": "code",
   "execution_count": 40,
   "id": "acfaccb7",
   "metadata": {},
   "outputs": [
    {
     "name": "stdout",
     "output_type": "stream",
     "text": [
      "['banana', 'cherry']\n"
     ]
    }
   ],
   "source": [
    "thislist = [\"apple\", \"banana\", \"cherry\"]\n",
    "del thislist[0]\n",
    "print(thislist)\n",
    "\n",
    "# del thislist # this will delet the entire list"
   ]
  },
  {
   "cell_type": "markdown",
   "id": "ca04e249",
   "metadata": {},
   "source": [
    "#### 13) .clear()\n",
    "`Syntax : list.clear()`\n",
    "\n",
    "this will empty list"
   ]
  },
  {
   "cell_type": "code",
   "execution_count": 41,
   "id": "49b54f99",
   "metadata": {},
   "outputs": [
    {
     "name": "stdout",
     "output_type": "stream",
     "text": [
      "[]\n"
     ]
    }
   ],
   "source": [
    "thislist = [\"apple\", \"banana\", \"cherry\"]\n",
    "thislist.clear()\n",
    "print(thislist)"
   ]
  },
  {
   "cell_type": "markdown",
   "id": "cebc47d6",
   "metadata": {},
   "source": [
    "#### 14) .sort()\n",
    "`Syntax : list.sort() >> Ascending order`\n",
    "\n",
    "`Syntax : list.sort(reverse = True) >> Descending order`\n",
    "\n",
    "will sort items in list alphabetically or numers in ascending order by default"
   ]
  },
  {
   "cell_type": "code",
   "execution_count": 43,
   "id": "0326743f",
   "metadata": {},
   "outputs": [
    {
     "name": "stdout",
     "output_type": "stream",
     "text": [
      "['banana', 'kiwi', 'mango', 'orange', 'pineapple']\n"
     ]
    }
   ],
   "source": [
    "thislist = [\"orange\", \"mango\", \"kiwi\", \"pineapple\", \"banana\"]\n",
    "thislist.sort()\n",
    "print(thislist)"
   ]
  },
  {
   "cell_type": "code",
   "execution_count": 44,
   "id": "a0c3f42d",
   "metadata": {},
   "outputs": [
    {
     "name": "stdout",
     "output_type": "stream",
     "text": [
      "[23, 50, 65, 82, 100]\n"
     ]
    }
   ],
   "source": [
    "thislist = [100, 50, 65, 82, 23]\n",
    "thislist.sort()\n",
    "print(thislist)"
   ]
  },
  {
   "cell_type": "code",
   "execution_count": 46,
   "id": "a6bf4c79",
   "metadata": {},
   "outputs": [
    {
     "name": "stdout",
     "output_type": "stream",
     "text": [
      "['pineapple', 'orange', 'mango', 'kiwi', 'banana']\n"
     ]
    }
   ],
   "source": [
    "# In a case if we want sorting in a reversed alphabetical order or in a descending order\n",
    "\n",
    "thislist = [\"orange\", \"mango\", \"kiwi\", \"pineapple\", \"banana\"]\n",
    "thislist.sort(reverse=True)\n",
    "print(thislist)"
   ]
  },
  {
   "cell_type": "code",
   "execution_count": 47,
   "id": "83070c3f",
   "metadata": {},
   "outputs": [
    {
     "name": "stdout",
     "output_type": "stream",
     "text": [
      "[100, 82, 65, 50, 23]\n"
     ]
    }
   ],
   "source": [
    "thislist = [100, 50, 65, 82, 23]\n",
    "thislist.sort(reverse=True)\n",
    "print(thislist)"
   ]
  },
  {
   "cell_type": "code",
   "execution_count": 48,
   "id": "bcd4e989",
   "metadata": {},
   "outputs": [
    {
     "name": "stdout",
     "output_type": "stream",
     "text": [
      "['Kiwi', 'Orange', 'banana', 'cherry']\n"
     ]
    }
   ],
   "source": [
    "# sort() function is a case sensitive, resulting in all capital letters being sorted before lower case letters.\n",
    "\n",
    "thislist = [\"banana\", \"Orange\", \"Kiwi\", \"cherry\"]\n",
    "thislist.sort()\n",
    "print(thislist)"
   ]
  },
  {
   "cell_type": "code",
   "execution_count": 49,
   "id": "b182c0ed",
   "metadata": {},
   "outputs": [
    {
     "name": "stdout",
     "output_type": "stream",
     "text": [
      "['cherry', 'banana', 'Orange', 'Kiwi']\n"
     ]
    }
   ],
   "source": [
    "thislist = [\"banana\", \"Orange\", \"Kiwi\", \"cherry\"]\n",
    "thislist.sort(reverse=True)\n",
    "print(thislist)"
   ]
  },
  {
   "cell_type": "code",
   "execution_count": 50,
   "id": "9ec55a58",
   "metadata": {},
   "outputs": [
    {
     "name": "stdout",
     "output_type": "stream",
     "text": [
      "['banana', 'cherry', 'Kiwi', 'Orange']\n"
     ]
    }
   ],
   "source": [
    "# If we want sort() function as insensitive to case\n",
    "\n",
    "thislist = [\"banana\", \"Orange\", \"Kiwi\", \"cherry\"]\n",
    "thislist.sort(key = str.lower)\n",
    "print(thislist)"
   ]
  },
  {
   "cell_type": "markdown",
   "id": "dd57997f",
   "metadata": {},
   "source": [
    "#### 15) sorted()\n",
    "`Syntax : sorted(list_name)`\n",
    "\n",
    " will return a new sorted list leaving the original list unchanged"
   ]
  },
  {
   "cell_type": "code",
   "execution_count": 5,
   "id": "51cf9484",
   "metadata": {},
   "outputs": [
    {
     "data": {
      "text/plain": [
       "[8, 10, 12, 30, 46, 78, 80]"
      ]
     },
     "execution_count": 5,
     "metadata": {},
     "output_type": "execute_result"
    }
   ],
   "source": [
    "numbers = [10,30,46,78,8,12,80]\n",
    "sorted(numbers)"
   ]
  },
  {
   "cell_type": "code",
   "execution_count": 6,
   "id": "c6a92637",
   "metadata": {},
   "outputs": [
    {
     "data": {
      "text/plain": [
       "[10, 30, 46, 78, 8, 12, 80]"
      ]
     },
     "execution_count": 6,
     "metadata": {},
     "output_type": "execute_result"
    }
   ],
   "source": [
    "numbers"
   ]
  },
  {
   "cell_type": "code",
   "execution_count": 7,
   "id": "bc125b7e",
   "metadata": {},
   "outputs": [
    {
     "name": "stdout",
     "output_type": "stream",
     "text": [
      "Original list [10, 30, 46, 78, 8, 12, 80]\n",
      "Sorted list [8, 10, 12, 30, 46, 78, 80]\n"
     ]
    }
   ],
   "source": [
    "numbers = [10,30,46,78,8,12,80]\n",
    "print(\"Original list\",numbers)\n",
    "sorted_numbers = sorted(numbers)\n",
    "print(\"Sorted list\", sorted_numbers)"
   ]
  },
  {
   "cell_type": "markdown",
   "id": "e703ae49",
   "metadata": {},
   "source": [
    "#### 16) .reverse()\n",
    "`Syntax : list.reverse()`\n",
    "\n",
    "reverses the current sorting order of the elements."
   ]
  },
  {
   "cell_type": "code",
   "execution_count": 51,
   "id": "0c631660",
   "metadata": {},
   "outputs": [
    {
     "name": "stdout",
     "output_type": "stream",
     "text": [
      "['cherry', 'Kiwi', 'Orange', 'banana']\n"
     ]
    }
   ],
   "source": [
    "thislist = [\"banana\", \"Orange\", \"Kiwi\", \"cherry\"]\n",
    "thislist.reverse()\n",
    "print(thislist)"
   ]
  },
  {
   "cell_type": "code",
   "execution_count": 65,
   "id": "f112dbb4",
   "metadata": {},
   "outputs": [
    {
     "name": "stdout",
     "output_type": "stream",
     "text": [
      "Fadtare Omkar\n"
     ]
    }
   ],
   "source": [
    "# personal mock doubt: Yup I made it!\n",
    "\n",
    "str1 = 'Omkar Fadtare'\n",
    "list1 = str1.split()\n",
    "list2 = (list(reversed(list1)))\n",
    "print(\" \".join(list2))"
   ]
  },
  {
   "cell_type": "markdown",
   "id": "e4fcb34a",
   "metadata": {},
   "source": [
    "#### 17) resversed()\n",
    "`Syntax : reversed(list)`\n",
    "\n",
    "will return a new reversed list leaving the original list unchanged"
   ]
  },
  {
   "cell_type": "code",
   "execution_count": 9,
   "id": "1771cd96",
   "metadata": {},
   "outputs": [
    {
     "data": {
      "text/plain": [
       "[80, 12, 8, 78, 46, 30, 10]"
      ]
     },
     "execution_count": 9,
     "metadata": {},
     "output_type": "execute_result"
    }
   ],
   "source": [
    "numbers = [10,30,46,78,8,12,80]\n",
    "reversed_list = list(reversed(numbers))\n",
    "reversed_list"
   ]
  },
  {
   "cell_type": "code",
   "execution_count": 10,
   "id": "bfeec7e1",
   "metadata": {},
   "outputs": [
    {
     "data": {
      "text/plain": [
       "[10, 30, 46, 78, 8, 12, 80]"
      ]
     },
     "execution_count": 10,
     "metadata": {},
     "output_type": "execute_result"
    }
   ],
   "source": [
    "numbers"
   ]
  },
  {
   "cell_type": "code",
   "execution_count": 23,
   "id": "69f5ac2b",
   "metadata": {},
   "outputs": [
    {
     "name": "stdout",
     "output_type": "stream",
     "text": [
      "Fadtare Omkar\n"
     ]
    }
   ],
   "source": [
    "str1 = 'Omkar Fadtare'\n",
    "list1 = str1.split()\n",
    "list2 = (list(reversed(list1)))\n",
    "print(\" \".join(list2))"
   ]
  },
  {
   "cell_type": "code",
   "execution_count": 24,
   "id": "7ae57145",
   "metadata": {},
   "outputs": [
    {
     "name": "stdout",
     "output_type": "stream",
     "text": [
      "['fadtare', 'omkar']\n",
      "fadtare omkar\n"
     ]
    }
   ],
   "source": [
    "str1 = 'omkar fadtare'\n",
    "list1 = str1.split()\n",
    "list1.reverse()\n",
    "print(list1)\n",
    "print(\" \".join(list1))\n",
    "\n",
    "#list2 = (list(reversed(list1))) # another method using reversed function\n",
    "#print(\" \".join(list2))"
   ]
  },
  {
   "cell_type": "markdown",
   "id": "eb270dcc",
   "metadata": {},
   "source": [
    "#### 18) .extend()\n",
    "`Syntax : list1_name.extend(list2_name/item)`\n",
    "\n",
    "adds an element to th list`"
   ]
  },
  {
   "cell_type": "code",
   "execution_count": 19,
   "id": "e2b51ac0",
   "metadata": {},
   "outputs": [
    {
     "name": "stdout",
     "output_type": "stream",
     "text": [
      "[1, 2, 3, 4, 5, 6, 7, 8, 9]\n"
     ]
    }
   ],
   "source": [
    "l1 = [1,2,3,4,5]\n",
    "l2 = [6,7,8,9]\n",
    "\n",
    "l1.extend(l2)\n",
    "print(l1)"
   ]
  },
  {
   "cell_type": "code",
   "execution_count": 20,
   "id": "19a6c8a6",
   "metadata": {},
   "outputs": [
    {
     "name": "stdout",
     "output_type": "stream",
     "text": [
      "[1, 2, 3, 4, 5, 'e', 't', 'h', 'a', 'n', 's']\n"
     ]
    }
   ],
   "source": [
    "l1 = [1,2,3,4,5] # here lies the difference between append and extend.\n",
    "l1.extend(\"ethans\")\n",
    "print(l1)"
   ]
  },
  {
   "cell_type": "code",
   "execution_count": 21,
   "id": "a84211c3",
   "metadata": {},
   "outputs": [
    {
     "name": "stdout",
     "output_type": "stream",
     "text": [
      "[1, 2, 3, 4, 5, 1, 2, 3, 4, 5]\n"
     ]
    }
   ],
   "source": [
    "l1 = [1,2,3,4,5]\n",
    "l1.extend([1,2,3,4,5])\n",
    "print(l1)"
   ]
  },
  {
   "cell_type": "markdown",
   "id": "bd950873",
   "metadata": {},
   "source": [
    "#### joining two list"
   ]
  },
  {
   "cell_type": "code",
   "execution_count": 69,
   "id": "98d07c86",
   "metadata": {},
   "outputs": [
    {
     "name": "stdout",
     "output_type": "stream",
     "text": [
      "['a', 'b', 'c', 1, 2, 3]\n"
     ]
    }
   ],
   "source": [
    "list1 = [\"a\", \"b\", \"c\"]\n",
    "list2 = [1, 2, 3]\n",
    "\n",
    "list3 = list1 + list2\n",
    "print(list3)"
   ]
  },
  {
   "cell_type": "code",
   "execution_count": 71,
   "id": "6c4ad41f",
   "metadata": {},
   "outputs": [
    {
     "name": "stdout",
     "output_type": "stream",
     "text": [
      "['a', 'b', 'c', 1, 2, 3]\n"
     ]
    }
   ],
   "source": [
    "# using append function\n",
    "\n",
    "list1 = [\"a\", \"b\" , \"c\"]\n",
    "list2 = [1, 2, 3]\n",
    "\n",
    "for x in list2:\n",
    "    list1.append(x)\n",
    "print(list1)"
   ]
  },
  {
   "cell_type": "code",
   "execution_count": 72,
   "id": "f8d425a7",
   "metadata": {},
   "outputs": [
    {
     "name": "stdout",
     "output_type": "stream",
     "text": [
      "['a', 'b', 'c', 1, 2, 3]\n"
     ]
    }
   ],
   "source": [
    "# using extend function\n",
    "\n",
    "list1 = [\"a\", \"b\" , \"c\"]\n",
    "list2 = [1, 2, 3]\n",
    "\n",
    "list1.extend(list2)\n",
    "print(list1)"
   ]
  },
  {
   "cell_type": "markdown",
   "id": "25cb9ece",
   "metadata": {},
   "source": [
    "#### 19) .copy()\n",
    "this will create a copy of an existing list"
   ]
  },
  {
   "cell_type": "code",
   "execution_count": 27,
   "id": "f7153212",
   "metadata": {},
   "outputs": [
    {
     "name": "stdout",
     "output_type": "stream",
     "text": [
      "list1 >>  [10, 20, 30, 40, 50]\n",
      "list2 >>  [10, 20, 30, 40, 50]\n",
      "list1 >>  [10, 20, 30, 'data', 50]\n",
      "list2 >>  [10, 20, 30, 'data', 50]\n"
     ]
    }
   ],
   "source": [
    "# Simple method\n",
    "\n",
    "list1 = [10,20,30,40,50]\n",
    "list2 = list1\n",
    "\n",
    "\n",
    "print('list1 >> ',list1 )\n",
    "print('list2 >> ',list2 )\n",
    "\n",
    "\n",
    "list2[3] = 'data'\n",
    "print('list1 >> ',list1 )\n",
    "print('list2 >> ',list2 )"
   ]
  },
  {
   "cell_type": "code",
   "execution_count": 28,
   "id": "9a4bbb59",
   "metadata": {},
   "outputs": [
    {
     "name": "stdout",
     "output_type": "stream",
     "text": [
      "list1 >>  [10, 20, 30, 40, 50]\n",
      "list2 >>  [10, 20, 30, 40, 50]\n"
     ]
    }
   ],
   "source": [
    "list1 = [10,20,30,40,50]\n",
    "list2 = list1.copy()\n",
    "\n",
    "\n",
    "print('list1 >> ',list1 )\n",
    "print('list2 >> ',list2 )"
   ]
  },
  {
   "cell_type": "code",
   "execution_count": 29,
   "id": "186b34d4",
   "metadata": {},
   "outputs": [
    {
     "name": "stdout",
     "output_type": "stream",
     "text": [
      "list1 >>  [10, 20, 30, 40, 50]\n",
      "list2 >>  [10, 20, 30, 'data', 50]\n"
     ]
    }
   ],
   "source": [
    "list2[3] = 'data'\n",
    "\n",
    "print('list1 >> ',list1 )\n",
    "print('list2 >> ',list2 )"
   ]
  },
  {
   "cell_type": "code",
   "execution_count": 31,
   "id": "65783e3f",
   "metadata": {},
   "outputs": [
    {
     "name": "stdout",
     "output_type": "stream",
     "text": [
      "['apple', 'banana', 'cherry']\n",
      "['apple', 'banana', 'cherry']\n"
     ]
    }
   ],
   "source": [
    "thislist = [\"apple\", \"banana\", \"cherry\"]\n",
    "mylist = thislist.copy()\n",
    "\n",
    "print(thislist)\n",
    "print(mylist)"
   ]
  },
  {
   "cell_type": "markdown",
   "id": "2db2f761",
   "metadata": {},
   "source": [
    "#### Shallow copy-Deep copy\n",
    "\n",
    "1) If we use shallow copy for nested list and make changes in copied list, these changes will also reflects in original list also.\n",
    "\n",
    "2) Shallow copy only works for nested list.\n",
    "\n",
    "3) If we use shallow copy function in normal list and make changes in copied list, these changes will not reflect in original list.\n",
    "\n",
    "4) Deep copy works same for list and nested list, that means if we make changes in copied list, changes will not reflect into original list.\n",
    "\n",
    "5) If we make changes in original list instead of copied list, above rules remain same. It does not matter whether you are making changes in original list or copied list. "
   ]
  },
  {
   "cell_type": "markdown",
   "id": "4e91bcb4",
   "metadata": {},
   "source": [
    "#### i) Shallow copy"
   ]
  },
  {
   "cell_type": "code",
   "execution_count": 32,
   "id": "1bd56cf1",
   "metadata": {},
   "outputs": [
    {
     "name": "stdout",
     "output_type": "stream",
     "text": [
      "list1 >>  [[10, 20], [30, 40], [50, 60]]\n",
      "list2 >>  [[10, 20], [30, 40], [50, 60]]\n"
     ]
    }
   ],
   "source": [
    "list1 = [[10,20],[30,40],[50,60]]\n",
    "list2 = list1.copy()  # Shallow copy\n",
    "\n",
    "print('list1 >> ',list1 )\n",
    "print('list2 >> ',list2 )"
   ]
  },
  {
   "cell_type": "code",
   "execution_count": 33,
   "id": "64c7e3ca",
   "metadata": {},
   "outputs": [
    {
     "name": "stdout",
     "output_type": "stream",
     "text": [
      "list1 >>  [[10, 20], [30, 40], [10000, 60]]\n",
      "list2 >>  [[10, 20], [30, 40], [10000, 60]]\n"
     ]
    }
   ],
   "source": [
    "list2[2][0] = 10000\n",
    "\n",
    "print('list1 >> ',list1 )\n",
    "print('list2 >> ',list2 )"
   ]
  },
  {
   "cell_type": "code",
   "execution_count": 43,
   "id": "d03e398e",
   "metadata": {},
   "outputs": [
    {
     "name": "stdout",
     "output_type": "stream",
     "text": [
      "[['py', 'pyth', 'python'], ['mach', 'machine', 'leaning'], ['data', 'sci', 'science']]\n",
      "[['py', 'pyth', 'python'], ['mach', 'machine', 'leaning'], ['data', 'sci', 'science']]\n",
      "After copy function [['py', 'deep learning', 'python'], ['mach', 'machine', 'leaning'], ['data', 'sci', 'science']]\n",
      "After copy function [['py', 'deep learning', 'python'], ['mach', 'machine', 'leaning'], ['data', 'sci', 'science']]\n"
     ]
    }
   ],
   "source": [
    "list1 = [['py','pyth','python'],['mach','machine','leaning'],['data','sci','science']]\n",
    "list2 = list1.copy()\n",
    "print(list1)\n",
    "print(list2)\n",
    "\n",
    "list2[0][1] = 'deep learning'\n",
    "print('After copy function',list1)\n",
    "print('After copy function',list2)"
   ]
  },
  {
   "cell_type": "code",
   "execution_count": 44,
   "id": "5c048a93",
   "metadata": {},
   "outputs": [
    {
     "name": "stdout",
     "output_type": "stream",
     "text": [
      "['python', ['machine leaning', 'data science']]\n",
      "['python', ['machine leaning', 'data science']]\n",
      "After copy function ['python', ['machine leaning', 'data science']]\n",
      "After copy function ['deep learning', ['machine leaning', 'data science']]\n"
     ]
    }
   ],
   "source": [
    "list1 = ['python',['machine leaning','data science']]\n",
    "list2 = list1.copy()\n",
    "print(list1)\n",
    "print(list2)\n",
    "\n",
    "list2[0] = 'deep learning'\n",
    "print('After copy function',list1)\n",
    "print('After copy function',list2)"
   ]
  },
  {
   "cell_type": "code",
   "execution_count": 36,
   "id": "e0bf6d53",
   "metadata": {},
   "outputs": [
    {
     "name": "stdout",
     "output_type": "stream",
     "text": [
      "['py', 'pyth', 'python', 'mach', 'machine', 'leaning', 'data', 'sci', 'science']\n",
      "['py', 'pyth', 'python', 'mach', 'machine', 'leaning', 'data', 'sci', 'science']\n",
      "After copy function ['py', 'pyth', 'python', 'mach', 'machine', 'leaning', 'data', 'sci', 'science']\n",
      "After copy function ['py', 'deep learning', 'python', 'mach', 'machine', 'leaning', 'data', 'sci', 'science']\n"
     ]
    }
   ],
   "source": [
    "list1 = ['py','pyth','python','mach','machine','leaning','data','sci','science']\n",
    "list2 = list1.copy()\n",
    "print(list1)\n",
    "print(list2)\n",
    "\n",
    "list2[1] = 'deep learning'\n",
    "print('After copy function',list1)\n",
    "print('After copy function',list2)"
   ]
  },
  {
   "cell_type": "code",
   "execution_count": 52,
   "id": "fb64df26",
   "metadata": {},
   "outputs": [
    {
     "name": "stdout",
     "output_type": "stream",
     "text": [
      "[1, 2, 3, 4, 5, 6]\n",
      "[1, 2, 3, 4, 5, 6]\n",
      "After copying ['python', 2, 3, 4, 5, 6]\n",
      "After copying [1, 2, 3, 4, 5, 6]\n"
     ]
    }
   ],
   "source": [
    "list1 = [1,2,3,4,5,6]\n",
    "list2 = list1.copy()\n",
    "print(list1)\n",
    "print(list2)\n",
    "\n",
    "list1[0] = 'python'\n",
    "print('After copying',list1)\n",
    "print('After copying',list2)"
   ]
  },
  {
   "cell_type": "code",
   "execution_count": 53,
   "id": "9e03234a",
   "metadata": {},
   "outputs": [
    {
     "name": "stdout",
     "output_type": "stream",
     "text": [
      "[[1, 2, 3], 4, 5, 6]\n",
      "[[1, 2, 3], 4, 5, 6]\n",
      "After copying [[1, 'python', 3], 4, 5, 6]\n",
      "After copying [[1, 'python', 3], 4, 5, 6]\n"
     ]
    }
   ],
   "source": [
    "list1 = [[1,2,3],4,5,6]\n",
    "list2 = list1.copy()\n",
    "print(list1)\n",
    "print(list2)\n",
    "\n",
    "list1[0][1] = 'python'\n",
    "print('After copying',list1)\n",
    "print('After copying',list2)"
   ]
  },
  {
   "cell_type": "markdown",
   "id": "1e7d4a77",
   "metadata": {},
   "source": [
    "#### ii) Deep copy"
   ]
  },
  {
   "cell_type": "code",
   "execution_count": 45,
   "id": "3d2dd416",
   "metadata": {},
   "outputs": [],
   "source": [
    "import copy # We have to import copy module to use deep copy"
   ]
  },
  {
   "cell_type": "code",
   "execution_count": 46,
   "id": "0fa98a8a",
   "metadata": {},
   "outputs": [
    {
     "name": "stdout",
     "output_type": "stream",
     "text": [
      "[['py', 'pyth', 'python'], ['mach', 'machine', 'leaning'], ['data', 'sci', 'science']]\n",
      "[['py', 'pyth', 'python'], ['mach', 'machine', 'leaning'], ['data', 'sci', 'science']]\n",
      "After copy function [['py', 'pyth', 'python'], ['mach', 'machine', 'leaning'], ['data', 'sci', 'science']]\n",
      "After copy function [['py', 'deep learning', 'python'], ['mach', 'machine', 'leaning'], ['data', 'sci', 'science']]\n"
     ]
    }
   ],
   "source": [
    "list1 = [['py','pyth','python'],['mach','machine','leaning'],['data','sci','science']]\n",
    "list2 = copy.deepcopy(list1)\n",
    "print(list1)\n",
    "print(list2)\n",
    "\n",
    "list2[0][1] = 'deep learning'\n",
    "print('After copy function',list1)\n",
    "print('After copy function',list2)"
   ]
  },
  {
   "cell_type": "code",
   "execution_count": 47,
   "id": "a5008106",
   "metadata": {},
   "outputs": [
    {
     "name": "stdout",
     "output_type": "stream",
     "text": [
      "['python', ['machine leaning', 'data science']]\n",
      "['python', ['machine leaning', 'data science']]\n",
      "After copy function ['python', ['machine leaning', 'data science']]\n",
      "After copy function ['deep learning', ['machine leaning', 'data science']]\n"
     ]
    }
   ],
   "source": [
    "list1 = ['python',['machine leaning','data science']]\n",
    "list2 = copy.deepcopy(list1)\n",
    "print(list1)\n",
    "print(list2)\n",
    "\n",
    "list2[0] = 'deep learning'\n",
    "print('After copy function',list1)\n",
    "print('After copy function',list2)"
   ]
  },
  {
   "cell_type": "code",
   "execution_count": 48,
   "id": "91c38985",
   "metadata": {},
   "outputs": [
    {
     "name": "stdout",
     "output_type": "stream",
     "text": [
      "['py', 'pyth', 'python', 'mach', 'machine', 'leaning', 'data', 'sci', 'science']\n",
      "['py', 'pyth', 'python', 'mach', 'machine', 'leaning', 'data', 'sci', 'science']\n",
      "After copy function ['py', 'pyth', 'python', 'mach', 'machine', 'leaning', 'data', 'sci', 'science']\n",
      "After copy function ['py', 'deep learning', 'python', 'mach', 'machine', 'leaning', 'data', 'sci', 'science']\n"
     ]
    }
   ],
   "source": [
    "list1 = ['py','pyth','python','mach','machine','leaning','data','sci','science']\n",
    "list2 = copy.deepcopy(list1)\n",
    "print(list1)\n",
    "print(list2)\n",
    "\n",
    "list2[1] = 'deep learning'\n",
    "print('After copy function',list1)\n",
    "print('After copy function',list2)"
   ]
  },
  {
   "cell_type": "code",
   "execution_count": 50,
   "id": "e8cb7cf9",
   "metadata": {},
   "outputs": [
    {
     "name": "stdout",
     "output_type": "stream",
     "text": [
      "[1, 2, 3, 4, 5, 6]\n",
      "[1, 2, 3, 4, 5, 6]\n",
      "After copying ['python', 2, 3, 4, 5, 6]\n",
      "After copying [1, 2, 3, 4, 5, 6]\n"
     ]
    }
   ],
   "source": [
    "list1 = [1,2,3,4,5,6]\n",
    "list2 = copy.deepcopy(list1)\n",
    "print(list1)\n",
    "print(list2)\n",
    "\n",
    "list1[0] = 'python'\n",
    "print('After copying',list1)\n",
    "print('After copying',list2)"
   ]
  },
  {
   "cell_type": "code",
   "execution_count": 51,
   "id": "f7a2307d",
   "metadata": {},
   "outputs": [
    {
     "name": "stdout",
     "output_type": "stream",
     "text": [
      "[[1, 2, 3], 4, 5, 6]\n",
      "[[1, 2, 3], 4, 5, 6]\n",
      "After copying [[1, 'python', 3], 4, 5, 6]\n",
      "After copying [[1, 2, 3], 4, 5, 6]\n"
     ]
    }
   ],
   "source": [
    "list1 = [[1,2,3],4,5,6]\n",
    "list2 = copy.deepcopy(list1)\n",
    "print(list1)\n",
    "print(list2)\n",
    "\n",
    "list1[0][1] = 'python'\n",
    "print('After copying',list1)\n",
    "print('After copying',list2)"
   ]
  },
  {
   "cell_type": "markdown",
   "id": "daba7a70",
   "metadata": {},
   "source": [
    "#### List constructor"
   ]
  },
  {
   "cell_type": "code",
   "execution_count": 54,
   "id": "0b975dbc",
   "metadata": {},
   "outputs": [
    {
     "name": "stdout",
     "output_type": "stream",
     "text": [
      "python <class 'str'>\n",
      "['p', 'y', 't', 'h', 'o', 'n'] <class 'list'>\n"
     ]
    }
   ],
   "source": [
    "str1 = 'python'\n",
    "print(str1, type(str1))\n",
    "\n",
    "list1 = list(str1)       # list constructor\n",
    "print(list1, type(list1))"
   ]
  },
  {
   "cell_type": "code",
   "execution_count": 56,
   "id": "34879f92",
   "metadata": {},
   "outputs": [
    {
     "name": "stdout",
     "output_type": "stream",
     "text": [
      "['d', 'a', 't', 'a']\n"
     ]
    }
   ],
   "source": [
    "list1 = list('data')\n",
    "print(list1)"
   ]
  },
  {
   "cell_type": "code",
   "execution_count": 57,
   "id": "edec6450",
   "metadata": {},
   "outputs": [
    {
     "data": {
      "text/plain": [
       "'data'"
      ]
     },
     "execution_count": 57,
     "metadata": {},
     "output_type": "execute_result"
    }
   ],
   "source": [
    "# list to string\n",
    "\n",
    "''.join(list1)"
   ]
  },
  {
   "cell_type": "code",
   "execution_count": 59,
   "id": "3729163c",
   "metadata": {},
   "outputs": [
    {
     "data": {
      "text/plain": [
       "'pythonanddatascience'"
      ]
     },
     "execution_count": 59,
     "metadata": {},
     "output_type": "execute_result"
    }
   ],
   "source": [
    "str1 = 'python and data science'\n",
    "''.join(str1.split(' '))"
   ]
  },
  {
   "cell_type": "markdown",
   "id": "05370a49",
   "metadata": {},
   "source": [
    "#### List comprehension\n",
    "It is a shortest way of writing a code, developers use this mehod.\n",
    "\n",
    "`syntax: `\n",
    "\n",
    "new_list = [expression for item in list1]\n",
    "\n",
    "new_list = [expression for item in list1 if condition]"
   ]
  },
  {
   "cell_type": "code",
   "execution_count": 61,
   "id": "b0c428cc",
   "metadata": {},
   "outputs": [
    {
     "name": "stdout",
     "output_type": "stream",
     "text": [
      "even_list [2, 4, 6, 8, 10]\n",
      "odd_list [1, 3, 5, 7, 9]\n"
     ]
    }
   ],
   "source": [
    "# Basic way-\n",
    "\n",
    "even_list = []\n",
    "odd_list = []\n",
    "\n",
    "for i in range(1,11):\n",
    "    if (i%2 == 0):\n",
    "        even_list.append(i)\n",
    "    else:\n",
    "        odd_list.append(i)\n",
    "        \n",
    "print('even_list',even_list)\n",
    "print('odd_list',odd_list)"
   ]
  },
  {
   "cell_type": "code",
   "execution_count": 109,
   "id": "1a98fe3c",
   "metadata": {},
   "outputs": [
    {
     "name": "stdout",
     "output_type": "stream",
     "text": [
      "[2, 4, 6, 8, 10]\n",
      "[1, 3, 5, 7, 9]\n"
     ]
    }
   ],
   "source": [
    "# Advanced way- using list comprehension\n",
    "\n",
    "even = []\n",
    "odd = []\n",
    "\n",
    "\n",
    "list1 = [(i,even.append(i) if i%2 == 0 else odd.append(i))for i in range(1,11)]\n",
    "print(even)\n",
    "print(odd)"
   ]
  },
  {
   "cell_type": "code",
   "execution_count": 110,
   "id": "2fa4a63b",
   "metadata": {},
   "outputs": [
    {
     "data": {
      "text/plain": [
       "['MONDAY', 'TUESDAY', 'WEDNESDAY']"
      ]
     },
     "execution_count": 110,
     "metadata": {},
     "output_type": "execute_result"
    }
   ],
   "source": [
    "weekdays = [\"Monday\", \"Tuesday\", \"Wednesday\"]\n",
    "upper_weekdays = [days.upper() for days in weekdays]\n",
    "upper_weekdays"
   ]
  },
  {
   "cell_type": "code",
   "execution_count": 111,
   "id": "1424556a",
   "metadata": {},
   "outputs": [
    {
     "data": {
      "text/plain": [
       "[2, 4, 6, 8]"
      ]
     },
     "execution_count": 111,
     "metadata": {},
     "output_type": "execute_result"
    }
   ],
   "source": [
    "list1 = [2,3,4,5,6,7,8,9]\n",
    "\n",
    "even_numbers = [num for num in list1 if num % 2 == 0]\n",
    "even_numbers"
   ]
  },
  {
   "cell_type": "code",
   "execution_count": 112,
   "id": "da2d2ff4",
   "metadata": {},
   "outputs": [
    {
     "data": {
      "text/plain": [
       "[16, 36, 64, 100]"
      ]
     },
     "execution_count": 112,
     "metadata": {},
     "output_type": "execute_result"
    }
   ],
   "source": [
    "list1 = [4,1,3,6,7,8,10,11,34,36,20,55,77,99,100]\n",
    "\n",
    "even = [ num**2  for num in  list1   if num%2 == 0 and num<15] \n",
    "even"
   ]
  },
  {
   "cell_type": "code",
   "execution_count": 113,
   "id": "f2c0d34b",
   "metadata": {},
   "outputs": [
    {
     "data": {
      "text/plain": [
       "['TUESDAY', 'WEDNESDAY', 'THURSDAY', 'SATURDAY']"
      ]
     },
     "execution_count": 113,
     "metadata": {},
     "output_type": "execute_result"
    }
   ],
   "source": [
    "weekdays = ['Sunday', 'Monday','Tuesday','Wednesday','Thursday','Friday',\"Saturday\"]\n",
    "\n",
    "list6 = [day.upper() for day in weekdays if len(day) > 6]\n",
    "list6"
   ]
  },
  {
   "cell_type": "code",
   "execution_count": 114,
   "id": "7d9497dc",
   "metadata": {},
   "outputs": [
    {
     "data": {
      "text/plain": [
       "['SUNDAY', 'MONDAY', 'FRIDAY']"
      ]
     },
     "execution_count": 114,
     "metadata": {},
     "output_type": "execute_result"
    }
   ],
   "source": [
    "weekdays = ['Sunday', 'Monday','Tuesday','Wednesday','Thursday','Friday',\"Saturday\"]\n",
    "\n",
    "l1 = [i.upper() for i in weekdays if len(i)==6]\n",
    "l1"
   ]
  },
  {
   "cell_type": "code",
   "execution_count": 6,
   "id": "df4017b9",
   "metadata": {},
   "outputs": [
    {
     "name": "stdout",
     "output_type": "stream",
     "text": [
      "[4, 16, 36, 64, 100, 144, 196, 256, 324, 400]\n",
      "[1, 9, 25, 49, 81, 121, 169, 225, 289, 361]\n"
     ]
    }
   ],
   "source": [
    "even_squares = []\n",
    "odd_squares = []\n",
    "list1 = [even_squares.append(i**2) if i%2==0 else odd_squares.append(i**2) for i in range(1,21)]\n",
    "print(even_squares)\n",
    "print(odd_squares)"
   ]
  },
  {
   "cell_type": "code",
   "execution_count": 10,
   "id": "b32b8597",
   "metadata": {},
   "outputs": [
    {
     "name": "stdout",
     "output_type": "stream",
     "text": [
      "There can be 16 possibilities.\n"
     ]
    },
    {
     "data": {
      "text/plain": [
       "[(1, 5),\n",
       " (1, 6),\n",
       " (1, 7),\n",
       " (1, 8),\n",
       " (2, 5),\n",
       " (2, 6),\n",
       " (2, 7),\n",
       " (2, 8),\n",
       " (3, 5),\n",
       " (3, 6),\n",
       " (3, 7),\n",
       " (3, 8),\n",
       " (4, 5),\n",
       " (4, 6),\n",
       " (4, 7),\n",
       " (4, 8)]"
      ]
     },
     "execution_count": 10,
     "metadata": {},
     "output_type": "execute_result"
    }
   ],
   "source": [
    "# Cartesian product: Number of possibilities\n",
    "list1 = [1,2,3,4]\n",
    "list2 = [5,6,7,8]\n",
    "list3 = [(a,b) for a in list1 for b in list2]\n",
    "print(f'There can be {len(list3)} possibilities.')\n",
    "list3"
   ]
  }
 ],
 "metadata": {
  "kernelspec": {
   "display_name": "Python 3 (ipykernel)",
   "language": "python",
   "name": "python3"
  },
  "language_info": {
   "codemirror_mode": {
    "name": "ipython",
    "version": 3
   },
   "file_extension": ".py",
   "mimetype": "text/x-python",
   "name": "python",
   "nbconvert_exporter": "python",
   "pygments_lexer": "ipython3",
   "version": "3.9.12"
  }
 },
 "nbformat": 4,
 "nbformat_minor": 5
}
