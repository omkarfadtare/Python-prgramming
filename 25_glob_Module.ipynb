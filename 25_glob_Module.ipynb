{
 "cells": [
  {
   "cell_type": "markdown",
   "id": "06ba8549",
   "metadata": {},
   "source": [
    "#### glob module\n",
    "It is an inbuild module in python standard library which helps you to find path names in your file system which are matching a specified pattern.\n",
    "\n",
    "For example lets just say i have some folder named my_folder and i have some files in it with several extensions (like .txt, .png, .jpeg) then by using globe module i can get the only files having .txt extension"
   ]
  },
  {
   "cell_type": "code",
   "execution_count": 5,
   "id": "07b30645",
   "metadata": {},
   "outputs": [
    {
     "name": "stdout",
     "output_type": "stream",
     "text": [
      "['Anira-Pan.jpg', 'images (1).jpg', 'images.jpg', 'Marvee-Pan.jpg', 'Nidhi-Parents-Pan-Card.jpg']\n"
     ]
    }
   ],
   "source": [
    "# normal way:\n",
    "\n",
    "import os\n",
    "files = os.listdir(r'C:\\Users\\MY\\anaconda3\\Data_science\\Velocity\\Python_\\My_notes\\h1_glob_Module\\sample1')\n",
    "list1 = []\n",
    "for file in files:\n",
    "    if file.endswith('.jpg'):\n",
    "        list1.append(file)\n",
    "print(list1)"
   ]
  },
  {
   "cell_type": "code",
   "execution_count": 8,
   "id": "d139bb47",
   "metadata": {},
   "outputs": [
    {
     "data": {
      "text/plain": [
       "['C:\\\\Users\\\\MY\\\\anaconda3\\\\Data_science\\\\Velocity\\\\Python_\\\\My_notes\\\\h1_glob_Module\\\\sample1\\\\Anira-Pan.jpg',\n",
       " 'C:\\\\Users\\\\MY\\\\anaconda3\\\\Data_science\\\\Velocity\\\\Python_\\\\My_notes\\\\h1_glob_Module\\\\sample1\\\\images (1).jpg',\n",
       " 'C:\\\\Users\\\\MY\\\\anaconda3\\\\Data_science\\\\Velocity\\\\Python_\\\\My_notes\\\\h1_glob_Module\\\\sample1\\\\images.jpg',\n",
       " 'C:\\\\Users\\\\MY\\\\anaconda3\\\\Data_science\\\\Velocity\\\\Python_\\\\My_notes\\\\h1_glob_Module\\\\sample1\\\\Marvee-Pan.jpg',\n",
       " 'C:\\\\Users\\\\MY\\\\anaconda3\\\\Data_science\\\\Velocity\\\\Python_\\\\My_notes\\\\h1_glob_Module\\\\sample1\\\\Nidhi-Parents-Pan-Card.jpg']"
      ]
     },
     "execution_count": 8,
     "metadata": {},
     "output_type": "execute_result"
    }
   ],
   "source": [
    "# Easy way: It will return all the file paths having specified extension\n",
    "\n",
    "import glob\n",
    "glob.glob(r'C:\\Users\\MY\\anaconda3\\Data_science\\Velocity\\Python_\\My_notes\\h1_glob_Module\\sample1\\*.jpg')"
   ]
  },
  {
   "cell_type": "code",
   "execution_count": 10,
   "id": "7b2376c4",
   "metadata": {},
   "outputs": [],
   "source": [
    "# You can use regression concepts here also like the below example\n",
    "\n",
    "# glob.glob(r'C:\\Users\\MY\\anaconda3\\Data_science\\Velocity\\Python_\\My_notes\\h1_glob_Module\\sample1\\[0-9]*.jpg')"
   ]
  },
  {
   "cell_type": "markdown",
   "id": "1d9b6a42",
   "metadata": {},
   "source": [
    "#### Double astricks**"
   ]
  },
  {
   "cell_type": "code",
   "execution_count": 15,
   "id": "67227f81",
   "metadata": {},
   "outputs": [
    {
     "data": {
      "text/plain": [
       "['C:\\\\Users\\\\MY\\\\anaconda3\\\\Data_science\\\\Velocity\\\\Python_\\\\My_notes\\\\h1_glob_Module\\\\sample1\\\\Anira-Pan.jpg',\n",
       " 'C:\\\\Users\\\\MY\\\\anaconda3\\\\Data_science\\\\Velocity\\\\Python_\\\\My_notes\\\\h1_glob_Module\\\\sample1\\\\images (1).jpg',\n",
       " 'C:\\\\Users\\\\MY\\\\anaconda3\\\\Data_science\\\\Velocity\\\\Python_\\\\My_notes\\\\h1_glob_Module\\\\sample1\\\\images.jpg',\n",
       " 'C:\\\\Users\\\\MY\\\\anaconda3\\\\Data_science\\\\Velocity\\\\Python_\\\\My_notes\\\\h1_glob_Module\\\\sample1\\\\Marvee-Pan.jpg',\n",
       " 'C:\\\\Users\\\\MY\\\\anaconda3\\\\Data_science\\\\Velocity\\\\Python_\\\\My_notes\\\\h1_glob_Module\\\\sample1\\\\Nidhi-Parents-Pan-Card.jpg',\n",
       " 'C:\\\\Users\\\\MY\\\\anaconda3\\\\Data_science\\\\Velocity\\\\Python_\\\\My_notes\\\\h1_glob_Module\\\\sample1\\\\sample2\\\\PAN-CARD.jpg']"
      ]
     },
     "execution_count": 15,
     "metadata": {},
     "output_type": "execute_result"
    }
   ],
   "source": [
    "# Double astricks** recursive is true will match any files and zero or more directories and subdirectories\n",
    "\n",
    "glob.glob(r'C:\\Users\\MY\\anaconda3\\Data_science\\Velocity\\Python_\\My_notes\\h1_glob_Module\\sample1\\**\\*.jpg',recursive=True)"
   ]
  },
  {
   "cell_type": "markdown",
   "id": "b1ffbb99",
   "metadata": {},
   "source": [
    "#### iglob()"
   ]
  },
  {
   "cell_type": "code",
   "execution_count": 23,
   "id": "ddae50e5",
   "metadata": {},
   "outputs": [
    {
     "name": "stdout",
     "output_type": "stream",
     "text": [
      "C:\\Users\\MY\\anaconda3\\Data_science\\Velocity\\Python_\\My_notes\\h1_glob_Module\\sample1\\Anira-Pan.jpg\n",
      "C:\\Users\\MY\\anaconda3\\Data_science\\Velocity\\Python_\\My_notes\\h1_glob_Module\\sample1\\images (1).jpg\n",
      "C:\\Users\\MY\\anaconda3\\Data_science\\Velocity\\Python_\\My_notes\\h1_glob_Module\\sample1\\images.jpg\n",
      "C:\\Users\\MY\\anaconda3\\Data_science\\Velocity\\Python_\\My_notes\\h1_glob_Module\\sample1\\Marvee-Pan.jpg\n",
      "C:\\Users\\MY\\anaconda3\\Data_science\\Velocity\\Python_\\My_notes\\h1_glob_Module\\sample1\\Nidhi-Parents-Pan-Card.jpg\n",
      "C:\\Users\\MY\\anaconda3\\Data_science\\Velocity\\Python_\\My_notes\\h1_glob_Module\\sample1\\sample2\\PAN-CARD.jpg\n",
      "\n",
      "That's it!! printed all\n"
     ]
    }
   ],
   "source": [
    "# It will returns a result in the form of iterator\n",
    "\n",
    "file = glob.iglob(r'C:\\Users\\MY\\anaconda3\\Data_science\\Velocity\\Python_\\My_notes\\h1_glob_Module\\sample1\\**\\*.jpg',recursive=True)\n",
    "\n",
    "try:\n",
    "    print(next(file))\n",
    "    print(next(file))\n",
    "    print(next(file))\n",
    "    print(next(file))\n",
    "    print(next(file))\n",
    "    print(next(file))\n",
    "    print(next(file))\n",
    "except:\n",
    "    print()\n",
    "    print(\"That's it!! printed all\")"
   ]
  },
  {
   "cell_type": "code",
   "execution_count": 24,
   "id": "454fe9dc",
   "metadata": {},
   "outputs": [
    {
     "name": "stdout",
     "output_type": "stream",
     "text": [
      "C:\\Users\\MY\\anaconda3\\Data_science\\Velocity\\Python_\\My_notes\\h1_glob_Module\\sample1\\Anira-Pan.jpg\n",
      "C:\\Users\\MY\\anaconda3\\Data_science\\Velocity\\Python_\\My_notes\\h1_glob_Module\\sample1\\images (1).jpg\n",
      "C:\\Users\\MY\\anaconda3\\Data_science\\Velocity\\Python_\\My_notes\\h1_glob_Module\\sample1\\images.jpg\n",
      "C:\\Users\\MY\\anaconda3\\Data_science\\Velocity\\Python_\\My_notes\\h1_glob_Module\\sample1\\Marvee-Pan.jpg\n",
      "C:\\Users\\MY\\anaconda3\\Data_science\\Velocity\\Python_\\My_notes\\h1_glob_Module\\sample1\\Nidhi-Parents-Pan-Card.jpg\n",
      "C:\\Users\\MY\\anaconda3\\Data_science\\Velocity\\Python_\\My_notes\\h1_glob_Module\\sample1\\sample2\\PAN-CARD.jpg\n",
      "\n",
      "That's it!! printed all\n"
     ]
    }
   ],
   "source": [
    "# Using while and exception handling\n",
    "\n",
    "file = glob.iglob(r'C:\\Users\\MY\\anaconda3\\Data_science\\Velocity\\Python_\\My_notes\\h1_glob_Module\\sample1\\**\\*.jpg',recursive=True)\n",
    "\n",
    "while True:\n",
    "    try:\n",
    "        print(next(file))\n",
    "    except:\n",
    "        print()\n",
    "        print(\"That's it!! printed all\")   \n",
    "        break"
   ]
  }
 ],
 "metadata": {
  "kernelspec": {
   "display_name": "Python 3",
   "language": "python",
   "name": "python3"
  },
  "language_info": {
   "codemirror_mode": {
    "name": "ipython",
    "version": 3
   },
   "file_extension": ".py",
   "mimetype": "text/x-python",
   "name": "python",
   "nbconvert_exporter": "python",
   "pygments_lexer": "ipython3",
   "version": "3.8.8"
  }
 },
 "nbformat": 4,
 "nbformat_minor": 5
}
