{
 "cells": [
  {
   "cell_type": "markdown",
   "id": "39777f8a",
   "metadata": {},
   "source": [
    "#### Escape characters"
   ]
  },
  {
   "cell_type": "markdown",
   "id": "40bf9897",
   "metadata": {},
   "source": [
    "#### \\\n",
    "Removes the functionality of single quote'"
   ]
  },
  {
   "cell_type": "code",
   "execution_count": 1,
   "id": "d649c4e4",
   "metadata": {},
   "outputs": [],
   "source": [
    "# If we want to use apostrophe in our sentence then there are basically two methods\n",
    "# 1) Use of double quotes for string\n",
    "# 2) Use of escape characters"
   ]
  },
  {
   "cell_type": "code",
   "execution_count": 2,
   "id": "160132b3",
   "metadata": {},
   "outputs": [
    {
     "name": "stdout",
     "output_type": "stream",
     "text": [
      "world's population is increasing day by day\n"
     ]
    }
   ],
   "source": [
    "# 1)\n",
    "\n",
    "str1 = \"world's population is increasing day by day\"\n",
    "print(str1)"
   ]
  },
  {
   "cell_type": "code",
   "execution_count": 2,
   "id": "b43cbb6a",
   "metadata": {},
   "outputs": [
    {
     "name": "stdout",
     "output_type": "stream",
     "text": [
      "India's Taj Mahal\n"
     ]
    }
   ],
   "source": [
    "# 2) Use of escape character\n",
    "\n",
    "str2 = 'India\\'s Taj Mahal'\n",
    "print(str2)"
   ]
  },
  {
   "cell_type": "code",
   "execution_count": 1,
   "id": "f0b89555",
   "metadata": {},
   "outputs": [
    {
     "name": "stdout",
     "output_type": "stream",
     "text": [
      "python\"s cla\\ss\n",
      "15\n"
     ]
    }
   ],
   "source": [
    "s1 = \"python\\\"s cla\\ss\"\n",
    "print(s1)\n",
    "print(len(s1))"
   ]
  },
  {
   "cell_type": "code",
   "execution_count": 2,
   "id": "63e990bc",
   "metadata": {},
   "outputs": [],
   "source": [
    "# Below code will not get printed since first escape character is removing functionality of second escape character\n",
    "\n",
    "# s1 = \"python\\\\\"s cla\\ss\"\n",
    "# print(s1)\n",
    "# print(len(s1))"
   ]
  },
  {
   "cell_type": "code",
   "execution_count": 3,
   "id": "12926d41",
   "metadata": {},
   "outputs": [
    {
     "name": "stdout",
     "output_type": "stream",
     "text": [
      "python and \"data\" science class\n"
     ]
    }
   ],
   "source": [
    "s1 = \"python and \\\"data\\\" science class\"\n",
    "print(s1)"
   ]
  },
  {
   "cell_type": "markdown",
   "id": "76335776",
   "metadata": {},
   "source": [
    "#### \\n\n",
    "Indicates end of line of text (enters into the next line) or simply we can say it is used to print in a new line."
   ]
  },
  {
   "cell_type": "code",
   "execution_count": 10,
   "id": "af125543",
   "metadata": {},
   "outputs": [
    {
     "name": "stdout",
     "output_type": "stream",
     "text": [
      "Hello\n",
      "World\n"
     ]
    }
   ],
   "source": [
    "str3 = 'Hello\\nWorld'\n",
    "print(str3)"
   ]
  },
  {
   "cell_type": "markdown",
   "id": "b106193a",
   "metadata": {},
   "source": [
    "#### \\t\n",
    "To insert tab (space) in between words "
   ]
  },
  {
   "cell_type": "code",
   "execution_count": 1,
   "id": "d7b6cc48",
   "metadata": {},
   "outputs": [
    {
     "name": "stdout",
     "output_type": "stream",
     "text": [
      "Hello\tWorld\n"
     ]
    }
   ],
   "source": [
    "str4 = 'Hello\\tWorld' # Doubt?? How many spaces it is gonna print? For that reffer to string function .expandtabs() function.\n",
    "print(str4)"
   ]
  },
  {
   "cell_type": "code",
   "execution_count": 12,
   "id": "1433a87a",
   "metadata": {},
   "outputs": [
    {
     "name": "stdout",
     "output_type": "stream",
     "text": [
      "Hello\n",
      "\tWorld\n"
     ]
    }
   ],
   "source": [
    "str5 = 'Hello\\n\\tWorld'\n",
    "print(str5)"
   ]
  },
  {
   "cell_type": "code",
   "execution_count": 2,
   "id": "6c2440ce",
   "metadata": {},
   "outputs": [
    {
     "name": "stdout",
     "output_type": "stream",
     "text": [
      "This will insert one \\ (backslash).\n"
     ]
    }
   ],
   "source": [
    "str1 = \"This will insert one \\\\ (backslash).\"\n",
    "print(str1) "
   ]
  },
  {
   "cell_type": "markdown",
   "id": "8435b41e",
   "metadata": {},
   "source": [
    "#### \\\\\\ & Raw string concept\n",
    "Raw strings are the strings which treats backslash (\\) as a literal characters, basically raw strings are used to define folder path.\n",
    "Instead of defining a string as a raw string we can use double backslash (\\\\) also."
   ]
  },
  {
   "cell_type": "code",
   "execution_count": 4,
   "id": "ef34901d",
   "metadata": {},
   "outputs": [
    {
     "name": "stdout",
     "output_type": "stream",
     "text": [
      "C:\\Windows\\System32\\cmd.exe\n"
     ]
    }
   ],
   "source": [
    "# Use of double backslash\n",
    "\n",
    "path = 'C:\\\\Windows\\\\System32\\\\cmd.exe'\n",
    "print(path)"
   ]
  },
  {
   "cell_type": "code",
   "execution_count": 5,
   "id": "aea9eb70",
   "metadata": {},
   "outputs": [
    {
     "name": "stdout",
     "output_type": "stream",
     "text": [
      "C:\\Windows\\System32\\cmd.exe\n"
     ]
    }
   ],
   "source": [
    "# Use of raw string\n",
    "\n",
    "path = r'C:\\Windows\\System32\\cmd.exe'\n",
    "print(path)"
   ]
  },
  {
   "cell_type": "markdown",
   "id": "270b7131",
   "metadata": {},
   "source": [
    "#### Indexing\n",
    "(indexing from '0' whereas length starts from '1')\n",
    "\n",
    "syntax: [start index (included): end index (excluded): step size]\n",
    "\n",
    "`start_index : default = 0`\n",
    "\n",
    "`end_index : len(string)`\n",
    "\n",
    "`step_size : default = 1`"
   ]
  },
  {
   "cell_type": "markdown",
   "id": "cd1c344c",
   "metadata": {},
   "source": [
    "string  = 'python'\n",
    " \n",
    " `p   y   t   h   o   n`\n",
    "\n",
    " `0   1   2   3   4   5   >> positive indexing`\n",
    "\n",
    "`-6  -5  -4  -3  -2  -1  >> negative indexing`"
   ]
  },
  {
   "cell_type": "code",
   "execution_count": 5,
   "id": "68f64d31",
   "metadata": {},
   "outputs": [
    {
     "name": "stdout",
     "output_type": "stream",
     "text": [
      "data science\n",
      "data science\n",
      "data science\n",
      "data science\n"
     ]
    }
   ],
   "source": [
    "# Positive indexing\n",
    "\n",
    "str1 = 'data science'\n",
    "print(str1[::])\n",
    "print(str1[::1])\n",
    "print(str1[0::1])\n",
    "print(str1[0:len(str1):1])"
   ]
  },
  {
   "cell_type": "code",
   "execution_count": 8,
   "id": "dd2a90dd",
   "metadata": {},
   "outputs": [
    {
     "name": "stdout",
     "output_type": "stream",
     "text": [
      "nohtyp\n",
      "nohtyp\n"
     ]
    }
   ],
   "source": [
    "# Negative indexing\n",
    "\n",
    "str1 = 'python'\n",
    "print(str1[::-1])\n",
    "print(str1[-1:-7:-1])"
   ]
  },
  {
   "cell_type": "markdown",
   "id": "afa7ffef",
   "metadata": {},
   "source": [
    "#### enumarate() function\n",
    "Method adds a counter to an iterable and returns it in a form of enumerating object."
   ]
  },
  {
   "cell_type": "code",
   "execution_count": 1,
   "id": "05e8f577",
   "metadata": {},
   "outputs": [
    {
     "name": "stdout",
     "output_type": "stream",
     "text": [
      "Char at index 0 is s\n",
      "Char at index 1 is c\n",
      "Char at index 2 is i\n",
      "Char at index 3 is e\n",
      "Char at index 4 is n\n",
      "Char at index 5 is c\n",
      "Char at index 6 is e\n"
     ]
    }
   ],
   "source": [
    "str1 = 'science'\n",
    "for i, j in enumerate(str1):\n",
    "    print(f\"Char at index {i} is {j}\")"
   ]
  },
  {
   "cell_type": "code",
   "execution_count": 2,
   "id": "57f08331",
   "metadata": {},
   "outputs": [
    {
     "name": "stdout",
     "output_type": "stream",
     "text": [
      "Char is : s\n",
      "index is : 0\n",
      "Char is : c\n",
      "index is : 1\n",
      "Char is : i\n",
      "index is : 2\n",
      "Char is : e\n",
      "index is : 3\n",
      "Char is : n\n",
      "index is : 4\n",
      "Char is : c\n",
      "index is : 5\n",
      "Char is : e\n",
      "index is : 6\n"
     ]
    }
   ],
   "source": [
    "str1 = 'science'\n",
    "index = 0\n",
    "for char in str1:\n",
    "    print(\"Char is :\", char)\n",
    "    print(\"index is :\",index)\n",
    "    index = index + 1 # 0 + 1 = 1\n",
    "                      # 1 + 1 = 2"
   ]
  }
 ],
 "metadata": {
  "kernelspec": {
   "display_name": "Python 3 (ipykernel)",
   "language": "python",
   "name": "python3"
  },
  "language_info": {
   "codemirror_mode": {
    "name": "ipython",
    "version": 3
   },
   "file_extension": ".py",
   "mimetype": "text/x-python",
   "name": "python",
   "nbconvert_exporter": "python",
   "pygments_lexer": "ipython3",
   "version": "3.9.12"
  }
 },
 "nbformat": 4,
 "nbformat_minor": 5
}
