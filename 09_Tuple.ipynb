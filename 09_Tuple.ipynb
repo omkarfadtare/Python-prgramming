{
 "cells": [
  {
   "cell_type": "markdown",
   "id": "255209f1",
   "metadata": {},
   "source": [
    "#### Tuple ( )\n",
    "Tuple is a group of elements. It is used to store multiple items in a single variable.\n",
    "\n",
    "`Properties of Tuple:`\n",
    "- Tuple items are comma  seprated\n",
    "- Enclosed by parenthesis()\n",
    "- Tuple is Ordered in nature\n",
    "- Tuple is immutable\n",
    "- Tuple is heterogeneous, can contain different data types\n",
    "- Duplicate values are allowed\n",
    "\n",
    "__Tuples are faster than list,Why?__\n",
    "- Tuples are stored in a single block of memory. Tuples are immutable so, It doesn't require extra space to store new objects. - Whereas Lists are allocated in two blocks: the fixed one with all the Python object information and a variable-sized block for the data. It is the reason creating a tuple is faster than List."
   ]
  },
  {
   "cell_type": "code",
   "execution_count": 1,
   "id": "b9f61381",
   "metadata": {},
   "outputs": [
    {
     "name": "stdout",
     "output_type": "stream",
     "text": [
      "<class 'tuple'>\n"
     ]
    }
   ],
   "source": [
    "tup = (1,2,3,4,5)\n",
    "print(type(tup))"
   ]
  },
  {
   "cell_type": "code",
   "execution_count": 45,
   "id": "a170f8b6",
   "metadata": {},
   "outputs": [
    {
     "name": "stdout",
     "output_type": "stream",
     "text": [
      "<class 'tuple'>\n"
     ]
    }
   ],
   "source": [
    "# Things to remember\n",
    "\n",
    "tup = 1,2,3,4\n",
    "print(type(tup))"
   ]
  },
  {
   "cell_type": "code",
   "execution_count": 2,
   "id": "d6a136b1",
   "metadata": {},
   "outputs": [
    {
     "data": {
      "text/plain": [
       "(1, 2, 3, 4, 5)"
      ]
     },
     "execution_count": 2,
     "metadata": {},
     "output_type": "execute_result"
    }
   ],
   "source": [
    "tup"
   ]
  },
  {
   "cell_type": "code",
   "execution_count": 3,
   "id": "5edb9591",
   "metadata": {},
   "outputs": [
    {
     "name": "stdout",
     "output_type": "stream",
     "text": [
      "<class 'tuple'>\n"
     ]
    }
   ],
   "source": [
    "tup1 =(\"hello\",\"hi\",\"namste\")\n",
    "print(type(tup1))"
   ]
  },
  {
   "cell_type": "code",
   "execution_count": 4,
   "id": "1a01662e",
   "metadata": {},
   "outputs": [
    {
     "data": {
      "text/plain": [
       "('hello', 'hi', 'namste')"
      ]
     },
     "execution_count": 4,
     "metadata": {},
     "output_type": "execute_result"
    }
   ],
   "source": [
    "tup1"
   ]
  },
  {
   "cell_type": "code",
   "execution_count": 5,
   "id": "acd14f64",
   "metadata": {},
   "outputs": [
    {
     "name": "stdout",
     "output_type": "stream",
     "text": [
      "('apple', 'banana', 'cherry', 'apple', 'cherry')\n"
     ]
    }
   ],
   "source": [
    "thistuple = (\"apple\", \"banana\", \"cherry\", \"apple\", \"cherry\")\n",
    "print(thistuple)"
   ]
  },
  {
   "cell_type": "code",
   "execution_count": 6,
   "id": "b1e67139",
   "metadata": {},
   "outputs": [
    {
     "name": "stdout",
     "output_type": "stream",
     "text": [
      "<class 'list'>\n"
     ]
    }
   ],
   "source": [
    "# There is a small catch watch carefully: difference between list and tuple containing only one element\n",
    "\n",
    "# for list datatype\n",
    "\n",
    "list1 = []\n",
    "print(type(list1))"
   ]
  },
  {
   "cell_type": "code",
   "execution_count": 7,
   "id": "8853ebcd",
   "metadata": {},
   "outputs": [
    {
     "name": "stdout",
     "output_type": "stream",
     "text": [
      "<class 'list'>\n"
     ]
    }
   ],
   "source": [
    "list1 = [1]\n",
    "print(type(list1))"
   ]
  },
  {
   "cell_type": "markdown",
   "id": "6d118a1c",
   "metadata": {},
   "source": [
    "#### Tuple constructor"
   ]
  },
  {
   "cell_type": "code",
   "execution_count": 8,
   "id": "246e2fd0",
   "metadata": {},
   "outputs": [
    {
     "name": "stdout",
     "output_type": "stream",
     "text": [
      "<class 'tuple'>\n"
     ]
    }
   ],
   "source": [
    "# for tuple datatype\n",
    "\n",
    "tup1 = ()\n",
    "print(type(tup1))"
   ]
  },
  {
   "cell_type": "code",
   "execution_count": 9,
   "id": "05a89f6d",
   "metadata": {},
   "outputs": [
    {
     "name": "stdout",
     "output_type": "stream",
     "text": [
      "<class 'str'>\n"
     ]
    }
   ],
   "source": [
    "tup = ('python') # It wont be class tuple\n",
    "print(type(tup))"
   ]
  },
  {
   "cell_type": "code",
   "execution_count": 10,
   "id": "ab8267b5",
   "metadata": {},
   "outputs": [
    {
     "name": "stdout",
     "output_type": "stream",
     "text": [
      "<class 'tuple'>\n"
     ]
    }
   ],
   "source": [
    "tup1 = tuple('python') # Initialization # COnstructor # We have to specify class tuple for tuple having only one element\n",
    "print(type(tup1))"
   ]
  },
  {
   "cell_type": "code",
   "execution_count": 12,
   "id": "e1c687ee",
   "metadata": {},
   "outputs": [
    {
     "name": "stdout",
     "output_type": "stream",
     "text": [
      "<class 'tuple'>\n"
     ]
    }
   ],
   "source": [
    "# Alternate method for intialization tuple containng only one element\n",
    "\n",
    "tup1 = ('python',) # just use comma\n",
    "print(type(tup1))"
   ]
  },
  {
   "cell_type": "markdown",
   "id": "9dfe667d",
   "metadata": {},
   "source": [
    "#### Ordered \n",
    "use of indexing is possible and therefore slicing is also possible."
   ]
  },
  {
   "cell_type": "code",
   "execution_count": 13,
   "id": "78c9cc45",
   "metadata": {},
   "outputs": [
    {
     "name": "stdout",
     "output_type": "stream",
     "text": [
      "1\n",
      "5\n"
     ]
    }
   ],
   "source": [
    "# Indexing and range functions works same as list data type\n",
    "\n",
    "t7 = (1,2,3,4,5,6)\n",
    "print(t7[0])\n",
    "print(t7[4])"
   ]
  },
  {
   "cell_type": "code",
   "execution_count": 14,
   "id": "8fa35cdd",
   "metadata": {},
   "outputs": [
    {
     "name": "stdout",
     "output_type": "stream",
     "text": [
      "(1, 2, 3, 4, 5, 6)\n"
     ]
    }
   ],
   "source": [
    "# Slicing\n",
    "t7 = (1,2,3,4,5,6)\n",
    "print(t7[0:6:1])"
   ]
  },
  {
   "cell_type": "code",
   "execution_count": 15,
   "id": "6e0604c8",
   "metadata": {},
   "outputs": [
    {
     "name": "stdout",
     "output_type": "stream",
     "text": [
      "(1, 'python', 3, True, 5, 6)\n"
     ]
    }
   ],
   "source": [
    "t7 = (1,'python',3,True,5,6)\n",
    "print(t7[0:6:1])"
   ]
  },
  {
   "cell_type": "markdown",
   "id": "4f953c8f",
   "metadata": {},
   "source": [
    "#### Heterogeneous\n",
    "that basically means a list can contain string, float, int, another list etc."
   ]
  },
  {
   "cell_type": "code",
   "execution_count": 17,
   "id": "0301537d",
   "metadata": {},
   "outputs": [
    {
     "name": "stdout",
     "output_type": "stream",
     "text": [
      "<class 'tuple'>\n",
      "('abc', 34, True, 40, 'male')\n"
     ]
    }
   ],
   "source": [
    "tuple1 = (\"abc\", 34, True, 40, \"male\")\n",
    "print(type(tuple1))\n",
    "print(tuple1)"
   ]
  },
  {
   "cell_type": "code",
   "execution_count": 26,
   "id": "a48727d2",
   "metadata": {},
   "outputs": [
    {
     "name": "stdout",
     "output_type": "stream",
     "text": [
      "<class 'tuple'>\n",
      "9\n",
      "<class 'list'>\n",
      "<class 'dict'>\n",
      "(10, 11, 3.4, 5.6, 'string', 'python', [21, 22, 23, 24, (31, 32, 33)], ['python', 1, True], {1: 'python', 2: 'data science'})\n"
     ]
    }
   ],
   "source": [
    "# Tuple can contain int, float, str, list, list of list, tuple, dictionary.\n",
    "\n",
    "print(type(tup6))\n",
    "print(len(tup6))\n",
    "print(type(tup6[7]))\n",
    "print(type(tup6[8]))\n",
    "print(tup6)"
   ]
  },
  {
   "cell_type": "code",
   "execution_count": 29,
   "id": "07ca8329",
   "metadata": {},
   "outputs": [
    {
     "name": "stdout",
     "output_type": "stream",
     "text": [
      "32\n",
      "python\n",
      "{1: 'python', 2: 'data science'}\n"
     ]
    }
   ],
   "source": [
    "tup6 = (10,11,3.4,5.6,\"string\",\"python\",[21,22,23,24,(31,32,33)],['python',1,True],{1:'python',2:'data science'})\n",
    "print(tup6[6][4][1])\n",
    "print(tup6[7][0])\n",
    "print(tup6[8]) # doubt: How do I access keys, values, items from that dictionary"
   ]
  },
  {
   "cell_type": "markdown",
   "id": "c02b5fc2",
   "metadata": {},
   "source": [
    "#### Not mutable\n",
    "Tuple data type is not mutable, we can not change exixting elements from tuple"
   ]
  },
  {
   "cell_type": "code",
   "execution_count": 18,
   "id": "d85df001",
   "metadata": {},
   "outputs": [
    {
     "name": "stdout",
     "output_type": "stream",
     "text": [
      "<class 'list'>\n"
     ]
    }
   ],
   "source": [
    "# doubt\n",
    "\n",
    "t9 =[()]\n",
    "print(type(t9))"
   ]
  },
  {
   "cell_type": "code",
   "execution_count": 44,
   "id": "ceadd38b",
   "metadata": {},
   "outputs": [
    {
     "name": "stdout",
     "output_type": "stream",
     "text": [
      "<class 'tuple'>\n"
     ]
    }
   ],
   "source": [
    "t9 = ()\n",
    "print(type(t9))"
   ]
  },
  {
   "cell_type": "code",
   "execution_count": 42,
   "id": "0f274307",
   "metadata": {},
   "outputs": [
    {
     "name": "stdout",
     "output_type": "stream",
     "text": [
      "<class 'list'>\n"
     ]
    }
   ],
   "source": [
    "t9 =([])\n",
    "print(type(t9))"
   ]
  },
  {
   "cell_type": "code",
   "execution_count": 43,
   "id": "eea51f08",
   "metadata": {},
   "outputs": [
    {
     "name": "stdout",
     "output_type": "stream",
     "text": [
      "<class 'list'>\n"
     ]
    }
   ],
   "source": [
    "t9 =([1,2,3])\n",
    "print(type(t9))"
   ]
  },
  {
   "cell_type": "code",
   "execution_count": 23,
   "id": "b258d659",
   "metadata": {},
   "outputs": [
    {
     "name": "stdout",
     "output_type": "stream",
     "text": [
      "<class 'tuple'>\n"
     ]
    }
   ],
   "source": [
    "t9 =([],)\n",
    "print(type(t9))"
   ]
  },
  {
   "cell_type": "markdown",
   "id": "f2674f7f",
   "metadata": {},
   "source": [
    "#### use of membership operator\n",
    "to check whether the item exist in list or not"
   ]
  },
  {
   "cell_type": "code",
   "execution_count": 31,
   "id": "213247ec",
   "metadata": {},
   "outputs": [
    {
     "name": "stdout",
     "output_type": "stream",
     "text": [
      "Item exist in the tuple\n"
     ]
    }
   ],
   "source": [
    "tup7 = (\"apple\", \"banana\", \"cherry\", \"orange\", \"kiwi\", \"melon\", \"mango\")\n",
    "if 'apple' in tup7:\n",
    "    print('Item exist in the tuple')\n",
    "else:\n",
    "    print('Item not found')"
   ]
  },
  {
   "cell_type": "code",
   "execution_count": 32,
   "id": "9fc29934",
   "metadata": {},
   "outputs": [
    {
     "name": "stdout",
     "output_type": "stream",
     "text": [
      "you were right! Item is not present\n"
     ]
    }
   ],
   "source": [
    "tup8 = [\"apple\", \"banana\", \"cherry\", \"orange\", \"kiwi\", \"melon\", \"mango\"]\n",
    "if 'papaya' not in tup8:\n",
    "    print('you were right! Item is not present')\n",
    "else:\n",
    "    print('you were wrong! Item found!')"
   ]
  },
  {
   "cell_type": "markdown",
   "id": "7546066c",
   "metadata": {},
   "source": [
    "#### Indexing and slicing in tuple"
   ]
  },
  {
   "cell_type": "code",
   "execution_count": 8,
   "id": "1408c21a",
   "metadata": {},
   "outputs": [
    {
     "name": "stdout",
     "output_type": "stream",
     "text": [
      "10\n",
      "(30, 15, 25)\n",
      "(20, 15, 35, 55)\n",
      "(55, 50, 35, 25, 15, 30, 20, 10)\n",
      "(55, 50, 35)\n"
     ]
    }
   ],
   "source": [
    "tuple1 = (10,20,30,15,25,35,50,55)\n",
    "\n",
    "print(tuple1[0])\n",
    "print(tuple1[2:5])\n",
    "print(tuple1[1:len(tuple1):2])\n",
    "print(tuple1[::-1])\n",
    "print(tuple1[len(tuple1):-4:-1])"
   ]
  },
  {
   "cell_type": "markdown",
   "id": "1bbac3a0",
   "metadata": {},
   "source": [
    "#### Tuple operations"
   ]
  },
  {
   "cell_type": "code",
   "execution_count": 9,
   "id": "8baf0ef8",
   "metadata": {},
   "outputs": [
    {
     "data": {
      "text/plain": [
       "('Mumbai', 'PUNE', 'Delhi', 'Maharashtra', 'Gujarat')"
      ]
     },
     "execution_count": 9,
     "metadata": {},
     "output_type": "execute_result"
    }
   ],
   "source": [
    "city_names = (\"Mumbai\", 'PUNE', 'Delhi')\n",
    "state_names = ('Maharashtra','Gujarat')\n",
    "\n",
    "city_names + state_names"
   ]
  },
  {
   "cell_type": "code",
   "execution_count": 10,
   "id": "1c6851ce",
   "metadata": {},
   "outputs": [
    {
     "data": {
      "text/plain": [
       "('Mumbai', 'PUNE', 'Delhi', 'Mumbai', 'PUNE', 'Delhi')"
      ]
     },
     "execution_count": 10,
     "metadata": {},
     "output_type": "execute_result"
    }
   ],
   "source": [
    "city_names = (\"Mumbai\", 'PUNE', 'Delhi')\n",
    "state_names = ('Maharashtra','Gujarat')\n",
    "\n",
    "city_names * 2"
   ]
  },
  {
   "cell_type": "markdown",
   "id": "dacfa743",
   "metadata": {},
   "source": [
    "#### Accessing items using for loop"
   ]
  },
  {
   "cell_type": "code",
   "execution_count": 14,
   "id": "e8511710",
   "metadata": {},
   "outputs": [
    {
     "name": "stdout",
     "output_type": "stream",
     "text": [
      "Mumbai, PUNE, Delhi, Mumbai, PUNE, Delhi, "
     ]
    }
   ],
   "source": [
    "tuple1 = ('Mumbai', 'PUNE', 'Delhi', 'Mumbai', 'PUNE', 'Delhi')\n",
    "\n",
    "for item in tuple1:\n",
    "    print(item, end =\", \")"
   ]
  },
  {
   "cell_type": "code",
   "execution_count": 15,
   "id": "0b85c29c",
   "metadata": {},
   "outputs": [
    {
     "name": "stdout",
     "output_type": "stream",
     "text": [
      "0 Mumbai\n",
      "1 PUNE\n",
      "2 Delhi\n",
      "3 Mumbai\n",
      "4 PUNE\n",
      "5 Delhi\n"
     ]
    }
   ],
   "source": [
    "# Enumerate\n",
    "\n",
    "tuple1 = ('Mumbai', 'PUNE', 'Delhi', 'Mumbai', 'PUNE', 'Delhi')\n",
    "\n",
    "for index, item in enumerate(tuple1):\n",
    "    print(index,item)"
   ]
  },
  {
   "cell_type": "markdown",
   "id": "440b4591",
   "metadata": {},
   "source": [
    "#### Tuple functions"
   ]
  },
  {
   "cell_type": "markdown",
   "id": "e2cf80bd",
   "metadata": {},
   "source": [
    "#### 1) length()\n",
    "returns length of the tuple"
   ]
  },
  {
   "cell_type": "code",
   "execution_count": 24,
   "id": "bcc5a9b2",
   "metadata": {},
   "outputs": [
    {
     "name": "stdout",
     "output_type": "stream",
     "text": [
      "3\n"
     ]
    }
   ],
   "source": [
    "thistuple = (\"apple\", \"banana\", \"cherry\")\n",
    "print(len(thistuple))"
   ]
  },
  {
   "cell_type": "code",
   "execution_count": 25,
   "id": "d78d2ea7",
   "metadata": {},
   "outputs": [
    {
     "name": "stdout",
     "output_type": "stream",
     "text": [
      "5\n"
     ]
    }
   ],
   "source": [
    "thistuple = (\"apple\", 2.4, 6, True, \"cherry\")\n",
    "print(len(thistuple))"
   ]
  },
  {
   "cell_type": "markdown",
   "id": "89f1da6a",
   "metadata": {},
   "source": [
    "#### 2) type()\n",
    "returns data type of tuple or the elements of tuple"
   ]
  },
  {
   "cell_type": "code",
   "execution_count": 19,
   "id": "090c8283",
   "metadata": {},
   "outputs": [
    {
     "name": "stdout",
     "output_type": "stream",
     "text": [
      "<class 'tuple'>\n"
     ]
    }
   ],
   "source": [
    "tup1 = (\"apple\", \"banana\", \"cherry\")\n",
    "print(type(tup1))"
   ]
  },
  {
   "cell_type": "markdown",
   "id": "faf1ac64",
   "metadata": {},
   "source": [
    "#### 3) .index()\n",
    "`Syntax : tuple_name.index(item)`\n",
    "\n",
    "returns index number of an item"
   ]
  },
  {
   "cell_type": "code",
   "execution_count": 20,
   "id": "a517df27",
   "metadata": {},
   "outputs": [
    {
     "data": {
      "text/plain": [
       "2"
      ]
     },
     "execution_count": 20,
     "metadata": {},
     "output_type": "execute_result"
    }
   ],
   "source": [
    "sub_names = (\"Phy\", \"Che\", \"Maths\", \"Eng\", \"Bio\")\n",
    "sub_names.index(\"Maths\")"
   ]
  },
  {
   "cell_type": "markdown",
   "id": "34280d68",
   "metadata": {},
   "source": [
    "#### 4) .count()\n",
    "`Syntax : tuple_name.count(item)`\n",
    "\n",
    "returns the number of times a specified value occurs in a tuple"
   ]
  },
  {
   "cell_type": "code",
   "execution_count": 21,
   "id": "096de708",
   "metadata": {},
   "outputs": [
    {
     "data": {
      "text/plain": [
       "5"
      ]
     },
     "execution_count": 21,
     "metadata": {},
     "output_type": "execute_result"
    }
   ],
   "source": [
    "numbers = (3, 9.8, 6,7, 4.5, 20,30,40,6,6,6,6)\n",
    "numbers.count(6)"
   ]
  },
  {
   "cell_type": "markdown",
   "id": "e760190c",
   "metadata": {},
   "source": [
    "#### 5) sum()\n",
    "`Syntax : sum(tuple_name)`\n",
    "\n",
    "returns sum of numbers in tuple"
   ]
  },
  {
   "cell_type": "code",
   "execution_count": 22,
   "id": "95b2e4a3",
   "metadata": {},
   "outputs": [
    {
     "data": {
      "text/plain": [
       "264"
      ]
     },
     "execution_count": 22,
     "metadata": {},
     "output_type": "execute_result"
    }
   ],
   "source": [
    "numbers = (10,30,46,78,8,12,80)\n",
    "sum(numbers)"
   ]
  },
  {
   "cell_type": "markdown",
   "id": "66d2323e",
   "metadata": {},
   "source": [
    "#### 6) min()\n",
    "`Syntax : min(tuple_name)`\n",
    "    \n",
    "returns minimum number in the tuple"
   ]
  },
  {
   "cell_type": "code",
   "execution_count": 23,
   "id": "5999e671",
   "metadata": {},
   "outputs": [
    {
     "data": {
      "text/plain": [
       "-67"
      ]
     },
     "execution_count": 23,
     "metadata": {},
     "output_type": "execute_result"
    }
   ],
   "source": [
    "numbers = (10,30,46,78,8,12,80,-1,-67,20,56,4.5,9.8,-4.5,-8.9)\n",
    "min(numbers)"
   ]
  },
  {
   "cell_type": "markdown",
   "id": "c4ea053b",
   "metadata": {},
   "source": [
    "#### 7) max()\n",
    "`Syntax : max(tuple_name)`\n",
    "\n",
    "returns maximum number in the tuple"
   ]
  },
  {
   "cell_type": "code",
   "execution_count": 24,
   "id": "292bbf65",
   "metadata": {},
   "outputs": [
    {
     "data": {
      "text/plain": [
       "80"
      ]
     },
     "execution_count": 24,
     "metadata": {},
     "output_type": "execute_result"
    }
   ],
   "source": [
    "numbers = (10,30,46,78,8,12,80,-1,-67,20,56,4.5,9.8,-4.5,-8.9)\n",
    "max(numbers)"
   ]
  },
  {
   "cell_type": "markdown",
   "id": "d87c822a",
   "metadata": {},
   "source": [
    "#### Important "
   ]
  },
  {
   "cell_type": "markdown",
   "id": "4d4884ec",
   "metadata": {},
   "source": [
    "Since, Tuples are unchangeable, meaning that you cannot change, add, or remove items once the tuple is created. But it can be done by converting the tuple into a list, change the list, and convert the list back into a tuple."
   ]
  },
  {
   "cell_type": "code",
   "execution_count": 33,
   "id": "9b242129",
   "metadata": {},
   "outputs": [
    {
     "name": "stdout",
     "output_type": "stream",
     "text": [
      "('apple', 'banana', 'cherry', 'orange')\n"
     ]
    }
   ],
   "source": [
    "# adding item to tuple\n",
    "\n",
    "tuple1 = (\"apple\", \"banana\", \"cherry\")\n",
    "y = list(tuple1)\n",
    "y.append(\"orange\")\n",
    "tuple1 = tuple(y)\n",
    "\n",
    "print(tuple1)"
   ]
  },
  {
   "cell_type": "code",
   "execution_count": 35,
   "id": "21703a9e",
   "metadata": {},
   "outputs": [
    {
     "name": "stdout",
     "output_type": "stream",
     "text": [
      "('banana', 'cherry')\n"
     ]
    }
   ],
   "source": [
    "# removing item from tuple\n",
    "\n",
    "tuple1 = (\"apple\", \"banana\", \"cherry\")\n",
    "y = list(tuple1)\n",
    "y.remove(\"apple\")\n",
    "tuple1 = tuple(y)\n",
    "\n",
    "print(tuple1)"
   ]
  },
  {
   "cell_type": "code",
   "execution_count": 36,
   "id": "bbb1550b",
   "metadata": {},
   "outputs": [],
   "source": [
    "# delete function can not be used to delete particular item from tuple, but it can be used to delete complete tuple\n",
    "\n",
    "thistuple = (\"apple\", \"banana\", \"cherry\")\n",
    "del thistuple\n",
    "# print(thistuple)"
   ]
  },
  {
   "cell_type": "markdown",
   "id": "d0676c14",
   "metadata": {},
   "source": [
    "#### Joining two tuple"
   ]
  },
  {
   "cell_type": "code",
   "execution_count": 34,
   "id": "b06b741f",
   "metadata": {},
   "outputs": [
    {
     "name": "stdout",
     "output_type": "stream",
     "text": [
      "('omkar', 'python', 'data', 'science', 1, 2, 3, 4, 5)\n"
     ]
    }
   ],
   "source": [
    "tup1 = ('omkar','python','data','science')\n",
    "tup2 = (1,2,3,4,5)\n",
    "\n",
    "tup1 += tup2\n",
    "print(tup1)"
   ]
  },
  {
   "cell_type": "markdown",
   "id": "c3d07ae5",
   "metadata": {},
   "source": [
    "#### Multiplying tuple"
   ]
  },
  {
   "cell_type": "code",
   "execution_count": 41,
   "id": "a1ba9a37",
   "metadata": {},
   "outputs": [
    {
     "name": "stdout",
     "output_type": "stream",
     "text": [
      "(1, 2, 3, 4, 5, 1, 2, 3, 4, 5)\n"
     ]
    }
   ],
   "source": [
    "tup1 = (1,2,3,4,5)\n",
    "tup2 = tup1*2\n",
    "print(tup2)"
   ]
  },
  {
   "cell_type": "markdown",
   "id": "8cc65d16",
   "metadata": {},
   "source": [
    "#### Unpacking a tuple\n",
    "When we create a tuple, we normally assign values to it. This is called \"packing\" a tuple and to extract the values back into variables. This is called \"unpacking\"."
   ]
  },
  {
   "cell_type": "code",
   "execution_count": 37,
   "id": "a57a6381",
   "metadata": {},
   "outputs": [
    {
     "name": "stdout",
     "output_type": "stream",
     "text": [
      "apple\n",
      "banana\n",
      "cherry\n"
     ]
    }
   ],
   "source": [
    "# This is how we can access items from tuple\n",
    "\n",
    "fruits = (\"apple\", \"banana\", \"cherry\")\n",
    "(green, yellow, red) = fruits\n",
    "\n",
    "print(green)\n",
    "print(yellow)\n",
    "print(red)"
   ]
  },
  {
   "cell_type": "markdown",
   "id": "32e06ba7",
   "metadata": {},
   "source": [
    "#### Asterisk* (unpacking)\n",
    "If the number of variables is less than the number of values, you can add an * to the variable name and the values will be assigned to the variable as a list."
   ]
  },
  {
   "cell_type": "code",
   "execution_count": 39,
   "id": "524ed7d4",
   "metadata": {},
   "outputs": [
    {
     "name": "stdout",
     "output_type": "stream",
     "text": [
      "apple\n",
      "banana\n",
      "['cherry', 'strawberry', 'raspberry']\n"
     ]
    }
   ],
   "source": [
    "fruits = (\"apple\", \"banana\", \"cherry\", \"strawberry\", \"raspberry\")\n",
    "\n",
    "(green, yellow, *red) = fruits\n",
    "\n",
    "print(green)\n",
    "print(yellow)\n",
    "print(red)"
   ]
  },
  {
   "cell_type": "code",
   "execution_count": 38,
   "id": "6d1a1fae",
   "metadata": {},
   "outputs": [
    {
     "name": "stdout",
     "output_type": "stream",
     "text": [
      "apple\n",
      "['banana', 'cherry', 'strawberry']\n",
      "raspberry\n"
     ]
    }
   ],
   "source": [
    "fruits = (\"apple\", \"banana\", \"cherry\", \"strawberry\", \"raspberry\")\n",
    "\n",
    "(green, *yellow, red) = fruits\n",
    "\n",
    "print(green)\n",
    "print(yellow)\n",
    "print(red)"
   ]
  }
 ],
 "metadata": {
  "kernelspec": {
   "display_name": "Python 3 (ipykernel)",
   "language": "python",
   "name": "python3"
  },
  "language_info": {
   "codemirror_mode": {
    "name": "ipython",
    "version": 3
   },
   "file_extension": ".py",
   "mimetype": "text/x-python",
   "name": "python",
   "nbconvert_exporter": "python",
   "pygments_lexer": "ipython3",
   "version": "3.9.12"
  }
 },
 "nbformat": 4,
 "nbformat_minor": 5
}
