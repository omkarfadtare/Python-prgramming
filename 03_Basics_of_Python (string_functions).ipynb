{
 "cells": [
  {
   "cell_type": "markdown",
   "id": "d65d7860",
   "metadata": {},
   "source": [
    "#### Strings \n",
    "strings are nothing but sequence of characters or words and are denoted by single quote or double quote. For multiline comment three single or double quotes are used.\n",
    "\n",
    "#### features of string\n",
    "- Strings are immutable\n",
    "- We cannot modify string once created\n",
    "\n",
    "__Why strings are immutable?__\n",
    "- Strings are made immutable so that programmers can not alter the contents of object, which avoids unnecessary bugs."
   ]
  },
  {
   "cell_type": "markdown",
   "id": "e6bac0b7",
   "metadata": {},
   "source": [
    "#### Types of cases"
   ]
  },
  {
   "cell_type": "markdown",
   "id": "353ef0a6",
   "metadata": {},
   "source": [
    "`omkarfadtare` - lower_case, flat_case, lazy_case\n",
    "\n",
    "`OMKARFADTARE` - upper_case\n",
    "\n",
    "`omkarFadtare` - (lower) camel_case\n",
    "\n",
    "`OmkarFadtare` - (upper) camel_case, pascal_case\n",
    "\n",
    "`omakr_fadtare` - snake_case\n",
    "\n",
    "`Omkar_Fadtare` - camel_snake_case\n",
    "\n",
    "`OMKAR_FADTARE` - screaming_snake_case\n",
    "\n",
    "`omkar-fadtare` - kebab_case, caterpillar_case, spinal_case, css_case\n",
    "\n",
    "`OMKAR-FADTARE` - screaming_kabab_case\n",
    "\n",
    "`Omkar-Fadtare` - HTTP_header_case"
   ]
  },
  {
   "cell_type": "code",
   "execution_count": 14,
   "id": "460fa758",
   "metadata": {},
   "outputs": [
    {
     "name": "stdout",
     "output_type": "stream",
     "text": [
      "python\n"
     ]
    }
   ],
   "source": [
    "a = 'python'\n",
    "print(a)"
   ]
  },
  {
   "cell_type": "code",
   "execution_count": 15,
   "id": "7944fffe",
   "metadata": {},
   "outputs": [
    {
     "name": "stdout",
     "output_type": "stream",
     "text": [
      " data science\n"
     ]
    }
   ],
   "source": [
    "b = ' data science'\n",
    "print(b)"
   ]
  },
  {
   "cell_type": "code",
   "execution_count": 16,
   "id": "0820c702",
   "metadata": {},
   "outputs": [
    {
     "name": "stdout",
     "output_type": "stream",
     "text": [
      "Python is a high-level, general-purpose programming language.\n",
      "Its design philosophy emphasizes code readability with the use of significant indentation.\n",
      "Its language constructs and object-oriented approach aim to help programmers write clear,\n",
      "logical code for small- and large-scale projects.\n"
     ]
    }
   ],
   "source": [
    "c = \"\"\"Python is a high-level, general-purpose programming language.\n",
    "Its design philosophy emphasizes code readability with the use of significant indentation.\n",
    "Its language constructs and object-oriented approach aim to help programmers write clear,\n",
    "logical code for small- and large-scale projects.\"\"\"\n",
    "print(c)"
   ]
  },
  {
   "cell_type": "markdown",
   "id": "9444bb0f",
   "metadata": {},
   "source": [
    "#### String slicing: \n",
    "slicing of a string is nothing but accessing specified part (substring) of a given string using indexing/numerical values."
   ]
  },
  {
   "cell_type": "markdown",
   "id": "d6f94416",
   "metadata": {},
   "source": [
    "By default value for start index is 0, end index is len(str1), step size is 1. for negative slicing by default staring value will be len(str1),step size value will be -1."
   ]
  },
  {
   "cell_type": "markdown",
   "id": "7cea24d9",
   "metadata": {},
   "source": [
    " `p  y  t  h  o  n`\n",
    " \n",
    " `0  1  2  3  4  5  # Positive`\n",
    " \n",
    "`-6 -5 -4 -3 -2 -1  # Negative`"
   ]
  },
  {
   "cell_type": "code",
   "execution_count": 19,
   "id": "e3ab7b61",
   "metadata": {},
   "outputs": [
    {
     "name": "stdout",
     "output_type": "stream",
     "text": [
      "python\n"
     ]
    }
   ],
   "source": [
    "str1 = 'python'\n",
    "print(str1[::])"
   ]
  },
  {
   "cell_type": "code",
   "execution_count": 20,
   "id": "ff4694d8",
   "metadata": {},
   "outputs": [
    {
     "name": "stdout",
     "output_type": "stream",
     "text": [
      "python\n"
     ]
    }
   ],
   "source": [
    "str1 = 'python'\n",
    "print(str1[0:len(str1):1])"
   ]
  },
  {
   "cell_type": "code",
   "execution_count": 21,
   "id": "be190ad1",
   "metadata": {},
   "outputs": [
    {
     "name": "stdout",
     "output_type": "stream",
     "text": [
      "pto\n"
     ]
    }
   ],
   "source": [
    "str1 = 'python'\n",
    "print(str1[::2])"
   ]
  },
  {
   "cell_type": "code",
   "execution_count": 22,
   "id": "db91f3ea",
   "metadata": {},
   "outputs": [
    {
     "name": "stdout",
     "output_type": "stream",
     "text": [
      "nohtyp\n"
     ]
    }
   ],
   "source": [
    "str1 = 'python'\n",
    "print(str1[::-1])"
   ]
  },
  {
   "cell_type": "code",
   "execution_count": 23,
   "id": "beac81cb",
   "metadata": {},
   "outputs": [
    {
     "name": "stdout",
     "output_type": "stream",
     "text": [
      "nohtyp\n"
     ]
    }
   ],
   "source": [
    "str1 = 'python'\n",
    "print(str1[-1::-1])"
   ]
  },
  {
   "cell_type": "markdown",
   "id": "0378b81c",
   "metadata": {},
   "source": [
    "#### String concatnation\n",
    "string concatnation is used to combine 2 strings using + operator."
   ]
  },
  {
   "cell_type": "code",
   "execution_count": 26,
   "id": "7dbf15c7",
   "metadata": {},
   "outputs": [
    {
     "name": "stdout",
     "output_type": "stream",
     "text": [
      "python and data science\n"
     ]
    }
   ],
   "source": [
    "str1 = 'python'\n",
    "str2 = 'and data science'\n",
    "str3 = str1+' '+str2\n",
    "print(str3)"
   ]
  },
  {
   "cell_type": "code",
   "execution_count": 7,
   "id": "1c336c6c",
   "metadata": {},
   "outputs": [
    {
     "name": "stdout",
     "output_type": "stream",
     "text": [
      "DataDataDataDataData\n"
     ]
    }
   ],
   "source": [
    "str1 = 'Data'\n",
    "print(str1*5)"
   ]
  },
  {
   "cell_type": "code",
   "execution_count": 8,
   "id": "1095fd28",
   "metadata": {},
   "outputs": [
    {
     "name": "stdout",
     "output_type": "stream",
     "text": [
      "56\n"
     ]
    }
   ],
   "source": [
    "var1 = '5'\n",
    "var2 = '6'\n",
    "var3 = var1 + var2\n",
    "print(var3)"
   ]
  },
  {
   "cell_type": "code",
   "execution_count": 9,
   "id": "3d6c77de",
   "metadata": {},
   "outputs": [
    {
     "data": {
      "text/plain": [
       "11"
      ]
     },
     "execution_count": 9,
     "metadata": {},
     "output_type": "execute_result"
    }
   ],
   "source": [
    "var3 = int(var1) + int(var2)\n",
    "var3"
   ]
  },
  {
   "cell_type": "code",
   "execution_count": 10,
   "id": "3d8128cf",
   "metadata": {},
   "outputs": [
    {
     "name": "stdout",
     "output_type": "stream",
     "text": [
      "C:\\Users\\suchita.berde\\AppData\\Local\\Programs\\String_Functions\n"
     ]
    }
   ],
   "source": [
    "folder_path = r\"C:\\Users\\suchita.berde\\AppData\\Local\\Programs\"\n",
    "file_name = 'String_Functions'\n",
    "file_path = folder_path + '\\\\' + file_name\n",
    "print(file_path)"
   ]
  },
  {
   "cell_type": "markdown",
   "id": "50b8f54a",
   "metadata": {},
   "source": [
    "#### String functions"
   ]
  },
  {
   "cell_type": "markdown",
   "id": "f8de2ff6",
   "metadata": {},
   "source": [
    "- upper()\n",
    "- lower()\n",
    "- capitalize()\n",
    "- title()\n",
    "- casefold()\n",
    "- swapcase()\n",
    "- lsrtip()\n",
    "- rstrip()\n",
    "- strip()\n",
    "- center\n",
    "- rjust()\n",
    "- ljust()\n",
    "- zfill()\n",
    "- replace()\n",
    "- split()\n",
    "- join()\n",
    "- count()\n",
    "- expandtabs()\n",
    "- index()\n",
    "- find()\n",
    "- endswith()\n",
    "- startswith()\n",
    "- isspace()\n",
    "- istitle()\n",
    "- isupper()\n",
    "- islower() \n",
    "- isalnum()\n",
    "- isalpha()\n",
    "- isdecimal()\n",
    "- isdigit()\n",
    "- isnumeric()"
   ]
  },
  {
   "cell_type": "markdown",
   "id": "ecf022ed",
   "metadata": {},
   "source": [
    "#### 1) .upper()\n",
    "`Syntax : var.upper()`\n",
    "\n",
    "returns a copy of string in uppercase."
   ]
  },
  {
   "cell_type": "code",
   "execution_count": 27,
   "id": "50d449e9",
   "metadata": {},
   "outputs": [
    {
     "name": "stdout",
     "output_type": "stream",
     "text": [
      "PYTHON\n",
      "DATA SCIENCE\n"
     ]
    }
   ],
   "source": [
    "str1 = 'python'\n",
    "str2 = 'data science'\n",
    "print(str1.upper())\n",
    "print(str2.upper())"
   ]
  },
  {
   "cell_type": "markdown",
   "id": "0189e37e",
   "metadata": {},
   "source": [
    "#### 2) .lower()\n",
    "`Syntax : var.lower()`\n",
    "\n",
    "returns a copy of a string in lowercase."
   ]
  },
  {
   "cell_type": "code",
   "execution_count": 28,
   "id": "39f31abe",
   "metadata": {},
   "outputs": [
    {
     "name": "stdout",
     "output_type": "stream",
     "text": [
      "python\n",
      "data science\n"
     ]
    }
   ],
   "source": [
    "str1 = 'PYTHON'\n",
    "str2 = 'DATA SCIENCE'\n",
    "print(str1.lower())\n",
    "print(str2.lower())"
   ]
  },
  {
   "cell_type": "code",
   "execution_count": 29,
   "id": "f999193d",
   "metadata": {},
   "outputs": [
    {
     "data": {
      "text/plain": [
       "False"
      ]
     },
     "execution_count": 29,
     "metadata": {},
     "output_type": "execute_result"
    }
   ],
   "source": [
    "aadhar_name = 'Virat Kohli'\n",
    "pan_name = 'VIRAT KOHLI'\n",
    "aadhar_name == pan_name"
   ]
  },
  {
   "cell_type": "code",
   "execution_count": 30,
   "id": "2c56c460",
   "metadata": {},
   "outputs": [
    {
     "name": "stdout",
     "output_type": "stream",
     "text": [
      "virat kohli\n",
      "virat kohli\n",
      "True\n"
     ]
    }
   ],
   "source": [
    "a = aadhar_name.lower()\n",
    "b = pan_name.lower()\n",
    "\n",
    "print(a)\n",
    "print(b)\n",
    "print(a == b)"
   ]
  },
  {
   "cell_type": "code",
   "execution_count": 31,
   "id": "4c53db21",
   "metadata": {},
   "outputs": [
    {
     "data": {
      "text/plain": [
       "True"
      ]
     },
     "execution_count": 31,
     "metadata": {},
     "output_type": "execute_result"
    }
   ],
   "source": [
    "aadhar_name.lower() == pan_name.lower()"
   ]
  },
  {
   "cell_type": "markdown",
   "id": "1b1a9381",
   "metadata": {},
   "source": [
    "#### 3) .capitalize()\n",
    "`Syntax : var.capitalize()`\n",
    "\n",
    "capitalize only first character of the string."
   ]
  },
  {
   "cell_type": "code",
   "execution_count": 57,
   "id": "c42eb695",
   "metadata": {},
   "outputs": [
    {
     "name": "stdout",
     "output_type": "stream",
     "text": [
      "Python\n",
      "Data science\n"
     ]
    }
   ],
   "source": [
    "str1 = 'python'\n",
    "str2 = 'data science'\n",
    "print(str1.capitalize())\n",
    "print(str2.capitalize())"
   ]
  },
  {
   "cell_type": "markdown",
   "id": "cd227977",
   "metadata": {},
   "source": [
    "#### 4) .title()\n",
    "`Syntax : var.title()`\n",
    "\n",
    "capitalize first char of each word from a string."
   ]
  },
  {
   "cell_type": "code",
   "execution_count": 62,
   "id": "2d6c0a24",
   "metadata": {},
   "outputs": [
    {
     "name": "stdout",
     "output_type": "stream",
     "text": [
      "Virat Kohli\n",
      "Virat Kohli\n"
     ]
    }
   ],
   "source": [
    "aadhar_name = 'Virat kohli'\n",
    "pan_name = 'VIRAT KOHLI'\n",
    "print(aadhar_name.title())\n",
    "print(pan_name.title())"
   ]
  },
  {
   "cell_type": "markdown",
   "id": "eb18c04d",
   "metadata": {},
   "source": [
    "#### 5) .casefold()\n",
    "\n",
    "`var.casefold()`\n",
    "converts all the characters from a string into lower case."
   ]
  },
  {
   "cell_type": "code",
   "execution_count": 58,
   "id": "5251a75a",
   "metadata": {},
   "outputs": [
    {
     "name": "stdout",
     "output_type": "stream",
     "text": [
      "python and data science\n"
     ]
    }
   ],
   "source": [
    "str1 = 'PYTHon and Data SCIENCE'\n",
    "print(str1.casefold())"
   ]
  },
  {
   "cell_type": "markdown",
   "id": "7db58efa",
   "metadata": {},
   "source": [
    "#### 6) .swapcase()\n",
    "`Syntax : var.swapcase()`\n",
    "\n",
    "inverts cases of all characters that is lower to upper and upper to lower."
   ]
  },
  {
   "cell_type": "code",
   "execution_count": 63,
   "id": "5a358269",
   "metadata": {},
   "outputs": [
    {
     "name": "stdout",
     "output_type": "stream",
     "text": [
      "mACHINE lEARNING\n"
     ]
    }
   ],
   "source": [
    "str1 = 'Machine Learning'\n",
    "print(str1.swapcase())"
   ]
  },
  {
   "cell_type": "markdown",
   "id": "394aaf32",
   "metadata": {},
   "source": [
    "#### 7) .lstrip()\n",
    "`Syntax : var.lstrip()`\n",
    "\n",
    "removes the leading whitespace characters from a string."
   ]
  },
  {
   "cell_type": "code",
   "execution_count": 32,
   "id": "97a183ed",
   "metadata": {},
   "outputs": [],
   "source": [
    "aadhar_name = '       VIRAT KOHLI'\n",
    "pan_name = 'VIRAT KOHLI'"
   ]
  },
  {
   "cell_type": "code",
   "execution_count": 33,
   "id": "1df14e8b",
   "metadata": {},
   "outputs": [
    {
     "name": "stdout",
     "output_type": "stream",
     "text": [
      "VIRAT KOHLI\n",
      "VIRAT KOHLI\n"
     ]
    },
    {
     "data": {
      "text/plain": [
       "True"
      ]
     },
     "execution_count": 33,
     "metadata": {},
     "output_type": "execute_result"
    }
   ],
   "source": [
    "aadhar_name = aadhar_name.lstrip()\n",
    "print(aadhar_name)\n",
    "pan_name = pan_name.lstrip()\n",
    "print(pan_name)\n",
    "aadhar_name == pan_name"
   ]
  },
  {
   "cell_type": "code",
   "execution_count": 34,
   "id": "5314606f",
   "metadata": {},
   "outputs": [
    {
     "name": "stdout",
     "output_type": "stream",
     "text": [
      "Both the names are same\n"
     ]
    }
   ],
   "source": [
    "aadhar_name = '       Virat Kohli'\n",
    "pan_name = '    VIRAT KOHLI'\n",
    "\n",
    "aadhar_name = aadhar_name.lstrip().lower()\n",
    "pan_name = pan_name.lstrip().lower()\n",
    "\n",
    "if aadhar_name == pan_name:\n",
    "    print(\"Both the names are same\")\n",
    "else:\n",
    "    print(\"Both the names are different\")"
   ]
  },
  {
   "cell_type": "markdown",
   "id": "6b0990a5",
   "metadata": {},
   "source": [
    "#### 8) .rstrip()\n",
    "`Syntax : var.rstrip()`\n",
    "\n",
    "removes the trailing whitespace characters from a string."
   ]
  },
  {
   "cell_type": "code",
   "execution_count": 35,
   "id": "9d6411d2",
   "metadata": {},
   "outputs": [
    {
     "name": "stdout",
     "output_type": "stream",
     "text": [
      "Both the names are different\n"
     ]
    }
   ],
   "source": [
    "aadhar_name = 'Virat Kohli        '\n",
    "pan_name = 'VIRAT KOHLI       '\n",
    "\n",
    "if aadhar_name == pan_name:\n",
    "    print(\"Both the names are same\")\n",
    "else:\n",
    "    print(\"Both the names are different\")"
   ]
  },
  {
   "cell_type": "code",
   "execution_count": 36,
   "id": "2d915b9b",
   "metadata": {},
   "outputs": [
    {
     "name": "stdout",
     "output_type": "stream",
     "text": [
      "virat kohli        \n",
      "virat kohli       \n"
     ]
    }
   ],
   "source": [
    "aadhar_name = aadhar_name.lower()\n",
    "print(aadhar_name)\n",
    "pan_name = pan_name.lower()\n",
    "print(pan_name)"
   ]
  },
  {
   "cell_type": "markdown",
   "id": "b47d05dc",
   "metadata": {},
   "source": [
    "#### 9) .strip()\n",
    "`Syntax : var.strip()`\n",
    "\n",
    "removes both the leading and trailing white space characters from a string."
   ]
  },
  {
   "cell_type": "code",
   "execution_count": 37,
   "id": "d3f7d657",
   "metadata": {},
   "outputs": [
    {
     "name": "stdout",
     "output_type": "stream",
     "text": [
      "Both the names are different\n"
     ]
    }
   ],
   "source": [
    "aadhar_name = '       VIRAT KOHLI        '\n",
    "pan_name =    '   VIRAT KOHLI       '\n",
    "\n",
    "if aadhar_name == pan_name:\n",
    "    print(\"Both the names are same\")\n",
    "else:\n",
    "    print(\"Both the names are different\")"
   ]
  },
  {
   "cell_type": "code",
   "execution_count": 38,
   "id": "3d9d03e5",
   "metadata": {},
   "outputs": [
    {
     "name": "stdout",
     "output_type": "stream",
     "text": [
      "VIRAT KOHLI\n",
      "VIRAT KOHLI\n"
     ]
    }
   ],
   "source": [
    "aadhar_name = aadhar_name.strip()\n",
    "print(aadhar_name)\n",
    "pan_name = pan_name.strip()\n",
    "print(pan_name)"
   ]
  },
  {
   "cell_type": "markdown",
   "id": "f9ff34e3",
   "metadata": {},
   "source": [
    "#### 9) .center()\n",
    "`Syntax : var.center(count, char(optional))`\n",
    "\n",
    "method will center align the string, using a specified character (space is default) as the fill character."
   ]
  },
  {
   "cell_type": "code",
   "execution_count": 59,
   "id": "74e2c36c",
   "metadata": {},
   "outputs": [
    {
     "name": "stdout",
     "output_type": "stream",
     "text": [
      "*******banana*******\n"
     ]
    }
   ],
   "source": [
    "txt = \"banana\"\n",
    "x = txt.center(20, \"*\")\n",
    "print(x)"
   ]
  },
  {
   "cell_type": "markdown",
   "id": "9ce5f43a",
   "metadata": {},
   "source": [
    "#### 10) .rjust()\n",
    "`Syntax : var.rjust(count, char(optional))`\n",
    "\n",
    "returns a right justified version of the string."
   ]
  },
  {
   "cell_type": "code",
   "execution_count": 61,
   "id": "fb4d1a5e",
   "metadata": {},
   "outputs": [
    {
     "name": "stdout",
     "output_type": "stream",
     "text": [
      "***************python language\n"
     ]
    }
   ],
   "source": [
    "s = \"python language\"\n",
    "print(s.rjust(30,'*'))"
   ]
  },
  {
   "cell_type": "markdown",
   "id": "f29da690",
   "metadata": {},
   "source": [
    "#### 11) .ljust()\n",
    "`Syntax : var.ljust(count, char(optional))`\n",
    "\n",
    "returns a left justified version of the string."
   ]
  },
  {
   "cell_type": "code",
   "execution_count": 64,
   "id": "71afd241",
   "metadata": {},
   "outputs": [
    {
     "name": "stdout",
     "output_type": "stream",
     "text": [
      "python language***************\n"
     ]
    }
   ],
   "source": [
    "s = \"python language\"\n",
    "print(s.ljust(30,'*'))"
   ]
  },
  {
   "cell_type": "markdown",
   "id": "86f19ff3",
   "metadata": {},
   "source": [
    "#### 12) .zfill() \n",
    "`Syntax : string.zfill(len)`\n",
    "\n",
    "adds zeros (0) at the beginning of the string, until it reaches the specified length."
   ]
  },
  {
   "cell_type": "code",
   "execution_count": 65,
   "id": "61157216",
   "metadata": {},
   "outputs": [
    {
     "name": "stdout",
     "output_type": "stream",
     "text": [
      "0000000050\n"
     ]
    }
   ],
   "source": [
    "txt = \"50\"\n",
    "x = txt.zfill(10)\n",
    "print(x)"
   ]
  },
  {
   "cell_type": "markdown",
   "id": "8e14115c",
   "metadata": {},
   "source": [
    "#### 13) .replace()\n",
    "replaces a string or a character with another string or character.\n",
    "\n",
    "`Syntax : var.replace('old value/char/word', 'new value/char/word', count)`\n",
    "\n",
    "Count (optional) refers to a number specifying how many occurrences of the old value you want to replace. Default is all occurrences."
   ]
  },
  {
   "cell_type": "code",
   "execution_count": 39,
   "id": "d8398601",
   "metadata": {},
   "outputs": [
    {
     "name": "stdout",
     "output_type": "stream",
     "text": [
      "Updated stirng : JAVA and Data Science class\n"
     ]
    }
   ],
   "source": [
    "str1 = 'Python and Data Science class'\n",
    "str2 = str1.replace('Python','JAVA')\n",
    "print('Updated stirng :',str2)"
   ]
  },
  {
   "cell_type": "code",
   "execution_count": 40,
   "id": "4fa49ac1",
   "metadata": {},
   "outputs": [
    {
     "data": {
      "text/plain": [
       "'pyth*n *nd d*t* sc**nc*, pyth*n *s pr*gr*mm*ng l*ng**g*,\\npyth*n *s *s*d f*r\\nm*ch*n* l**rn*ng *nd d**p l**rn*ng **t'"
      ]
     },
     "execution_count": 40,
     "metadata": {},
     "output_type": "execute_result"
    }
   ],
   "source": [
    "str1 = '''Python and Data Science, Python is programming Language,\n",
    "Python is used for\n",
    "Machine Learning and Deep Learning OUT'''\n",
    "str2 = str1.lower()\n",
    "str2.replace(\"a\",\"*\").replace(\"e\",\"*\").replace(\"i\",\"*\").replace(\"o\",\"*\").replace(\"u\",\"*\")"
   ]
  },
  {
   "cell_type": "code",
   "execution_count": 1,
   "id": "d4195e91",
   "metadata": {},
   "outputs": [
    {
     "name": "stdout",
     "output_type": "stream",
     "text": [
      "Updated stirng : Python*and*Data*Science*class.\n"
     ]
    }
   ],
   "source": [
    "str1 = 'Python and Data Science class.'\n",
    "str2 = str1.replace(' ','*')\n",
    "print('Updated stirng :',str2)"
   ]
  },
  {
   "cell_type": "code",
   "execution_count": 2,
   "id": "1edf98ec",
   "metadata": {},
   "outputs": [
    {
     "name": "stdout",
     "output_type": "stream",
     "text": [
      "Updated stirng : PythonandDataScienceclass.\n"
     ]
    }
   ],
   "source": [
    "str1 = 'Python and Data Science class.'\n",
    "str2 = str1.replace(' ','')\n",
    "print('Updated stirng :',str2)"
   ]
  },
  {
   "cell_type": "code",
   "execution_count": 3,
   "id": "2c7002db",
   "metadata": {},
   "outputs": [
    {
     "data": {
      "text/plain": [
       "'Pyth*n *nd D*t* Sc**nc*, Pyth*n *s pr*gr*mm*ng L*ng**g*,\\nPyth*n *s *s*d f*r\\nM*ch*n* L**rn*ng *nd D**p L**rn*ng OUT'"
      ]
     },
     "execution_count": 3,
     "metadata": {},
     "output_type": "execute_result"
    }
   ],
   "source": [
    "string = '''Python and Data Science, Python is programming Language,\n",
    "Python is used for\n",
    "Machine Learning and Deep Learning OUT'''\n",
    "string.replace('a','*').replace('e','*').replace('i','*').replace('o','*').replace('u','*')"
   ]
  },
  {
   "cell_type": "markdown",
   "id": "ab0ddffd",
   "metadata": {},
   "source": [
    "#### 14) .split()\n",
    "`Syntax : string.split(separator(optional), maxsplit(optional))`\n",
    "\n",
    "returns list of words or characters from a given string."
   ]
  },
  {
   "cell_type": "code",
   "execution_count": 41,
   "id": "59f42952",
   "metadata": {},
   "outputs": [
    {
     "data": {
      "text/plain": [
       "['Python']"
      ]
     },
     "execution_count": 41,
     "metadata": {},
     "output_type": "execute_result"
    }
   ],
   "source": [
    "str1 = 'Python'\n",
    "str1.split()"
   ]
  },
  {
   "cell_type": "code",
   "execution_count": 42,
   "id": "08cdab69",
   "metadata": {},
   "outputs": [
    {
     "name": "stdout",
     "output_type": "stream",
     "text": [
      "['python', 'and', 'Data', 'Science']\n",
      "<class 'list'>\n"
     ]
    }
   ],
   "source": [
    "str1 = \"python and Data Science\"\n",
    "list1 = str1.split()\n",
    "print(list1)\n",
    "print(type(list1))"
   ]
  },
  {
   "cell_type": "code",
   "execution_count": 43,
   "id": "1870c9c0",
   "metadata": {},
   "outputs": [
    {
     "data": {
      "text/plain": [
       "'python and Data Science'"
      ]
     },
     "execution_count": 43,
     "metadata": {},
     "output_type": "execute_result"
    }
   ],
   "source": [
    "# Joining list again to string\n",
    "\n",
    "str2 = ' '.join(list1)\n",
    "str2"
   ]
  },
  {
   "cell_type": "markdown",
   "id": "41dde3b4",
   "metadata": {},
   "source": [
    "#### 15) .join()\n",
    "`Syntax : char.join(var)`\n",
    "\n",
    "joins elements of an iterable."
   ]
  },
  {
   "cell_type": "code",
   "execution_count": 44,
   "id": "f8918813",
   "metadata": {},
   "outputs": [
    {
     "name": "stdout",
     "output_type": "stream",
     "text": [
      "python*and*data*science\n"
     ]
    }
   ],
   "source": [
    "str1 = 'python and data science'\n",
    "print('*'.join(str1.split()))"
   ]
  },
  {
   "cell_type": "markdown",
   "id": "d779e065",
   "metadata": {},
   "source": [
    "#### 16) .count()\n",
    "`Syntax : var.count('string', start_index(optional), end_index(optional))`\n",
    "\n",
    "returns the count of any word or char in the string."
   ]
  },
  {
   "cell_type": "code",
   "execution_count": 49,
   "id": "92153066",
   "metadata": {},
   "outputs": [
    {
     "data": {
      "text/plain": [
       "3"
      ]
     },
     "execution_count": 49,
     "metadata": {},
     "output_type": "execute_result"
    }
   ],
   "source": [
    "str1 = '''Python and Data Science, Python is programming Language,\n",
    "Python is used for\n",
    "Machine Learning and Deep Learning'''\n",
    "str1.count('Python')"
   ]
  },
  {
   "cell_type": "code",
   "execution_count": 50,
   "id": "3dcf769b",
   "metadata": {},
   "outputs": [
    {
     "data": {
      "text/plain": [
       "1"
      ]
     },
     "execution_count": 50,
     "metadata": {},
     "output_type": "execute_result"
    }
   ],
   "source": [
    "str1 = 'python class python'\n",
    "str1.count('p',2,15) # thon class pyth"
   ]
  },
  {
   "cell_type": "markdown",
   "id": "2a8ff2a4",
   "metadata": {},
   "source": [
    "#### 17) .expandtabs()\n",
    "\n",
    "`syntax : string.expandtabs(tabsize)`\n",
    "\n",
    "sets the tab size to the specified number of whitespaces."
   ]
  },
  {
   "cell_type": "code",
   "execution_count": 54,
   "id": "3b33b2cd",
   "metadata": {},
   "outputs": [
    {
     "name": "stdout",
     "output_type": "stream",
     "text": [
      "H e l l o\n",
      "H  e  l  l  o\n"
     ]
    }
   ],
   "source": [
    "str1 =\"H\\te\\tl\\tl\\to\"\n",
    "\n",
    "print(str1.expandtabs(2))\n",
    "print(str1.expandtabs(3))"
   ]
  },
  {
   "cell_type": "markdown",
   "id": "042c2f97",
   "metadata": {},
   "source": [
    "#### 18) .index()\n",
    "`Syntax : var.index('substring',start_index(optional),end_index(optional))`\n",
    "\n",
    "returns index of any character or word from a given string."
   ]
  },
  {
   "cell_type": "code",
   "execution_count": 40,
   "id": "d3be03e7",
   "metadata": {},
   "outputs": [
    {
     "data": {
      "text/plain": [
       "97"
      ]
     },
     "execution_count": 40,
     "metadata": {},
     "output_type": "execute_result"
    }
   ],
   "source": [
    "str1 = '''Python and Data Science, Python is programming Language,\n",
    "Python is used for\n",
    "Machine Learning and Deep Learning'''\n",
    "str1.index('Deep')"
   ]
  },
  {
   "cell_type": "code",
   "execution_count": 41,
   "id": "6f99215e",
   "metadata": {},
   "outputs": [
    {
     "data": {
      "text/plain": [
       "6"
      ]
     },
     "execution_count": 41,
     "metadata": {},
     "output_type": "execute_result"
    }
   ],
   "source": [
    "str1.index(' ') # returns index of first occurance"
   ]
  },
  {
   "cell_type": "code",
   "execution_count": 43,
   "id": "daf6671a",
   "metadata": {},
   "outputs": [
    {
     "data": {
      "text/plain": [
       "102"
      ]
     },
     "execution_count": 43,
     "metadata": {},
     "output_type": "execute_result"
    }
   ],
   "source": [
    "str1.index('Learning', 93,200)"
   ]
  },
  {
   "cell_type": "markdown",
   "id": "5dc526a4",
   "metadata": {},
   "source": [
    "#### 19) .find()\n",
    "`Syntax : var.find('substring',start_index(optional),end_index(optional))`\n",
    "\n",
    "returns index of any character or word from a given string, difference between index() and find() function is that, in index() function, if substring is not found in a main string it will give you an error whereas in find() function it will return -1"
   ]
  },
  {
   "cell_type": "code",
   "execution_count": 46,
   "id": "8a3a490f",
   "metadata": {},
   "outputs": [
    {
     "data": {
      "text/plain": [
       "-1"
      ]
     },
     "execution_count": 46,
     "metadata": {},
     "output_type": "execute_result"
    }
   ],
   "source": [
    "str1 = '''Python and Data Science, Python is programming Language,\n",
    "Python is used for\n",
    "Machine Learning and Deep Learning'''\n",
    "str1.find(\"deep Learning\")"
   ]
  },
  {
   "cell_type": "code",
   "execution_count": 53,
   "id": "9cc36695",
   "metadata": {},
   "outputs": [
    {
     "name": "stdout",
     "output_type": "stream",
     "text": [
      "Data is not present\n"
     ]
    }
   ],
   "source": [
    "str1 = 'Python and data science'\n",
    "substr = 'Data'\n",
    "\n",
    "index = str1.find(substr)\n",
    "\n",
    "if index == -1:\n",
    "    print(f'{substr} is not present')\n",
    "    \n",
    "else:\n",
    "    print(f'{substr} is present')"
   ]
  },
  {
   "cell_type": "markdown",
   "id": "689dbccd",
   "metadata": {},
   "source": [
    "#### 20) .endswith()\n",
    "`string.endswith(value, start(optional), end(optional))`\n",
    "\n",
    "returns True if a string endswith a specified substring else returns False"
   ]
  },
  {
   "cell_type": "code",
   "execution_count": 55,
   "id": "5356c5d7",
   "metadata": {},
   "outputs": [
    {
     "data": {
      "text/plain": [
       "True"
      ]
     },
     "execution_count": 55,
     "metadata": {},
     "output_type": "execute_result"
    }
   ],
   "source": [
    "str2 = 'data science'\n",
    "str1.endswith(\"e\")"
   ]
  },
  {
   "cell_type": "code",
   "execution_count": 56,
   "id": "8c503826",
   "metadata": {},
   "outputs": [
    {
     "data": {
      "text/plain": [
       "False"
      ]
     },
     "execution_count": 56,
     "metadata": {},
     "output_type": "execute_result"
    }
   ],
   "source": [
    "str2 = 'data science'\n",
    "str1.endswith(\"i\")"
   ]
  },
  {
   "cell_type": "code",
   "execution_count": 57,
   "id": "d63d4206",
   "metadata": {},
   "outputs": [
    {
     "name": "stdout",
     "output_type": "stream",
     "text": [
      "True\n"
     ]
    }
   ],
   "source": [
    "str1 = r'C:\\Users\\suchita.berde\\Suchita\\Personal\\Velocity_19 March 2022\\04_04 String_If_else\\Hello.txt'\n",
    "filepath = str1.endswith(\".txt\")\n",
    "print(filepath)"
   ]
  },
  {
   "cell_type": "code",
   "execution_count": 58,
   "id": "03dc2ada",
   "metadata": {},
   "outputs": [
    {
     "name": "stdout",
     "output_type": "stream",
     "text": [
      "This is a text file\n"
     ]
    }
   ],
   "source": [
    "str1 = r'C:\\Users\\suchita.berde\\Suchita\\Personal\\Velocity_19 March 2022\\04_04 String_If_else\\Hello.txt'\n",
    "\n",
    "if str1.endswith(\".txt\"):\n",
    "    print(\"This is a text file\")\n",
    "else:\n",
    "    print(\"Not a text file\")"
   ]
  },
  {
   "cell_type": "code",
   "execution_count": 60,
   "id": "eb6591b1",
   "metadata": {},
   "outputs": [],
   "source": [
    "# Tricky:"
   ]
  },
  {
   "cell_type": "code",
   "execution_count": 59,
   "id": "4c8e301c",
   "metadata": {},
   "outputs": [],
   "source": [
    "import os"
   ]
  },
  {
   "cell_type": "code",
   "execution_count": 61,
   "id": "1d6f45ab",
   "metadata": {},
   "outputs": [
    {
     "name": "stdout",
     "output_type": "stream",
     "text": [
      "['Assignment no1.pdf', 'Theory Questions (Python).pdf']\n"
     ]
    }
   ],
   "source": [
    "folder_path =  r'F:\\Omkar Phadtare\\Study Material\\Velocity\\Answers\\Pdf'\n",
    "file_name_list = os.listdir(folder_path)\n",
    "print(file_name_list)"
   ]
  },
  {
   "cell_type": "code",
   "execution_count": 62,
   "id": "36544717",
   "metadata": {},
   "outputs": [
    {
     "name": "stdout",
     "output_type": "stream",
     "text": [
      "file name is : Assignment no1.pdf\n",
      "file name is : Theory Questions (Python).pdf\n"
     ]
    }
   ],
   "source": [
    "for i in file_name_list:\n",
    "    print(\"file name is :\",i)"
   ]
  },
  {
   "cell_type": "code",
   "execution_count": 64,
   "id": "b8f74d9e",
   "metadata": {},
   "outputs": [
    {
     "name": "stdout",
     "output_type": "stream",
     "text": [
      "file is not a text file Assignment no1.pdf\n",
      "file is not a text file Theory Questions (Python).pdf\n"
     ]
    }
   ],
   "source": [
    "for files in file_name_list:\n",
    "    if files.endswith(\".txt\"):\n",
    "        print(\"file is a text file :\",files)\n",
    "    else:\n",
    "        print(\"file is not a text file\",files)"
   ]
  },
  {
   "cell_type": "code",
   "execution_count": 65,
   "id": "f63397b8",
   "metadata": {},
   "outputs": [
    {
     "name": "stdout",
     "output_type": "stream",
     "text": [
      "file is a text file : Assignment no1.pdf\n",
      "file is a text file : Theory Questions (Python).pdf\n"
     ]
    }
   ],
   "source": [
    "for files in file_name_list:\n",
    "    if files.endswith(\".pdf\"):\n",
    "        print(\"file is a text file :\",files)\n",
    "    else:\n",
    "        print(\"No files found\")"
   ]
  },
  {
   "cell_type": "markdown",
   "id": "4a0b7309",
   "metadata": {},
   "source": [
    "#### 21) .startswith()\n",
    "`Syntax : string.startswith(value, start(optional), end(optional))`\n",
    "\n",
    "returns True if a string startswith a specified substring else returns False"
   ]
  },
  {
   "cell_type": "code",
   "execution_count": 66,
   "id": "2b5e8132",
   "metadata": {},
   "outputs": [
    {
     "data": {
      "text/plain": [
       "True"
      ]
     },
     "execution_count": 66,
     "metadata": {},
     "output_type": "execute_result"
    }
   ],
   "source": [
    "str1 = 'python'\n",
    "str1.startswith('p')"
   ]
  },
  {
   "cell_type": "markdown",
   "id": "a48e96ed",
   "metadata": {},
   "source": [
    "#### 22) .isspace()\n",
    "`Syntax : var.isspace()`\n",
    "\n",
    "returns True if string only contains space or whitespace character, otherwise False. empty string not allowed."
   ]
  },
  {
   "cell_type": "code",
   "execution_count": 69,
   "id": "f380dd4e",
   "metadata": {},
   "outputs": [
    {
     "data": {
      "text/plain": [
       "True"
      ]
     },
     "execution_count": 69,
     "metadata": {},
     "output_type": "execute_result"
    }
   ],
   "source": [
    "string = '\\t'\n",
    "string.isspace()\n"
   ]
  },
  {
   "cell_type": "code",
   "execution_count": 68,
   "id": "83121d8b",
   "metadata": {},
   "outputs": [
    {
     "data": {
      "text/plain": [
       "True"
      ]
     },
     "execution_count": 68,
     "metadata": {},
     "output_type": "execute_result"
    }
   ],
   "source": [
    "string = '\\n'\n",
    "string.isspace()\n"
   ]
  },
  {
   "cell_type": "code",
   "execution_count": 67,
   "id": "73149990",
   "metadata": {},
   "outputs": [
    {
     "data": {
      "text/plain": [
       "True"
      ]
     },
     "execution_count": 67,
     "metadata": {},
     "output_type": "execute_result"
    }
   ],
   "source": [
    "string = ' '\n",
    "string.isspace()\n"
   ]
  },
  {
   "cell_type": "code",
   "execution_count": 66,
   "id": "e0e5ec2e",
   "metadata": {},
   "outputs": [
    {
     "data": {
      "text/plain": [
       "False"
      ]
     },
     "execution_count": 66,
     "metadata": {},
     "output_type": "execute_result"
    }
   ],
   "source": [
    "string = '' # Empty string space is not there\n",
    "string.isspace()"
   ]
  },
  {
   "cell_type": "markdown",
   "id": "9ecfb59b",
   "metadata": {},
   "source": [
    "#### 23) .istitle()\n",
    "`Syntax : var.istitle()`\n",
    "\n",
    "returns True if string is in a title case (every character of word is uppercase) otherwise False."
   ]
  },
  {
   "cell_type": "code",
   "execution_count": 70,
   "id": "59013ccd",
   "metadata": {},
   "outputs": [
    {
     "data": {
      "text/plain": [
       "True"
      ]
     },
     "execution_count": 70,
     "metadata": {},
     "output_type": "execute_result"
    }
   ],
   "source": [
    "str1 = 'Python Data Science'\n",
    "str1.istitle()"
   ]
  },
  {
   "cell_type": "code",
   "execution_count": 71,
   "id": "e4fddba8",
   "metadata": {},
   "outputs": [
    {
     "data": {
      "text/plain": [
       "False"
      ]
     },
     "execution_count": 71,
     "metadata": {},
     "output_type": "execute_result"
    }
   ],
   "source": [
    "str1 = 'Python data Science'\n",
    "str1.istitle()"
   ]
  },
  {
   "cell_type": "markdown",
   "id": "b518f128",
   "metadata": {},
   "source": [
    "#### 24) .isupper()\n",
    "`Syntax : var.isupper()`\n",
    "\n",
    "function in python returns True if all the characters in a given string are in upper case, otherwise False."
   ]
  },
  {
   "cell_type": "code",
   "execution_count": 72,
   "id": "89b25f2d",
   "metadata": {},
   "outputs": [
    {
     "data": {
      "text/plain": [
       "True"
      ]
     },
     "execution_count": 72,
     "metadata": {},
     "output_type": "execute_result"
    }
   ],
   "source": [
    "string = 'DATA'\n",
    "string.isupper()"
   ]
  },
  {
   "cell_type": "code",
   "execution_count": 73,
   "id": "f85de643",
   "metadata": {},
   "outputs": [
    {
     "data": {
      "text/plain": [
       "True"
      ]
     },
     "execution_count": 73,
     "metadata": {},
     "output_type": "execute_result"
    }
   ],
   "source": [
    "string = \"DATA SCIENCE 1234 &*^%\"\n",
    "string.isupper()"
   ]
  },
  {
   "cell_type": "code",
   "execution_count": 74,
   "id": "e54e4740",
   "metadata": {},
   "outputs": [
    {
     "data": {
      "text/plain": [
       "False"
      ]
     },
     "execution_count": 74,
     "metadata": {},
     "output_type": "execute_result"
    }
   ],
   "source": [
    "string =\"DATa\"\n",
    "string.isupper()"
   ]
  },
  {
   "cell_type": "markdown",
   "id": "f0d4be3b",
   "metadata": {},
   "source": [
    "#### 25) .islower()\n",
    "`Syntax : var.islower()`\n",
    "\n",
    "function in python returns True if all the characters in a given string are in lower case, otherwise False."
   ]
  },
  {
   "cell_type": "code",
   "execution_count": 75,
   "id": "4ebe0186",
   "metadata": {},
   "outputs": [
    {
     "data": {
      "text/plain": [
       "False"
      ]
     },
     "execution_count": 75,
     "metadata": {},
     "output_type": "execute_result"
    }
   ],
   "source": [
    "string = \"Python 2345\"\n",
    "string.islower()"
   ]
  },
  {
   "cell_type": "code",
   "execution_count": 76,
   "id": "df3cabb7",
   "metadata": {},
   "outputs": [
    {
     "name": "stdout",
     "output_type": "stream",
     "text": [
      "python 2345\n"
     ]
    }
   ],
   "source": [
    "string = string.lower()\n",
    "print(string)"
   ]
  },
  {
   "cell_type": "markdown",
   "id": "fe81975e",
   "metadata": {},
   "source": [
    "#### 26) .isalnum()\n",
    "`Syntax : var.isalnum()`\n",
    "\n",
    "returns True if string is alphanumeric (a-z),(A-Z),(0-9) else returns False (does not allow special and whitespace characters)"
   ]
  },
  {
   "cell_type": "code",
   "execution_count": 68,
   "id": "4b58685c",
   "metadata": {},
   "outputs": [
    {
     "data": {
      "text/plain": [
       "True"
      ]
     },
     "execution_count": 68,
     "metadata": {},
     "output_type": "execute_result"
    }
   ],
   "source": [
    "str1 = 'python'\n",
    "str1.isalnum()"
   ]
  },
  {
   "cell_type": "code",
   "execution_count": 69,
   "id": "7da0ea47",
   "metadata": {},
   "outputs": [
    {
     "data": {
      "text/plain": [
       "True"
      ]
     },
     "execution_count": 69,
     "metadata": {},
     "output_type": "execute_result"
    }
   ],
   "source": [
    "str1 = 'DataScience123'\n",
    "str1.isalnum()"
   ]
  },
  {
   "cell_type": "code",
   "execution_count": 70,
   "id": "f4fd119c",
   "metadata": {},
   "outputs": [
    {
     "data": {
      "text/plain": [
       "False"
      ]
     },
     "execution_count": 70,
     "metadata": {},
     "output_type": "execute_result"
    }
   ],
   "source": [
    "str1 = 'DataScience 123'\n",
    "str1.isalnum()"
   ]
  },
  {
   "cell_type": "markdown",
   "id": "e523cf6d",
   "metadata": {},
   "source": [
    "#### 27) .isalpha()\n",
    "`Syntax : var.isalpha()`\n",
    "\n",
    "returns True if string consist of alphabets (a-z),(A-Z) else returns False (does not allow digits, special and whitespace characters)"
   ]
  },
  {
   "cell_type": "code",
   "execution_count": 72,
   "id": "710e9ffb",
   "metadata": {},
   "outputs": [
    {
     "data": {
      "text/plain": [
       "True"
      ]
     },
     "execution_count": 72,
     "metadata": {},
     "output_type": "execute_result"
    }
   ],
   "source": [
    "string = 'python' #lower case\n",
    "string.isalpha()"
   ]
  },
  {
   "cell_type": "code",
   "execution_count": 73,
   "id": "ab674183",
   "metadata": {},
   "outputs": [
    {
     "data": {
      "text/plain": [
       "True"
      ]
     },
     "execution_count": 73,
     "metadata": {},
     "output_type": "execute_result"
    }
   ],
   "source": [
    "string = 'PYTHON' #UPPER case\n",
    "string.isalpha()"
   ]
  },
  {
   "cell_type": "code",
   "execution_count": 74,
   "id": "d9742602",
   "metadata": {},
   "outputs": [
    {
     "data": {
      "text/plain": [
       "False"
      ]
     },
     "execution_count": 74,
     "metadata": {},
     "output_type": "execute_result"
    }
   ],
   "source": [
    "string = 'PYTHON CLASS'\n",
    "string.isalpha()"
   ]
  },
  {
   "cell_type": "markdown",
   "id": "626fe44a",
   "metadata": {},
   "source": [
    "#### 28) .isdecimal()\n",
    "`Syntax : var.isdecimal()`\n",
    "\n",
    "returns True if string contains digits and unicoes of digits else returns False (does not allow characters and unicodes of characters, special and whitespace characters)"
   ]
  },
  {
   "cell_type": "code",
   "execution_count": 78,
   "id": "77cf72e0",
   "metadata": {},
   "outputs": [
    {
     "name": "stdout",
     "output_type": "stream",
     "text": [
      "True\n"
     ]
    }
   ],
   "source": [
    "mobile_num = '99'\n",
    "print(mobile_num.isdecimal())"
   ]
  },
  {
   "cell_type": "code",
   "execution_count": 79,
   "id": "1ce45065",
   "metadata": {},
   "outputs": [
    {
     "data": {
      "text/plain": [
       "True"
      ]
     },
     "execution_count": 79,
     "metadata": {},
     "output_type": "execute_result"
    }
   ],
   "source": [
    "num = '\\u0039' # unicode of digit 9\n",
    "num.isdecimal()"
   ]
  },
  {
   "cell_type": "code",
   "execution_count": 80,
   "id": "bfee0f60",
   "metadata": {},
   "outputs": [
    {
     "data": {
      "text/plain": [
       "False"
      ]
     },
     "execution_count": 80,
     "metadata": {},
     "output_type": "execute_result"
    }
   ],
   "source": [
    "number = '3.14'\n",
    "number.isdecimal()"
   ]
  },
  {
   "cell_type": "markdown",
   "id": "d0d5b57c",
   "metadata": {},
   "source": [
    "#### 29) .isdigit()\n",
    "`Syntax : var.isdigit()`\n",
    "\n",
    "function in python returns True if all the characters in a given string are digits, Unicode’s of digits, subscripts and superscripts unicodes otherwise it returns False."
   ]
  },
  {
   "cell_type": "code",
   "execution_count": 81,
   "id": "20e6b249",
   "metadata": {},
   "outputs": [
    {
     "name": "stdout",
     "output_type": "stream",
     "text": [
      "True\n",
      "True\n"
     ]
    }
   ],
   "source": [
    "num = '\\u0039'  # digit 9\n",
    "print(num.isdecimal())\n",
    "print(num.isdigit())"
   ]
  },
  {
   "cell_type": "code",
   "execution_count": 82,
   "id": "452d9453",
   "metadata": {},
   "outputs": [
    {
     "name": "stdout",
     "output_type": "stream",
     "text": [
      "False\n",
      "True\n"
     ]
    }
   ],
   "source": [
    "superscript_2 = \"\\u00B2\" # \"superscript of 2\"\n",
    "print(superscript_2.isdecimal())\n",
    "print(superscript_2.isdigit())"
   ]
  },
  {
   "cell_type": "code",
   "execution_count": 83,
   "id": "d2ff223d",
   "metadata": {},
   "outputs": [
    {
     "name": "stdout",
     "output_type": "stream",
     "text": [
      "False\n",
      "True\n"
     ]
    }
   ],
   "source": [
    "subscript_2 = \"\\u2082\" # \"subscript of 2\"\n",
    "print(superscript_2.isdecimal())\n",
    "print(superscript_2.isdigit())"
   ]
  },
  {
   "cell_type": "markdown",
   "id": "d5ecc078",
   "metadata": {},
   "source": [
    "#### 30) .isnumeric()\n",
    "`Syntax : var.isnumeric()`\n",
    "\n",
    "function in python returns True if all the characters in a given string are digits, Unicode’s of digits, subscripts and superscripts or vulgar characters otherwise it returns False. vulgar characters are nothing but fraction 4/5"
   ]
  },
  {
   "cell_type": "code",
   "execution_count": 84,
   "id": "1e15e910",
   "metadata": {},
   "outputs": [
    {
     "name": "stdout",
     "output_type": "stream",
     "text": [
      "False\n",
      "False\n",
      "True\n"
     ]
    }
   ],
   "source": [
    "vulgar_fraction_half = '\\u00BD' \n",
    "print(vulgar_fraction_half.isdecimal())\n",
    "print(vulgar_fraction_half.isdigit())\n",
    "print(vulgar_fraction_half.isnumeric())"
   ]
  }
 ],
 "metadata": {
  "kernelspec": {
   "display_name": "Python 3 (ipykernel)",
   "language": "python",
   "name": "python3"
  },
  "language_info": {
   "codemirror_mode": {
    "name": "ipython",
    "version": 3
   },
   "file_extension": ".py",
   "mimetype": "text/x-python",
   "name": "python",
   "nbconvert_exporter": "python",
   "pygments_lexer": "ipython3",
   "version": "3.9.12"
  }
 },
 "nbformat": 4,
 "nbformat_minor": 5
}
