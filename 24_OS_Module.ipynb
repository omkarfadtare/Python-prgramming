{
 "cells": [
  {
   "cell_type": "markdown",
   "id": "dfb67cef",
   "metadata": {},
   "source": [
    "#### OS module (Operating system module)"
   ]
  },
  {
   "cell_type": "markdown",
   "id": "114cb1c1",
   "metadata": {},
   "source": [
    "`The OS module in Python provides functions for interacting with the operating system. OS comes under Python’s standard utility modules.`"
   ]
  },
  {
   "cell_type": "code",
   "execution_count": 1,
   "id": "6d530a12",
   "metadata": {},
   "outputs": [],
   "source": [
    "import os # Importing OS module"
   ]
  },
  {
   "cell_type": "markdown",
   "id": "477877c7",
   "metadata": {},
   "source": [
    "#### os.getcwd()\n",
    "To get the location of the current working directory.\n",
    "\n",
    "`Syntax: os.getcwd()`"
   ]
  },
  {
   "cell_type": "code",
   "execution_count": 31,
   "id": "6d13fe60",
   "metadata": {},
   "outputs": [
    {
     "data": {
      "text/plain": [
       "'E:\\\\demo1'"
      ]
     },
     "execution_count": 31,
     "metadata": {},
     "output_type": "execute_result"
    }
   ],
   "source": [
    "os.getcwd()"
   ]
  },
  {
   "cell_type": "markdown",
   "id": "099479fc",
   "metadata": {},
   "source": [
    "#### os.chdir()\n",
    "To change our current working directory\n",
    "\n",
    "`Syntax: os.chdir(path)`"
   ]
  },
  {
   "cell_type": "code",
   "execution_count": 32,
   "id": "ad2a5886",
   "metadata": {},
   "outputs": [],
   "source": [
    "os.chdir(r'C:\\Users\\MY\\anaconda3\\Data_science\\Velocity\\Python_\\My_notes\\g1_OS_Module')"
   ]
  },
  {
   "cell_type": "markdown",
   "id": "f36c73d0",
   "metadata": {},
   "source": [
    "#### os.mkdir()\n",
    "To create a new directory\n",
    "\n",
    "`Syntax: os.mkdir(directory_name)`"
   ]
  },
  {
   "cell_type": "code",
   "execution_count": 33,
   "id": "bc6269c0",
   "metadata": {},
   "outputs": [],
   "source": [
    "os.mkdir('sample') # directory named sample is created in current working directory"
   ]
  },
  {
   "cell_type": "markdown",
   "id": "7a8a4b68",
   "metadata": {},
   "source": [
    "#### os.makedirs()\n",
    "This method in Python is used to create a directory recursively. That means while making leaf directory if any intermediate-level directory is missing os.makedirs() method will create them all.\n",
    "\n",
    "`Syntax: os.makedirs(path)`"
   ]
  },
  {
   "cell_type": "code",
   "execution_count": 36,
   "id": "1a272925",
   "metadata": {},
   "outputs": [],
   "source": [
    "# Like in below example only 'sam' directory was not present previously \n",
    "# but still that would not gave any error istead os.makedirs() method created that folder and test folder also."
   ]
  },
  {
   "cell_type": "code",
   "execution_count": 35,
   "id": "8e617402",
   "metadata": {},
   "outputs": [],
   "source": [
    "os.makedirs(r'C:\\Users\\MY\\anaconda3\\Data_science\\Velocity\\Python_\\My_notes\\g1_OS_Module\\sam\\test1')"
   ]
  },
  {
   "cell_type": "markdown",
   "id": "5963a85e",
   "metadata": {},
   "source": [
    "#### os.listdir()\n",
    "This method in Python is used to get the list of all files and directories in the specified directory. If we don’t specify any directory, then the list of files and directories in the current working directory will be returned.\n",
    "\n",
    "`Syntax: os.listdir(path)`"
   ]
  },
  {
   "cell_type": "code",
   "execution_count": 37,
   "id": "0e193db3",
   "metadata": {},
   "outputs": [
    {
     "data": {
      "text/plain": [
       "['.ipynb_checkpoints', 'g1_OS_module.ipynb', 'Omkar', 'sam', 'sample']"
      ]
     },
     "execution_count": 37,
     "metadata": {},
     "output_type": "execute_result"
    }
   ],
   "source": [
    "os.listdir(r'C:\\Users\\MY\\anaconda3\\Data_science\\Velocity\\Python_\\My_notes\\g1_OS_Module')"
   ]
  },
  {
   "cell_type": "code",
   "execution_count": 39,
   "id": "d3dabd69",
   "metadata": {},
   "outputs": [
    {
     "name": "stdout",
     "output_type": "stream",
     "text": [
      ".ipynb_checkpoints\n",
      "g1_OS_module.ipynb\n",
      "Omkar\n",
      "sam\n",
      "sample\n"
     ]
    }
   ],
   "source": [
    "# alternate way:\n",
    "\n",
    "for files in os.listdir(r'C:\\Users\\MY\\anaconda3\\Data_science\\Velocity\\Python_\\My_notes\\g1_OS_Module'):\n",
    "    print(files)"
   ]
  },
  {
   "cell_type": "markdown",
   "id": "867d8510",
   "metadata": {},
   "source": [
    "#### os.remove()\n",
    "os.remove() method in Python is used to remove or delete a file/file path. This method can not remove or delete a directory. To delete direcctory or folder os.rmdir() method is used.\n",
    "\n",
    "`Syntax: os.remove(path)`"
   ]
  },
  {
   "cell_type": "code",
   "execution_count": 40,
   "id": "9bd71039",
   "metadata": {},
   "outputs": [],
   "source": [
    "os.remove(r'C:\\Users\\MY\\anaconda3\\Data_science\\Velocity\\Python_\\My_notes\\g1_OS_Module\\Omkar\\txt1.txt')"
   ]
  },
  {
   "cell_type": "code",
   "execution_count": 41,
   "id": "56ccaae1",
   "metadata": {},
   "outputs": [],
   "source": [
    "# If you do not want to paste path change the working directory and enter only the file name"
   ]
  },
  {
   "cell_type": "markdown",
   "id": "1311d337",
   "metadata": {},
   "source": [
    "#### os.rmdir()\n",
    "os.rmdir() method in Python is used to remove or delete an empty directory. OSError will be raised if the specified path is not an empty directory.\n",
    "\n",
    "`Syntax: os.remove(path)`"
   ]
  },
  {
   "cell_type": "code",
   "execution_count": 42,
   "id": "3cb590fd",
   "metadata": {},
   "outputs": [],
   "source": [
    "os.rmdir(r'C:\\Users\\MY\\anaconda3\\Data_science\\Velocity\\Python_\\My_notes\\g1_OS_Module\\Omkar')"
   ]
  },
  {
   "cell_type": "code",
   "execution_count": 43,
   "id": "69a2f309",
   "metadata": {},
   "outputs": [],
   "source": [
    "# If you do not want to paste path change the working directory and enter only the directory name"
   ]
  },
  {
   "cell_type": "markdown",
   "id": "9537e71a",
   "metadata": {},
   "source": [
    "#### os.path.exists()\n",
    "os.path.exists() method in Python is used to check whether the specified path exists or file/directory exists in specified path or not. Returns a boolean value.\n",
    "\n",
    "`Syntax: os.path.exists(path)`"
   ]
  },
  {
   "cell_type": "code",
   "execution_count": 44,
   "id": "8744d613",
   "metadata": {},
   "outputs": [
    {
     "data": {
      "text/plain": [
       "True"
      ]
     },
     "execution_count": 44,
     "metadata": {},
     "output_type": "execute_result"
    }
   ],
   "source": [
    "os.path.exists(r'C:\\Users\\MY\\anaconda3\\Data_science\\Velocity\\Python_\\My_notes\\g1_OS_Module\\sample\\sample1.txt')"
   ]
  },
  {
   "cell_type": "code",
   "execution_count": 45,
   "id": "96694b32",
   "metadata": {},
   "outputs": [
    {
     "data": {
      "text/plain": [
       "True"
      ]
     },
     "execution_count": 45,
     "metadata": {},
     "output_type": "execute_result"
    }
   ],
   "source": [
    "os.path.exists(r'C:\\Users\\MY\\anaconda3\\Data_science\\Velocity\\Python_\\My_notes\\g1_OS_Module\\sample')"
   ]
  },
  {
   "cell_type": "markdown",
   "id": "c92d47c2",
   "metadata": {},
   "source": [
    "#### os.path.join()\n",
    "The os.path.join method combines components in a path name to create a full path name.\n",
    "\n",
    "`Syntax: os.path.join(path1_name,path2_name)`"
   ]
  },
  {
   "cell_type": "code",
   "execution_count": 48,
   "id": "5ce14d46",
   "metadata": {},
   "outputs": [
    {
     "name": "stdout",
     "output_type": "stream",
     "text": [
      "C:\\Users\\MY\\anaconda3\\Data_science\\Velocity\\Python_\\My_notes\\g1_OS_Module\\sample\n"
     ]
    }
   ],
   "source": [
    "folder = 'sample'\n",
    "current_work_dir = os.getcwd()\n",
    "\n",
    "file_path = current_work_dir + '\\\\' + folder\n",
    "print(file_path)"
   ]
  },
  {
   "cell_type": "code",
   "execution_count": 52,
   "id": "a5fb65df",
   "metadata": {},
   "outputs": [
    {
     "name": "stdout",
     "output_type": "stream",
     "text": [
      "C:\\Users\\MY\\anaconda3\\Data_science\\Velocity\\Python_\\My_notes\\g1_OS_Module\\sample\n"
     ]
    }
   ],
   "source": [
    "# Above lengthy process can be done using os.path.join() method\n",
    "cwd = os.getcwd()\n",
    "f_path = os.path.join(cwd,'sample')\n",
    "print(f_path)"
   ]
  },
  {
   "cell_type": "markdown",
   "id": "fe350ed7",
   "metadata": {},
   "source": [
    "#### os.rename()\n",
    "method in Python is used to rename a file or directory. The name of the file/directory changes only if, the file/directory exists and the user has sufficient privilege permission to change the file. \n",
    "`Please note that it won't change the path of file/directory` \n",
    "\n",
    "Sometimes we use file path in syntax instead of file name. This is only if the file we want to rename is not present in our current working directory. If the file we want to rename is in our current working directory then there is no need to provide the file path just provide your file name and the name you want the file to be changed with."
   ]
  },
  {
   "cell_type": "markdown",
   "id": "be0f825c",
   "metadata": {},
   "source": [
    "`Syntax: os.rename(old_file_name, new_file_name)`"
   ]
  },
  {
   "cell_type": "code",
   "execution_count": 54,
   "id": "9e41cc76",
   "metadata": {},
   "outputs": [],
   "source": [
    "os.chdir(r'C:\\Users\\MY\\anaconda3\\Data_science\\Velocity\\Python_\\My_notes\\g1_OS_Module\\sample')"
   ]
  },
  {
   "cell_type": "code",
   "execution_count": 55,
   "id": "6af38470",
   "metadata": {},
   "outputs": [],
   "source": [
    "# Using file name\n",
    "\n",
    "os.rename('sample1.txt','test1.txt')"
   ]
  },
  {
   "cell_type": "code",
   "execution_count": 30,
   "id": "9292f24d",
   "metadata": {},
   "outputs": [],
   "source": [
    "# Using file path\n",
    "\n",
    "os.rename(r'F:\\Omkar Phadtare\\sam\\omkar.txt',r'F:\\Omkar Phadtare\\sam\\anup.txt')"
   ]
  },
  {
   "cell_type": "markdown",
   "id": "4cec79c3",
   "metadata": {},
   "source": [
    "#### os.path.getsize()\n",
    "This method in Python is used to check the size of specified path/file.\n",
    "\n",
    "`Syntax: os.path.getsize(path)`"
   ]
  },
  {
   "cell_type": "code",
   "execution_count": 58,
   "id": "ec39b479",
   "metadata": {},
   "outputs": [
    {
     "data": {
      "text/plain": [
       "4096"
      ]
     },
     "execution_count": 58,
     "metadata": {},
     "output_type": "execute_result"
    }
   ],
   "source": [
    "os.path.getsize(r'F:\\Omkar Phadtare\\Study Material')"
   ]
  },
  {
   "cell_type": "code",
   "execution_count": 6,
   "id": "9291778d",
   "metadata": {},
   "outputs": [
    {
     "name": "stdout",
     "output_type": "stream",
     "text": [
      "a\tb\n",
      "A\tb\n",
      "\n",
      "a\\tb\\nA\\tb\n",
      "\n",
      "a\\tb\\nA\\tb\n",
      "\n",
      "a\\\\tb\\\\nA\\\\tb\n"
     ]
    }
   ],
   "source": [
    "# Raw string concept: See the difference\n",
    "\n",
    "s = 'a\\tb\\nA\\tb'\n",
    "print(s)\n",
    "print()\n",
    "\n",
    "rs = r'a\\tb\\nA\\tb'\n",
    "print(rs)\n",
    "print()\n",
    "\n",
    "rs = 'a\\\\tb\\\\nA\\\\tb'\n",
    "print(rs)\n",
    "print()\n",
    "\n",
    "rs = r'a\\\\tb\\\\nA\\\\tb'\n",
    "print(rs)"
   ]
  }
 ],
 "metadata": {
  "kernelspec": {
   "display_name": "Python 3 (ipykernel)",
   "language": "python",
   "name": "python3"
  },
  "language_info": {
   "codemirror_mode": {
    "name": "ipython",
    "version": 3
   },
   "file_extension": ".py",
   "mimetype": "text/x-python",
   "name": "python",
   "nbconvert_exporter": "python",
   "pygments_lexer": "ipython3",
   "version": "3.9.12"
  }
 },
 "nbformat": 4,
 "nbformat_minor": 5
}
