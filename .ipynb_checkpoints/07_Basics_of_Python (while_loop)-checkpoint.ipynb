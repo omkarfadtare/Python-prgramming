{
 "cells": [
  {
   "cell_type": "markdown",
   "id": "e45308cf",
   "metadata": {},
   "source": [
    "#### while loop\n",
    "Using while loop we can execute a set of statements as long as a condition is true. The main difference between for loop and while loop is the range function, in for loop the number of iterations to be done is already known and is used to obtain a certain result whereas in while loop the command runs until a certain condition is reached and the statement is proved to be false."
   ]
  },
  {
   "cell_type": "code",
   "execution_count": null,
   "id": "7066287d",
   "metadata": {},
   "outputs": [],
   "source": [
    "# Syntax: \n",
    "\n",
    "while condition:\n",
    "    statement 1\n",
    "    statement 2\n",
    "    increment"
   ]
  },
  {
   "cell_type": "code",
   "execution_count": 1,
   "id": "8d3869cd",
   "metadata": {},
   "outputs": [
    {
     "name": "stdout",
     "output_type": "stream",
     "text": [
      "0\n",
      "1\n",
      "2\n",
      "3\n",
      "4\n"
     ]
    }
   ],
   "source": [
    "i = 0\n",
    "while i < 5:\n",
    "    print(i)\n",
    "    i+=1"
   ]
  },
  {
   "cell_type": "code",
   "execution_count": 2,
   "id": "a38de331",
   "metadata": {},
   "outputs": [
    {
     "name": "stdout",
     "output_type": "stream",
     "text": [
      "We are testing while loop\n",
      "We are testing while loop\n",
      "We are testing while loop\n",
      "We are testing while loop\n",
      "We are testing while loop\n"
     ]
    }
   ],
   "source": [
    "i = 0\n",
    "while i<5:\n",
    "    print('We are testing while loop')\n",
    "    i+=1"
   ]
  },
  {
   "cell_type": "code",
   "execution_count": 3,
   "id": "149abffc",
   "metadata": {},
   "outputs": [
    {
     "name": "stdout",
     "output_type": "stream",
     "text": [
      "Addition of first 10 number is 55\n"
     ]
    }
   ],
   "source": [
    "# Addition of first 10 natural numbers using for loop:\n",
    "\n",
    "n = 10\n",
    "addition = 0\n",
    "for i in range(n+1):\n",
    "    addition +=i\n",
    "print(f\"Addition of first {n} number is {addition}\")"
   ]
  },
  {
   "cell_type": "code",
   "execution_count": 5,
   "id": "fc25a34a",
   "metadata": {},
   "outputs": [
    {
     "name": "stdout",
     "output_type": "stream",
     "text": [
      "Multiplication of first 10 natural numbers is 3628800\n"
     ]
    }
   ],
   "source": [
    "# multiplication of first 10 natural numbers using while loop:\n",
    "\n",
    "i = 1\n",
    "multiplication = 1\n",
    "while i < 11:\n",
    "    multiplication=multiplication*i\n",
    "    i+=1\n",
    "print(f\"Multiplication of first {n} natural numbers is {multiplication}\")"
   ]
  },
  {
   "cell_type": "markdown",
   "id": "aac85aed",
   "metadata": {},
   "source": [
    "#### Loop control statements"
   ]
  },
  {
   "cell_type": "markdown",
   "id": "da58158d",
   "metadata": {},
   "source": [
    "#### 1) Break\n",
    "With the break statement we can stop the loop even if the while condition is true:"
   ]
  },
  {
   "cell_type": "code",
   "execution_count": 6,
   "id": "1b8ecbd5",
   "metadata": {},
   "outputs": [
    {
     "name": "stdout",
     "output_type": "stream",
     "text": [
      "5\n",
      "6\n",
      "7\n",
      "8\n",
      "Number found\n"
     ]
    }
   ],
   "source": [
    "i = 5\n",
    "while i <= 10:\n",
    "    print(i)\n",
    "    if i == 8:\n",
    "        print(\"Number found\")\n",
    "        break\n",
    "    i+=1"
   ]
  },
  {
   "cell_type": "code",
   "execution_count": 7,
   "id": "3b21feb7",
   "metadata": {},
   "outputs": [
    {
     "name": "stdout",
     "output_type": "stream",
     "text": [
      "5\n",
      "6\n",
      "7\n",
      "8\n"
     ]
    }
   ],
   "source": [
    "i = 5\n",
    "while i <= 10:\n",
    "    print(i)\n",
    "    if i == 8:\n",
    "        break\n",
    "        print(\"Number found\")\n",
    "    i+=1"
   ]
  },
  {
   "cell_type": "markdown",
   "id": "f92c8a84",
   "metadata": {},
   "source": [
    "#### 2) Continue\n",
    "With the continue statement we can stop the current iteration, and continue with the next."
   ]
  },
  {
   "cell_type": "code",
   "execution_count": 11,
   "id": "26816110",
   "metadata": {},
   "outputs": [
    {
     "name": "stdout",
     "output_type": "stream",
     "text": [
      "1\n",
      "2\n",
      "4\n",
      "5\n",
      "6\n"
     ]
    }
   ],
   "source": [
    "i = 0\n",
    "while i < 6:\n",
    "    i+=1\n",
    "    if i == 3:\n",
    "        continue\n",
    "    print(i)"
   ]
  },
  {
   "cell_type": "code",
   "execution_count": 12,
   "id": "4ea05a40",
   "metadata": {},
   "outputs": [
    {
     "name": "stdout",
     "output_type": "stream",
     "text": [
      "i == 5\n",
      "i == 6\n",
      "i == 7\n",
      "Number found\n",
      "i == 8\n",
      "i == 9\n",
      "i == 10\n"
     ]
    }
   ],
   "source": [
    "i = 5\n",
    "while i <= 10: # 5-10\n",
    "    print(f'i == {i}') # 5,6,7,8,9,10\n",
    "    i += 1 # 5+1 = 6+1 = 7+1 = 8+1 = 9+1 = 10+1 = 11\n",
    "    if i == 8 : #False\n",
    "        print(\"Number found\")\n",
    "        continue"
   ]
  },
  {
   "cell_type": "markdown",
   "id": "e6dda123",
   "metadata": {},
   "source": [
    "#### 3) else in while loop\n",
    "With the else statement we can run a block of code once when the condition no longer is true."
   ]
  },
  {
   "cell_type": "code",
   "execution_count": 13,
   "id": "1f02c7b7",
   "metadata": {},
   "outputs": [
    {
     "name": "stdout",
     "output_type": "stream",
     "text": [
      "0\n",
      "1\n",
      "2\n",
      "3\n",
      "4\n",
      "Loop Completed\n"
     ]
    }
   ],
   "source": [
    "i = 0\n",
    "while i < 5: # 0 to 4\n",
    "    print(i) # 0,1,2,3,4\n",
    "    i += 1\n",
    "    \n",
    "else:\n",
    "    print(\"Loop Completed\")"
   ]
  },
  {
   "cell_type": "code",
   "execution_count": 14,
   "id": "81b9eea3",
   "metadata": {},
   "outputs": [
    {
     "name": "stdout",
     "output_type": "stream",
     "text": [
      "0\n",
      "1\n",
      "2\n"
     ]
    }
   ],
   "source": [
    "i=0\n",
    "while i<5:\n",
    "    print(i)\n",
    "    i+=1\n",
    "    if i==3:\n",
    "        break\n",
    "    \n",
    "else:\n",
    "    print(\"Loop Completed\")"
   ]
  },
  {
   "cell_type": "markdown",
   "id": "bce676be",
   "metadata": {},
   "source": [
    "#### Below are some practical examples of while loop"
   ]
  },
  {
   "cell_type": "markdown",
   "id": "14568dff",
   "metadata": {},
   "source": [
    "#### 1) fibnocci series"
   ]
  },
  {
   "cell_type": "code",
   "execution_count": 5,
   "id": "31a99ee5",
   "metadata": {},
   "outputs": [
    {
     "name": "stdout",
     "output_type": "stream",
     "text": [
      "Please enter how many numbers you want: 10\n",
      "1\n",
      "1\n",
      "2\n",
      "3\n",
      "5\n",
      "8\n",
      "13\n",
      "21\n",
      "34\n",
      "55\n"
     ]
    }
   ],
   "source": [
    "# Fibonacci series using for loop\n",
    "\n",
    "n = int(input('Please enter how many numbers you want: '))\n",
    "num1 = 0 \n",
    "num2 = 1\n",
    "for i in range(0,n):\n",
    "    num3 = num1 + num2\n",
    "    num1 = num2\n",
    "    num2 = num3\n",
    "    print(num1)"
   ]
  },
  {
   "cell_type": "code",
   "execution_count": 8,
   "id": "e6c0dab7",
   "metadata": {},
   "outputs": [
    {
     "name": "stdout",
     "output_type": "stream",
     "text": [
      "Please enter how many numbers you want: 10\n",
      "1\n",
      "1\n",
      "2\n",
      "3\n",
      "5\n",
      "8\n",
      "13\n",
      "21\n",
      "34\n",
      "55\n"
     ]
    }
   ],
   "source": [
    "# Fibonacci series using while loop\n",
    "\n",
    "n = int(input('Please enter how many numbers you want: '))\n",
    "num1 = 0\n",
    "num2 = 1\n",
    "i = 0\n",
    "while i<n:\n",
    "    num3 = num1+num2\n",
    "    num1 = num2\n",
    "    num2 = num3\n",
    "    print(num1)\n",
    "    i+=1"
   ]
  },
  {
   "cell_type": "markdown",
   "id": "5ff1619e",
   "metadata": {},
   "source": [
    "#### 2) Factorial"
   ]
  },
  {
   "cell_type": "code",
   "execution_count": 18,
   "id": "7c724131",
   "metadata": {},
   "outputs": [
    {
     "name": "stdout",
     "output_type": "stream",
     "text": [
      "Please enter any number: 5\n",
      "120\n"
     ]
    }
   ],
   "source": [
    "# Factorial using for loop\n",
    "\n",
    "n = int(input('Please enter any number: '))\n",
    "fact = 1\n",
    "for i in range(1,n+1):\n",
    "    fact = fact*i\n",
    "print(fact)"
   ]
  },
  {
   "cell_type": "code",
   "execution_count": 19,
   "id": "8e2ef188",
   "metadata": {},
   "outputs": [
    {
     "name": "stdout",
     "output_type": "stream",
     "text": [
      "Please enter any number: 5\n",
      "120\n"
     ]
    }
   ],
   "source": [
    "# Factorial using while loop\n",
    "\n",
    "num = int(input('Please enter any number: '))\n",
    "fact = 1\n",
    "i = 1\n",
    "while i<=n:\n",
    "    fact = fact*i\n",
    "    i+=1\n",
    "print(fact)"
   ]
  },
  {
   "cell_type": "markdown",
   "id": "212b4efd",
   "metadata": {},
   "source": [
    "#### 3) Prime number  "
   ]
  },
  {
   "cell_type": "code",
   "execution_count": 20,
   "id": "7e8f8d84",
   "metadata": {},
   "outputs": [
    {
     "name": "stdout",
     "output_type": "stream",
     "text": [
      "please enter any number: 37\n",
      "prime\n"
     ]
    }
   ],
   "source": [
    "# Checking whether the the given number is prime or not using for loop\n",
    "\n",
    "num1 = int(input('please enter any number: '))\n",
    "\n",
    "for i in range(2,num1):\n",
    "    if num1%i == 0:\n",
    "        print('not prime')\n",
    "        break\n",
    "    else:\n",
    "        print('prime')\n",
    "        break"
   ]
  },
  {
   "cell_type": "code",
   "execution_count": 10,
   "id": "080648ec",
   "metadata": {},
   "outputs": [
    {
     "name": "stdout",
     "output_type": "stream",
     "text": [
      "please enter any number: 37\n",
      "prime\n"
     ]
    }
   ],
   "source": [
    "# Checking whether the the given number is prime or not using while loop\n",
    "\n",
    "num1 = int(input('please enter any number: '))\n",
    "i=2\n",
    "while i<num1:\n",
    "    if num1%i == 0:\n",
    "        print('not prime')\n",
    "        break\n",
    "    else:\n",
    "        print('prime')\n",
    "        break\n",
    "    i+=1"
   ]
  },
  {
   "cell_type": "code",
   "execution_count": 12,
   "id": "417c52dd",
   "metadata": {},
   "outputs": [
    {
     "name": "stdout",
     "output_type": "stream",
     "text": [
      "53\n",
      "59\n",
      "61\n",
      "67\n",
      "71\n",
      "73\n",
      "79\n",
      "83\n",
      "89\n",
      "97\n"
     ]
    }
   ],
   "source": [
    "# Prime numbers between range (50-100) using while loop\n",
    "\n",
    "def is_prime(num):\n",
    "    if num <= 1:\n",
    "        return False\n",
    "    for i in range(2, num):\n",
    "        if num % i == 0:\n",
    "            return False\n",
    "    return True\n",
    "\n",
    "start = 50\n",
    "end = 100\n",
    "while start <= end:\n",
    "    if is_prime(start):\n",
    "        print(start)\n",
    "    start += 1"
   ]
  }
 ],
 "metadata": {
  "kernelspec": {
   "display_name": "Python 3 (ipykernel)",
   "language": "python",
   "name": "python3"
  },
  "language_info": {
   "codemirror_mode": {
    "name": "ipython",
    "version": 3
   },
   "file_extension": ".py",
   "mimetype": "text/x-python",
   "name": "python",
   "nbconvert_exporter": "python",
   "pygments_lexer": "ipython3",
   "version": "3.9.12"
  }
 },
 "nbformat": 4,
 "nbformat_minor": 5
}
