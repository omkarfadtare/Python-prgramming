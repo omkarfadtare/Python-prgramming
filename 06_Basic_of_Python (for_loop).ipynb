{
 "cells": [
  {
   "cell_type": "markdown",
   "id": "3d75c495",
   "metadata": {},
   "source": [
    "#### Loops:\n",
    "There are two types of loops\n",
    "- for loop\n",
    "- while loop"
   ]
  },
  {
   "cell_type": "markdown",
   "id": "ddb76021",
   "metadata": {},
   "source": [
    "#### for loop\n",
    "for loop is used for iterating over a sequence (that is either a list, a tuple, a dictionary, a set or a string)."
   ]
  },
  {
   "cell_type": "code",
   "execution_count": 1,
   "id": "e1bce854",
   "metadata": {},
   "outputs": [
    {
     "name": "stdout",
     "output_type": "stream",
     "text": [
      "p\n",
      "y\n",
      "t\n",
      "h\n",
      "o\n",
      "n\n"
     ]
    }
   ],
   "source": [
    "str1 = 'python'\n",
    "for i in str1:\n",
    "    print(i)"
   ]
  },
  {
   "cell_type": "code",
   "execution_count": 2,
   "id": "447a09b1",
   "metadata": {},
   "outputs": [
    {
     "name": "stdout",
     "output_type": "stream",
     "text": [
      "Hello s\n",
      "*******\n",
      "Hello c\n",
      "*******\n",
      "Hello i\n",
      "*******\n",
      "Hello e\n",
      "*******\n",
      "Hello n\n",
      "*******\n",
      "Hello c\n",
      "*******\n",
      "Hello e\n",
      "*******\n"
     ]
    }
   ],
   "source": [
    "str1 = 'science'\n",
    "for letter in str1:\n",
    "    print('Hello', letter)\n",
    "    print(\"*******\")"
   ]
  },
  {
   "cell_type": "code",
   "execution_count": 3,
   "id": "8a0ca828",
   "metadata": {},
   "outputs": [
    {
     "name": "stdout",
     "output_type": "stream",
     "text": [
      "science\n",
      "s is Char\n",
      "*****\n",
      "science\n",
      "c is Char\n",
      "*****\n",
      "science\n",
      "i is Char\n",
      "*****\n",
      "science\n",
      "e is Char\n",
      "*****\n",
      "science\n",
      "n is Char\n",
      "*****\n",
      "science\n",
      "c is Char\n",
      "*****\n",
      "science\n",
      "e is Char\n",
      "*****\n"
     ]
    }
   ],
   "source": [
    "str1 = 'science'\n",
    "for alpha in str1:\n",
    "    print(str1)\n",
    "    print(f'{alpha} is Char')\n",
    "    print(\"*****\")"
   ]
  },
  {
   "cell_type": "code",
   "execution_count": 4,
   "id": "a7d89f40",
   "metadata": {},
   "outputs": [
    {
     "name": "stdout",
     "output_type": "stream",
     "text": [
      "apple\n",
      "banana\n",
      "cherry\n"
     ]
    }
   ],
   "source": [
    "fruits = [\"apple\", \"banana\", \"cherry\"] # accessing elements from a list\n",
    "for x in fruits:\n",
    "    print(x)"
   ]
  },
  {
   "cell_type": "code",
   "execution_count": 5,
   "id": "412b4130",
   "metadata": {},
   "outputs": [
    {
     "name": "stdout",
     "output_type": "stream",
     "text": [
      "11\n",
      "12\n",
      "13\n",
      "14\n",
      "15\n",
      "16\n",
      "17\n",
      "18\n",
      "19\n",
      "20\n"
     ]
    }
   ],
   "source": [
    "list1 = [11,12,13,14,15,16,17,18,19,20]\n",
    "for var in range (0,10):\n",
    "    print(list1[var])"
   ]
  },
  {
   "cell_type": "code",
   "execution_count": 6,
   "id": "78f47359",
   "metadata": {},
   "outputs": [
    {
     "name": "stdout",
     "output_type": "stream",
     "text": [
      "11\n",
      "12\n",
      "13\n",
      "14\n",
      "15\n",
      "16\n",
      "17\n",
      "18\n",
      "19\n",
      "20\n"
     ]
    }
   ],
   "source": [
    "list1 = [11,12,13,14,15,16,17,18,19,20]\n",
    "for var in range (0,len(list1)):\n",
    "    print(list1[var])"
   ]
  },
  {
   "cell_type": "code",
   "execution_count": 7,
   "id": "36d9e58c",
   "metadata": {},
   "outputs": [
    {
     "name": "stdout",
     "output_type": "stream",
     "text": [
      "10\n",
      "14\n",
      "15\n",
      "7\n",
      "8\n",
      "98\n",
      "65\n",
      "27\n",
      "83\n",
      "96\n",
      "66\n",
      "43\n"
     ]
    }
   ],
   "source": [
    "list1 = [10,14,15,7,8,98,65,27,83,96,66,43]\n",
    "for var in list1:\n",
    "    print(var)"
   ]
  },
  {
   "cell_type": "code",
   "execution_count": 1,
   "id": "342a361e",
   "metadata": {},
   "outputs": [
    {
     "name": "stdout",
     "output_type": "stream",
     "text": [
      "0 10\n",
      "1 14\n",
      "2 15\n",
      "3 7\n",
      "4 8\n",
      "5 98\n",
      "6 65\n",
      "7 27\n",
      "8 83\n",
      "9 96\n",
      "10 66\n",
      "11 43\n"
     ]
    }
   ],
   "source": [
    "list1 = [10,14,15,7,8,98,65,27,83,96,66,43]\n",
    "for i,j in enumerate(list1):\n",
    "    print(i,j)"
   ]
  },
  {
   "cell_type": "code",
   "execution_count": 2,
   "id": "5490037e",
   "metadata": {},
   "outputs": [
    {
     "name": "stdout",
     "output_type": "stream",
     "text": [
      "0 P\n",
      "1 y\n",
      "2 t\n",
      "3 h\n",
      "4 o\n",
      "5 n\n"
     ]
    }
   ],
   "source": [
    "str1 = 'Python'\n",
    "for i,j in enumerate(str1):\n",
    "    print(i,j)"
   ]
  },
  {
   "cell_type": "markdown",
   "id": "bf86f37f",
   "metadata": {},
   "source": [
    "#### Loop control statements"
   ]
  },
  {
   "cell_type": "markdown",
   "id": "5f1288ed",
   "metadata": {},
   "source": [
    "#### 1) break\n",
    "Used to exit the for loop, break statement stop the loop before it has looped through all the items."
   ]
  },
  {
   "cell_type": "code",
   "execution_count": 8,
   "id": "00dbb62a",
   "metadata": {},
   "outputs": [
    {
     "name": "stdout",
     "output_type": "stream",
     "text": [
      "apple\n",
      "banana\n"
     ]
    }
   ],
   "source": [
    "fruits = [\"apple\", \"banana\", \"cherry\"]\n",
    "for x in fruits:\n",
    "    print(x)\n",
    "    if x == \"banana\":\n",
    "        break"
   ]
  },
  {
   "cell_type": "code",
   "execution_count": 9,
   "id": "d498508f",
   "metadata": {},
   "outputs": [
    {
     "name": "stdout",
     "output_type": "stream",
     "text": [
      "apple\n"
     ]
    }
   ],
   "source": [
    "fruits = [\"apple\", \"banana\", \"cherry\"]\n",
    "for x in fruits:\n",
    "    if x == \"banana\":\n",
    "        break\n",
    "    print(x) # position"
   ]
  },
  {
   "cell_type": "markdown",
   "id": "c0474fbc",
   "metadata": {},
   "source": [
    "#### 2) continue\n",
    "Used to stop only current iteration, and continue with next iterations."
   ]
  },
  {
   "cell_type": "code",
   "execution_count": 10,
   "id": "3b2c7d2f",
   "metadata": {},
   "outputs": [
    {
     "name": "stdout",
     "output_type": "stream",
     "text": [
      "apple\n",
      "cherry\n"
     ]
    }
   ],
   "source": [
    "fruits = [\"apple\", \"banana\", \"cherry\"]\n",
    "for x in fruits:\n",
    "    if x == \"banana\":\n",
    "        continue\n",
    "    print(x)"
   ]
  },
  {
   "cell_type": "code",
   "execution_count": 2,
   "id": "bd9cf59a",
   "metadata": {},
   "outputs": [
    {
     "name": "stdout",
     "output_type": "stream",
     "text": [
      "0\n",
      "1\n",
      "2\n",
      "3\n",
      "4\n",
      "5\n",
      "6\n",
      "7\n",
      "Required value found\n",
      "8\n",
      "9\n"
     ]
    }
   ],
   "source": [
    "for i in range(10):\n",
    "    print(i)\n",
    "    if i == 7:\n",
    "        print(\"Required value found\")\n",
    "        continue"
   ]
  },
  {
   "cell_type": "code",
   "execution_count": 3,
   "id": "4f6d7d90",
   "metadata": {},
   "outputs": [
    {
     "name": "stdout",
     "output_type": "stream",
     "text": [
      "0\n",
      "1\n",
      "2\n",
      "3\n",
      "4\n",
      "5\n",
      "6\n",
      "7\n",
      "8\n",
      "9\n"
     ]
    }
   ],
   "source": [
    "for i in range(10):  # 0 to 9\n",
    "    print(i)  # 0,1,2,3,4,5,6,7, 8, 9\n",
    "    if i == 7:  # i = 7 , True\n",
    "        continue\n",
    "        print(\"Required value found\")"
   ]
  },
  {
   "cell_type": "code",
   "execution_count": 4,
   "id": "c4aec884",
   "metadata": {},
   "outputs": [
    {
     "name": "stdout",
     "output_type": "stream",
     "text": [
      " i == 0\n",
      "******************\n",
      " i == 1\n",
      "******************\n",
      " i == 2\n",
      "******************\n",
      " i == 3\n",
      "******************\n",
      " i == 4\n",
      "******************\n",
      " i == 5\n",
      "******************\n",
      " i == 6\n",
      "******************\n",
      "Required value found\n",
      " i == 8\n",
      "******************\n",
      " i == 9\n",
      "******************\n"
     ]
    }
   ],
   "source": [
    "for i in range(10):\n",
    "    if i == 7:\n",
    "        print(\"Required value found\")\n",
    "        continue\n",
    "    print(f\" i == {i}\")\n",
    "    print('******************')"
   ]
  },
  {
   "cell_type": "markdown",
   "id": "4a7945df",
   "metadata": {},
   "source": [
    "#### 3) range\n",
    "range() function returns a sequence of numbers, starting from 0 by default, and increments by 1 (by default), and ends at a specified number."
   ]
  },
  {
   "cell_type": "code",
   "execution_count": 11,
   "id": "dfacb672",
   "metadata": {},
   "outputs": [
    {
     "name": "stdout",
     "output_type": "stream",
     "text": [
      "0\n",
      "1\n",
      "2\n",
      "3\n",
      "4\n",
      "5\n"
     ]
    }
   ],
   "source": [
    "for x in range(6):\n",
    "    print(x)"
   ]
  },
  {
   "cell_type": "code",
   "execution_count": 12,
   "id": "9ef14dc9",
   "metadata": {},
   "outputs": [
    {
     "name": "stdout",
     "output_type": "stream",
     "text": [
      "2\n",
      "3\n",
      "4\n",
      "5\n"
     ]
    }
   ],
   "source": [
    "for x in range(2,6): # (include, exclude)\n",
    "    print(x)"
   ]
  },
  {
   "cell_type": "code",
   "execution_count": 13,
   "id": "5b8687ca",
   "metadata": {},
   "outputs": [
    {
     "name": "stdout",
     "output_type": "stream",
     "text": [
      "2\n",
      "5\n",
      "8\n",
      "11\n",
      "14\n",
      "17\n",
      "20\n",
      "23\n",
      "26\n",
      "29\n"
     ]
    }
   ],
   "source": [
    "for x in range(2, 30, 3): # (start,end,step)\n",
    "    print(x)"
   ]
  },
  {
   "cell_type": "code",
   "execution_count": 14,
   "id": "836a5dee",
   "metadata": {},
   "outputs": [
    {
     "name": "stdout",
     "output_type": "stream",
     "text": [
      "code started\n",
      "hello\n",
      "hello\n",
      "hello\n",
      "hello\n",
      "hello\n",
      "hello\n",
      "hello\n",
      "hello\n",
      "hello\n",
      "hello\n",
      "code executed\n"
     ]
    }
   ],
   "source": [
    "print(\"code started\")\n",
    "for variable in range(0,10): # (Range is up to only 10)\n",
    "    print(\"hello\") # Is known as block of code\n",
    "print(\"code executed\")"
   ]
  },
  {
   "cell_type": "code",
   "execution_count": 15,
   "id": "fc1c2b5c",
   "metadata": {},
   "outputs": [
    {
     "name": "stdout",
     "output_type": "stream",
     "text": [
      "code started\n",
      "0\n",
      "51\n"
     ]
    }
   ],
   "source": [
    "print(\"code started\")\n",
    "for temp in range (0,100,51): \n",
    "    print(temp)"
   ]
  },
  {
   "cell_type": "code",
   "execution_count": 16,
   "id": "4044774d",
   "metadata": {},
   "outputs": [
    {
     "name": "stdout",
     "output_type": "stream",
     "text": [
      "code started\n",
      "10\n",
      "9\n",
      "8\n",
      "7\n",
      "6\n",
      "5\n",
      "4\n",
      "3\n",
      "2\n",
      "1\n"
     ]
    }
   ],
   "source": [
    "print(\"code started\")\n",
    "for temp in range (10,0,-1): # Reverse direction- so we have to tell interpreter by giving (-1)\n",
    "    print(temp)"
   ]
  },
  {
   "cell_type": "code",
   "execution_count": 17,
   "id": "32cb7bdc",
   "metadata": {},
   "outputs": [
    {
     "name": "stdout",
     "output_type": "stream",
     "text": [
      "code started\n",
      "10\n",
      "8\n",
      "6\n",
      "4\n",
      "2\n"
     ]
    }
   ],
   "source": [
    "print(\"code started\")\n",
    "for temp in range (10,0,-2): # Reverse direction- so we have to tell interpreter by giving (-1)\n",
    "    print(temp)"
   ]
  },
  {
   "cell_type": "markdown",
   "id": "71d0035a",
   "metadata": {},
   "source": [
    "#### 4) pass\n",
    "for loops cannot be empty, but if you for some reason have a for loop with no content, put in the pass statement to avoid getting an error."
   ]
  },
  {
   "cell_type": "code",
   "execution_count": 18,
   "id": "207160e0",
   "metadata": {},
   "outputs": [],
   "source": [
    "for x in [0, 1, 2]:\n",
    "    pass"
   ]
  },
  {
   "cell_type": "code",
   "execution_count": 5,
   "id": "efdf6349",
   "metadata": {},
   "outputs": [
    {
     "name": "stdout",
     "output_type": "stream",
     "text": [
      "*********\n",
      "*********\n",
      "*********\n",
      "*********\n",
      "*********\n",
      "*********\n",
      "*********\n",
      "*********\n",
      "*********\n"
     ]
    }
   ],
   "source": [
    "for i in range(10):\n",
    "    if i == 7:\n",
    "        pass\n",
    "    \n",
    "    else:\n",
    "        print(\"*********\")"
   ]
  },
  {
   "cell_type": "code",
   "execution_count": 6,
   "id": "d5e05847",
   "metadata": {},
   "outputs": [
    {
     "name": "stdout",
     "output_type": "stream",
     "text": [
      "*********\n",
      "*********\n",
      "*********\n",
      "*********\n",
      "*********\n",
      "*********\n",
      "*********\n",
      "Required  value found\n",
      "*********\n",
      "*********\n"
     ]
    }
   ],
   "source": [
    "for i in range(10):\n",
    "    if i == 7:\n",
    "        print(\"Required  value found\")\n",
    "        pass\n",
    "    \n",
    "    else:\n",
    "        print(\"*********\")"
   ]
  },
  {
   "cell_type": "markdown",
   "id": "675d3b78",
   "metadata": {},
   "source": [
    "#### 5) else in for loop\n",
    "else keyword in a for loop specifies a block of code to be executed when the loop is finished"
   ]
  },
  {
   "cell_type": "code",
   "execution_count": 19,
   "id": "93bd1a92",
   "metadata": {},
   "outputs": [
    {
     "name": "stdout",
     "output_type": "stream",
     "text": [
      "0\n",
      "1\n",
      "2\n",
      "3\n",
      "4\n",
      "5\n",
      "Finally finished!\n"
     ]
    }
   ],
   "source": [
    "for x in range(6):\n",
    "    print(x)\n",
    "else:\n",
    "    print(\"Finally finished!\")"
   ]
  },
  {
   "cell_type": "code",
   "execution_count": 20,
   "id": "f134b3db",
   "metadata": {},
   "outputs": [
    {
     "name": "stdout",
     "output_type": "stream",
     "text": [
      "0\n",
      "1\n",
      "2\n"
     ]
    }
   ],
   "source": [
    "for x in range(6):\n",
    "    if x == 3: break # The else block will NOT be executed if the loop is stopped by a break statement.\n",
    "    print(x)\n",
    "else:\n",
    "    print(\"Finally finished!\")"
   ]
  },
  {
   "cell_type": "code",
   "execution_count": 7,
   "id": "efe20a5b",
   "metadata": {},
   "outputs": [
    {
     "name": "stdout",
     "output_type": "stream",
     "text": [
      "i == 5\n",
      "i == 6\n",
      "i == 7\n",
      "i == 8\n"
     ]
    }
   ],
   "source": [
    "for i in range(5,11): # 5 to 10\n",
    "    print(f\"i == {i}\") # 5, 6, 7 , 8\n",
    "    if i == 8:\n",
    "        break\n",
    "        \n",
    "else:      \n",
    "    print('Loop Completed')"
   ]
  },
  {
   "cell_type": "code",
   "execution_count": 8,
   "id": "03e5e004",
   "metadata": {},
   "outputs": [
    {
     "name": "stdout",
     "output_type": "stream",
     "text": [
      "i == 5\n",
      "################\n",
      "i == 6\n",
      "################\n",
      "i == 7\n",
      "################\n",
      "i == 8\n",
      "i == 9\n",
      "################\n",
      "i == 10\n",
      "################\n",
      "Loop Completed\n"
     ]
    }
   ],
   "source": [
    "for i in range(5,11): # 5 to 10\n",
    "    print(f\"i == {i}\") # 5, 6, 7 , 8, 9 , 10\n",
    "    if i == 8:\n",
    "        continue\n",
    "        print(\"************\")\n",
    "        \n",
    "    print(\"################\")\n",
    "else:      \n",
    "    print('Loop Completed')"
   ]
  },
  {
   "cell_type": "code",
   "execution_count": 9,
   "id": "2cd54e77",
   "metadata": {},
   "outputs": [
    {
     "name": "stdout",
     "output_type": "stream",
     "text": [
      "i == 5\n",
      "i == 6\n",
      "i == 7\n",
      "i == 8\n",
      "Value Found\n",
      "i == 9\n",
      "i == 10\n",
      "Loop Completed\n"
     ]
    }
   ],
   "source": [
    "for i in range(5,11): # 5 to 10\n",
    "    print(f\"i == {i}\") # 5, 6, 7 , 8, 9, 10\n",
    "    if i == 8:\n",
    "        print(\"Value Found\")\n",
    "else:      \n",
    "    print('Loop Completed')"
   ]
  },
  {
   "cell_type": "markdown",
   "id": "47f793c0",
   "metadata": {},
   "source": [
    "#### 6) Nested loop (inner loop)\n",
    "The \"inner loop\" will be executed one time for each iteration of the \"outer loop\""
   ]
  },
  {
   "cell_type": "code",
   "execution_count": null,
   "id": "e0cead91",
   "metadata": {},
   "outputs": [],
   "source": [
    "for variable1 in sequence1:\n",
    "    statement1\n",
    "    statement2\n",
    "    for variable2 in sequence:\n",
    "        statement3\n",
    "        statement4"
   ]
  },
  {
   "cell_type": "code",
   "execution_count": null,
   "id": "88507912",
   "metadata": {},
   "outputs": [],
   "source": [
    "for variable1 in sequence1:\n",
    "    statement1\n",
    "    statement2\n",
    "    for variable2 in sequence:\n",
    "        statement3\n",
    "        statement4\n",
    "        for variable2 in sequence:\n",
    "        statement3\n",
    "        statement4"
   ]
  },
  {
   "cell_type": "code",
   "execution_count": 21,
   "id": "25867bc8",
   "metadata": {},
   "outputs": [
    {
     "name": "stdout",
     "output_type": "stream",
     "text": [
      "red apple\n",
      "red banana\n",
      "red cherry\n",
      "big apple\n",
      "big banana\n",
      "big cherry\n",
      "tasty apple\n",
      "tasty banana\n",
      "tasty cherry\n"
     ]
    }
   ],
   "source": [
    "adj = [\"red\", \"big\", \"tasty\"]\n",
    "fruits = [\"apple\", \"banana\", \"cherry\"]\n",
    "\n",
    "for x in adj:\n",
    "    for y in fruits:\n",
    "        print(x, y)"
   ]
  },
  {
   "cell_type": "code",
   "execution_count": 11,
   "id": "a951f48f",
   "metadata": {},
   "outputs": [
    {
     "name": "stdout",
     "output_type": "stream",
     "text": [
      "i == 0\n",
      "python\n",
      "python\n",
      "python\n",
      "python\n",
      "i == 1\n",
      "python\n",
      "python\n",
      "python\n",
      "python\n",
      "i == 2\n",
      "python\n",
      "python\n",
      "python\n",
      "python\n",
      "i == 3\n",
      "python\n",
      "python\n",
      "python\n",
      "python\n",
      "i == 4\n",
      "python\n",
      "python\n",
      "python\n",
      "python\n"
     ]
    }
   ],
   "source": [
    "for i in range(5):\n",
    "    print(f\"i == {i}\")\n",
    "    for j in range(4):\n",
    "        print(\"python\")"
   ]
  },
  {
   "cell_type": "code",
   "execution_count": 12,
   "id": "a51757f9",
   "metadata": {},
   "outputs": [
    {
     "name": "stdout",
     "output_type": "stream",
     "text": [
      "i == 0\n",
      "python\n",
      "python\n",
      "python\n",
      "python\n",
      "*****************\n",
      "i == 1\n",
      "python\n",
      "python\n",
      "python\n",
      "python\n",
      "*****************\n",
      "i == 2\n",
      "python\n",
      "python\n",
      "python\n",
      "python\n",
      "*****************\n",
      "i == 3\n",
      "python\n",
      "python\n",
      "python\n",
      "python\n",
      "*****************\n",
      "i == 4\n",
      "python\n",
      "python\n",
      "python\n",
      "python\n",
      "*****************\n"
     ]
    }
   ],
   "source": [
    "for i in range(5):\n",
    "    print(f'i == {i}')\n",
    "    for j in range(4):\n",
    "        print(\"python\")\n",
    "    print(\"*****************\")"
   ]
  },
  {
   "cell_type": "code",
   "execution_count": 13,
   "id": "97a83645",
   "metadata": {},
   "outputs": [
    {
     "name": "stdout",
     "output_type": "stream",
     "text": [
      "i == 0\n",
      "python\n",
      "python\n",
      "python\n",
      "python\n",
      "python\n",
      "python\n",
      "\n",
      "i == 1\n",
      "python\n",
      "python\n",
      "python\n",
      "python\n",
      "python\n",
      "python\n",
      "\n",
      "i == 2\n",
      "python\n",
      "python\n",
      "python\n",
      "python\n",
      "python\n",
      "python\n",
      "\n",
      "i == 3\n",
      "python\n",
      "python\n",
      "python\n",
      "python\n",
      "python\n",
      "python\n",
      "\n",
      "Hello\n",
      "\n",
      "Python\n"
     ]
    }
   ],
   "source": [
    "for i in range(4):\n",
    "    print(f\"i == {i}\")\n",
    "    for j in range(6):\n",
    "        print('python')\n",
    "    print()\n",
    "    \n",
    "print('Hello', end = '\\n')\n",
    "print(end = '\\n')\n",
    "print('Python')"
   ]
  },
  {
   "cell_type": "code",
   "execution_count": 42,
   "id": "e4706180",
   "metadata": {},
   "outputs": [
    {
     "name": "stdout",
     "output_type": "stream",
     "text": [
      "i == 0\n",
      "char is p\n",
      "char is y\n",
      "char is t\n",
      "char is h\n",
      "char is o\n",
      "char is n\n",
      "\n",
      "i == 1\n",
      "char is p\n",
      "char is y\n",
      "char is t\n",
      "char is h\n",
      "char is o\n",
      "char is n\n",
      "\n",
      "i == 2\n",
      "char is p\n",
      "char is y\n",
      "char is t\n",
      "char is h\n",
      "char is o\n",
      "char is n\n",
      "\n",
      "i == 3\n",
      "char is p\n",
      "char is y\n",
      "char is t\n",
      "char is h\n",
      "char is o\n",
      "char is n\n",
      "\n"
     ]
    }
   ],
   "source": [
    "for i in range(4):\n",
    "    print(f\"i == {i}\") # 0 ,1, 2, 3 \n",
    "    for j in 'python': # p,y,t,h,o,n\n",
    "        print(f'char is {j}')\n",
    "    print()"
   ]
  },
  {
   "cell_type": "code",
   "execution_count": 15,
   "id": "186c5790",
   "metadata": {},
   "outputs": [
    {
     "name": "stdout",
     "output_type": "stream",
     "text": [
      "var1 == 0\n",
      "Number is 20\n",
      "Char is p\n",
      "Char is y\n",
      "Char is t\n",
      "Char is h\n",
      "Char is o\n",
      "Char is n\n",
      "Number is 30\n",
      "Char is p\n",
      "Char is y\n",
      "Char is t\n",
      "Char is h\n",
      "Char is o\n",
      "Char is n\n",
      "var1 == 1\n",
      "Number is 20\n",
      "Char is p\n",
      "Char is y\n",
      "Char is t\n",
      "Char is h\n",
      "Char is o\n",
      "Char is n\n",
      "Number is 30\n",
      "Char is p\n",
      "Char is y\n",
      "Char is t\n",
      "Char is h\n",
      "Char is o\n",
      "Char is n\n",
      "var1 == 2\n",
      "Number is 20\n",
      "Char is p\n",
      "Char is y\n",
      "Char is t\n",
      "Char is h\n",
      "Char is o\n",
      "Char is n\n",
      "Number is 30\n",
      "Char is p\n",
      "Char is y\n",
      "Char is t\n",
      "Char is h\n",
      "Char is o\n",
      "Char is n\n"
     ]
    }
   ],
   "source": [
    "for var1 in range(3):\n",
    "    print(f\"var1 == {var1}\" )\n",
    "    for var2 in [20, 30]:\n",
    "        print(f'Number is {var2}')\n",
    "        for char in 'python':\n",
    "            print(f'Char is {char}')"
   ]
  },
  {
   "cell_type": "code",
   "execution_count": 36,
   "id": "0944c4e3",
   "metadata": {},
   "outputs": [
    {
     "name": "stdout",
     "output_type": "stream",
     "text": [
      "* * * * * \n",
      "* * * * * \n",
      "* * * * * \n",
      "* * * * * \n",
      "* * * * * \n"
     ]
    }
   ],
   "source": [
    "for i in range(5):\n",
    "    for j in range(5):\n",
    "        print('*',end = ' ')\n",
    "    print() # default argument"
   ]
  },
  {
   "cell_type": "markdown",
   "id": "eff0bea8",
   "metadata": {},
   "source": [
    "#### Below are some practical examples for 'for loop'"
   ]
  },
  {
   "cell_type": "markdown",
   "id": "6b8d5c19",
   "metadata": {},
   "source": [
    "#### 1) Predict whether the value is positive, negative or zero"
   ]
  },
  {
   "cell_type": "code",
   "execution_count": 22,
   "id": "729c6352",
   "metadata": {},
   "outputs": [
    {
     "name": "stdout",
     "output_type": "stream",
     "text": [
      "-10  : \n",
      "value is negative\n",
      "14  : \n",
      "positive value\n",
      "15  : \n",
      "positive value\n",
      "7  : \n",
      "positive value\n",
      "-1  : \n",
      "value is negative\n",
      "0  : \n",
      "value is zero\n",
      "65  : \n",
      "positive value\n",
      "27  : \n",
      "positive value\n",
      "83  : \n",
      "positive value\n",
      "-58  : \n",
      "value is negative\n",
      "66  : \n",
      "positive value\n",
      "43  : \n",
      "positive value\n"
     ]
    }
   ],
   "source": [
    "# code to predict whether the value in list is positive, negative or zero\n",
    "\n",
    "list2 = [-10,14,15,7,-1,0,65,27,83,-58,66,43]\n",
    "for var in range (0,len(list2)):\n",
    "    print(list2[var],\" : \")\n",
    "    if (list2[var] > 0):\n",
    "        print(\"positive value\")\n",
    "    elif(list2[var] == 0):\n",
    "        print(\"value is zero\")\n",
    "    else:\n",
    "        print(\"value is negative\")"
   ]
  },
  {
   "cell_type": "markdown",
   "id": "21e8bf1d",
   "metadata": {},
   "source": [
    "#### 2) Predict whether the value is even or odd"
   ]
  },
  {
   "cell_type": "code",
   "execution_count": 23,
   "id": "27eff541",
   "metadata": {},
   "outputs": [
    {
     "name": "stdout",
     "output_type": "stream",
     "text": [
      "10  : \n",
      "entered number is even\n",
      "14  : \n",
      "entered number is even\n",
      "15  : \n",
      "given number is odd\n",
      "7  : \n",
      "given number is odd\n",
      "8  : \n",
      "entered number is even\n",
      "98  : \n",
      "entered number is even\n",
      "65  : \n",
      "given number is odd\n",
      "27  : \n",
      "given number is odd\n",
      "83  : \n",
      "given number is odd\n",
      "96  : \n",
      "entered number is even\n",
      "66  : \n",
      "entered number is even\n",
      "43  : \n",
      "given number is odd\n"
     ]
    }
   ],
   "source": [
    "list1 = [10,14,15,7,8,98,65,27,83,96,66,43]\n",
    "\n",
    "for var in range (0,len(list1)):\n",
    "    print(list1[var], \" : \")\n",
    "    if (list1[var] % 2 == 0):\n",
    "        print(\"entered number is even\")\n",
    "    else:\n",
    "        print(\"given number is odd\")"
   ]
  },
  {
   "cell_type": "markdown",
   "id": "30222d0d",
   "metadata": {},
   "source": [
    "#### 3) Batch scheduling"
   ]
  },
  {
   "cell_type": "code",
   "execution_count": 24,
   "id": "6a5eb677",
   "metadata": {},
   "outputs": [
    {
     "name": "stdout",
     "output_type": "stream",
     "text": [
      "mon morning\n",
      "mon evening\n",
      "\n",
      "\n",
      "tue morning\n",
      "tue evening\n",
      "\n",
      "\n",
      "wed morning\n",
      "wed evening\n",
      "\n",
      "\n",
      "thurs morning\n",
      "thurs evening\n",
      "\n",
      "\n",
      "fri morning\n",
      "fri evening\n",
      "\n",
      "\n"
     ]
    }
   ],
   "source": [
    "days = [\"mon\",\"tue\",\"wed\",\"thurs\",\"fri\"]\n",
    "batches = [\"morning\",\"evening\"]\n",
    "\n",
    "for day in days:\n",
    "    for batch in batches:\n",
    "        print(day,batch)\n",
    "    print(\"\\n\")"
   ]
  },
  {
   "cell_type": "markdown",
   "id": "5da4e800",
   "metadata": {},
   "source": [
    "#### 4) Factorial code"
   ]
  },
  {
   "cell_type": "code",
   "execution_count": 28,
   "id": "3917eadc",
   "metadata": {},
   "outputs": [
    {
     "name": "stdout",
     "output_type": "stream",
     "text": [
      "please enter any number: 5\n",
      "120\n"
     ]
    }
   ],
   "source": [
    "num1 = int(input(\"please enter any number: \")) # Define input function\n",
    "\n",
    "factorial = 1 # Define factorial\n",
    "for i in range (1,num1+1): # Define range (n+1) since we want 5*4*3*2*1 if we only write (num1) it will go only up to 4\n",
    "    factorial = factorial*i # i = 1,2,3,4,5.. # Define the equation\n",
    "print(factorial)\n",
    "\n",
    "# Equation will work like-\n",
    "# defined factorial value 1\n",
    "# 1 * 1 = 1\n",
    "# 1 * 2 = 2\n",
    "# 2 * 3 = 6\n",
    "# 6 * 4 = 24\n",
    "# 24 * 5 = 120"
   ]
  },
  {
   "cell_type": "markdown",
   "id": "d8bece8d",
   "metadata": {},
   "source": [
    "#### 5) Fibonacci series"
   ]
  },
  {
   "cell_type": "code",
   "execution_count": 3,
   "id": "fe31d4e8",
   "metadata": {},
   "outputs": [
    {
     "name": "stdout",
     "output_type": "stream",
     "text": [
      "please enter terms for fibonacci series: 10\n",
      "1\n",
      "1\n",
      "2\n",
      "3\n",
      "5\n",
      "8\n",
      "13\n",
      "21\n",
      "34\n",
      "55\n"
     ]
    }
   ],
   "source": [
    "# using for loop, my way or sky way\n",
    "\n",
    "terms = int(input(\"please enter terms for fibonacci series: \")) # Define input\n",
    "n1 = 0\n",
    "n2 = 1 # Define variables n1,n2\n",
    "if (terms <= 0):\n",
    "    print(\"please enter value greater than zero\") # Define condition if terms less than or equal to zero\n",
    "else:\n",
    "    for i in range(0,terms): # Define range\n",
    "        n3 = n1 + n2 # Define fibonacci condition\n",
    "        n1 = n2\n",
    "        n2 = n3\n",
    "        print(n1)"
   ]
  },
  {
   "cell_type": "markdown",
   "id": "71d9a56b",
   "metadata": {},
   "source": [
    "#### 6) Sorting data-typed variables"
   ]
  },
  {
   "cell_type": "code",
   "execution_count": 1,
   "id": "264be4ae",
   "metadata": {},
   "outputs": [
    {
     "name": "stdout",
     "output_type": "stream",
     "text": [
      "Integers : [2, 3, 20, 100, 15, 10]\n",
      "Float : [4.5, 5.14, 9.45]\n",
      "String ['python', 'data science']\n"
     ]
    }
   ],
   "source": [
    "list1 = [2,3,4.5,20,5.14,'python',100,15,10,'data science',9.45]\n",
    "\n",
    "intList = []\n",
    "floatList = []\n",
    "strList = []\n",
    "\n",
    "for value in list1:\n",
    "    if type(value) == int: \n",
    "        intList.append(value)\n",
    "        \n",
    "    elif type(value) == float:\n",
    "        floatList.append(value)\n",
    "\n",
    "    else:\n",
    "        strList.append(value)\n",
    "        \n",
    "print(\"Integers :\",intList)\n",
    "print(\"Float :\", floatList)\n",
    "print(\"String\",strList)"
   ]
  },
  {
   "cell_type": "markdown",
   "id": "893f64a2",
   "metadata": {},
   "source": [
    "#### 7) Prime number"
   ]
  },
  {
   "cell_type": "code",
   "execution_count": 1,
   "id": "096e5cbe",
   "metadata": {},
   "outputs": [
    {
     "name": "stdout",
     "output_type": "stream",
     "text": [
      "2\n",
      "3\n",
      "15 is not a prime number\n"
     ]
    }
   ],
   "source": [
    "n = 15\n",
    "for i in range(2,n):\n",
    "    print(i) \n",
    "    if n % i == 0:\n",
    "        print(f\"{n} is not a prime number\")\n",
    "        break # Have a look at me\n",
    "else:\n",
    "    print(\"It is a prime number\")"
   ]
  },
  {
   "cell_type": "code",
   "execution_count": 2,
   "id": "78cb4fd8",
   "metadata": {},
   "outputs": [
    {
     "name": "stdout",
     "output_type": "stream",
     "text": [
      "53, 59, 61, 67, 71, 73, 79, 83, 89, 97, "
     ]
    }
   ],
   "source": [
    "# Prime numbers between (50-100) \n",
    "for i in range(50,101):\n",
    "    prime=0\n",
    "    for j in range(2,i):\n",
    "        if (i%j==0):\n",
    "            prime=1\n",
    "            break\n",
    "    if(prime==0):\n",
    "        print(i,end=', ')"
   ]
  }
 ],
 "metadata": {
  "kernelspec": {
   "display_name": "Python 3 (ipykernel)",
   "language": "python",
   "name": "python3"
  },
  "language_info": {
   "codemirror_mode": {
    "name": "ipython",
    "version": 3
   },
   "file_extension": ".py",
   "mimetype": "text/x-python",
   "name": "python",
   "nbconvert_exporter": "python",
   "pygments_lexer": "ipython3",
   "version": "3.9.12"
  }
 },
 "nbformat": 4,
 "nbformat_minor": 5
}
