{
 "cells": [
  {
   "cell_type": "markdown",
   "id": "aa62b3dc",
   "metadata": {},
   "source": [
    "#### if-elif-else\n",
    "conditional statements\n",
    "\n",
    "`>> if`\n",
    "\n",
    "`>> if >> else`\n",
    "\n",
    "`>> if >> elif`\n",
    "\n",
    "`>> if >> elif >> else`\n",
    "\n",
    "`>> if >> elif >> elif  >> else`"
   ]
  },
  {
   "cell_type": "markdown",
   "id": "8c27df4b",
   "metadata": {},
   "source": [
    "#### short hand if"
   ]
  },
  {
   "cell_type": "code",
   "execution_count": 7,
   "id": "d268f632",
   "metadata": {},
   "outputs": [
    {
     "name": "stdout",
     "output_type": "stream",
     "text": [
      "a is less than b\n"
     ]
    }
   ],
   "source": [
    "# way 1)\n",
    "\n",
    "a = 10 \n",
    "b = 20\n",
    "\n",
    "if a < b:\n",
    "    print(\"a is less than b\")"
   ]
  },
  {
   "cell_type": "code",
   "execution_count": 8,
   "id": "0e8688dc",
   "metadata": {},
   "outputs": [
    {
     "name": "stdout",
     "output_type": "stream",
     "text": [
      "a is less than b\n"
     ]
    }
   ],
   "source": [
    "# way 2)\n",
    "\n",
    "a = 10\n",
    "b = 20\n",
    " \n",
    "if a < b : print (\"a is less than b\")"
   ]
  },
  {
   "cell_type": "code",
   "execution_count": 3,
   "id": "6e08eb99",
   "metadata": {},
   "outputs": [
    {
     "name": "stdout",
     "output_type": "stream",
     "text": [
      "[4, 16, 36, 64, 100, 144, 196, 256, 324, 400]\n",
      "[1, 9, 25, 49, 81, 121, 169, 225, 289, 361]\n"
     ]
    }
   ],
   "source": [
    "even_squares = []\n",
    "odd_squares = [] \n",
    "list1 = [even_squares.append(i**2) if i%2==0 else odd_squares.append(i**2) for i in range(1,21)]\n",
    "print(even_squares)\n",
    "print(odd_squares)"
   ]
  },
  {
   "cell_type": "markdown",
   "id": "3e936eb5",
   "metadata": {},
   "source": [
    "#### short hand if-else\n",
    "we can not use only else statement"
   ]
  },
  {
   "cell_type": "code",
   "execution_count": 10,
   "id": "af0e480e",
   "metadata": {},
   "outputs": [
    {
     "name": "stdout",
     "output_type": "stream",
     "text": [
      "a is less than b\n"
     ]
    }
   ],
   "source": [
    "# way 1)\n",
    "\n",
    "a = 50\n",
    "b = 60\n",
    "\n",
    "if a > b: #False\n",
    "    print(\"a is greater than b\")\n",
    "    \n",
    "else:\n",
    "    print(\"a is less than b\")"
   ]
  },
  {
   "cell_type": "code",
   "execution_count": 11,
   "id": "797247e6",
   "metadata": {},
   "outputs": [
    {
     "name": "stdout",
     "output_type": "stream",
     "text": [
      "b is greater than a\n"
     ]
    }
   ],
   "source": [
    "# way 2)\n",
    "\n",
    "a = 50\n",
    "b = 60\n",
    "\n",
    "print(\"a is greater than b\") if a > b else print(\"b is greater than a\")"
   ]
  },
  {
   "cell_type": "markdown",
   "id": "963393c5",
   "metadata": {},
   "source": [
    "#### Nested if (if inside if)"
   ]
  },
  {
   "cell_type": "code",
   "execution_count": 14,
   "id": "21b703f3",
   "metadata": {},
   "outputs": [
    {
     "name": "stdout",
     "output_type": "stream",
     "text": [
      "Above ten,\n",
      "and also above 20!\n"
     ]
    }
   ],
   "source": [
    "x = 41\n",
    "\n",
    "if x > 10:\n",
    "    print(\"Above ten,\")\n",
    "    if x > 20:\n",
    "        print(\"and also above 20!\")\n",
    "    else:\n",
    "        print(\"but not above 20.\")"
   ]
  },
  {
   "cell_type": "markdown",
   "id": "c999dd43",
   "metadata": {},
   "source": [
    "#### if statements"
   ]
  },
  {
   "cell_type": "code",
   "execution_count": 2,
   "id": "d98a34de",
   "metadata": {},
   "outputs": [
    {
     "name": "stdout",
     "output_type": "stream",
     "text": [
      "The string in lower case\n"
     ]
    }
   ],
   "source": [
    "string = \"python\"\n",
    "if string.islower():\n",
    "    print(\"The string in lower case\")"
   ]
  },
  {
   "cell_type": "code",
   "execution_count": 4,
   "id": "287a5d86",
   "metadata": {},
   "outputs": [],
   "source": [
    "string = ''\n",
    "if string: \n",
    "    print(\"The string is not empty\") # It wont print anything because it is an empty string"
   ]
  },
  {
   "cell_type": "markdown",
   "id": "df69ab9d",
   "metadata": {},
   "source": [
    "#### if-else statements"
   ]
  },
  {
   "cell_type": "code",
   "execution_count": 5,
   "id": "caeee323",
   "metadata": {},
   "outputs": [
    {
     "name": "stdout",
     "output_type": "stream",
     "text": [
      "The string in lower case\n"
     ]
    }
   ],
   "source": [
    "string = \"python\"\n",
    "\n",
    "if string.islower():\n",
    "    print(\"The string in lower case\")\n",
    "    \n",
    "else:\n",
    "    print(\"The string is not lower\")"
   ]
  },
  {
   "cell_type": "markdown",
   "id": "e117d4e4",
   "metadata": {},
   "source": [
    "#### if-elif-else"
   ]
  },
  {
   "cell_type": "code",
   "execution_count": 12,
   "id": "dcb3c6c5",
   "metadata": {},
   "outputs": [
    {
     "name": "stdout",
     "output_type": "stream",
     "text": [
      "a is greater than b and c\n"
     ]
    }
   ],
   "source": [
    "a = 300\n",
    "b = 200\n",
    "c = 10\n",
    "\n",
    "if a > b and a > c:\n",
    "    print(\"a is greater than b and c\")\n",
    "    \n",
    "elif a>b:\n",
    "    print(\"a is greater than b\")\n",
    "    \n",
    "else:\n",
    "    print(\"c is greater than a and b\")"
   ]
  },
  {
   "cell_type": "code",
   "execution_count": 19,
   "id": "acdfde6f",
   "metadata": {},
   "outputs": [
    {
     "name": "stdout",
     "output_type": "stream",
     "text": [
      "Cibil score : 850\n",
      "Age : 45\n",
      "Salary : 65000\n",
      "850 45 65000\n"
     ]
    }
   ],
   "source": [
    "cibil_score = int(input(\"Cibil score : \"))\n",
    "age = int(input(\"Age : \"))\n",
    "salary = int(input(\"Salary : \"))\n",
    "\n",
    "print(cibil_score,age, salary)"
   ]
  },
  {
   "cell_type": "code",
   "execution_count": 20,
   "id": "83347b20",
   "metadata": {},
   "outputs": [
    {
     "name": "stdout",
     "output_type": "stream",
     "text": [
      "Cibil score is greater than 750\n",
      "Age is between 25 to 60\n",
      "Salary is greater than 40000\n",
      "Loan approved\n"
     ]
    }
   ],
   "source": [
    "if cibil_score > 750:\n",
    "    print(\"Cibil score is greater than 750\")\n",
    "    \n",
    "    if age > 25 and age < 60:\n",
    "        print(\"Age is between 25 to 60\")\n",
    "        \n",
    "        if salary > 40000:\n",
    "            print(\"Salary is greater than 40000\")\n",
    "            print(\"Loan approved\")\n",
    "                  \n",
    "        else:\n",
    "            print(\"Loan Declined due to less income\")\n",
    "                  \n",
    "    else:\n",
    "        print(\"Loan is declined due to age criteria \")\n",
    "                  \n",
    "else:\n",
    "    print(\"loan declined due to low cibil score\")"
   ]
  },
  {
   "cell_type": "markdown",
   "id": "9e14a8dc",
   "metadata": {},
   "source": [
    "#### 1) Pass \n",
    "if statements cannot be empty, but if you for some reason, have an empty if conditional statement, put pass statement to avoid getting an error."
   ]
  },
  {
   "cell_type": "code",
   "execution_count": 7,
   "id": "96716786",
   "metadata": {},
   "outputs": [],
   "source": [
    "a = 33\n",
    "b = 200\n",
    "\n",
    "if b > a:\n",
    "    pass"
   ]
  },
  {
   "cell_type": "code",
   "execution_count": 16,
   "id": "28d77ebd",
   "metadata": {},
   "outputs": [],
   "source": [
    "string1 = 'python'\n",
    "string2 = 'python'\n",
    "\n",
    "if string1 == string2:\n",
    "    pass\n",
    "else:\n",
    "    print(\"Strings are different\")"
   ]
  },
  {
   "cell_type": "code",
   "execution_count": 18,
   "id": "5fc725d0",
   "metadata": {},
   "outputs": [
    {
     "name": "stdout",
     "output_type": "stream",
     "text": [
      "string1 >> python\n",
      "string2 >> python\n",
      "Both strings are equal\n"
     ]
    }
   ],
   "source": [
    "# dont use pass statement if it is not necessary, it's of no use\n",
    "\n",
    "string1 = 'python'\n",
    "string2 = 'python'\n",
    "\n",
    "if string1 == string2: # True\n",
    "    pass \n",
    "    print(\"string1 >>\", string1)     # here the statements are present inside the if \n",
    "    print(\"string2 >>\", string2)     # so the pass statement does not work here \n",
    "    print(\"Both strings are equal\")  # statements are executed, so no need of pass\n",
    "\n",
    "else:\n",
    "    print(\"Strings are different\")"
   ]
  }
 ],
 "metadata": {
  "kernelspec": {
   "display_name": "Python 3 (ipykernel)",
   "language": "python",
   "name": "python3"
  },
  "language_info": {
   "codemirror_mode": {
    "name": "ipython",
    "version": 3
   },
   "file_extension": ".py",
   "mimetype": "text/x-python",
   "name": "python",
   "nbconvert_exporter": "python",
   "pygments_lexer": "ipython3",
   "version": "3.9.12"
  }
 },
 "nbformat": 4,
 "nbformat_minor": 5
}
