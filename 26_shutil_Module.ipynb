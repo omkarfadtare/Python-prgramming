{
 "cells": [
  {
   "cell_type": "markdown",
   "id": "9855feba",
   "metadata": {},
   "source": [
    "#### shutil module\n",
    "The shutil module offers a number of high-level operations on files and collections of files."
   ]
  },
  {
   "cell_type": "markdown",
   "id": "ebbfff58",
   "metadata": {},
   "source": [
    "#### shutil.copyfileobj()\n",
    "Copy the contents of the source file to the destination path file.\n",
    "\n",
    "`Syntax: shutil.copyfileobj(file_source_path, file_dstination path)`"
   ]
  },
  {
   "cell_type": "code",
   "execution_count": 2,
   "id": "d5e7473a",
   "metadata": {},
   "outputs": [],
   "source": [
    "import shutil"
   ]
  },
  {
   "cell_type": "code",
   "execution_count": 3,
   "id": "622ed900",
   "metadata": {},
   "outputs": [],
   "source": [
    "f1 = open('test1.txt','r')\n",
    "f2 = open('test2.txt','w') # test2 will get created\n",
    "\n",
    "shutil.copyfileobj(f1,f2) # test1 file content copied to test2\n",
    "f1.close()\n",
    "f2.close()"
   ]
  },
  {
   "cell_type": "markdown",
   "id": "519b21ce",
   "metadata": {},
   "source": [
    "#### shutil.copy(file_source_path, file_dstination path)\n",
    "It will copy the content from source file to destination path file. The difference between `shutil.copyfileobj()` and `shutil.copy()` is that in shutil.copyfileobj() we have to create an object for both source and destination file but in shutil.copy() it is not required and also in shutil.copyfileobj() we have to close the file object after operation but in shutil.copy() it is not necessery. If the file is not present then destination file will automatically gets created. \n",
    "\n",
    "`Syntax: shutil.copy(file_source_path, file_dstination path)`"
   ]
  },
  {
   "cell_type": "code",
   "execution_count": 5,
   "id": "9c35ad95",
   "metadata": {},
   "outputs": [
    {
     "data": {
      "text/plain": [
       "'sample1.txt'"
      ]
     },
     "execution_count": 5,
     "metadata": {},
     "output_type": "execute_result"
    }
   ],
   "source": [
    "shutil.copy('test2.txt','sample1.txt') # sample1.txt will get created automatically\n",
    "\n",
    "# we can provide path as well but as long as we are working in current working directory it is not required."
   ]
  },
  {
   "cell_type": "code",
   "execution_count": 9,
   "id": "520ba422",
   "metadata": {},
   "outputs": [
    {
     "data": {
      "text/plain": [
       "'C:\\\\Users\\\\MY\\\\anaconda3\\\\Data_science\\\\Velocity\\\\Python_\\\\My_notes\\\\i1_shutil_Module\\\\demo1\\\\test2.txt'"
      ]
     },
     "execution_count": 9,
     "metadata": {},
     "output_type": "execute_result"
    }
   ],
   "source": [
    "shutil.copy('test2.txt',r'C:\\Users\\MY\\anaconda3\\Data_science\\Velocity\\Python_\\My_notes\\i1_shutil_Module\\demo1')\n",
    "\n",
    "# This will raise an error (diff between shutil.copy() and shutil.copyfile())\n",
    "# shutil.copyfile('test2.txt',r'C:\\Users\\MY\\anaconda3\\Data_science\\Velocity\\Python_\\My_notes\\i1_shutil_Module\\demo1')"
   ]
  },
  {
   "cell_type": "markdown",
   "id": "49c60c7f",
   "metadata": {},
   "source": [
    "#### shutil.copy2()\n",
    "It will works same as shutil.copy() but the difference is that shutil.copy2() will also copy the metadata of the source file. Metatdata is nothing but the creation time last access time etc. of the file.\n",
    "\n",
    "`Syntax: shutil.copy2(file_source_path, file_dstination path)`"
   ]
  },
  {
   "cell_type": "code",
   "execution_count": 6,
   "id": "8aea777c",
   "metadata": {},
   "outputs": [
    {
     "data": {
      "text/plain": [
       "'sample2.txt'"
      ]
     },
     "execution_count": 6,
     "metadata": {},
     "output_type": "execute_result"
    }
   ],
   "source": [
    "shutil.copy2('test2.txt','sample2.txt') "
   ]
  },
  {
   "cell_type": "markdown",
   "id": "fe0f634a",
   "metadata": {},
   "source": [
    "#### shutil.copyfile()\n",
    "It will copies the entire file with its content to the another location. The main difference in `shutil.copy()` and `shutil.copyfile()`  is that if we do not provide a new or destination file name in shutil.copy() it will create a file with same name as source file but in shutil.copyfile() it will raise an error.\n",
    "\n",
    "`Syntax: shutil.copyfile(file_source_path, file_dstination path)`"
   ]
  },
  {
   "cell_type": "code",
   "execution_count": 10,
   "id": "6bd41391",
   "metadata": {},
   "outputs": [
    {
     "data": {
      "text/plain": [
       "'C:\\\\Users\\\\MY\\\\anaconda3\\\\Data_science\\\\Velocity\\\\Python_\\\\My_notes\\\\i1_shutil_Module\\\\demo1\\\\demo1.txt'"
      ]
     },
     "execution_count": 10,
     "metadata": {},
     "output_type": "execute_result"
    }
   ],
   "source": [
    "# New file created with demo1.txt name\n",
    "\n",
    "shutil.copyfile('test2.txt',r'C:\\Users\\MY\\anaconda3\\Data_science\\Velocity\\Python_\\My_notes\\i1_shutil_Module\\demo1\\demo1.txt')"
   ]
  },
  {
   "cell_type": "markdown",
   "id": "0faf857c",
   "metadata": {},
   "source": [
    "#### shutil.move()\n",
    "It will move the file/directory with the same name, if you do not provide a new name to the file/directory. It will move regardless of whethr the folder is empty or not.\n",
    "\n",
    "`Syntax: shutil.move(file_source_path, file_dstination path)`"
   ]
  },
  {
   "cell_type": "code",
   "execution_count": 11,
   "id": "a3ace2a5",
   "metadata": {},
   "outputs": [
    {
     "data": {
      "text/plain": [
       "'C:\\\\Users\\\\MY\\\\anaconda3\\\\Data_science\\\\Velocity\\\\Python_\\\\My_notes\\\\i1_shutil_Module\\\\temp1'"
      ]
     },
     "execution_count": 11,
     "metadata": {},
     "output_type": "execute_result"
    }
   ],
   "source": [
    "shutil.move(r'C:\\Users\\MY\\anaconda3\\Data_science\\Velocity\\Python_\\My_notes\\i1_shutil_Module\\demo1\\temp1',r'C:\\Users\\MY\\anaconda3\\Data_science\\Velocity\\Python_\\My_notes\\i1_shutil_Module')"
   ]
  },
  {
   "cell_type": "markdown",
   "id": "8215b724",
   "metadata": {},
   "source": [
    "#### shutill.copytree()\n",
    "copy files,directories,subdirectories you have to provide new name of the folder else it will raise an error.\n",
    "\n",
    "`Syntax: shutill.copytree(file_source_path, file_dstination path)`"
   ]
  },
  {
   "cell_type": "code",
   "execution_count": 12,
   "id": "45ce7e29",
   "metadata": {},
   "outputs": [
    {
     "data": {
      "text/plain": [
       "'C:\\\\Users\\\\MY\\\\anaconda3\\\\Data_science\\\\Velocity\\\\Python_\\\\My_notes\\\\i1_shutil_Module\\\\demo1\\\\omkar'"
      ]
     },
     "execution_count": 12,
     "metadata": {},
     "output_type": "execute_result"
    }
   ],
   "source": [
    "shutil.copytree(r'C:\\Users\\MY\\anaconda3\\Data_science\\Velocity\\Python_\\My_notes\\i1_shutil_Module\\temp1',r'C:\\Users\\MY\\anaconda3\\Data_science\\Velocity\\Python_\\My_notes\\i1_shutil_Module\\demo1\\omkar')"
   ]
  },
  {
   "cell_type": "markdown",
   "id": "18b286c2",
   "metadata": {},
   "source": [
    "#### shutil.remove()\n",
    "We have `os.rmdir()` but the folder should be empty So that to overcome this situation we use `shutil.remove()`.\n",
    "\n",
    "`Syntax: shutill.rmtree(folder_path)`"
   ]
  },
  {
   "cell_type": "code",
   "execution_count": 13,
   "id": "9fd6bdf2",
   "metadata": {},
   "outputs": [],
   "source": [
    "shutil.rmtree(r'C:\\Users\\MY\\anaconda3\\Data_science\\Velocity\\Python_\\My_notes\\i1_shutil_Module\\demo1') # Omkar folder deleted"
   ]
  }
 ],
 "metadata": {
  "kernelspec": {
   "display_name": "Python 3 (ipykernel)",
   "language": "python",
   "name": "python3"
  },
  "language_info": {
   "codemirror_mode": {
    "name": "ipython",
    "version": 3
   },
   "file_extension": ".py",
   "mimetype": "text/x-python",
   "name": "python",
   "nbconvert_exporter": "python",
   "pygments_lexer": "ipython3",
   "version": "3.9.12"
  }
 },
 "nbformat": 4,
 "nbformat_minor": 5
}
